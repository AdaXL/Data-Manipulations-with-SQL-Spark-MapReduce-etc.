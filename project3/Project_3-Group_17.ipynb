{
 "cells": [
  {
   "cell_type": "markdown",
   "metadata": {},
   "source": [
    "# Project 03 - Due Monday, November 19 at 1pm\n",
    "\n",
    "*Objectives*: Use Spark to process and perform basic analysis on non-relational data, including its DataFrame and SQL interfaces.\n",
    "\n",
    "*Grading criteria*: The tasks should all be completed, and questions should all be answered with Python code, SQL queries, shell commands, and markdown cells.  The notebook itself should be completely reproducible (using AWS EC2 instance based on the provided AMI) from start to finish; another person should be able to use the code to obtain the same results as yours.  Note that you will receive no more than partial credit if you do not add text/markdown cells explaining your thinking when appropriate.\n",
    "\n",
    "*Attestation*: **Work in groups**.  At the end of your submitted notebook, identify the work each partner performed and attest that each contributed substantially to the work.\n",
    "\n",
    "*Deadline*: Monday, November 19, 1pm.  One member of each group must submit your notebook to Blackboard; you should not submit it separately."
   ]
  },
  {
   "cell_type": "markdown",
   "metadata": {},
   "source": [
    "## Part 1 - Setup\n",
    "\n",
    "Begin by setting up Spark and fetching the project data.  \n",
    "\n",
    "**Note**: you may want to use a larger EC2 instance type than normal.  This project was prepared using a `t2.xlarge` instance.  Just remember that the larger the instance, the higher the per-hour charge, so be sure to remember to shut your instance down when you're done, as always.\n",
    "\n",
    "### About the data\n",
    "\n",
    "We will use JSON data from Twitter; we saw an example of this in class.  It should parse cleanly, allowing you to focus on analysis.\n",
    "\n",
    "This data was gathered using GWU Libraries' [Social Feed Manager](http://sfm.library.gwu.edu/) application during a recent game of the MLB World Series featuring the Los Angeles Dodgers and Boston Red Sox.  This first file tells you a little bit about how it was gathered:"
   ]
  },
  {
   "cell_type": "code",
   "execution_count": 1,
   "metadata": {},
   "outputs": [
    {
     "name": "stdout",
     "output_type": "stream",
     "text": [
      "--2018-11-19 01:26:23--  https://s3.amazonaws.com/2018-dmfa/project-3/ea26ccd641744d4a8dce84de0785186d-README.txt\n",
      "Resolving s3.amazonaws.com (s3.amazonaws.com)... 52.216.132.245\n",
      "Connecting to s3.amazonaws.com (s3.amazonaws.com)|52.216.132.245|:443... connected.\n",
      "HTTP request sent, awaiting response... 200 OK\n",
      "Length: 1145 (1.1K) [text/plain]\n",
      "Saving to: ‘ea26ccd641744d4a8dce84de0785186d-README.txt’\n",
      "\n",
      "ea26ccd641744d4a8dc 100%[===================>]   1.12K  --.-KB/s    in 0s      \n",
      "\n",
      "2018-11-19 01:26:23 (92.9 MB/s) - ‘ea26ccd641744d4a8dce84de0785186d-README.txt’ saved [1145/1145]\n",
      "\n"
     ]
    }
   ],
   "source": [
    "!wget -O ea26ccd641744d4a8dce84de0785186d-README.txt https://s3.amazonaws.com/2018-dmfa/project-3/ea26ccd641744d4a8dce84de0785186d-README.txt"
   ]
  },
  {
   "cell_type": "code",
   "execution_count": 2,
   "metadata": {},
   "outputs": [
    {
     "name": "stdout",
     "output_type": "stream",
     "text": [
      "This is an export created with Social Feed Manager.\n",
      "\n",
      "EXPORT INFORMATION\n",
      "Selected seeds: All seeds\n",
      "Export id: ea26ccd641744d4a8dce84de0785186d\n",
      "Export type: twitter_filter\n",
      "Format: Full JSON\n",
      "Export completed:  Oct. 30, 2018, 9:45:59 a.m. EDT\n",
      "Deduplicate: Yes\n",
      "\n",
      "COLLECTION INFORMATION\n",
      "Collection name: 2018-world-series\n",
      "\n",
      "Collection id: 4e2564448b144915b6a0eb1899075a44\n",
      "Collection set: 2018-mlb-playoffs (collection set id 5a00efa0bddf4be2aa19c6df9788ff6e)\n",
      "Harvest type: Twitter filter\n",
      "\n",
      "Harvest options:\n",
      "\n",
      "Seeds:\n",
      "* Track: dodgers,redsox,red sox,bossox,world series,RedSoxVsDodgers,ladodgers,bostonredsox - Active\n",
      "\n",
      "Change log:\n",
      "\n",
      "Change to 2018-world-series (collection) on Oct. 30, 2018, 8:16:14 a.m. EDT by dchud:\n",
      "Note: Series ended Sunday night after five games, waited ~36 hours.\n",
      "\n",
      "Change to 2018-world-series (collection) on Oct. 23, 2018, 6:01:28 p.m. EDT by dchud:\n",
      "\n",
      "Change to Track: dodgers,redsox,red sox,bossox,world series,RedSoxVsDodgers,ladodgers,bostonredsox (seed) on Oct. 23, 2018, 6:01:18 p.m. EDT by dchud:\n",
      "\n",
      "Change to 2018-world-series (collection) on Oct. 23, 2018, 5:57:45 p.m. EDT by dchud:\n",
      "\n",
      "\n",
      "Created on Oct. 30, 2018, 9:45:59 a.m. EDT\n"
     ]
    }
   ],
   "source": [
    "!cat ea26ccd641744d4a8dce84de0785186d-README.txt"
   ]
  },
  {
   "cell_type": "markdown",
   "metadata": {},
   "source": [
    "The most important pieces in that metadata are:\n",
    "\n",
    " * It tracked tweets that mentioned \"dodgers\" or \"redsox\" and several additional related terms.  Every item in this set should refer to one or more of these terms.\n",
    " * This data was deduplicated; we should not see individual tweets more than once.\n",
    " * Data was collected between October 23 and October 30.  All five games of the Series were played during this time.\n",
    " \n",
    "You should not need to know anything about baseball to complete this assignment, but if you have baseball questions (or Twitter questions!) please ask on the discussion forum.\n",
    "\n",
    "**Please note**: sometimes social media data contains offensive material.  This data set has not been filtered; if you do come across something inappropriate, please do your best to ignore it if you can."
   ]
  },
  {
   "cell_type": "markdown",
   "metadata": {},
   "source": [
    "## Fetch the data\n",
    "\n",
    "The following files are available:\n",
    "\n",
    " * https://s3.amazonaws.com/2018-dmfa/project-3/ea26ccd641744d4a8dce84de0785186d_009.json\n",
    " * https://s3.amazonaws.com/2018-dmfa/project-3/ea26ccd641744d4a8dce84de0785186d_010.json\n",
    " * https://s3.amazonaws.com/2018-dmfa/project-3/ea26ccd641744d4a8dce84de0785186d_011.json\n",
    " * https://s3.amazonaws.com/2018-dmfa/project-3/ea26ccd641744d4a8dce84de0785186d_012.json\n",
    " \n",
    "### Q1.1 - Select at least one and obtain it using `wget`.  Verify the file sizes using the command line.\n",
    "\n",
    "Each file should contain exactly 100,000 tweets.  \n",
    "\n",
    "*Note*: you are only required to use one of these files, but you may use more than one.  It will be easier to process more data if you use a larger EC2 instance type, as suggested above.  Use the exact same set of files throughout the assignment.\n",
    "\n",
    "**Answer**"
   ]
  },
  {
   "cell_type": "code",
   "execution_count": 3,
   "metadata": {
    "collapsed": true
   },
   "outputs": [
    {
     "name": "stdout",
     "output_type": "stream",
     "text": [
      "--2018-11-19 01:26:23--  https://s3.amazonaws.com/2018-dmfa/project-3/ea26ccd641744d4a8dce84de0785186d_009.json\n",
      "Resolving s3.amazonaws.com (s3.amazonaws.com)... 52.216.132.245\n",
      "Connecting to s3.amazonaws.com (s3.amazonaws.com)|52.216.132.245|:443... connected.\n",
      "HTTP request sent, awaiting response... 200 OK\n",
      "Length: 554277526 (529M) [application/json]\n",
      "Saving to: ‘ea26ccd641744d4a8dce84de0785186d_009.json’\n",
      "\n",
      "ea26ccd641744d4a8dc 100%[===================>] 528.60M  54.8MB/s    in 9.1s    \n",
      "\n",
      "2018-11-19 01:26:32 (58.4 MB/s) - ‘ea26ccd641744d4a8dce84de0785186d_009.json’ saved [554277526/554277526]\n",
      "\n"
     ]
    }
   ],
   "source": [
    "!wget -O ea26ccd641744d4a8dce84de0785186d_009.json https://s3.amazonaws.com/2018-dmfa/project-3/ea26ccd641744d4a8dce84de0785186d_009.json"
   ]
  },
  {
   "cell_type": "markdown",
   "metadata": {},
   "source": [
    "For your reference, here is the text of one Tweet, randomly selected from one of these files.  You might wish to study its structure and refer to it later."
   ]
  },
  {
   "cell_type": "code",
   "execution_count": 4,
   "metadata": {
    "collapsed": true
   },
   "outputs": [],
   "source": [
    "!cat *.json | shuf -n 1 > example-tweet.json"
   ]
  },
  {
   "cell_type": "code",
   "execution_count": 5,
   "metadata": {
    "scrolled": false
   },
   "outputs": [
    {
     "name": "stdout",
     "output_type": "stream",
     "text": [
      "{\n",
      "  \"user\": {\n",
      "    \"protected\": false,\n",
      "    \"is_translator\": false,\n",
      "    \"following\": null,\n",
      "    \"contributors_enabled\": false,\n",
      "    \"statuses_count\": 564,\n",
      "    \"profile_sidebar_border_color\": \"C3EBE8\",\n",
      "    \"url\": null,\n",
      "    \"description\": null,\n",
      "    \"profile_background_tile\": false,\n",
      "    \"screen_name\": \"cliftonalston\",\n",
      "    \"id\": 268332482,\n",
      "    \"default_profile_image\": false,\n",
      "    \"notifications\": null,\n",
      "    \"geo_enabled\": true,\n",
      "    \"followers_count\": 41,\n",
      "    \"time_zone\": null,\n",
      "    \"lang\": \"en\",\n",
      "    \"profile_text_color\": \"333333\",\n",
      "    \"verified\": false,\n",
      "    \"profile_banner_url\": \"https://pbs.twimg.com/profile_banners/268332482/1464925536\",\n",
      "    \"friends_count\": 323,\n",
      "    \"location\": \"Los Angeles, CA\",\n",
      "    \"listed_count\": 0,\n",
      "    \"default_profile\": false,\n",
      "    \"profile_background_color\": \"C1C9EB\",\n",
      "    \"utc_offset\": null,\n",
      "    \"id_str\": \"268332482\",\n",
      "    \"name\": \"Cliff Alston\",\n",
      "    \"profile_link_color\": \"1B95E0\",\n",
      "    \"translator_type\": \"none\",\n",
      "    \"profile_sidebar_fill_color\": \"DCF5E4\",\n",
      "    \"profile_image_url_https\": \"https://pbs.twimg.com/profile_images/864836249021857793/z_cmDfgI_normal.jpg\",\n",
      "    \"favourites_count\": 42,\n",
      "    \"profile_use_background_image\": true,\n",
      "    \"profile_background_image_url_https\": \"https://abs.twimg.com/images/themes/theme1/bg.png\",\n",
      "    \"profile_background_image_url\": \"http://abs.twimg.com/images/themes/theme1/bg.png\",\n",
      "    \"follow_request_sent\": null,\n",
      "    \"created_at\": \"Fri Mar 18 15:18:25 +0000 2011\",\n",
      "    \"profile_image_url\": \"http://pbs.twimg.com/profile_images/864836249021857793/z_cmDfgI_normal.jpg\"\n",
      "  },\n",
      "  \"in_reply_to_status_id_str\": null,\n",
      "  \"retweeted\": false,\n",
      "  \"filter_level\": \"low\",\n",
      "  \"is_quote_status\": false,\n",
      "  \"entities\": {\n",
      "    \"urls\": [],\n",
      "    \"symbols\": [],\n",
      "    \"hashtags\": [],\n",
      "    \"user_mentions\": []\n",
      "  },\n",
      "  \"in_reply_to_user_id\": null,\n",
      "  \"coordinates\": null,\n",
      "  \"created_at\": \"Mon Oct 29 03:17:50 +0000 2018\",\n",
      "  \"source\": \"<a href=\\\"http://www.facebook.com/twitter\\\" rel=\\\"nofollow\\\">Facebook</a>\",\n",
      "  \"quote_count\": 0,\n",
      "  \"retweet_count\": 0,\n",
      "  \"lang\": \"en\",\n",
      "  \"reply_count\": 0,\n",
      "  \"timestamp_ms\": \"1540783070747\",\n",
      "  \"contributors\": null,\n",
      "  \"geo\": null,\n",
      "  \"text\": \"Held at 8. \\u2639\\ufe0f\\u2639\\ufe0f\\u2639\\ufe0f\\n\\n2019 THIRD TIMES THE CHARM\\n\\nGO DODGERS!!!!\",\n",
      "  \"in_reply_to_user_id_str\": null,\n",
      "  \"id_str\": \"1056746907224195075\",\n",
      "  \"truncated\": false,\n",
      "  \"in_reply_to_status_id\": null,\n",
      "  \"in_reply_to_screen_name\": null,\n",
      "  \"place\": null,\n",
      "  \"favorited\": false,\n",
      "  \"favorite_count\": 0,\n",
      "  \"id\": 1056746907224195075\n",
      "}\n"
     ]
    }
   ],
   "source": [
    "import json\n",
    "print(json.dumps(json.load(open(\"example-tweet.json\")), indent=2))"
   ]
  },
  {
   "cell_type": "markdown",
   "metadata": {},
   "source": [
    "You can find several key elements in this example; the text, time, and language of the tweet, whether it was a reply to another user, the user's screen name along with their primary language and other account information like creation date, follower/friend/tweet counts, and perhaps their location.  If there are hashtags, user mentions, or urls present in their tweet, they will be present in the `entities` section; these are not present in every tweet.  If this is a retweet, you will see the original tweet and its information nested within."
   ]
  },
  {
   "cell_type": "markdown",
   "metadata": {},
   "source": [
    "### Q1.2 - Start up Spark, and verify the file sizes."
   ]
  },
  {
   "cell_type": "markdown",
   "metadata": {},
   "source": [
    "We will use our normal startup sequence here:"
   ]
  },
  {
   "cell_type": "code",
   "execution_count": 6,
   "metadata": {
    "collapsed": true
   },
   "outputs": [],
   "source": [
    "import findspark"
   ]
  },
  {
   "cell_type": "code",
   "execution_count": 7,
   "metadata": {
    "collapsed": true
   },
   "outputs": [],
   "source": [
    "findspark.init()"
   ]
  },
  {
   "cell_type": "code",
   "execution_count": 8,
   "metadata": {
    "collapsed": true
   },
   "outputs": [],
   "source": [
    "from pyspark import SparkContext"
   ]
  },
  {
   "cell_type": "code",
   "execution_count": 9,
   "metadata": {
    "collapsed": true
   },
   "outputs": [],
   "source": [
    "spark = SparkContext(appName='project-03')"
   ]
  },
  {
   "cell_type": "code",
   "execution_count": 10,
   "metadata": {},
   "outputs": [
    {
     "data": {
      "text/html": [
       "\n",
       "        <div>\n",
       "            <p><b>SparkContext</b></p>\n",
       "\n",
       "            <p><a href=\"http://ip-172-31-21-66:4040\">Spark UI</a></p>\n",
       "\n",
       "            <dl>\n",
       "              <dt>Version</dt>\n",
       "                <dd><code>v2.3.1</code></dd>\n",
       "              <dt>Master</dt>\n",
       "                <dd><code>local[*]</code></dd>\n",
       "              <dt>AppName</dt>\n",
       "                <dd><code>project-03</code></dd>\n",
       "            </dl>\n",
       "        </div>\n",
       "        "
      ],
      "text/plain": [
       "<SparkContext master=local[*] appName=project-03>"
      ]
     },
     "execution_count": 10,
     "metadata": {},
     "output_type": "execute_result"
    }
   ],
   "source": [
    "spark"
   ]
  },
  {
   "cell_type": "code",
   "execution_count": 11,
   "metadata": {
    "collapsed": true
   },
   "outputs": [],
   "source": [
    "from pyspark import SQLContext"
   ]
  },
  {
   "cell_type": "code",
   "execution_count": 12,
   "metadata": {
    "collapsed": true
   },
   "outputs": [],
   "source": [
    "sqlc = SQLContext(spark)"
   ]
  },
  {
   "cell_type": "code",
   "execution_count": 13,
   "metadata": {},
   "outputs": [
    {
     "data": {
      "text/plain": [
       "<pyspark.sql.context.SQLContext at 0x7fe5e728e198>"
      ]
     },
     "execution_count": 13,
     "metadata": {},
     "output_type": "execute_result"
    }
   ],
   "source": [
    "sqlc"
   ]
  },
  {
   "cell_type": "code",
   "execution_count": 14,
   "metadata": {
    "collapsed": true
   },
   "outputs": [],
   "source": [
    "tweets = sqlc.read.json(\"ea26ccd6*.json\")"
   ]
  },
  {
   "cell_type": "markdown",
   "metadata": {},
   "source": [
    "Verify that Spark has loaded the same number of tweets you saw before:\n",
    "\n",
    "**Answer**"
   ]
  },
  {
   "cell_type": "code",
   "execution_count": 15,
   "metadata": {
    "collapsed": true
   },
   "outputs": [
    {
     "data": {
      "text/plain": [
       "100000"
      ]
     },
     "execution_count": 15,
     "metadata": {},
     "output_type": "execute_result"
    }
   ],
   "source": [
    "tweets.rdd.count()"
   ]
  },
  {
   "cell_type": "markdown",
   "metadata": {},
   "source": [
    "## Part 2 - Comparing DataFrames and Spark SQL\n",
    "\n",
    "For the next three questions, we will look at operations using both DataFrames and SQL queries. Note that `tweets` is already a DataFrame:"
   ]
  },
  {
   "cell_type": "code",
   "execution_count": 16,
   "metadata": {},
   "outputs": [
    {
     "data": {
      "text/plain": [
       "DataFrame[contributors: string, coordinates: struct<coordinates:array<double>,type:string>, created_at: string, display_text_range: array<bigint>, entities: struct<hashtags:array<struct<indices:array<bigint>,text:string>>,media:array<struct<additional_media_info:struct<description:string,embeddable:boolean,monetizable:boolean,title:string>,display_url:string,expanded_url:string,id:bigint,id_str:string,indices:array<bigint>,media_url:string,media_url_https:string,sizes:struct<large:struct<h:bigint,resize:string,w:bigint>,medium:struct<h:bigint,resize:string,w:bigint>,small:struct<h:bigint,resize:string,w:bigint>,thumb:struct<h:bigint,resize:string,w:bigint>>,source_status_id:bigint,source_status_id_str:string,source_user_id:bigint,source_user_id_str:string,type:string,url:string>>,symbols:array<struct<indices:array<bigint>,text:string>>,urls:array<struct<display_url:string,expanded_url:string,indices:array<bigint>,url:string>>,user_mentions:array<struct<id:bigint,id_str:string,indices:array<bigint>,name:string,screen_name:string>>>, extended_entities: struct<media:array<struct<additional_media_info:struct<description:string,embeddable:boolean,monetizable:boolean,title:string>,display_url:string,expanded_url:string,id:bigint,id_str:string,indices:array<bigint>,media_url:string,media_url_https:string,sizes:struct<large:struct<h:bigint,resize:string,w:bigint>,medium:struct<h:bigint,resize:string,w:bigint>,small:struct<h:bigint,resize:string,w:bigint>,thumb:struct<h:bigint,resize:string,w:bigint>>,source_status_id:bigint,source_status_id_str:string,source_user_id:bigint,source_user_id_str:string,type:string,url:string,video_info:struct<aspect_ratio:array<bigint>,duration_millis:bigint,variants:array<struct<bitrate:bigint,content_type:string,url:string>>>>>>, extended_tweet: struct<display_text_range:array<bigint>,entities:struct<hashtags:array<struct<indices:array<bigint>,text:string>>,media:array<struct<additional_media_info:struct<description:string,embeddable:boolean,monetizable:boolean,title:string>,description:string,display_url:string,expanded_url:string,id:bigint,id_str:string,indices:array<bigint>,media_url:string,media_url_https:string,sizes:struct<large:struct<h:bigint,resize:string,w:bigint>,medium:struct<h:bigint,resize:string,w:bigint>,small:struct<h:bigint,resize:string,w:bigint>,thumb:struct<h:bigint,resize:string,w:bigint>>,source_status_id:bigint,source_status_id_str:string,source_user_id:bigint,source_user_id_str:string,type:string,url:string,video_info:struct<aspect_ratio:array<bigint>,duration_millis:bigint,variants:array<struct<bitrate:bigint,content_type:string,url:string>>>>>,symbols:array<struct<indices:array<bigint>,text:string>>,urls:array<struct<display_url:string,expanded_url:string,indices:array<bigint>,url:string>>,user_mentions:array<struct<id:bigint,id_str:string,indices:array<bigint>,name:string,screen_name:string>>>,extended_entities:struct<media:array<struct<additional_media_info:struct<description:string,embeddable:boolean,monetizable:boolean,title:string>,description:string,display_url:string,expanded_url:string,id:bigint,id_str:string,indices:array<bigint>,media_url:string,media_url_https:string,sizes:struct<large:struct<h:bigint,resize:string,w:bigint>,medium:struct<h:bigint,resize:string,w:bigint>,small:struct<h:bigint,resize:string,w:bigint>,thumb:struct<h:bigint,resize:string,w:bigint>>,source_status_id:bigint,source_status_id_str:string,source_user_id:bigint,source_user_id_str:string,type:string,url:string,video_info:struct<aspect_ratio:array<bigint>,duration_millis:bigint,variants:array<struct<bitrate:bigint,content_type:string,url:string>>>>>>,full_text:string>, favorite_count: bigint, favorited: boolean, filter_level: string, geo: struct<coordinates:array<double>,type:string>, id: bigint, id_str: string, in_reply_to_screen_name: string, in_reply_to_status_id: bigint, in_reply_to_status_id_str: string, in_reply_to_user_id: bigint, in_reply_to_user_id_str: string, is_quote_status: boolean, lang: string, place: struct<bounding_box:struct<coordinates:array<array<array<double>>>,type:string>,country:string,country_code:string,full_name:string,id:string,name:string,place_type:string,url:string>, possibly_sensitive: boolean, quote_count: bigint, quoted_status: struct<contributors:string,coordinates:struct<coordinates:array<double>,type:string>,created_at:string,display_text_range:array<bigint>,entities:struct<hashtags:array<struct<indices:array<bigint>,text:string>>,media:array<struct<additional_media_info:struct<description:string,embeddable:boolean,monetizable:boolean,title:string>,display_url:string,expanded_url:string,id:bigint,id_str:string,indices:array<bigint>,media_url:string,media_url_https:string,sizes:struct<large:struct<h:bigint,resize:string,w:bigint>,medium:struct<h:bigint,resize:string,w:bigint>,small:struct<h:bigint,resize:string,w:bigint>,thumb:struct<h:bigint,resize:string,w:bigint>>,source_status_id:bigint,source_status_id_str:string,source_user_id:bigint,source_user_id_str:string,type:string,url:string>>,symbols:array<string>,urls:array<struct<display_url:string,expanded_url:string,indices:array<bigint>,url:string>>,user_mentions:array<struct<id:bigint,id_str:string,indices:array<bigint>,name:string,screen_name:string>>>,extended_entities:struct<media:array<struct<additional_media_info:struct<description:string,embeddable:boolean,monetizable:boolean,title:string>,display_url:string,expanded_url:string,id:bigint,id_str:string,indices:array<bigint>,media_url:string,media_url_https:string,sizes:struct<large:struct<h:bigint,resize:string,w:bigint>,medium:struct<h:bigint,resize:string,w:bigint>,small:struct<h:bigint,resize:string,w:bigint>,thumb:struct<h:bigint,resize:string,w:bigint>>,source_status_id:bigint,source_status_id_str:string,source_user_id:bigint,source_user_id_str:string,type:string,url:string,video_info:struct<aspect_ratio:array<bigint>,duration_millis:bigint,variants:array<struct<bitrate:bigint,content_type:string,url:string>>>>>>,extended_tweet:struct<display_text_range:array<bigint>,entities:struct<hashtags:array<struct<indices:array<bigint>,text:string>>,media:array<struct<additional_media_info:struct<description:string,embeddable:boolean,monetizable:boolean,title:string>,display_url:string,expanded_url:string,id:bigint,id_str:string,indices:array<bigint>,media_url:string,media_url_https:string,sizes:struct<large:struct<h:bigint,resize:string,w:bigint>,medium:struct<h:bigint,resize:string,w:bigint>,small:struct<h:bigint,resize:string,w:bigint>,thumb:struct<h:bigint,resize:string,w:bigint>>,source_status_id:bigint,source_status_id_str:string,source_user_id:bigint,source_user_id_str:string,type:string,url:string,video_info:struct<aspect_ratio:array<bigint>,duration_millis:bigint,variants:array<struct<bitrate:bigint,content_type:string,url:string>>>>>,symbols:array<string>,urls:array<struct<display_url:string,expanded_url:string,indices:array<bigint>,url:string>>,user_mentions:array<struct<id:bigint,id_str:string,indices:array<bigint>,name:string,screen_name:string>>>,extended_entities:struct<media:array<struct<additional_media_info:struct<description:string,embeddable:boolean,monetizable:boolean,title:string>,display_url:string,expanded_url:string,id:bigint,id_str:string,indices:array<bigint>,media_url:string,media_url_https:string,sizes:struct<large:struct<h:bigint,resize:string,w:bigint>,medium:struct<h:bigint,resize:string,w:bigint>,small:struct<h:bigint,resize:string,w:bigint>,thumb:struct<h:bigint,resize:string,w:bigint>>,source_status_id:bigint,source_status_id_str:string,source_user_id:bigint,source_user_id_str:string,type:string,url:string,video_info:struct<aspect_ratio:array<bigint>,duration_millis:bigint,variants:array<struct<bitrate:bigint,content_type:string,url:string>>>>>>,full_text:string>,favorite_count:bigint,favorited:boolean,filter_level:string,geo:struct<coordinates:array<double>,type:string>,id:bigint,id_str:string,in_reply_to_screen_name:string,in_reply_to_status_id:bigint,in_reply_to_status_id_str:string,in_reply_to_user_id:bigint,in_reply_to_user_id_str:string,is_quote_status:boolean,lang:string,place:struct<bounding_box:struct<coordinates:array<array<array<double>>>,type:string>,country:string,country_code:string,full_name:string,id:string,name:string,place_type:string,url:string>,possibly_sensitive:boolean,quote_count:bigint,quoted_status_id:bigint,quoted_status_id_str:string,reply_count:bigint,retweet_count:bigint,retweeted:boolean,scopes:struct<followers:boolean>,source:string,text:string,truncated:boolean,user:struct<contributors_enabled:boolean,created_at:string,default_profile:boolean,default_profile_image:boolean,description:string,favourites_count:bigint,follow_request_sent:string,followers_count:bigint,following:string,friends_count:bigint,geo_enabled:boolean,id:bigint,id_str:string,is_translator:boolean,lang:string,listed_count:bigint,location:string,name:string,notifications:string,profile_background_color:string,profile_background_image_url:string,profile_background_image_url_https:string,profile_background_tile:boolean,profile_banner_url:string,profile_image_url:string,profile_image_url_https:string,profile_link_color:string,profile_sidebar_border_color:string,profile_sidebar_fill_color:string,profile_text_color:string,profile_use_background_image:boolean,protected:boolean,screen_name:string,statuses_count:bigint,time_zone:string,translator_type:string,url:string,utc_offset:string,verified:boolean>>, quoted_status_id: bigint, quoted_status_id_str: string, quoted_status_permalink: struct<display:string,expanded:string,url:string>, reply_count: bigint, retweet_count: bigint, retweeted: boolean, retweeted_status: struct<contributors:string,coordinates:struct<coordinates:array<double>,type:string>,created_at:string,display_text_range:array<bigint>,entities:struct<hashtags:array<struct<indices:array<bigint>,text:string>>,media:array<struct<additional_media_info:struct<description:string,embeddable:boolean,monetizable:boolean,title:string>,description:string,display_url:string,expanded_url:string,id:bigint,id_str:string,indices:array<bigint>,media_url:string,media_url_https:string,sizes:struct<large:struct<h:bigint,resize:string,w:bigint>,medium:struct<h:bigint,resize:string,w:bigint>,small:struct<h:bigint,resize:string,w:bigint>,thumb:struct<h:bigint,resize:string,w:bigint>>,source_status_id:bigint,source_status_id_str:string,source_user_id:bigint,source_user_id_str:string,type:string,url:string>>,symbols:array<string>,urls:array<struct<display_url:string,expanded_url:string,indices:array<bigint>,url:string>>,user_mentions:array<struct<id:bigint,id_str:string,indices:array<bigint>,name:string,screen_name:string>>>,extended_entities:struct<media:array<struct<additional_media_info:struct<description:string,embeddable:boolean,monetizable:boolean,title:string>,description:string,display_url:string,expanded_url:string,id:bigint,id_str:string,indices:array<bigint>,media_url:string,media_url_https:string,sizes:struct<large:struct<h:bigint,resize:string,w:bigint>,medium:struct<h:bigint,resize:string,w:bigint>,small:struct<h:bigint,resize:string,w:bigint>,thumb:struct<h:bigint,resize:string,w:bigint>>,source_status_id:bigint,source_status_id_str:string,source_user_id:bigint,source_user_id_str:string,type:string,url:string,video_info:struct<aspect_ratio:array<bigint>,duration_millis:bigint,variants:array<struct<bitrate:bigint,content_type:string,url:string>>>>>>,extended_tweet:struct<display_text_range:array<bigint>,entities:struct<hashtags:array<struct<indices:array<bigint>,text:string>>,media:array<struct<additional_media_info:struct<description:string,embeddable:boolean,monetizable:boolean,title:string>,display_url:string,expanded_url:string,id:bigint,id_str:string,indices:array<bigint>,media_url:string,media_url_https:string,sizes:struct<large:struct<h:bigint,resize:string,w:bigint>,medium:struct<h:bigint,resize:string,w:bigint>,small:struct<h:bigint,resize:string,w:bigint>,thumb:struct<h:bigint,resize:string,w:bigint>>,source_status_id:bigint,source_status_id_str:string,source_user_id:bigint,source_user_id_str:string,type:string,url:string,video_info:struct<aspect_ratio:array<bigint>,duration_millis:bigint,variants:array<struct<bitrate:bigint,content_type:string,url:string>>>>>,symbols:array<struct<indices:array<bigint>,text:string>>,urls:array<struct<display_url:string,expanded_url:string,indices:array<bigint>,url:string>>,user_mentions:array<struct<id:bigint,id_str:string,indices:array<bigint>,name:string,screen_name:string>>>,extended_entities:struct<media:array<struct<additional_media_info:struct<description:string,embeddable:boolean,monetizable:boolean,title:string>,display_url:string,expanded_url:string,id:bigint,id_str:string,indices:array<bigint>,media_url:string,media_url_https:string,sizes:struct<large:struct<h:bigint,resize:string,w:bigint>,medium:struct<h:bigint,resize:string,w:bigint>,small:struct<h:bigint,resize:string,w:bigint>,thumb:struct<h:bigint,resize:string,w:bigint>>,source_status_id:bigint,source_status_id_str:string,source_user_id:bigint,source_user_id_str:string,type:string,url:string,video_info:struct<aspect_ratio:array<bigint>,duration_millis:bigint,variants:array<struct<bitrate:bigint,content_type:string,url:string>>>>>>,full_text:string>,favorite_count:bigint,favorited:boolean,filter_level:string,geo:struct<coordinates:array<double>,type:string>,id:bigint,id_str:string,in_reply_to_screen_name:string,in_reply_to_status_id:bigint,in_reply_to_status_id_str:string,in_reply_to_user_id:bigint,in_reply_to_user_id_str:string,is_quote_status:boolean,lang:string,place:struct<bounding_box:struct<coordinates:array<array<array<double>>>,type:string>,country:string,country_code:string,full_name:string,id:string,name:string,place_type:string,url:string>,possibly_sensitive:boolean,quote_count:bigint,quoted_status:struct<contributors:string,coordinates:struct<coordinates:array<double>,type:string>,created_at:string,display_text_range:array<bigint>,entities:struct<hashtags:array<struct<indices:array<bigint>,text:string>>,media:array<struct<additional_media_info:struct<description:string,embeddable:boolean,monetizable:boolean,title:string>,display_url:string,expanded_url:string,id:bigint,id_str:string,indices:array<bigint>,media_url:string,media_url_https:string,sizes:struct<large:struct<h:bigint,resize:string,w:bigint>,medium:struct<h:bigint,resize:string,w:bigint>,small:struct<h:bigint,resize:string,w:bigint>,thumb:struct<h:bigint,resize:string,w:bigint>>,source_status_id:bigint,source_status_id_str:string,source_user_id:bigint,source_user_id_str:string,type:string,url:string>>,symbols:array<string>,urls:array<struct<display_url:string,expanded_url:string,indices:array<bigint>,url:string>>,user_mentions:array<struct<id:bigint,id_str:string,indices:array<bigint>,name:string,screen_name:string>>>,extended_entities:struct<media:array<struct<additional_media_info:struct<description:string,embeddable:boolean,monetizable:boolean,title:string>,display_url:string,expanded_url:string,id:bigint,id_str:string,indices:array<bigint>,media_url:string,media_url_https:string,sizes:struct<large:struct<h:bigint,resize:string,w:bigint>,medium:struct<h:bigint,resize:string,w:bigint>,small:struct<h:bigint,resize:string,w:bigint>,thumb:struct<h:bigint,resize:string,w:bigint>>,source_status_id:bigint,source_status_id_str:string,source_user_id:bigint,source_user_id_str:string,type:string,url:string,video_info:struct<aspect_ratio:array<bigint>,duration_millis:bigint,variants:array<struct<bitrate:bigint,content_type:string,url:string>>>>>>,extended_tweet:struct<display_text_range:array<bigint>,entities:struct<hashtags:array<struct<indices:array<bigint>,text:string>>,media:array<struct<additional_media_info:struct<description:string,embeddable:boolean,monetizable:boolean,title:string>,display_url:string,expanded_url:string,id:bigint,id_str:string,indices:array<bigint>,media_url:string,media_url_https:string,sizes:struct<large:struct<h:bigint,resize:string,w:bigint>,medium:struct<h:bigint,resize:string,w:bigint>,small:struct<h:bigint,resize:string,w:bigint>,thumb:struct<h:bigint,resize:string,w:bigint>>,source_status_id:bigint,source_status_id_str:string,source_user_id:bigint,source_user_id_str:string,type:string,url:string,video_info:struct<aspect_ratio:array<bigint>,duration_millis:bigint,variants:array<struct<bitrate:bigint,content_type:string,url:string>>>>>,symbols:array<string>,urls:array<struct<display_url:string,expanded_url:string,indices:array<bigint>,url:string>>,user_mentions:array<struct<id:bigint,id_str:string,indices:array<bigint>,name:string,screen_name:string>>>,extended_entities:struct<media:array<struct<additional_media_info:struct<description:string,embeddable:boolean,monetizable:boolean,title:string>,display_url:string,expanded_url:string,id:bigint,id_str:string,indices:array<bigint>,media_url:string,media_url_https:string,sizes:struct<large:struct<h:bigint,resize:string,w:bigint>,medium:struct<h:bigint,resize:string,w:bigint>,small:struct<h:bigint,resize:string,w:bigint>,thumb:struct<h:bigint,resize:string,w:bigint>>,source_status_id:bigint,source_status_id_str:string,source_user_id:bigint,source_user_id_str:string,type:string,url:string,video_info:struct<aspect_ratio:array<bigint>,duration_millis:bigint,variants:array<struct<bitrate:bigint,content_type:string,url:string>>>>>>,full_text:string>,favorite_count:bigint,favorited:boolean,filter_level:string,geo:struct<coordinates:array<double>,type:string>,id:bigint,id_str:string,in_reply_to_screen_name:string,in_reply_to_status_id:bigint,in_reply_to_status_id_str:string,in_reply_to_user_id:bigint,in_reply_to_user_id_str:string,is_quote_status:boolean,lang:string,place:struct<bounding_box:struct<coordinates:array<array<array<double>>>,type:string>,country:string,country_code:string,full_name:string,id:string,name:string,place_type:string,url:string>,possibly_sensitive:boolean,quote_count:bigint,quoted_status_id:bigint,quoted_status_id_str:string,reply_count:bigint,retweet_count:bigint,retweeted:boolean,scopes:struct<followers:boolean>,source:string,text:string,truncated:boolean,user:struct<contributors_enabled:boolean,created_at:string,default_profile:boolean,default_profile_image:boolean,description:string,favourites_count:bigint,follow_request_sent:string,followers_count:bigint,following:string,friends_count:bigint,geo_enabled:boolean,id:bigint,id_str:string,is_translator:boolean,lang:string,listed_count:bigint,location:string,name:string,notifications:string,profile_background_color:string,profile_background_image_url:string,profile_background_image_url_https:string,profile_background_tile:boolean,profile_banner_url:string,profile_image_url:string,profile_image_url_https:string,profile_link_color:string,profile_sidebar_border_color:string,profile_sidebar_fill_color:string,profile_text_color:string,profile_use_background_image:boolean,protected:boolean,screen_name:string,statuses_count:bigint,time_zone:string,translator_type:string,url:string,utc_offset:string,verified:boolean>>,quoted_status_id:bigint,quoted_status_id_str:string,quoted_status_permalink:struct<display:string,expanded:string,url:string>,reply_count:bigint,retweet_count:bigint,retweeted:boolean,scopes:struct<followers:boolean>,source:string,text:string,truncated:boolean,user:struct<contributors_enabled:boolean,created_at:string,default_profile:boolean,default_profile_image:boolean,description:string,favourites_count:bigint,follow_request_sent:string,followers_count:bigint,following:string,friends_count:bigint,geo_enabled:boolean,id:bigint,id_str:string,is_translator:boolean,lang:string,listed_count:bigint,location:string,name:string,notifications:string,profile_background_color:string,profile_background_image_url:string,profile_background_image_url_https:string,profile_background_tile:boolean,profile_banner_url:string,profile_image_url:string,profile_image_url_https:string,profile_link_color:string,profile_sidebar_border_color:string,profile_sidebar_fill_color:string,profile_text_color:string,profile_use_background_image:boolean,protected:boolean,screen_name:string,statuses_count:bigint,time_zone:string,translator_type:string,url:string,utc_offset:string,verified:boolean>>, source: string, text: string, timestamp_ms: string, truncated: boolean, user: struct<contributors_enabled:boolean,created_at:string,default_profile:boolean,default_profile_image:boolean,description:string,favourites_count:bigint,follow_request_sent:string,followers_count:bigint,following:string,friends_count:bigint,geo_enabled:boolean,id:bigint,id_str:string,is_translator:boolean,lang:string,listed_count:bigint,location:string,name:string,notifications:string,profile_background_color:string,profile_background_image_url:string,profile_background_image_url_https:string,profile_background_tile:boolean,profile_banner_url:string,profile_image_url:string,profile_image_url_https:string,profile_link_color:string,profile_sidebar_border_color:string,profile_sidebar_fill_color:string,profile_text_color:string,profile_use_background_image:boolean,protected:boolean,screen_name:string,statuses_count:bigint,time_zone:string,translator_type:string,url:string,utc_offset:string,verified:boolean>]"
      ]
     },
     "execution_count": 16,
     "metadata": {},
     "output_type": "execute_result"
    }
   ],
   "source": [
    "tweets"
   ]
  },
  {
   "cell_type": "markdown",
   "metadata": {},
   "source": [
    "To issue SQL queries, we need to register a table based on `tweets`:"
   ]
  },
  {
   "cell_type": "code",
   "execution_count": 17,
   "metadata": {
    "collapsed": true
   },
   "outputs": [],
   "source": [
    "tweets.createOrReplaceTempView(\"tweets\")"
   ]
  },
  {
   "cell_type": "markdown",
   "metadata": {},
   "source": [
    "### Q2.1 - Which 10 languages are most commonly used in tweets?  Verify your result by executing it with both the dataframe and with SQL.\n",
    "\n",
    "Hint: for the dataframe, use `groupBy`, `count`, and `orderBy`.  See the documentation at https://spark.apache.org/docs/2.3.1/api/python/pyspark.sql.html for details on these and other functions.\n",
    "\n",
    "**Answer**"
   ]
  },
  {
   "cell_type": "markdown",
   "metadata": {},
   "source": [
    "**Find the 10 most common languages used in tweets:**"
   ]
  },
  {
   "cell_type": "markdown",
   "metadata": {},
   "source": [
    "***Using dataframe***"
   ]
  },
  {
   "cell_type": "code",
   "execution_count": 18,
   "metadata": {},
   "outputs": [
    {
     "name": "stdout",
     "output_type": "stream",
     "text": [
      "+----+-----+\n",
      "|lang|count|\n",
      "+----+-----+\n",
      "|  en|88545|\n",
      "| und| 5217|\n",
      "|  es| 4927|\n",
      "|  pt|  402|\n",
      "|  fr|  266|\n",
      "|  ht|  136|\n",
      "|  ja|   98|\n",
      "|  tl|   86|\n",
      "|  in|   55|\n",
      "|  ca|   41|\n",
      "+----+-----+\n",
      "only showing top 10 rows\n",
      "\n"
     ]
    }
   ],
   "source": [
    "tweets.groupBy(\"lang\") \\\n",
    "    .count() \\\n",
    "    .orderBy(\"count\", ascending = False) \\\n",
    "    .show(10)"
   ]
  },
  {
   "cell_type": "markdown",
   "metadata": {},
   "source": [
    "***Using SQL***"
   ]
  },
  {
   "cell_type": "code",
   "execution_count": 19,
   "metadata": {},
   "outputs": [
    {
     "name": "stdout",
     "output_type": "stream",
     "text": [
      "+----+-----+\n",
      "|lang|count|\n",
      "+----+-----+\n",
      "|  en|88545|\n",
      "| und| 5217|\n",
      "|  es| 4927|\n",
      "|  pt|  402|\n",
      "|  fr|  266|\n",
      "|  ht|  136|\n",
      "|  ja|   98|\n",
      "|  tl|   86|\n",
      "|  in|   55|\n",
      "|  ca|   41|\n",
      "+----+-----+\n",
      "only showing top 10 rows\n",
      "\n"
     ]
    }
   ],
   "source": [
    "sqlc.sql(\"\"\"\n",
    "    SELECT lang, COUNT(*) AS count\n",
    "    FROM tweets\n",
    "    GROUP BY lang\n",
    "    ORDER BY count DESC\n",
    "\"\"\").show(10)"
   ]
  },
  {
   "cell_type": "markdown",
   "metadata": {},
   "source": [
    "### Q2.2 - Which 10 time zones are most common among users?  Verify your result with both the dataframe and SQL.\n",
    "\n",
    "*Note*: for this question, you may leave NULL values present in your results, as a way to help you understand what data is present and what is missing.\n",
    "\n",
    "**Answer**"
   ]
  },
  {
   "cell_type": "markdown",
   "metadata": {},
   "source": [
    "**Find the 10 most common time zones among users:**"
   ]
  },
  {
   "cell_type": "markdown",
   "metadata": {},
   "source": [
    "***Using dataframe***"
   ]
  },
  {
   "cell_type": "code",
   "execution_count": 20,
   "metadata": {},
   "outputs": [
    {
     "name": "stdout",
     "output_type": "stream",
     "text": [
      "+---------+------+\n",
      "|time_zone| count|\n",
      "+---------+------+\n",
      "|     null|100000|\n",
      "+---------+------+\n",
      "\n"
     ]
    }
   ],
   "source": [
    "tweets.groupBy(\"user.time_zone\") \\\n",
    "    .count() \\\n",
    "    .orderBy(\"count\", ascending = False) \\\n",
    "    .show(10)"
   ]
  },
  {
   "cell_type": "markdown",
   "metadata": {},
   "source": [
    "**Check the percentage of tweets from verified users:**"
   ]
  },
  {
   "cell_type": "code",
   "execution_count": 21,
   "metadata": {},
   "outputs": [
    {
     "data": {
      "text/plain": [
       "0.01998"
      ]
     },
     "execution_count": 21,
     "metadata": {},
     "output_type": "execute_result"
    }
   ],
   "source": [
    "tweets.filter(\"user.verified = 'true'\").count() / tweets.count()"
   ]
  },
  {
   "cell_type": "markdown",
   "metadata": {},
   "source": [
    "***Using SQL***"
   ]
  },
  {
   "cell_type": "code",
   "execution_count": 22,
   "metadata": {
    "collapsed": true
   },
   "outputs": [
    {
     "name": "stdout",
     "output_type": "stream",
     "text": [
      "+---------+------+\n",
      "|time_zone| count|\n",
      "+---------+------+\n",
      "|     null|100000|\n",
      "+---------+------+\n",
      "\n"
     ]
    }
   ],
   "source": [
    "sqlc.sql(\"\"\"\n",
    "    SELECT user.time_zone, COUNT(*) AS count\n",
    "    FROM tweets\n",
    "    GROUP BY user.time_zone\n",
    "    ORDER BY count DESC\n",
    "\"\"\").show(10)"
   ]
  },
  {
   "cell_type": "markdown",
   "metadata": {},
   "source": [
    "**Check the percentage of tweets from verified users:**"
   ]
  },
  {
   "cell_type": "code",
   "execution_count": 23,
   "metadata": {},
   "outputs": [
    {
     "name": "stdout",
     "output_type": "stream",
     "text": [
      "+----------+\n",
      "|percentile|\n",
      "+----------+\n",
      "|   0.01998|\n",
      "+----------+\n",
      "\n"
     ]
    }
   ],
   "source": [
    "sqlc.sql(\"\"\"\n",
    "    SELECT COUNT(*) / (SELECT COUNT(*) FROM tweets) AS percentile\n",
    "    FROM tweets\n",
    "    WHERE user.verified = 'true'\n",
    "\"\"\").show(10)"
   ]
  },
  {
   "cell_type": "markdown",
   "metadata": {},
   "source": [
    "### Q2.3 - How many tweets mention the Dodgers?  How many mention the Red Sox?  How many mention both?\n",
    "\n",
    "You may use either the dataframe or SQL to answer.  Explain why you have chosen that approach.\n",
    "\n",
    "Hint:  you will want to look at the value of the `text` field.\n",
    "\n",
    "**Answer**"
   ]
  },
  {
   "cell_type": "markdown",
   "metadata": {},
   "source": [
    "I used both dataframe and SQL to answer the requested questions. To be honest, I prefer the SQL method because the logic of these queries is more straightforward. Other people, including future me, can understand what the query is doing by just reading it. So, we expect that SQL will be easier to re-read at a later date even if we haven't looked at the code recently."
   ]
  },
  {
   "cell_type": "markdown",
   "metadata": {},
   "source": [
    "**Check the total number of tweets mentioning the Dodgers/Red Sox/Both:**"
   ]
  },
  {
   "cell_type": "markdown",
   "metadata": {},
   "source": [
    "***Using dataframe***"
   ]
  },
  {
   "cell_type": "markdown",
   "metadata": {},
   "source": [
    "The number of tweets mention the Dodgers:"
   ]
  },
  {
   "cell_type": "code",
   "execution_count": 24,
   "metadata": {},
   "outputs": [
    {
     "data": {
      "text/plain": [
       "24555"
      ]
     },
     "execution_count": 24,
     "metadata": {},
     "output_type": "execute_result"
    }
   ],
   "source": [
    "tweets.filter(\"LOWER(text) LIKE '%dodgers%'\") \\\n",
    "    .count()"
   ]
  },
  {
   "cell_type": "markdown",
   "metadata": {},
   "source": [
    "The number of tweets mention the Red Sox:"
   ]
  },
  {
   "cell_type": "code",
   "execution_count": 25,
   "metadata": {},
   "outputs": [
    {
     "data": {
      "text/plain": [
       "56951"
      ]
     },
     "execution_count": 25,
     "metadata": {},
     "output_type": "execute_result"
    }
   ],
   "source": [
    "tweets.filter(\"(LOWER(text) LIKE '%redsox%') OR (LOWER(text) LIKE '%red sox%')\") \\\n",
    "    .count()"
   ]
  },
  {
   "cell_type": "markdown",
   "metadata": {},
   "source": [
    "The number of tweets mention both the Dodgers and the Red Sox:"
   ]
  },
  {
   "cell_type": "code",
   "execution_count": 26,
   "metadata": {},
   "outputs": [
    {
     "data": {
      "text/plain": [
       "5582"
      ]
     },
     "execution_count": 26,
     "metadata": {},
     "output_type": "execute_result"
    }
   ],
   "source": [
    "tweets.filter(\"LOWER(text) LIKE '%dodgers%' AND ((LOWER(text) LIKE '%redsox%') OR (LOWER(text) LIKE '%red sox%'))\") \\\n",
    "    .count()"
   ]
  },
  {
   "cell_type": "markdown",
   "metadata": {},
   "source": [
    "***Using SQL***"
   ]
  },
  {
   "cell_type": "markdown",
   "metadata": {},
   "source": [
    "The number of tweets mention the Dodgers:"
   ]
  },
  {
   "cell_type": "code",
   "execution_count": 27,
   "metadata": {},
   "outputs": [
    {
     "name": "stdout",
     "output_type": "stream",
     "text": [
      "+--------------------+\n",
      "|dodgers_tweets_count|\n",
      "+--------------------+\n",
      "|               24555|\n",
      "+--------------------+\n",
      "\n"
     ]
    }
   ],
   "source": [
    "sqlc.sql(\"\"\"\n",
    "    SELECT COUNT(*) AS dodgers_tweets_count\n",
    "    FROM tweets\n",
    "    WHERE LOWER(text) LIKE '%dodgers%'\n",
    "\"\"\").show()"
   ]
  },
  {
   "cell_type": "markdown",
   "metadata": {},
   "source": [
    "The number of tweets mention the Red Sox:"
   ]
  },
  {
   "cell_type": "code",
   "execution_count": 28,
   "metadata": {},
   "outputs": [
    {
     "name": "stdout",
     "output_type": "stream",
     "text": [
      "+-------------------+\n",
      "|redsox_tweets_count|\n",
      "+-------------------+\n",
      "|              56951|\n",
      "+-------------------+\n",
      "\n"
     ]
    }
   ],
   "source": [
    "sqlc.sql(\"\"\"\n",
    "    SELECT COUNT(*) AS redsox_tweets_count\n",
    "    FROM tweets\n",
    "    WHERE LOWER(text) LIKE '%redsox%' OR LOWER(text) LIKE '%red sox%'\n",
    "\"\"\").show()"
   ]
  },
  {
   "cell_type": "markdown",
   "metadata": {},
   "source": [
    "The number of tweets mention both the Dodgers and the Red Sox:"
   ]
  },
  {
   "cell_type": "code",
   "execution_count": 29,
   "metadata": {},
   "outputs": [
    {
     "name": "stdout",
     "output_type": "stream",
     "text": [
      "+---------------------------+\n",
      "|dodgers_redsox_tweets_count|\n",
      "+---------------------------+\n",
      "|                       5582|\n",
      "+---------------------------+\n",
      "\n"
     ]
    }
   ],
   "source": [
    "sqlc.sql(\"\"\"\n",
    "    SELECT COUNT(*) AS dodgers_redsox_tweets_count\n",
    "    FROM tweets\n",
    "    WHERE LOWER(text) LIKE '%dodgers%'\n",
    "      AND (LOWER(text) LIKE '%redsox%' OR LOWER(text) LIKE '%red sox%')\n",
    "\"\"\").show()"
   ]
  },
  {
   "cell_type": "markdown",
   "metadata": {},
   "source": [
    "## Part 3 - More complex queries\n",
    "\n",
    "For this section, you may choose to use dataframe queries or SQL.  If you wish, you may verify results by using both, as in Part 2, but this is not required for this section.\n",
    "\n",
    "### Q3.1 - Team mentions by location\n",
    "\n",
    "In which users' locations are the Red Sox and the Dodgers being mentioned the most?  Consider each team separately, one at a time.  Discuss your findings.\n",
    "\n",
    "Hint:  you may use either the time zones or user-specified locations for this question.\n",
    "\n",
    "**Answer**"
   ]
  },
  {
   "cell_type": "markdown",
   "metadata": {},
   "source": [
    "**Find the users' locations where Dodgers/Red Sox is mentioned the most:**"
   ]
  },
  {
   "cell_type": "markdown",
   "metadata": {},
   "source": [
    "***Using dataframe***"
   ]
  },
  {
   "cell_type": "markdown",
   "metadata": {},
   "source": [
    "Find the users' locations where Dodgers is mentioned the most:"
   ]
  },
  {
   "cell_type": "code",
   "execution_count": 30,
   "metadata": {},
   "outputs": [
    {
     "name": "stdout",
     "output_type": "stream",
     "text": [
      "+-----------------+-----+\n",
      "|         location|count|\n",
      "+-----------------+-----+\n",
      "|  Los Angeles, CA|  765|\n",
      "|  California, USA|  373|\n",
      "|    United States|  272|\n",
      "|      Los Angeles|  255|\n",
      "|       Boston, MA|  221|\n",
      "|      Houston, TX|  119|\n",
      "|Dhaka, Bangladesh|  114|\n",
      "|           México|  112|\n",
      "|       California|  103|\n",
      "|    Las Vegas, NV|   99|\n",
      "+-----------------+-----+\n",
      "only showing top 10 rows\n",
      "\n"
     ]
    }
   ],
   "source": [
    "tweets.select(\"user.location\", \"text\") \\\n",
    "    .filter(\"LOWER(text) LIKE '%dodgers%'\") \\\n",
    "    .filter(\"location IS NOT NULL\") \\\n",
    "    .groupBy(\"location\") \\\n",
    "    .count() \\\n",
    "    .orderBy(\"count\", ascending = False) \\\n",
    "    .show(10)"
   ]
  },
  {
   "cell_type": "markdown",
   "metadata": {},
   "source": [
    "Find the users' locations where Red Sox is mentioned the most:"
   ]
  },
  {
   "cell_type": "code",
   "execution_count": 31,
   "metadata": {},
   "outputs": [
    {
     "name": "stdout",
     "output_type": "stream",
     "text": [
      "+------------------+-----+\n",
      "|          location|count|\n",
      "+------------------+-----+\n",
      "|        Boston, MA| 1808|\n",
      "|Massachusetts, USA|  714|\n",
      "|     United States|  648|\n",
      "|            Boston|  429|\n",
      "|   Los Angeles, CA|  325|\n",
      "|     Massachusetts|  257|\n",
      "|       Chicago, IL|  235|\n",
      "|    Washington, DC|  214|\n",
      "|               USA|  209|\n",
      "|   California, USA|  201|\n",
      "+------------------+-----+\n",
      "only showing top 10 rows\n",
      "\n"
     ]
    }
   ],
   "source": [
    "tweets.select(\"user.location\", \"text\") \\\n",
    "    .filter(\"(LOWER(text) LIKE '%redsox%') OR (LOWER(text) LIKE '%red sox%')\") \\\n",
    "    .filter(\"location IS NOT NULL\") \\\n",
    "    .groupBy(\"location\") \\\n",
    "    .count() \\\n",
    "    .orderBy(\"count\", ascending = False) \\\n",
    "    .show(10)"
   ]
  },
  {
   "cell_type": "markdown",
   "metadata": {},
   "source": [
    "***Using SQL***"
   ]
  },
  {
   "cell_type": "markdown",
   "metadata": {},
   "source": [
    "Find the users' locations where Dodgers is mentioned the most:"
   ]
  },
  {
   "cell_type": "code",
   "execution_count": 32,
   "metadata": {},
   "outputs": [
    {
     "name": "stdout",
     "output_type": "stream",
     "text": [
      "+-----------------+-----+\n",
      "|         location|count|\n",
      "+-----------------+-----+\n",
      "|  Los Angeles, CA|  765|\n",
      "|  California, USA|  373|\n",
      "|    United States|  272|\n",
      "|      Los Angeles|  255|\n",
      "|       Boston, MA|  221|\n",
      "|      Houston, TX|  119|\n",
      "|Dhaka, Bangladesh|  114|\n",
      "|           México|  112|\n",
      "|       California|  103|\n",
      "|    Las Vegas, NV|   99|\n",
      "+-----------------+-----+\n",
      "only showing top 10 rows\n",
      "\n"
     ]
    }
   ],
   "source": [
    "sqlc.sql(\"\"\"\n",
    "    SELECT user.location, COUNT(*) AS count\n",
    "    FROM tweets\n",
    "    WHERE LOWER(text) LIKE '%dodgers%'\n",
    "      AND user.location IS NOT NULL\n",
    "    GROUP BY user.location\n",
    "    ORDER BY count DESC\n",
    "\"\"\").show(10)"
   ]
  },
  {
   "cell_type": "markdown",
   "metadata": {},
   "source": [
    "Find the users' locations where Red Sox is mentioned the most:"
   ]
  },
  {
   "cell_type": "code",
   "execution_count": 33,
   "metadata": {},
   "outputs": [
    {
     "name": "stdout",
     "output_type": "stream",
     "text": [
      "+------------------+-----+\n",
      "|          location|count|\n",
      "+------------------+-----+\n",
      "|        Boston, MA| 1808|\n",
      "|Massachusetts, USA|  714|\n",
      "|     United States|  648|\n",
      "|            Boston|  429|\n",
      "|   Los Angeles, CA|  325|\n",
      "|     Massachusetts|  257|\n",
      "|       Chicago, IL|  235|\n",
      "|    Washington, DC|  214|\n",
      "|               USA|  209|\n",
      "|   California, USA|  201|\n",
      "+------------------+-----+\n",
      "only showing top 10 rows\n",
      "\n"
     ]
    }
   ],
   "source": [
    "sqlc.sql(\"\"\"\n",
    "    SELECT user.location, COUNT(*) AS count\n",
    "    FROM tweets\n",
    "    WHERE (LOWER(text) LIKE '%redsox%' OR LOWER(text) LIKE '%red sox%')\n",
    "      AND user.location IS NOT NULL\n",
    "    GROUP BY user.location\n",
    "    ORDER BY count DESC\n",
    "\"\"\").show(10)"
   ]
  },
  {
   "cell_type": "markdown",
   "metadata": {},
   "source": [
    "**Discussion**"
   ]
  },
  {
   "cell_type": "markdown",
   "metadata": {},
   "source": [
    "For the Dodgers fans, we can see that 3 of the Top 4 locations are composed of variations of the names for Los Angeles and California with the remaining spot in the Top 4 simply referencing the United States as a whole. The Top 10 is also composed of locations for Mexico and Las Vegas, which we expect to be geographical areas with a Dodgers fan base. The Top 10 list also shows Dhaka, Bangladesh as a surprise appearance, so the Dodgers may also have a strong fan base in this region too.\n",
    "\n",
    "For the Red Sox fans, we also see variations of the name for Boston and Massachusetts within 3 of the Top 4 spots. Once again, we also see the remaining spot in the Top 4 referencing the United States as a whole. For locations outside of the Massachusetts area, Washington DC and Chicago also made the Top 10 list, so the Red Sox may have a strong fan base in these metropolitan areas. Overall, we see a higher number for the most frequent location (1,808) for the Red Sox fans when compared to the Dodgers fans (765)."
   ]
  },
  {
   "cell_type": "markdown",
   "metadata": {},
   "source": [
    "### Q3.2 - Which Twitter users are being replied to the most?\n",
    "\n",
    "Discuss your findings.\n",
    "\n",
    "Hint: use the top-level `in_reply_to_screen_name` for this.\n",
    "\n",
    "**Answer**"
   ]
  },
  {
   "cell_type": "markdown",
   "metadata": {},
   "source": [
    "**Find the top 10 Twitter users being replied to the most:**"
   ]
  },
  {
   "cell_type": "markdown",
   "metadata": {},
   "source": [
    "***Using dataframe***"
   ]
  },
  {
   "cell_type": "code",
   "execution_count": 34,
   "metadata": {},
   "outputs": [
    {
     "name": "stdout",
     "output_type": "stream",
     "text": [
      "+-----------------------+-----+\n",
      "|in_reply_to_screen_name|count|\n",
      "+-----------------------+-----+\n",
      "|                 RedSox| 1360|\n",
      "|                Dodgers|  814|\n",
      "|                    MLB|  163|\n",
      "|          DodgersNation|  101|\n",
      "|         DonnieWahlberg|   77|\n",
      "|           DAVIDprice24|   75|\n",
      "|                Rangers|   59|\n",
      "|             EJerezESPN|   52|\n",
      "|        MLBStatoftheDay|   43|\n",
      "|             VeniceMase|   42|\n",
      "+-----------------------+-----+\n",
      "only showing top 10 rows\n",
      "\n"
     ]
    }
   ],
   "source": [
    "tweets.select(\"in_reply_to_screen_name\") \\\n",
    "    .filter(\"in_reply_to_screen_name IS NOT NULL\") \\\n",
    "    .groupBy(\"in_reply_to_screen_name\") \\\n",
    "    .count() \\\n",
    "    .orderBy(\"count\", ascending = False) \\\n",
    "    .show(10)"
   ]
  },
  {
   "cell_type": "markdown",
   "metadata": {},
   "source": [
    "***Using SQL***"
   ]
  },
  {
   "cell_type": "code",
   "execution_count": 35,
   "metadata": {
    "collapsed": true
   },
   "outputs": [
    {
     "name": "stdout",
     "output_type": "stream",
     "text": [
      "+-----------------------+-----+\n",
      "|in_reply_to_screen_name|count|\n",
      "+-----------------------+-----+\n",
      "|                 RedSox| 1360|\n",
      "|                Dodgers|  814|\n",
      "|                    MLB|  163|\n",
      "|          DodgersNation|  101|\n",
      "|         DonnieWahlberg|   77|\n",
      "|           DAVIDprice24|   75|\n",
      "|                Rangers|   59|\n",
      "|             EJerezESPN|   52|\n",
      "|        MLBStatoftheDay|   43|\n",
      "|             VeniceMase|   42|\n",
      "+-----------------------+-----+\n",
      "only showing top 10 rows\n",
      "\n"
     ]
    }
   ],
   "source": [
    "sqlc.sql(\"\"\"\n",
    "    SELECT in_reply_to_screen_name, COUNT(*) AS count\n",
    "    FROM tweets\n",
    "    WHERE in_reply_to_screen_name IS NOT NULL\n",
    "    GROUP BY in_reply_to_screen_name\n",
    "    ORDER BY count DESC\n",
    "\"\"\").show(10)"
   ]
  },
  {
   "cell_type": "markdown",
   "metadata": {},
   "source": [
    "**Discussion**"
   ]
  },
  {
   "cell_type": "markdown",
   "metadata": {},
   "source": [
    "For the Twitter users with the most replies, we see that the official accounts for the Red Sex, Dodgers, and Major League Baseball are at the top of the list. For the rest of the Top 10 list, we see that the accounts for DodgersNation, EJerezESPN, and VeniceMase pertain to the Dodgers fan base. We also noticed that the DonnieWahlberg and DAVIDprice24 accounts pertain to Red Sox fans because the accounts represent an actor from Boston and one of the team's starting pitchers, respectively."
   ]
  },
  {
   "cell_type": "markdown",
   "metadata": {},
   "source": [
    "### Q3.3 - Which 10 verified users have the most followers?  Which 10 unverified users have the most followers?\n",
    "\n",
    "Provide both the screen names and follower counts for each.\n",
    "\n",
    "Discuss your findings.\n",
    "\n",
    "**Answer**"
   ]
  },
  {
   "cell_type": "markdown",
   "metadata": {},
   "source": [
    "**Find the top 10 verified/unverified users having the most followers:**"
   ]
  },
  {
   "cell_type": "markdown",
   "metadata": {},
   "source": [
    "***Using dataframe***"
   ]
  },
  {
   "cell_type": "markdown",
   "metadata": {},
   "source": [
    "For verified users:"
   ]
  },
  {
   "cell_type": "code",
   "execution_count": 36,
   "metadata": {
    "collapsed": true
   },
   "outputs": [
    {
     "name": "stdout",
     "output_type": "stream",
     "text": [
      "+---------------+--------------------+\n",
      "|    screen_name|max(followers_count)|\n",
      "+---------------+--------------------+\n",
      "|            MLB|             8296241|\n",
      "|    lopezdoriga|             7678758|\n",
      "|El_Universal_Mx|             4836985|\n",
      "|   MagicJohnson|             4685432|\n",
      "|        Milenio|             4165323|\n",
      "|    MarketWatch|             3611461|\n",
      "| TheRealStanLee|             3340350|\n",
      "|       Newsweek|             3324621|\n",
      "|  NateSilver538|             3156640|\n",
      "|          Migos|             2556415|\n",
      "+---------------+--------------------+\n",
      "only showing top 10 rows\n",
      "\n"
     ]
    }
   ],
   "source": [
    "from pyspark.sql.functions import max\n",
    "tweets.select(\"user.screen_name\", \"user.followers_count\") \\\n",
    "    .filter(\"user.verified = 'true'\") \\\n",
    "    .groupBy(\"screen_name\") \\\n",
    "    .agg(max(\"followers_count\")) \\\n",
    "    .orderBy(\"max(followers_count)\", ascending = False) \\\n",
    "    .show(10)"
   ]
  },
  {
   "cell_type": "markdown",
   "metadata": {},
   "source": [
    "Much higher number of verified users...\n",
    "\n",
    "a few user names, such as magic johnson, stick out..."
   ]
  },
  {
   "cell_type": "markdown",
   "metadata": {},
   "source": [
    "For unverified users:"
   ]
  },
  {
   "cell_type": "code",
   "execution_count": 37,
   "metadata": {
    "collapsed": true
   },
   "outputs": [
    {
     "name": "stdout",
     "output_type": "stream",
     "text": [
      "+---------------+--------------------+\n",
      "|    screen_name|max(followers_count)|\n",
      "+---------------+--------------------+\n",
      "|   DRJAMESCABOT|             2185433|\n",
      "|       PAMsLOvE|              688117|\n",
      "| mlbtraderumors|              666915|\n",
      "| Miguel_Gurwitz|              568885|\n",
      "|        ruleiro|              520622|\n",
      "| RealKentMurphy|              443846|\n",
      "|thebrittanyxoxo|              325224|\n",
      "|FakeSportsCentr|              318999|\n",
      "|    CelticsLife|              296296|\n",
      "|    milenagimon|              226625|\n",
      "+---------------+--------------------+\n",
      "only showing top 10 rows\n",
      "\n"
     ]
    }
   ],
   "source": [
    "from pyspark.sql.functions import max\n",
    "tweets.select(\"user.screen_name\", \"user.followers_count\") \\\n",
    "    .filter(\"user.verified = 'false'\") \\\n",
    "    .groupBy(\"screen_name\") \\\n",
    "    .agg(max(\"followers_count\")) \\\n",
    "    .orderBy(\"max(followers_count)\", ascending = False) \\\n",
    "    .show(10)"
   ]
  },
  {
   "cell_type": "markdown",
   "metadata": {},
   "source": [
    "***Using SQL***"
   ]
  },
  {
   "cell_type": "markdown",
   "metadata": {},
   "source": [
    "For verified users:"
   ]
  },
  {
   "cell_type": "code",
   "execution_count": 38,
   "metadata": {
    "collapsed": true
   },
   "outputs": [
    {
     "name": "stdout",
     "output_type": "stream",
     "text": [
      "+---------------+---------------+\n",
      "|    screen_name|follower_counts|\n",
      "+---------------+---------------+\n",
      "|            MLB|        8296241|\n",
      "|    lopezdoriga|        7678758|\n",
      "|El_Universal_Mx|        4836985|\n",
      "|   MagicJohnson|        4685432|\n",
      "|        Milenio|        4165323|\n",
      "|    MarketWatch|        3611461|\n",
      "| TheRealStanLee|        3340350|\n",
      "|       Newsweek|        3324621|\n",
      "|  NateSilver538|        3156640|\n",
      "|          Migos|        2556415|\n",
      "+---------------+---------------+\n",
      "only showing top 10 rows\n",
      "\n"
     ]
    }
   ],
   "source": [
    "sqlc.sql(\"\"\"\n",
    "    SELECT user.screen_name AS screen_name, MAX(user.followers_count) AS follower_counts\n",
    "    FROM tweets\n",
    "    WHERE user.verified = 'true'\n",
    "    GROUP BY screen_name\n",
    "    ORDER BY follower_counts DESC\n",
    "\"\"\").show(10)"
   ]
  },
  {
   "cell_type": "markdown",
   "metadata": {},
   "source": [
    "For unverified users:"
   ]
  },
  {
   "cell_type": "code",
   "execution_count": 39,
   "metadata": {
    "collapsed": true
   },
   "outputs": [
    {
     "name": "stdout",
     "output_type": "stream",
     "text": [
      "+---------------+---------------+\n",
      "|    screen_name|follower_counts|\n",
      "+---------------+---------------+\n",
      "|   DRJAMESCABOT|        2185433|\n",
      "|       PAMsLOvE|         688117|\n",
      "| mlbtraderumors|         666915|\n",
      "| Miguel_Gurwitz|         568885|\n",
      "|        ruleiro|         520622|\n",
      "| RealKentMurphy|         443846|\n",
      "|thebrittanyxoxo|         325224|\n",
      "|FakeSportsCentr|         318999|\n",
      "|    CelticsLife|         296296|\n",
      "|    milenagimon|         226625|\n",
      "+---------------+---------------+\n",
      "only showing top 10 rows\n",
      "\n"
     ]
    }
   ],
   "source": [
    "sqlc.sql(\"\"\"\n",
    "    SELECT user.screen_name AS screen_name, MAX(user.followers_count) AS follower_counts\n",
    "    FROM tweets\n",
    "    WHERE user.verified = 'false'\n",
    "    GROUP BY screen_name\n",
    "    ORDER BY follower_counts DESC\n",
    "\"\"\").show(10)"
   ]
  },
  {
   "cell_type": "markdown",
   "metadata": {},
   "source": [
    "**Discussion**"
   ]
  },
  {
   "cell_type": "markdown",
   "metadata": {},
   "source": [
    "For our analysis of the verified versus unverified users, we identified that the verified users have a much higher number of followers when compared to the unverified users. Even though a few of the verified accounts do not appear related to baseball, we still see that the verified account with the lowest number of followers on the Top 10 list actually has more followers than unverified with the highest number of followers.\n",
    "\n",
    "For the verified users, we noticed a few household names, such as MagicJohnson, who is a former player for the LA Lakers and a partial-owner of the LA Dodgers. For the unverified users, we noticed that a few of the most popular accounts, such as mlbtraderumors, FakeSportsCentr, and CelticsLife, are related to sports and were likely tweeting about the World Series.  "
   ]
  },
  {
   "cell_type": "markdown",
   "metadata": {},
   "source": [
    "### Q3.4 - What are the most popular sets of hashtags among users with many followers?  Are they the same as among users with few followers?\n",
    "\n",
    "Decide for yourself exactly how many followers you believe to be \"many\", and explain your decision.  You may use queries and statistics to support this decision if you wish.\n",
    "\n",
    "Hint: if your sample tweet above does not include hashtags under the `entities` field, generate a new example by running the `shuf` command again until you find one that does.\n",
    "\n",
    "Hint 2: the hashtag texts will be in an array, so you may need some functions you haven't used before.  If you're using SQL, see the docs for [Hive SQL](https://docs.treasuredata.com/articles/hive-functions) for details, (and consider `CONCAT_WS`, for example).\n",
    "\n",
    "Discuss your findings.\n",
    "\n",
    "**Answer**"
   ]
  },
  {
   "cell_type": "markdown",
   "metadata": {},
   "source": [
    "**Explore the data**"
   ]
  },
  {
   "cell_type": "markdown",
   "metadata": {},
   "source": [
    "Check the basic statistics of followers_count:"
   ]
  },
  {
   "cell_type": "code",
   "execution_count": 40,
   "metadata": {
    "collapsed": true
   },
   "outputs": [
    {
     "name": "stdout",
     "output_type": "stream",
     "text": [
      "+-------+----------------+\n",
      "|summary| followers_count|\n",
      "+-------+----------------+\n",
      "|  count|          100000|\n",
      "|   mean|      4104.94204|\n",
      "| stddev|85071.9871101182|\n",
      "|    min|               0|\n",
      "|    max|         8296241|\n",
      "+-------+----------------+\n",
      "\n"
     ]
    }
   ],
   "source": [
    "tweets.describe(\"user.followers_count\").show()"
   ]
  },
  {
   "cell_type": "markdown",
   "metadata": {},
   "source": [
    "Check the quantitles of followers_count:"
   ]
  },
  {
   "cell_type": "code",
   "execution_count": 41,
   "metadata": {},
   "outputs": [
    {
     "data": {
      "text/plain": [
       "[2.0, 141.0, 346.0, 803.0, 35749.0]"
      ]
     },
     "execution_count": 41,
     "metadata": {},
     "output_type": "execute_result"
    }
   ],
   "source": [
    "tweets.select(\"user.followers_count\") \\\n",
    "    .approxQuantile(\"followers_count\", [0.01, 0.25, 0.50, 0.75, 0.99], 0.00)"
   ]
  },
  {
   "cell_type": "markdown",
   "metadata": {},
   "source": [
    "We decided to consider the top quartile as the Twitter users with 'many' followers. This defines the 'many' category as Twitter users with more than 803 followers. \n",
    "\n",
    "We also consider the bottom quartile as the Twitter users with 'few' followers. This defines the 'few' category as Twitter users with less than 141 followers. "
   ]
  },
  {
   "cell_type": "markdown",
   "metadata": {},
   "source": [
    "Check the total number of tweets having hashtags, where the users' followers_count is larger than Q3:"
   ]
  },
  {
   "cell_type": "code",
   "execution_count": 42,
   "metadata": {},
   "outputs": [
    {
     "data": {
      "text/plain": [
       "9522"
      ]
     },
     "execution_count": 42,
     "metadata": {},
     "output_type": "execute_result"
    }
   ],
   "source": [
    "tweets.filter(\"user.followers_count > 803 AND SIZE(entities.hashtags.text) > 0\") \\\n",
    "    .count()"
   ]
  },
  {
   "cell_type": "markdown",
   "metadata": {},
   "source": [
    "Check the total number of tweets having hashtags, where the users' followers_count is less than Q1:"
   ]
  },
  {
   "cell_type": "code",
   "execution_count": 43,
   "metadata": {},
   "outputs": [
    {
     "data": {
      "text/plain": [
       "9607"
      ]
     },
     "execution_count": 43,
     "metadata": {},
     "output_type": "execute_result"
    }
   ],
   "source": [
    "tweets.filter(\"user.followers_count < 141 AND SIZE(entities.hashtags.text) > 0\") \\\n",
    "    .count()"
   ]
  },
  {
   "cell_type": "markdown",
   "metadata": {},
   "source": [
    "**Find the most popular sets of hashtags**"
   ]
  },
  {
   "cell_type": "markdown",
   "metadata": {},
   "source": [
    "***Using dataframe***"
   ]
  },
  {
   "cell_type": "markdown",
   "metadata": {},
   "source": [
    "Among users with many followers:"
   ]
  },
  {
   "cell_type": "code",
   "execution_count": 44,
   "metadata": {},
   "outputs": [
    {
     "name": "stdout",
     "output_type": "stream",
     "text": [
      "+--------------------+-----+\n",
      "|                text|count|\n",
      "+--------------------+-----+\n",
      "|            [RedSox]| 1228|\n",
      "|       [WorldSeries]|  969|\n",
      "|[RedSox, WorldSer...|  561|\n",
      "|        [DAMAGEDONE]|  437|\n",
      "|           [Dodgers]|  421|\n",
      "|           [SALEDAY]|  272|\n",
      "|          [DoDamage]|  272|\n",
      "|[REDSOX, DAMAGEDONE]|  267|\n",
      "|[WorldSeries, DoD...|  259|\n",
      "|[WorldSeries, Red...|  175|\n",
      "+--------------------+-----+\n",
      "only showing top 10 rows\n",
      "\n"
     ]
    }
   ],
   "source": [
    "tweets.filter(\"user.followers_count > 803 AND SIZE(entities.hashtags.text) > 0\") \\\n",
    "    .groupBy(\"entities.hashtags.text\") \\\n",
    "    .count() \\\n",
    "    .orderBy(\"count\", ascending = False) \\\n",
    "    .show(10)"
   ]
  },
  {
   "cell_type": "markdown",
   "metadata": {},
   "source": [
    "Among users with few followers:"
   ]
  },
  {
   "cell_type": "code",
   "execution_count": 45,
   "metadata": {},
   "outputs": [
    {
     "name": "stdout",
     "output_type": "stream",
     "text": [
      "+--------------------+-----+\n",
      "|                text|count|\n",
      "+--------------------+-----+\n",
      "|       [WorldSeries]| 1112|\n",
      "|            [RedSox]|  690|\n",
      "|        [DAMAGEDONE]|  684|\n",
      "|[REDSOX, DAMAGEDONE]|  499|\n",
      "|             [HR4HR]|  429|\n",
      "|           [Dodgers]|  375|\n",
      "|          [DoDamage]|  366|\n",
      "|[WorldSeries, DoD...|  357|\n",
      "|[RedSox, WorldSer...|  344|\n",
      "|           [SALEDAY]|  233|\n",
      "+--------------------+-----+\n",
      "only showing top 10 rows\n",
      "\n"
     ]
    }
   ],
   "source": [
    "tweets.filter(\"user.followers_count < 141 AND SIZE(entities.hashtags.text) > 0\") \\\n",
    "    .groupBy(\"entities.hashtags.text\") \\\n",
    "    .count() \\\n",
    "    .orderBy(\"count\", ascending = False) \\\n",
    "    .show(10)"
   ]
  },
  {
   "cell_type": "markdown",
   "metadata": {},
   "source": [
    "***Using SQL***"
   ]
  },
  {
   "cell_type": "markdown",
   "metadata": {},
   "source": [
    "Among users with many followers:"
   ]
  },
  {
   "cell_type": "code",
   "execution_count": 46,
   "metadata": {},
   "outputs": [
    {
     "name": "stdout",
     "output_type": "stream",
     "text": [
      "+--------------------+-----+\n",
      "|        hashtags_set|count|\n",
      "+--------------------+-----+\n",
      "|            [RedSox]| 1228|\n",
      "|       [WorldSeries]|  969|\n",
      "|[RedSox, WorldSer...|  561|\n",
      "|        [DAMAGEDONE]|  437|\n",
      "|           [Dodgers]|  421|\n",
      "|           [SALEDAY]|  272|\n",
      "|          [DoDamage]|  272|\n",
      "|[REDSOX, DAMAGEDONE]|  267|\n",
      "|[WorldSeries, DoD...|  259|\n",
      "|[WorldSeries, Red...|  175|\n",
      "+--------------------+-----+\n",
      "only showing top 10 rows\n",
      "\n"
     ]
    }
   ],
   "source": [
    "sqlc.sql(\"\"\"\n",
    "    SELECT entities.hashtags.text AS hashtags_set, COUNT(*) AS count\n",
    "    FROM tweets\n",
    "    WHERE user.followers_count > 803\n",
    "      AND SIZE(entities.hashtags.text) > 0\n",
    "    GROUP BY hashtags_set\n",
    "    ORDER BY count DESC\n",
    "\"\"\").show(10)"
   ]
  },
  {
   "cell_type": "markdown",
   "metadata": {},
   "source": [
    "Among users with few followers:"
   ]
  },
  {
   "cell_type": "code",
   "execution_count": 47,
   "metadata": {},
   "outputs": [
    {
     "name": "stdout",
     "output_type": "stream",
     "text": [
      "+--------------------+-----+\n",
      "|        hashtags_set|count|\n",
      "+--------------------+-----+\n",
      "|       [WorldSeries]| 1112|\n",
      "|            [RedSox]|  690|\n",
      "|        [DAMAGEDONE]|  684|\n",
      "|[REDSOX, DAMAGEDONE]|  499|\n",
      "|             [HR4HR]|  429|\n",
      "|           [Dodgers]|  375|\n",
      "|          [DoDamage]|  366|\n",
      "|[WorldSeries, DoD...|  357|\n",
      "|[RedSox, WorldSer...|  344|\n",
      "|           [SALEDAY]|  233|\n",
      "+--------------------+-----+\n",
      "only showing top 10 rows\n",
      "\n"
     ]
    }
   ],
   "source": [
    "sqlc.sql(\"\"\"\n",
    "    SELECT entities.hashtags.text AS hashtags_set, COUNT(*) AS count\n",
    "    FROM tweets\n",
    "    WHERE user.followers_count < 141\n",
    "      AND SIZE(entities.hashtags.text) > 0\n",
    "    GROUP BY hashtags_set\n",
    "    ORDER BY count DESC\n",
    "\"\"\").show(10)"
   ]
  },
  {
   "cell_type": "markdown",
   "metadata": {},
   "source": [
    "**Discussion**"
   ]
  },
  {
   "cell_type": "markdown",
   "metadata": {},
   "source": [
    "We analyzed the hashtags used by Twitter users with 'many' and 'few' followers and found similar patterns regardless of the defined categories. For example, the WorldSeries, RedSox, and DAMAGEDONE hashtags are the most frequently used hashtags for both sets of user groups. Also, we notice hashtags for the Dodgers and SALEDAY, referencing one of the Red Sox pitchers, as popular hashtags for both sets of groups. \n",
    "\n",
    "We also identified that the Red Sox were referenced more in the hashtags than the Dodgers. We expect this behavior is explained by the Red Sox winning the World Series in only 5 games."
   ]
  },
  {
   "cell_type": "markdown",
   "metadata": {},
   "source": [
    "### Q3.5 - Analyze common words in tweet text\n",
    "\n",
    "Following the example in class, use `tweets.rdd` to find the most common interesting words in tweet text.  To keep it \"interesting\", add a filter that removes at least 10 common stop words found in tweets, like \"a\", \"an\", \"the\", and \"RT\" (you might want to derive these stop words from initial results).  To split lines into words, a simple split on text whitespace like we had in class is sufficient; you do not have to account for punctuation.\n",
    "\n",
    "After you find the most common words, use dataframe or SQL queries to find patterns among how those words are used.  For example, are they more frequently used by Dodgers or Red Sox fans, or by people in one part of the country over another?  Explore and see what you can find, and discuss your findings.\n",
    "\n",
    "Hint: don't forget all the word count pipeline steps we used earlier in class.\n",
    "\n",
    "**Answer**"
   ]
  },
  {
   "cell_type": "markdown",
   "metadata": {},
   "source": [
    "**Find the most common words used in tweet texts (without any filter or transformation):**"
   ]
  },
  {
   "cell_type": "code",
   "execution_count": 48,
   "metadata": {
    "collapsed": true
   },
   "outputs": [
    {
     "data": {
      "text/plain": [
       "[('the', 63223),\n",
       " ('rt', 53865),\n",
       " ('a', 24728),\n",
       " ('to', 23436),\n",
       " ('world', 23401),\n",
       " ('series', 20265),\n",
       " ('red', 18554),\n",
       " ('sox', 16619),\n",
       " ('in', 16138),\n",
       " ('@redsox:', 14766)]"
      ]
     },
     "execution_count": 48,
     "metadata": {},
     "output_type": "execute_result"
    }
   ],
   "source": [
    "tweets.rdd.flatMap(lambda r: r['text'].lower().split(' ')) \\\n",
    "    .map(lambda t: (t, 1)) \\\n",
    "    .reduceByKey(lambda a, b: a + b) \\\n",
    "    .takeOrdered(10, key=lambda pair: -pair[1])"
   ]
  },
  {
   "cell_type": "markdown",
   "metadata": {},
   "source": [
    "**Get the txt file containing common English stop-words from the Internet:**"
   ]
  },
  {
   "cell_type": "code",
   "execution_count": 49,
   "metadata": {},
   "outputs": [
    {
     "name": "stdout",
     "output_type": "stream",
     "text": [
      "--2018-11-19 01:28:04--  https://www.textfixer.com/tutorials/common-english-words.txt\n",
      "Resolving www.textfixer.com (www.textfixer.com)... 216.172.105.107\n",
      "Connecting to www.textfixer.com (www.textfixer.com)|216.172.105.107|:443... connected.\n",
      "HTTP request sent, awaiting response... 200 OK\n",
      "Length: 551 [text/plain]\n",
      "Saving to: ‘stopwords.txt’\n",
      "\n",
      "stopwords.txt       100%[===================>]     551  --.-KB/s    in 0s      \n",
      "\n",
      "2018-11-19 01:28:04 (134 MB/s) - ‘stopwords.txt’ saved [551/551]\n",
      "\n"
     ]
    }
   ],
   "source": [
    "!wget -O stopwords.txt https://www.textfixer.com/tutorials/common-english-words.txt"
   ]
  },
  {
   "cell_type": "markdown",
   "metadata": {},
   "source": [
    "**Read the stop-words file in a list and append the word 'rt' we find being common above:**"
   ]
  },
  {
   "cell_type": "code",
   "execution_count": 50,
   "metadata": {},
   "outputs": [],
   "source": [
    "with open(\"stopwords.txt\", \"r\") as f:\n",
    "    stopwords = [w for line in f for w in line.split(',')]\n",
    "stopwords.append('rt') "
   ]
  },
  {
   "cell_type": "markdown",
   "metadata": {},
   "source": [
    "**Find the most common words used in tweet texts again (in this case, remove stop-words we get above, as well as punctuations):**"
   ]
  },
  {
   "cell_type": "code",
   "execution_count": 51,
   "metadata": {
    "collapsed": true
   },
   "outputs": [
    {
     "data": {
      "text/plain": [
       "[('redsox', 39905),\n",
       " ('dodgers', 24456),\n",
       " ('series', 24254),\n",
       " ('world', 23631),\n",
       " ('sox', 19968),\n",
       " ('red', 18769),\n",
       " ('worldseries', 13045),\n",
       " ('boston', 8379),\n",
       " ('go', 6778),\n",
       " ('win', 6734)]"
      ]
     },
     "execution_count": 51,
     "metadata": {},
     "output_type": "execute_result"
    }
   ],
   "source": [
    "import re\n",
    "common_words = tweets.rdd.flatMap(lambda r: r['text'].lower().split(' ')) \\\n",
    "    .map(lambda t: re.sub(r'[^a-z0-9]', '', t)) \\\n",
    "    .filter(lambda t: t not in stopwords) \\\n",
    "    .filter(lambda t: len(t) > 0) \\\n",
    "    .map(lambda t: (t, 1)) \\\n",
    "    .reduceByKey(lambda a, b: a + b) \\\n",
    "    .takeOrdered(10, key = lambda pair: -pair[1])\n",
    "common_words"
   ]
  },
  {
   "cell_type": "markdown",
   "metadata": {},
   "source": [
    "**Get the list of the 10 most common words used in tweet texts:**"
   ]
  },
  {
   "cell_type": "code",
   "execution_count": 52,
   "metadata": {},
   "outputs": [
    {
     "name": "stdout",
     "output_type": "stream",
     "text": [
      "['redsox', 'dodgers', 'series', 'world', 'sox', 'red', 'worldseries', 'boston', 'go', 'win']\n"
     ]
    }
   ],
   "source": [
    "common_words_text = [w[0] for w in common_words]\n",
    "print(common_words_text)"
   ]
  },
  {
   "cell_type": "markdown",
   "metadata": {},
   "source": [
    "**Find patterns among how the 10 most common words are used in different cities**"
   ]
  },
  {
   "cell_type": "markdown",
   "metadata": {},
   "source": [
    "***Using dataframe***"
   ]
  },
  {
   "cell_type": "markdown",
   "metadata": {},
   "source": [
    "The total number of tweets located in Los Angeles:"
   ]
  },
  {
   "cell_type": "code",
   "execution_count": 53,
   "metadata": {},
   "outputs": [
    {
     "data": {
      "text/plain": [
       "1748"
      ]
     },
     "execution_count": 53,
     "metadata": {},
     "output_type": "execute_result"
    }
   ],
   "source": [
    "tweets.filter(\"user.location IN ('Los Angeles', 'Los Angeles, CA')\") \\\n",
    "    .count()"
   ]
  },
  {
   "cell_type": "markdown",
   "metadata": {},
   "source": [
    "Find patterns among how the 10 most common words are used in Los Angeles:"
   ]
  },
  {
   "cell_type": "code",
   "execution_count": 54,
   "metadata": {},
   "outputs": [
    {
     "name": "stdout",
     "output_type": "stream",
     "text": [
      "+-----------+-----+\n",
      "|       text|count|\n",
      "+-----------+-----+\n",
      "|    dodgers| 1030|\n",
      "|     series|  300|\n",
      "|      world|  287|\n",
      "|     redsox|  231|\n",
      "|worldseries|  206|\n",
      "|        sox|  199|\n",
      "|        red|  190|\n",
      "|         go|  101|\n",
      "|        win|  101|\n",
      "|     boston|   87|\n",
      "+-----------+-----+\n",
      "\n"
     ]
    }
   ],
   "source": [
    "from pyspark.sql.functions import *\n",
    "tweets.select(\"text\") \\\n",
    "    .withColumn(\"text\", lower(col('text'))) \\\n",
    "    .withColumn(\"text\", split(\"text\", \" \")) \\\n",
    "    .withColumn(\"text\", explode(\"text\")) \\\n",
    "    .withColumn(\"text\", regexp_replace(\"text\", '[^a-z0-9]', '')) \\\n",
    "    .filter(\"user.location IN ('Los Angeles', 'Los Angeles, CA')\") \\\n",
    "    .filter(col('text').isin(common_words_text)) \\\n",
    "    .groupBy(\"text\") \\\n",
    "    .count() \\\n",
    "    .orderBy(\"count\", ascending = False) \\\n",
    "    .show()"
   ]
  },
  {
   "cell_type": "markdown",
   "metadata": {},
   "source": [
    "The total number of tweets located in Boston:"
   ]
  },
  {
   "cell_type": "code",
   "execution_count": 55,
   "metadata": {},
   "outputs": [
    {
     "data": {
      "text/plain": [
       "3050"
      ]
     },
     "execution_count": 55,
     "metadata": {},
     "output_type": "execute_result"
    }
   ],
   "source": [
    "tweets.filter(\"user.location IN ('Boston', 'Boston, MA')\") \\\n",
    "    .count()"
   ]
  },
  {
   "cell_type": "markdown",
   "metadata": {},
   "source": [
    "Find patterns among how the 10 most common words are used in Boston:"
   ]
  },
  {
   "cell_type": "code",
   "execution_count": 56,
   "metadata": {},
   "outputs": [
    {
     "name": "stdout",
     "output_type": "stream",
     "text": [
      "+-----------+-----+\n",
      "|       text|count|\n",
      "+-----------+-----+\n",
      "|     redsox| 1700|\n",
      "|     series|  709|\n",
      "|      world|  680|\n",
      "|        sox|  608|\n",
      "|        red|  581|\n",
      "|worldseries|  546|\n",
      "|     boston|  318|\n",
      "|    dodgers|  260|\n",
      "|         go|  257|\n",
      "|        win|  228|\n",
      "+-----------+-----+\n",
      "\n"
     ]
    }
   ],
   "source": [
    "from pyspark.sql.functions import *\n",
    "tweets.select(\"text\") \\\n",
    "    .withColumn(\"text\", lower(col('text'))) \\\n",
    "    .withColumn(\"text\", split(\"text\", \" \")) \\\n",
    "    .withColumn(\"text\", explode(\"text\")) \\\n",
    "    .withColumn(\"text\", regexp_replace(\"text\", '[^a-z0-9]', '')) \\\n",
    "    .filter(\"user.location IN ('Boston', 'Boston, MA')\") \\\n",
    "    .filter(col('text').isin(common_words_text)) \\\n",
    "    .groupBy(\"text\") \\\n",
    "    .count() \\\n",
    "    .orderBy(\"count\", ascending = False) \\\n",
    "    .show()"
   ]
  },
  {
   "cell_type": "markdown",
   "metadata": {},
   "source": [
    "The total number of tweets located in Washington, DC:"
   ]
  },
  {
   "cell_type": "code",
   "execution_count": 57,
   "metadata": {},
   "outputs": [
    {
     "data": {
      "text/plain": [
       "343"
      ]
     },
     "execution_count": 57,
     "metadata": {},
     "output_type": "execute_result"
    }
   ],
   "source": [
    "tweets.filter(\"user.location IN ('Washington', 'Washington, DC')\") \\\n",
    "    .count()"
   ]
  },
  {
   "cell_type": "markdown",
   "metadata": {},
   "source": [
    "Find patterns among how the 10 most common words are used in Washington, DC:"
   ]
  },
  {
   "cell_type": "code",
   "execution_count": 58,
   "metadata": {},
   "outputs": [
    {
     "name": "stdout",
     "output_type": "stream",
     "text": [
      "+-----------+-----+\n",
      "|       text|count|\n",
      "+-----------+-----+\n",
      "|     redsox|  149|\n",
      "|      world|   94|\n",
      "|     series|   93|\n",
      "|        sox|   84|\n",
      "|        red|   81|\n",
      "|    dodgers|   45|\n",
      "|     boston|   43|\n",
      "|worldseries|   40|\n",
      "|         go|   20|\n",
      "|        win|   20|\n",
      "+-----------+-----+\n",
      "\n"
     ]
    }
   ],
   "source": [
    "from pyspark.sql.functions import *\n",
    "tweets.select(\"text\") \\\n",
    "    .withColumn(\"text\", lower(col('text'))) \\\n",
    "    .withColumn(\"text\", split(\"text\", \" \")) \\\n",
    "    .withColumn(\"text\", explode(\"text\")) \\\n",
    "    .withColumn(\"text\", regexp_replace(\"text\", '[^a-z0-9]', '')) \\\n",
    "    .filter(\"user.location IN ('Washington', 'Washington, DC')\") \\\n",
    "    .filter(col('text').isin(common_words_text)) \\\n",
    "    .groupBy(\"text\") \\\n",
    "    .count() \\\n",
    "    .orderBy(\"count\", ascending = False) \\\n",
    "    .show()"
   ]
  },
  {
   "cell_type": "markdown",
   "metadata": {},
   "source": [
    "***Using SQL***"
   ]
  },
  {
   "cell_type": "markdown",
   "metadata": {},
   "source": [
    "The total number of tweets located in Los Angeles:"
   ]
  },
  {
   "cell_type": "code",
   "execution_count": 59,
   "metadata": {},
   "outputs": [
    {
     "name": "stdout",
     "output_type": "stream",
     "text": [
      "+-----+\n",
      "|count|\n",
      "+-----+\n",
      "| 1748|\n",
      "+-----+\n",
      "\n"
     ]
    }
   ],
   "source": [
    "sqlc.sql(\"\"\"\n",
    "    SELECT COUNT(*) AS count\n",
    "    FROM tweets\n",
    "    WHERE user.location IN ('Los Angeles', 'Los Angeles, CA')\n",
    "\"\"\").show()"
   ]
  },
  {
   "cell_type": "code",
   "execution_count": 60,
   "metadata": {},
   "outputs": [
    {
     "name": "stdout",
     "output_type": "stream",
     "text": [
      "+---------------+\n",
      "|       location|\n",
      "+---------------+\n",
      "|    Los Angeles|\n",
      "|Los Angeles, CA|\n",
      "+---------------+\n",
      "\n"
     ]
    }
   ],
   "source": [
    "sqlc.sql(\"\"\"\n",
    "    SELECT user.location\n",
    "    FROM tweets\n",
    "    WHERE user.location IN ('Los Angeles', 'Los Angeles, CA')\n",
    "    GROUP BY user.location\n",
    "\"\"\").show()"
   ]
  },
  {
   "cell_type": "markdown",
   "metadata": {},
   "source": [
    "Find patterns among how the 10 most common words are used in Los Angeles:"
   ]
  },
  {
   "cell_type": "code",
   "execution_count": 61,
   "metadata": {},
   "outputs": [
    {
     "name": "stdout",
     "output_type": "stream",
     "text": [
      "+-----------+-----+\n",
      "|       word|count|\n",
      "+-----------+-----+\n",
      "|    dodgers| 1030|\n",
      "|     series|  300|\n",
      "|      world|  287|\n",
      "|     redsox|  231|\n",
      "|worldseries|  206|\n",
      "|        sox|  199|\n",
      "|        red|  190|\n",
      "|         go|  101|\n",
      "|        win|  101|\n",
      "|     boston|   87|\n",
      "+-----------+-----+\n",
      "\n"
     ]
    }
   ],
   "source": [
    "sqlc.sql(\"\"\"\n",
    "    SELECT word, count\n",
    "    FROM (SELECT REGEXP_REPLACE(col, '[^a-z0-9]', '') AS word, COUNT(col) AS count\n",
    "          FROM (SELECT EXPLODE(SPLIT(LOWER(text), ' '))\n",
    "                FROM tweets\n",
    "                WHERE user.location IN ('Los Angeles', 'Los Angeles, CA'))\n",
    "          GROUP BY word)\n",
    "    WHERE word IN ('redsox', 'dodgers', 'series', 'world', 'sox', 'red', 'worldseries', 'boston', 'go', 'win')\n",
    "    ORDER BY count DESC\n",
    "\"\"\").show()"
   ]
  },
  {
   "cell_type": "markdown",
   "metadata": {},
   "source": [
    "Of the 1748 total tweets, 1030 mention dodgers...\n",
    "\n",
    "provide similar proportions for red sox..."
   ]
  },
  {
   "cell_type": "markdown",
   "metadata": {},
   "source": [
    "The total number of tweets located in Boston:"
   ]
  },
  {
   "cell_type": "code",
   "execution_count": 62,
   "metadata": {},
   "outputs": [
    {
     "name": "stdout",
     "output_type": "stream",
     "text": [
      "+-----+\n",
      "|count|\n",
      "+-----+\n",
      "| 3050|\n",
      "+-----+\n",
      "\n"
     ]
    }
   ],
   "source": [
    "sqlc.sql(\"\"\"\n",
    "    SELECT COUNT(*) AS count\n",
    "    FROM tweets\n",
    "    WHERE user.location IN ('Boston', 'Boston, MA')\n",
    "\"\"\").show()"
   ]
  },
  {
   "cell_type": "markdown",
   "metadata": {},
   "source": [
    "Find patterns among how the 10 most common words are used in Boston:"
   ]
  },
  {
   "cell_type": "code",
   "execution_count": 63,
   "metadata": {},
   "outputs": [
    {
     "name": "stdout",
     "output_type": "stream",
     "text": [
      "+-----------+-----+\n",
      "|       word|count|\n",
      "+-----------+-----+\n",
      "|     redsox| 1700|\n",
      "|     series|  709|\n",
      "|      world|  680|\n",
      "|        sox|  608|\n",
      "|        red|  581|\n",
      "|worldseries|  546|\n",
      "|     boston|  318|\n",
      "|    dodgers|  260|\n",
      "|         go|  257|\n",
      "|        win|  228|\n",
      "+-----------+-----+\n",
      "\n"
     ]
    }
   ],
   "source": [
    "sqlc.sql(\"\"\"\n",
    "    SELECT word, count\n",
    "    FROM (SELECT REGEXP_REPLACE(col, '[^a-z0-9]', '') AS word, COUNT(col) AS count\n",
    "          FROM (SELECT EXPLODE(SPLIT(LOWER(text), ' '))\n",
    "                FROM tweets\n",
    "                WHERE user.location IN ('Boston', 'Boston, MA'))\n",
    "          GROUP BY word)\n",
    "    WHERE word IN ('redsox', 'dodgers', 'series', 'world', 'sox', 'red', 'worldseries', 'boston', 'go', 'win')\n",
    "    ORDER BY count DESC\n",
    "\"\"\").show()"
   ]
  },
  {
   "cell_type": "markdown",
   "metadata": {},
   "source": [
    "The total number of tweets located in Washington, DC:"
   ]
  },
  {
   "cell_type": "code",
   "execution_count": 64,
   "metadata": {},
   "outputs": [
    {
     "name": "stdout",
     "output_type": "stream",
     "text": [
      "+-----+\n",
      "|count|\n",
      "+-----+\n",
      "|  343|\n",
      "+-----+\n",
      "\n"
     ]
    }
   ],
   "source": [
    "sqlc.sql(\"\"\"\n",
    "    SELECT COUNT(*) AS count\n",
    "    FROM tweets\n",
    "    WHERE user.location IN ('Washington', 'Washington, DC')\n",
    "\"\"\").show()"
   ]
  },
  {
   "cell_type": "markdown",
   "metadata": {},
   "source": [
    "Find patterns among how the 10 most common words are used in Washington, DC:"
   ]
  },
  {
   "cell_type": "code",
   "execution_count": 65,
   "metadata": {},
   "outputs": [
    {
     "name": "stdout",
     "output_type": "stream",
     "text": [
      "+-----------+-----+\n",
      "|       word|count|\n",
      "+-----------+-----+\n",
      "|     redsox|  149|\n",
      "|      world|   94|\n",
      "|     series|   93|\n",
      "|        sox|   84|\n",
      "|        red|   81|\n",
      "|    dodgers|   45|\n",
      "|     boston|   43|\n",
      "|worldseries|   40|\n",
      "|         go|   20|\n",
      "|        win|   20|\n",
      "+-----------+-----+\n",
      "\n"
     ]
    }
   ],
   "source": [
    "sqlc.sql(\"\"\"\n",
    "    SELECT word, count\n",
    "    FROM (SELECT REGEXP_REPLACE(col, '[^a-z0-9]', '') AS word, COUNT(col) AS count\n",
    "          FROM (SELECT EXPLODE(SPLIT(LOWER(text), ' '))\n",
    "                FROM tweets\n",
    "                WHERE user.location IN ('Washington', 'Washington, DC'))\n",
    "          GROUP BY word)\n",
    "    WHERE word IN ('redsox', 'dodgers', 'series', 'world', 'sox', 'red', 'worldseries', 'boston', 'go', 'win')\n",
    "    ORDER BY count DESC\n",
    "\"\"\").show()"
   ]
  },
  {
   "cell_type": "markdown",
   "metadata": {},
   "source": [
    "**Discussion**"
   ]
  },
  {
   "cell_type": "markdown",
   "metadata": {},
   "source": [
    "For our analysis of the text portions of the tweets, we found that users tweeted more often in Boston compared to Los Angeles. This coincides with our previous theory that more tweets occurred in Boston because the Red Sox won the World Series in 5 games. \n",
    "\n",
    "We also noticed that dodgers was the most common word for tweets from LA and redsox was the most common word for tweets from Boston. Both cities also show similar proportions for referencing their teams within the text of their tweets. For example, nearly 59% of the tweets from LA specifically reference the Dodgers and the tweets from Boston reference the Red Sox specifically around 56% of the time. \n",
    "\n",
    "Finally, we provided a quick analysis of tweets from Washington DC during the same time period. As expected, this part of the analysis found that less tweets occurred in Washington DC when compared to LA and Boston. Also, the tweets from Washington DC reference the Red Sox more often than the Dodgers. So, the pattern of users tweeting more often about the winning team holds true and DC region may provide more of a local fan base for Boston since both cities are located on the East Coast of the country. "
   ]
  },
  {
   "cell_type": "markdown",
   "metadata": {},
   "source": [
    "**Disclaimer**"
   ]
  },
  {
   "cell_type": "markdown",
   "metadata": {},
   "source": [
    "All members worked on the project individually from the top to the end and met together for the finding discussions. Everyone contributed substantially to the work."
   ]
  }
 ],
 "metadata": {
  "kernelspec": {
   "display_name": "Python 3",
   "language": "python",
   "name": "python3"
  },
  "language_info": {
   "codemirror_mode": {
    "name": "ipython",
    "version": 3
   },
   "file_extension": ".py",
   "mimetype": "text/x-python",
   "name": "python",
   "nbconvert_exporter": "python",
   "pygments_lexer": "ipython3",
   "version": "3.6.6"
  }
 },
 "nbformat": 4,
 "nbformat_minor": 2
}
