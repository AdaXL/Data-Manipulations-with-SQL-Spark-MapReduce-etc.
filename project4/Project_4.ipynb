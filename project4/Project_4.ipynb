{
 "cells": [
  {
   "cell_type": "markdown",
   "metadata": {},
   "source": [
    "# DNSC 6212 Data Management Final Project -- Group 17"
   ]
  },
  {
   "cell_type": "markdown",
   "metadata": {},
   "source": [
    "# Part 1 - Selection (30 points)\n",
    "\n",
    "Identify and describe your dataset, its source, and what appeals to you about it.  Acquire the data and perform an initial exploration to determine which themes you wish to explore. Describe the questions you want to be able to answer with the data, any concerns you have about the data, and any challenges you expect to have to overcome."
   ]
  },
  {
   "cell_type": "markdown",
   "metadata": {},
   "source": [
    "## Dataset and questions"
   ]
  },
  {
   "cell_type": "markdown",
   "metadata": {},
   "source": [
    "We wanted to analyze the distribution of emergency incidents happened in modern cities and how fire departments performed. We chose a dataset detailing emergency incidents in New York City because New York City is the most famous large mordern city and the data was easily accessible. We found the dataset, [Fire Incident Dispatch Data](https://data.cityofnewyork.us/Public-Safety/Fire-Incident-Dispatch-Data/8m42-w767), through the New York City Open Data website. Since the data are from 2012 to 2018, with about 2.75 million records, we only filter the data in year 2016 to analyze. The dataset provides information on the date of the emergencies, the location of the emergencies, the severity of the emergencies, and the response time of the emergencies, among other variables. For example, we can identify the location of the emergencies through the borough or neighborhood of New York City, along with drilling down to the exact zip code and even address of the emergencies. We can determine the severity of the emergencies through the Highest Alarm Level column, which provides a scale of 1-7 alarms where the severity of the increases as the number of alarms increases. Additionally, we also have information on response time to the emergencies from the local fire department. This provides us an opportunity to identify and analyze the how certain factors might affect the response time. \n",
    "\n",
    "The richness of this dataset is appealing because it provides several potential avenues for analysis. For example, we can identify geographical areas that might have a higher propensity of emergency incidents. Furthermore, we can also identify geographical areas that have a higher propensity for severe emergencies because these are the types of emergencies that can cause severe physical and emotional consequences. Finally, we may also want to identify areas, such as zip codes, that have a higher propensity to show long response times because coupling the likelihood of a severe emergencies with a long response time can lead to tragic events. By identifying this information to the Fire Department of New York City, we can help prevent these tragic events from occurring in the future. \n",
    "\n",
    "In addition to researching these ideas, we also want to analyze how certain weather conditions might affect the likelihood and severity of an emergency, especially fire. So, we also plan to include weather data from Kaggle, [Historical Hourly Weather Data 2012-2017](https://www.kaggle.com/selfishgene/historical-hourly-weather-data#weather_description.csv), to provide an even richer analysis of scenarios that we might expect to cause tragic events. For example, we expect warm, dry, and windy weathers to provide the most likely conditions for a severe fire. By combining this weather information with the incident data, we can make a thorough recommendation to the New York City Fire Department to help prevent a tragic emergencies that can cause the loss of life, property, and emotional well-being."
   ]
  },
  {
   "cell_type": "markdown",
   "metadata": {},
   "source": [
    "## Obtain the `fire_incidents` data"
   ]
  },
  {
   "cell_type": "code",
   "execution_count": 1,
   "metadata": {},
   "outputs": [
    {
     "name": "stdout",
     "output_type": "stream",
     "text": [
      "--2018-12-10 05:27:20--  https://s3.amazonaws.com/2018-istm6212-group17/2016_Fire_Incident_Dispatch_Data.csv\n",
      "Resolving s3.amazonaws.com (s3.amazonaws.com)... 52.216.236.205\n",
      "Connecting to s3.amazonaws.com (s3.amazonaws.com)|52.216.236.205|:443... connected.\n",
      "HTTP request sent, awaiting response... 200 OK\n",
      "Length: 176682255 (168M) [text/csv]\n",
      "Saving to: ‘fire_incidents.csv’\n",
      "\n",
      "fire_incidents.csv  100%[===================>] 168.50M  44.1MB/s    in 3.8s    \n",
      "\n",
      "2018-12-10 05:27:24 (43.8 MB/s) - ‘fire_incidents.csv’ saved [176682255/176682255]\n",
      "\n"
     ]
    }
   ],
   "source": [
    "!wget -O fire_incidents.csv https://s3.amazonaws.com/2018-istm6212-group17/2016_Fire_Incident_Dispatch_Data.csv"
   ]
  },
  {
   "cell_type": "markdown",
   "metadata": {},
   "source": [
    "## Examine the data"
   ]
  },
  {
   "cell_type": "markdown",
   "metadata": {},
   "source": [
    "***Number of records***"
   ]
  },
  {
   "cell_type": "code",
   "execution_count": 2,
   "metadata": {},
   "outputs": [
    {
     "name": "stdout",
     "output_type": "stream",
     "text": [
      "585523 fire_incidents.csv\n"
     ]
    }
   ],
   "source": [
    "!wc -l fire_incidents.csv"
   ]
  },
  {
   "cell_type": "code",
   "execution_count": 3,
   "metadata": {},
   "outputs": [
    {
     "name": "stdout",
     "output_type": "stream",
     "text": [
      "Row count: 585522\n"
     ]
    }
   ],
   "source": [
    "!csvstat --count fire_incidents.csv"
   ]
  },
  {
   "cell_type": "markdown",
   "metadata": {},
   "source": [
    "Both show that there are total 585522 records."
   ]
  },
  {
   "cell_type": "markdown",
   "metadata": {},
   "source": [
    "***Variable names***"
   ]
  },
  {
   "cell_type": "code",
   "execution_count": 4,
   "metadata": {},
   "outputs": [
    {
     "name": "stdout",
     "output_type": "stream",
     "text": [
      "  1: STARFIRE_INCIDENT_ID\n",
      "  2: INCIDENT_DATETIME\n",
      "  3: ALARM_BOX_BOROUGH\n",
      "  4: ALARM_BOX_NUMBER\n",
      "  5: ALARM_BOX_LOCATION\n",
      "  6: INCIDENT_BOROUGH\n",
      "  7: ZIPCODE\n",
      "  8: POLICEPRECINCT\n",
      "  9: CITYCOUNCILDISTRICT\n",
      " 10: COMMUNITYDISTRICT\n",
      " 11: COMMUNITYSCHOOLDISTRICT\n",
      " 12: CONGRESSIONALDISTRICT\n",
      " 13: ALARM_SOURCE_DESCRIPTION_TX\n",
      " 14: ALARM_LEVEL_INDEX_DESCRIPTION\n",
      " 15: HIGHEST_ALARM_LEVEL\n",
      " 16: INCIDENT_CLASSIFICATION\n",
      " 17: INCIDENT_CLASSIFICATION_GROUP\n",
      " 18: DISPATCH_RESPONSE_SECONDS_QY\n",
      " 19: FIRST_ASSIGNMENT_DATETIME\n",
      " 20: FIRST_ACTIVATION_DATETIME\n",
      " 21: FIRST_ON_SCENE_DATETIME\n",
      " 22: INCIDENT_CLOSE_DATETIME\n",
      " 23: VALID_DISPATCH_RSPNS_TIME_INDC\n",
      " 24: VALID_INCIDENT_RSPNS_TIME_INDC\n",
      " 25: INCIDENT_RESPONSE_SECONDS_QY\n",
      " 26: INCIDENT_TRAVEL_TM_SECONDS_QY\n",
      " 27: ENGINES_ASSIGNED_QUANTITY\n",
      " 28: LADDERS_ASSIGNED_QUANTITY\n",
      " 29: OTHER_UNITS_ASSIGNED_QUANTITY\n"
     ]
    }
   ],
   "source": [
    "!csvcut -n fire_incidents.csv"
   ]
  },
  {
   "cell_type": "markdown",
   "metadata": {},
   "source": [
    "***Basic statistics of each variable***"
   ]
  },
  {
   "cell_type": "code",
   "execution_count": 5,
   "metadata": {},
   "outputs": [
    {
     "name": "stdout",
     "output_type": "stream",
     "text": [
      "  1. \"STARFIRE_INCIDENT_ID\"\n",
      "\n",
      "\tType of data:          Number\n",
      "\tContains null values:  False\n",
      "\tUnique values:         9999\n",
      "\tSmallest value:        160,046,041,015\n",
      "\tLargest value:         1,600,798,760,150,102\n",
      "\tSum:                   16,000,756,198,407,744,257\n",
      "\tMean:                  1,600,235,643,405,114.937\n",
      "\tMedian:                1,600,412,110,140,197\n",
      "\tStDev:                 16,004,216,073,912.616\n",
      "\tMost common values:    1,600,123,850,140,001 (1x)\n",
      "\t                       1,600,125,490,620,001 (1x)\n",
      "\t                       1,600,191,770,150,002 (1x)\n",
      "\t                       1,600,115,560,140,002 (1x)\n",
      "\t                       1,600,132,410,120,004 (1x)\n",
      "\n",
      "  2. \"INCIDENT_DATETIME\"\n",
      "\n",
      "\tType of data:          DateTime\n",
      "\tContains null values:  False\n",
      "\tUnique values:         9896\n",
      "\tSmallest value:        2016-01-01 00:00:43\n",
      "\tLargest value:         2016-01-07 07:38:27\n",
      "\tMost common values:    2016-01-02 09:16:53 (3x)\n",
      "\t                       2016-01-01 00:19:54 (2x)\n",
      "\t                       2016-01-01 00:36:39 (2x)\n",
      "\t                       2016-01-01 00:39:03 (2x)\n",
      "\t                       2016-01-01 01:51:07 (2x)\n",
      "\n",
      "  3. \"ALARM_BOX_BOROUGH\"\n",
      "\n",
      "\tType of data:          Text\n",
      "\tContains null values:  False\n",
      "\tUnique values:         5\n",
      "\tLongest value:         24 characters\n",
      "\tMost common values:    BROOKLYN (2861x)\n",
      "\t                       MANHATTAN (2746x)\n",
      "\t                       BRONX (1975x)\n",
      "\t                       QUEENS (1965x)\n",
      "\t                       RICHMOND / STATEN ISLAND (452x)\n",
      "\n",
      "  4. \"ALARM_BOX_NUMBER\"\n",
      "\n",
      "\tType of data:          Number\n",
      "\tContains null values:  False\n",
      "\tUnique values:         4354\n",
      "\tSmallest value:        10\n",
      "\tLargest value:         9,940\n",
      "\tSum:                   28,109,702\n",
      "\tMean:                  2,811.251\n",
      "\tMedian:                2,135\n",
      "\tStDev:                 2,402.768\n",
      "\tMost common values:    1,670 (33x)\n",
      "\t                       1,493 (16x)\n",
      "\t                       1,371 (16x)\n",
      "\t                       715 (16x)\n",
      "\t                       290 (16x)\n",
      "\n",
      "  5. \"ALARM_BOX_LOCATION\"\n",
      "\n",
      "\tType of data:          Text\n",
      "\tContains null values:  False\n",
      "\tUnique values:         5620\n",
      "\tLongest value:         40 characters\n",
      "\tMost common values:    8 AVE & 155 ST (32x)\n",
      "\t                       BWAY & W125 ST\\M.L.KING JR BLVD (16x)\n",
      "\t                       FDR DR & E 6 ST (16x)\n",
      "\t                       OPP 10 RICHMAN PLZ-SEDWICK AV & W 176 ST (14x)\n",
      "\t                       KING ST & DWIGHT ST (12x)\n",
      "\n",
      "  6. \"INCIDENT_BOROUGH\"\n",
      "\n",
      "\tType of data:          Text\n",
      "\tContains null values:  False\n",
      "\tUnique values:         5\n",
      "\tLongest value:         24 characters\n",
      "\tMost common values:    BROOKLYN (2861x)\n",
      "\t                       MANHATTAN (2746x)\n",
      "\t                       BRONX (1975x)\n",
      "\t                       QUEENS (1965x)\n",
      "\t                       RICHMOND / STATEN ISLAND (452x)\n",
      "\n",
      "  7. \"ZIPCODE\"\n",
      "\n",
      "\tType of data:          Number\n",
      "\tContains null values:  True (excluded from calculations)\n",
      "\tUnique values:         189\n",
      "\tSmallest value:        10,001\n",
      "\tLargest value:         11,697\n",
      "\tSum:                   102,603,674\n",
      "\tMean:                  10,729.235\n",
      "\tMedian:                10,472\n",
      "\tStDev:                 559.734\n",
      "\tMost common values:    None (436x)\n",
      "\t                       10,456 (153x)\n",
      "\t                       11,212 (151x)\n",
      "\t                       11,207 (149x)\n",
      "\t                       10,002 (144x)\n",
      "\n",
      "  8. \"POLICEPRECINCT\"\n",
      "\n",
      "\tType of data:          Number\n",
      "\tContains null values:  True (excluded from calculations)\n",
      "\tUnique values:         77\n",
      "\tSmallest value:        1\n",
      "\tLargest value:         123\n",
      "\tSum:                   588,603\n",
      "\tMean:                  61.55\n",
      "\tMedian:                62\n",
      "\tStDev:                 35.259\n",
      "\tMost common values:    None (436x)\n",
      "\t                       75 (288x)\n",
      "\t                       40 (235x)\n",
      "\t                       14 (208x)\n",
      "\t                       109 (203x)\n",
      "\n",
      "  9. \"CITYCOUNCILDISTRICT\"\n",
      "\n",
      "\tType of data:          Number\n",
      "\tContains null values:  True (excluded from calculations)\n",
      "\tUnique values:         52\n",
      "\tSmallest value:        1\n",
      "\tLargest value:         51\n",
      "\tSum:                   218,104\n",
      "\tMean:                  22.843\n",
      "\tMedian:                20\n",
      "\tStDev:                 15.277\n",
      "\tMost common values:    None (451x)\n",
      "\t                       3 (440x)\n",
      "\t                       8 (348x)\n",
      "\t                       2 (336x)\n",
      "\t                       4 (332x)\n",
      "\n",
      " 10. \"COMMUNITYDISTRICT\"\n",
      "\n",
      "\tType of data:          Number\n",
      "\tContains null values:  True (excluded from calculations)\n",
      "\tUnique values:         64\n",
      "\tSmallest value:        101\n",
      "\tLargest value:         595\n",
      "\tSum:                   2,487,867\n",
      "\tMean:                  260.155\n",
      "\tMedian:                302\n",
      "\tStDev:                 120.774\n",
      "\tMost common values:    None (436x)\n",
      "\t                       105 (360x)\n",
      "\t                       103 (326x)\n",
      "\t                       412 (289x)\n",
      "\t                       305 (286x)\n",
      "\n",
      " 11. \"COMMUNITYSCHOOLDISTRICT\"\n",
      "\n",
      "\tType of data:          Number\n",
      "\tContains null values:  True (excluded from calculations)\n",
      "\tUnique values:         33\n",
      "\tSmallest value:        1\n",
      "\tLargest value:         32\n",
      "\tSum:                   139,563\n",
      "\tMean:                  14.597\n",
      "\tMedian:                13\n",
      "\tStDev:                 9.821\n",
      "\tMost common values:    2 (1313x)\n",
      "\t                       10 (455x)\n",
      "\t                       None (438x)\n",
      "\t                       31 (426x)\n",
      "\t                       11 (381x)\n",
      "\n",
      " 12. \"CONGRESSIONALDISTRICT\"\n",
      "\n",
      "\tType of data:          Number\n",
      "\tContains null values:  True (excluded from calculations)\n",
      "\tUnique values:         14\n",
      "\tSmallest value:        3\n",
      "\tLargest value:         16\n",
      "\tSum:                   99,535\n",
      "\tMean:                  10.425\n",
      "\tMedian:                11\n",
      "\tStDev:                 3.286\n",
      "\tMost common values:    12 (1189x)\n",
      "\t                       15 (1130x)\n",
      "\t                       13 (1077x)\n",
      "\t                       8 (1037x)\n",
      "\t                       7 (863x)\n",
      "\n",
      " 13. \"ALARM_SOURCE_DESCRIPTION_TX\"\n",
      "\n",
      "\tType of data:          Text\n",
      "\tContains null values:  False\n",
      "\tUnique values:         10\n",
      "\tLongest value:         18 characters\n",
      "\tMost common values:    UCT/911 (3388x)\n",
      "\t                       EMS Link/Medical (2619x)\n",
      "\t                       PD Link/Medical (1897x)\n",
      "\t                       Private Fire Alarm (1000x)\n",
      "\t                       Phone (705x)\n",
      "\n",
      " 14. \"ALARM_LEVEL_INDEX_DESCRIPTION\"\n",
      "\n",
      "\tType of data:          Text\n",
      "\tContains null values:  False\n",
      "\tUnique values:         6\n",
      "\tLongest value:         42 characters\n",
      "\tMost common values:    Initial Alarm (9615x)\n",
      "\t                       DEFAULT RECORD (334x)\n",
      "\t                       7-5 (All Hands Alarm) (42x)\n",
      "\t                       Second Alarm (5x)\n",
      "\t                       10-75 Signal (Request for all hands alarm) (2x)\n",
      "\n",
      " 15. \"HIGHEST_ALARM_LEVEL\"\n",
      "\n",
      "\tType of data:          Text\n",
      "\tContains null values:  False\n",
      "\tUnique values:         3\n",
      "\tLongest value:         17 characters\n",
      "\tMost common values:    First Alarm (9952x)\n",
      "\t                       All Hands Working (42x)\n",
      "\t                       Second Alarm (5x)\n",
      "\n",
      " 16. \"INCIDENT_CLASSIFICATION\"\n",
      "\n",
      "\tType of data:          Text\n",
      "\tContains null values:  False\n",
      "\tUnique values:         59\n",
      "\tLongest value:         49 characters\n",
      "\tMost common values:    Medical - Assist Civilian (2774x)\n",
      "\t                       Assist Civilian - Non-Medical (1347x)\n",
      "\t                       Medical - EMS Link 10-91 (958x)\n",
      "\t                       Medical - PD Link 10-91 (600x)\n",
      "\t                       Utility Emergency - Water (520x)\n",
      "\n",
      " 17. \"INCIDENT_CLASSIFICATION_GROUP\"\n",
      "\n",
      "\tType of data:          Text\n",
      "\tContains null values:  False\n",
      "\tUnique values:         6\n",
      "\tLongest value:         22 characters\n",
      "\tMost common values:    NonMedical Emergencies (4610x)\n",
      "\t                       Medical Emergencies (4332x)\n",
      "\t                       Structural Fires (534x)\n",
      "\t                       NonMedical MFAs (280x)\n",
      "\t                       NonStructural Fires (189x)\n",
      "\n",
      " 18. \"DISPATCH_RESPONSE_SECONDS_QY\"\n",
      "\n",
      "\tType of data:          Number\n",
      "\tContains null values:  False\n",
      "\tUnique values:         297\n",
      "\tSmallest value:        0\n",
      "\tLargest value:         3,617\n",
      "\tSum:                   280,883\n",
      "\tMean:                  28.091\n",
      "\tMedian:                11\n",
      "\tStDev:                 84.425\n",
      "\tMost common values:    6 (954x)\n",
      "\t                       5 (912x)\n",
      "\t                       7 (808x)\n",
      "\t                       8 (660x)\n",
      "\t                       4 (526x)\n",
      "\n",
      " 19. \"FIRST_ASSIGNMENT_DATETIME\"\n",
      "\n",
      "\tType of data:          DateTime\n",
      "\tContains null values:  True (excluded from calculations)\n",
      "\tUnique values:         9904\n",
      "\tSmallest value:        2016-01-01 00:01:46\n",
      "\tLargest value:         2016-01-07 07:38:52\n",
      "\tMost common values:    None (35x)\n",
      "\t                       2016-01-01 00:01:50 (2x)\n",
      "\t                       2016-01-01 00:21:07 (2x)\n",
      "\t                       2016-01-01 00:25:49 (2x)\n",
      "\t                       2016-01-01 01:06:44 (2x)\n",
      "\n",
      " 20. \"FIRST_ACTIVATION_DATETIME\"\n",
      "\n",
      "\tType of data:          DateTime\n",
      "\tContains null values:  True (excluded from calculations)\n",
      "\tUnique values:         9842\n",
      "\tSmallest value:        2016-01-01 00:02:11\n",
      "\tLargest value:         2016-01-07 07:39:12\n",
      "\tMost common values:    None (62x)\n",
      "\t                       2016-01-01 00:20:35 (2x)\n",
      "\t                       2016-01-01 00:21:30 (2x)\n",
      "\t                       2016-01-01 00:26:07 (2x)\n",
      "\t                       2016-01-01 00:32:13 (2x)\n",
      "\n",
      " 21. \"FIRST_ON_SCENE_DATETIME\"\n",
      "\n",
      "\tType of data:          DateTime\n",
      "\tContains null values:  True (excluded from calculations)\n",
      "\tUnique values:         8450\n",
      "\tSmallest value:        2016-01-01 00:06:45\n",
      "\tLargest value:         2016-01-07 07:47:47\n",
      "\tMost common values:    None (1444x)\n",
      "\t                       2016-01-05 14:13:24 (3x)\n",
      "\t                       2016-01-01 00:09:35 (2x)\n",
      "\t                       2016-01-01 00:51:12 (2x)\n",
      "\t                       2016-01-01 01:00:32 (2x)\n",
      "\n",
      " 22. \"INCIDENT_CLOSE_DATETIME\"\n",
      "\n",
      "\tType of data:          DateTime\n",
      "\tContains null values:  False\n",
      "\tUnique values:         9879\n",
      "\tSmallest value:        2016-01-01 00:05:11\n",
      "\tLargest value:         2016-01-07 16:54:36\n",
      "\tMost common values:    2016-01-01 00:37:13 (2x)\n",
      "\t                       2016-01-01 00:36:40 (2x)\n",
      "\t                       2016-01-01 00:57:19 (2x)\n",
      "\t                       2016-01-01 00:51:42 (2x)\n",
      "\t                       2016-01-01 02:02:03 (2x)\n",
      "\n",
      " 23. \"VALID_DISPATCH_RSPNS_TIME_INDC\"\n",
      "\n",
      "\tType of data:          Boolean\n",
      "\tContains null values:  False\n",
      "\tUnique values:         1\n",
      "\tMost common values:    False (9999x)\n",
      "\n",
      " 24. \"VALID_INCIDENT_RSPNS_TIME_INDC\"\n",
      "\n",
      "\tType of data:          Boolean\n",
      "\tContains null values:  False\n",
      "\tUnique values:         2\n",
      "\tMost common values:    True (8292x)\n",
      "\t                       False (1707x)\n",
      "\n",
      " 25. \"INCIDENT_RESPONSE_SECONDS_QY\"\n",
      "\n",
      "\tType of data:          Number\n",
      "\tContains null values:  False\n",
      "\tUnique values:         776\n",
      "\tSmallest value:        0\n",
      "\tLargest value:         3,644\n",
      "\tSum:                   2,606,249\n",
      "\tMean:                  260.651\n",
      "\tMedian:                257\n",
      "\tStDev:                 188.624\n",
      "\tMost common values:    0 (1444x)\n",
      "\t                       259 (51x)\n",
      "\t                       238 (50x)\n",
      "\t                       217 (49x)\n",
      "\t                       248 (49x)\n",
      "\n",
      " 26. \"INCIDENT_TRAVEL_TM_SECONDS_QY\"\n",
      "\n",
      "\tType of data:          Number\n",
      "\tContains null values:  False\n",
      "\tUnique values:         738\n",
      "\tSmallest value:        0\n",
      "\tLargest value:         3,632\n",
      "\tSum:                   2,385,032\n",
      "\tMean:                  238.527\n",
      "\tMedian:                236\n",
      "\tStDev:                 174.714\n",
      "\tMost common values:    0 (1444x)\n",
      "\t                       251 (54x)\n",
      "\t                       206 (51x)\n",
      "\t                       244 (50x)\n",
      "\t                       214 (50x)\n",
      "\n",
      " 27. \"ENGINES_ASSIGNED_QUANTITY\"\n",
      "\n",
      "\tType of data:          Number\n",
      "\tContains null values:  False\n",
      "\tUnique values:         12\n",
      "\tSmallest value:        0\n",
      "\tLargest value:         17\n",
      "\tSum:                   13,000\n",
      "\tMean:                  1.3\n",
      "\tMedian:                1\n",
      "\tStDev:                 1.042\n",
      "\tMost common values:    1 (5951x)\n",
      "\t                       0 (1519x)\n",
      "\t                       3 (1212x)\n",
      "\t                       2 (1009x)\n",
      "\t                       4 (225x)\n",
      "\n",
      " 28. \"LADDERS_ASSIGNED_QUANTITY\"\n",
      "\n",
      "\tType of data:          Number\n",
      "\tContains null values:  False\n",
      "\tUnique values:         10\n",
      "\tSmallest value:        0\n",
      "\tLargest value:         11\n",
      "\tSum:                   7,914\n",
      "\tMean:                  0.791\n",
      "\tMedian:                1\n",
      "\tStDev:                 0.904\n",
      "\tMost common values:    0 (4827x)\n",
      "\t                       1 (2786x)\n",
      "\t                       2 (2123x)\n",
      "\t                       3 (204x)\n",
      "\t                       4 (41x)\n",
      "\n",
      " 29. \"OTHER_UNITS_ASSIGNED_QUANTITY\"\n",
      "\n",
      "\tType of data:          Number\n",
      "\tContains null values:  False\n",
      "\tUnique values:         16\n",
      "\tSmallest value:        0\n",
      "\tLargest value:         20\n",
      "\tSum:                   3,989\n",
      "\tMean:                  0.399\n",
      "\tMedian:                0\n",
      "\tStDev:                 0.874\n",
      "\tMost common values:    0 (6881x)\n",
      "\t                       1 (2711x)\n",
      "\t                       2 (284x)\n",
      "\t                       3 (37x)\n",
      "\t                       6 (25x)\n",
      "\n",
      "Row count: 9999\n"
     ]
    }
   ],
   "source": [
    "!head -n 10000 fire_incidents.csv | csvstat --snifflimit 0"
   ]
  },
  {
   "cell_type": "markdown",
   "metadata": {},
   "source": [
    "Based on our initial research ideas and basic exploratory analysis, we have identified a few key variables that will play an important role in our analysis. These variables include the Alarm Box Borough, Zip Code, Highest Alarm Level, Incident Classification Group, and various response time metrics. \n",
    "\n",
    "Since the dataset came from a valid source and also provided a data dictionary, we identified that the Alarm Box Borough represents where the neighorbood where the incident alarm rang, Zip Code represents the Zip Code where the incident occurred, Highest Alarm Level provides a proxy for the severity of the incident, and Incident Classification Group provides a categorical filing of the incident, such as Medical Emergencies, Medical First Aid, and Fires. \n",
    "\n",
    "The various response time metrics include dispatch time, travel time, and full response time for the New York City Fire Department. These response time metrics provide a quality option for representing our Facts within the relational database design."
   ]
  },
  {
   "cell_type": "markdown",
   "metadata": {},
   "source": [
    "## Schema"
   ]
  },
  {
   "cell_type": "markdown",
   "metadata": {},
   "source": [
    "***The schema of our original dataset***"
   ]
  },
  {
   "cell_type": "code",
   "execution_count": 6,
   "metadata": {},
   "outputs": [
    {
     "data": {
      "text/html": [
       "<img src=\"https://s3.amazonaws.com/2018-istm6212-group17/original_dataset.png\" width=\"320\" height=\"500\"/>"
      ],
      "text/plain": [
       "<IPython.core.display.Image object>"
      ]
     },
     "execution_count": 6,
     "metadata": {},
     "output_type": "execute_result"
    }
   ],
   "source": [
    "from IPython.display import Image\n",
    "Image(url = \"https://s3.amazonaws.com/2018-istm6212-group17/original_dataset.png\", width = 320, height = 500)"
   ]
  },
  {
   "cell_type": "markdown",
   "metadata": {},
   "source": [
    "***Based on the dataset, we will build a star schema like this***"
   ]
  },
  {
   "cell_type": "code",
   "execution_count": 7,
   "metadata": {},
   "outputs": [
    {
     "data": {
      "text/html": [
       "<img src=\"https://s3.amazonaws.com/2018-istm6212-group17/star_schema_original.png\"/>"
      ],
      "text/plain": [
       "<IPython.core.display.Image object>"
      ]
     },
     "execution_count": 7,
     "metadata": {},
     "output_type": "execute_result"
    }
   ],
   "source": [
    "from IPython.display import Image\n",
    "Image(url = \"https://s3.amazonaws.com/2018-istm6212-group17/star_schema_original.png\")"
   ]
  },
  {
   "cell_type": "markdown",
   "metadata": {},
   "source": [
    "We considered multiple options for the fact table. For example, we had the option of choosing either response time metrics or other options, such as Engines or Ladders assigned by incident. If we needed to include these facts, we could have implemented a multiple fact table design. These additional facts may provide a proxy for the severity of an incident, however, the data also provides the Highest Alarm Level variable that can be used to measure the severity of the incident. Additionally, we are more interested in understanding the factors that might affect response times, so we decided to not include the additional facts and multiple fact table design."
   ]
  },
  {
   "cell_type": "markdown",
   "metadata": {},
   "source": [
    "# Part 2 - Wrangling (35 points)\n",
    "\n",
    "Based on what you found above, wrangle the data into a format suitable for analysis. This may involve cleaning, filtering, merging, and modeling steps, any and all of which are valid for this project. Describe your process as you proceed, and document any scripts, databases, or other models you develop. Be specific about any key decisions to modify or remove data, how you overcame any challenges, and all assumptions you make about the meaning of variables and their values.\n",
    "\n",
    "Verify that your wrangling steps have succeeded (for example, if you loaded the data into a dimensional model, ensure that the fact table contains the right number of records)."
   ]
  },
  {
   "cell_type": "markdown",
   "metadata": {},
   "source": [
    "## Create and connect to a new database"
   ]
  },
  {
   "cell_type": "code",
   "execution_count": 8,
   "metadata": {
    "collapsed": true
   },
   "outputs": [],
   "source": [
    "%load_ext sql"
   ]
  },
  {
   "cell_type": "code",
   "execution_count": 9,
   "metadata": {
    "collapsed": true
   },
   "outputs": [],
   "source": [
    "!dropdb -U student proj4_group17"
   ]
  },
  {
   "cell_type": "code",
   "execution_count": 10,
   "metadata": {
    "collapsed": true
   },
   "outputs": [],
   "source": [
    "!createdb -U student proj4_group17"
   ]
  },
  {
   "cell_type": "code",
   "execution_count": 11,
   "metadata": {},
   "outputs": [
    {
     "data": {
      "text/plain": [
       "'Connected: student@proj4_group17'"
      ]
     },
     "execution_count": 11,
     "metadata": {},
     "output_type": "execute_result"
    }
   ],
   "source": [
    "%sql postgresql://student@/proj4_group17"
   ]
  },
  {
   "cell_type": "markdown",
   "metadata": {},
   "source": [
    "## Create a temporary table `incidents`"
   ]
  },
  {
   "cell_type": "markdown",
   "metadata": {},
   "source": [
    "***Create a temporary table `incidents`***"
   ]
  },
  {
   "cell_type": "code",
   "execution_count": 12,
   "metadata": {},
   "outputs": [
    {
     "name": "stdout",
     "output_type": "stream",
     "text": [
      " * postgresql://student@/proj4_group17\n",
      "Done.\n",
      "Done.\n"
     ]
    },
    {
     "data": {
      "text/plain": [
       "[]"
      ]
     },
     "execution_count": 12,
     "metadata": {},
     "output_type": "execute_result"
    }
   ],
   "source": [
    "%%sql\n",
    "DROP TABLE IF EXISTS incidents;\n",
    "\n",
    "CREATE TABLE incidents (\n",
    "    id NUMERIC NOT NULL,\n",
    "    incident_datetime TIMESTAMP NOT NULL,\n",
    "    alarm_box_borough VARCHAR(30) NOT NULL,\n",
    "    alarm_box_number INTEGER NOT NULL,\n",
    "    alarm_box_location VARCHAR(500) NOT NULL,\n",
    "    incident_borough VARCHAR(30) NOT NULL,\n",
    "    zipcode INTEGER,\n",
    "    police_precinct INTEGER,\n",
    "    city_council_district INTEGER,\n",
    "    community_district INTEGER,\n",
    "    community_school_district INTEGER,\n",
    "    congressional_district INTEGER,\n",
    "    alarm_source_description_tx VARCHAR(30) NOT NULL,\n",
    "    alarm_level_index_description VARCHAR(100) NOT NULL,\n",
    "    highest_alarm_level VARCHAR(30) NOT NULL,\n",
    "    incident_classification VARCHAR(100) NOT NULL,\n",
    "    incident_classification_group VARCHAR(30) NOT NULL,\n",
    "    dispatch_rspns_s_qy INTEGER,\n",
    "    first_assignment_datetime TIMESTAMP,\n",
    "    first_activation_datetime TIMESTAMP,\n",
    "    first_on_scene_datetime TIMESTAMP,\n",
    "    incident_close_datetime TIMESTAMP,\n",
    "    valid_dispatch_rspns_time_indc BOOLEAN,\n",
    "    valid_incident_rspns_time_indc BOOLEAN,\n",
    "    incident_rspns_s_qy INTEGER,\n",
    "    incident_travel_s_qy INTEGER,\n",
    "    engines_assigned_quantity INTEGER,\n",
    "    ladders_assigned_quantity INTEGER,\n",
    "    other_units_assigned_quantity INTEGER\n",
    ");"
   ]
  },
  {
   "cell_type": "markdown",
   "metadata": {},
   "source": [
    "***Load the data using `COPY` command***"
   ]
  },
  {
   "cell_type": "code",
   "execution_count": 13,
   "metadata": {},
   "outputs": [],
   "source": [
    "!cp fire_incidents.csv /tmp/fire_incidents.csv"
   ]
  },
  {
   "cell_type": "code",
   "execution_count": 14,
   "metadata": {},
   "outputs": [
    {
     "name": "stdout",
     "output_type": "stream",
     "text": [
      " * postgresql://student@/proj4_group17\n",
      "585522 rows affected.\n"
     ]
    },
    {
     "data": {
      "text/plain": [
       "[]"
      ]
     },
     "execution_count": 14,
     "metadata": {},
     "output_type": "execute_result"
    }
   ],
   "source": [
    "%%sql\n",
    "COPY incidents \n",
    "FROM '/tmp/fire_incidents.csv'\n",
    "CSV\n",
    "HEADER;"
   ]
  },
  {
   "cell_type": "markdown",
   "metadata": {},
   "source": [
    "***Check the number of records in this table***"
   ]
  },
  {
   "cell_type": "code",
   "execution_count": 15,
   "metadata": {},
   "outputs": [
    {
     "name": "stdout",
     "output_type": "stream",
     "text": [
      " * postgresql://student@/proj4_group17\n",
      "1 rows affected.\n"
     ]
    },
    {
     "data": {
      "text/html": [
       "<table>\n",
       "    <tr>\n",
       "        <th>count</th>\n",
       "    </tr>\n",
       "    <tr>\n",
       "        <td>585522</td>\n",
       "    </tr>\n",
       "</table>"
      ],
      "text/plain": [
       "[(585522,)]"
      ]
     },
     "execution_count": 15,
     "metadata": {},
     "output_type": "execute_result"
    }
   ],
   "source": [
    "%%sql\n",
    "SELECT COUNT(*)\n",
    "FROM incidents;"
   ]
  },
  {
   "cell_type": "markdown",
   "metadata": {},
   "source": [
    "***Take a look at the data***"
   ]
  },
  {
   "cell_type": "code",
   "execution_count": 16,
   "metadata": {},
   "outputs": [
    {
     "name": "stdout",
     "output_type": "stream",
     "text": [
      " * postgresql://student@/proj4_group17\n",
      "5 rows affected.\n"
     ]
    },
    {
     "data": {
      "text/html": [
       "<table>\n",
       "    <tr>\n",
       "        <th>id</th>\n",
       "        <th>incident_datetime</th>\n",
       "        <th>alarm_box_borough</th>\n",
       "        <th>alarm_box_number</th>\n",
       "        <th>alarm_box_location</th>\n",
       "        <th>incident_borough</th>\n",
       "        <th>zipcode</th>\n",
       "        <th>police_precinct</th>\n",
       "        <th>city_council_district</th>\n",
       "        <th>community_district</th>\n",
       "        <th>community_school_district</th>\n",
       "        <th>congressional_district</th>\n",
       "        <th>alarm_source_description_tx</th>\n",
       "        <th>alarm_level_index_description</th>\n",
       "        <th>highest_alarm_level</th>\n",
       "        <th>incident_classification</th>\n",
       "        <th>incident_classification_group</th>\n",
       "        <th>dispatch_rspns_s_qy</th>\n",
       "        <th>first_assignment_datetime</th>\n",
       "        <th>first_activation_datetime</th>\n",
       "        <th>first_on_scene_datetime</th>\n",
       "        <th>incident_close_datetime</th>\n",
       "        <th>valid_dispatch_rspns_time_indc</th>\n",
       "        <th>valid_incident_rspns_time_indc</th>\n",
       "        <th>incident_rspns_s_qy</th>\n",
       "        <th>incident_travel_s_qy</th>\n",
       "        <th>engines_assigned_quantity</th>\n",
       "        <th>ladders_assigned_quantity</th>\n",
       "        <th>other_units_assigned_quantity</th>\n",
       "    </tr>\n",
       "    <tr>\n",
       "        <td>1600123850140001</td>\n",
       "        <td>2016-01-01 00:00:43</td>\n",
       "        <td>BROOKLYN</td>\n",
       "        <td>2385</td>\n",
       "        <td>AVENUE K &amp; E 82 ST</td>\n",
       "        <td>BROOKLYN</td>\n",
       "        <td>11236</td>\n",
       "        <td>69</td>\n",
       "        <td>46</td>\n",
       "        <td>318</td>\n",
       "        <td>18</td>\n",
       "        <td>8</td>\n",
       "        <td>Private Fire Alarm</td>\n",
       "        <td>Initial Alarm</td>\n",
       "        <td>First Alarm</td>\n",
       "        <td>Carbon Monoxide - Code 1 - Investigation</td>\n",
       "        <td>NonMedical Emergencies</td>\n",
       "        <td>67</td>\n",
       "        <td>2016-01-01 00:01:50</td>\n",
       "        <td>2016-01-01 00:02:24</td>\n",
       "        <td>2016-01-01 00:07:16</td>\n",
       "        <td>2016-01-01 00:10:26</td>\n",
       "        <td>False</td>\n",
       "        <td>True</td>\n",
       "        <td>393</td>\n",
       "        <td>326</td>\n",
       "        <td>1</td>\n",
       "        <td>1</td>\n",
       "        <td>0</td>\n",
       "    </tr>\n",
       "    <tr>\n",
       "        <td>1600125490620001</td>\n",
       "        <td>2016-01-01 00:01:34</td>\n",
       "        <td>BRONX</td>\n",
       "        <td>2549</td>\n",
       "        <td>WESTCHESTER AVE &amp; FAILE ST</td>\n",
       "        <td>BRONX</td>\n",
       "        <td>10459</td>\n",
       "        <td>41</td>\n",
       "        <td>17</td>\n",
       "        <td>202</td>\n",
       "        <td>8</td>\n",
       "        <td>15</td>\n",
       "        <td>UCT/911</td>\n",
       "        <td>Initial Alarm</td>\n",
       "        <td>First Alarm</td>\n",
       "        <td>Demolition Debris or Rubbish Fire</td>\n",
       "        <td>NonStructural Fires</td>\n",
       "        <td>12</td>\n",
       "        <td>2016-01-01 00:01:46</td>\n",
       "        <td>2016-01-01 00:02:11</td>\n",
       "        <td>2016-01-01 00:09:14</td>\n",
       "        <td>2016-01-01 00:18:22</td>\n",
       "        <td>False</td>\n",
       "        <td>True</td>\n",
       "        <td>460</td>\n",
       "        <td>448</td>\n",
       "        <td>1</td>\n",
       "        <td>0</td>\n",
       "        <td>0</td>\n",
       "    </tr>\n",
       "    <tr>\n",
       "        <td>1600191770150002</td>\n",
       "        <td>2016-01-01 00:01:39</td>\n",
       "        <td>QUEENS</td>\n",
       "        <td>9177</td>\n",
       "        <td>98 ST &amp; 63 DR</td>\n",
       "        <td>QUEENS</td>\n",
       "        <td>11374</td>\n",
       "        <td>112</td>\n",
       "        <td>29</td>\n",
       "        <td>406</td>\n",
       "        <td>28</td>\n",
       "        <td>6</td>\n",
       "        <td>PD Link/Medical</td>\n",
       "        <td>Initial Alarm</td>\n",
       "        <td>First Alarm</td>\n",
       "        <td>Medical - PD Link 10-91</td>\n",
       "        <td>Medical Emergencies</td>\n",
       "        <td>11</td>\n",
       "        <td>2016-01-01 00:01:50</td>\n",
       "        <td>2016-01-01 00:02:19</td>\n",
       "        <td>None</td>\n",
       "        <td>2016-01-01 00:05:55</td>\n",
       "        <td>False</td>\n",
       "        <td>False</td>\n",
       "        <td>0</td>\n",
       "        <td>0</td>\n",
       "        <td>1</td>\n",
       "        <td>0</td>\n",
       "        <td>0</td>\n",
       "    </tr>\n",
       "    <tr>\n",
       "        <td>1600115560140002</td>\n",
       "        <td>2016-01-01 00:02:20</td>\n",
       "        <td>BROOKLYN</td>\n",
       "        <td>1556</td>\n",
       "        <td>OCEAN AVE &amp; ALBEMARLE RD</td>\n",
       "        <td>BROOKLYN</td>\n",
       "        <td>11226</td>\n",
       "        <td>70</td>\n",
       "        <td>40</td>\n",
       "        <td>314</td>\n",
       "        <td>22</td>\n",
       "        <td>9</td>\n",
       "        <td>PD Link/Medical</td>\n",
       "        <td>Initial Alarm</td>\n",
       "        <td>First Alarm</td>\n",
       "        <td>Medical - PD Link 10-91</td>\n",
       "        <td>Medical Emergencies</td>\n",
       "        <td>6</td>\n",
       "        <td>2016-01-01 00:02:26</td>\n",
       "        <td>2016-01-01 00:02:41</td>\n",
       "        <td>None</td>\n",
       "        <td>2016-01-01 00:05:11</td>\n",
       "        <td>False</td>\n",
       "        <td>False</td>\n",
       "        <td>0</td>\n",
       "        <td>0</td>\n",
       "        <td>1</td>\n",
       "        <td>0</td>\n",
       "        <td>0</td>\n",
       "    </tr>\n",
       "    <tr>\n",
       "        <td>1600132410120004</td>\n",
       "        <td>2016-01-01 00:02:25</td>\n",
       "        <td>BRONX</td>\n",
       "        <td>3241</td>\n",
       "        <td>SACKETT &amp; RADCLIFF AVES</td>\n",
       "        <td>BRONX</td>\n",
       "        <td>10462</td>\n",
       "        <td>49</td>\n",
       "        <td>13</td>\n",
       "        <td>211</td>\n",
       "        <td>11</td>\n",
       "        <td>14</td>\n",
       "        <td>UCT/911</td>\n",
       "        <td>Initial Alarm</td>\n",
       "        <td>First Alarm</td>\n",
       "        <td>Alarm System - Unnecessary</td>\n",
       "        <td>NonMedical Emergencies</td>\n",
       "        <td>11</td>\n",
       "        <td>2016-01-01 00:02:36</td>\n",
       "        <td>2016-01-01 00:03:03</td>\n",
       "        <td>2016-01-01 00:06:45</td>\n",
       "        <td>2016-01-01 00:15:18</td>\n",
       "        <td>False</td>\n",
       "        <td>True</td>\n",
       "        <td>260</td>\n",
       "        <td>249</td>\n",
       "        <td>3</td>\n",
       "        <td>2</td>\n",
       "        <td>1</td>\n",
       "    </tr>\n",
       "</table>"
      ],
      "text/plain": [
       "[(Decimal('1600123850140001'), datetime.datetime(2016, 1, 1, 0, 0, 43), 'BROOKLYN', 2385, 'AVENUE K & E 82 ST', 'BROOKLYN', 11236, 69, 46, 318, 18, 8, 'Private Fire Alarm', 'Initial Alarm', 'First Alarm', 'Carbon Monoxide - Code 1 - Investigation', 'NonMedical Emergencies', 67, datetime.datetime(2016, 1, 1, 0, 1, 50), datetime.datetime(2016, 1, 1, 0, 2, 24), datetime.datetime(2016, 1, 1, 0, 7, 16), datetime.datetime(2016, 1, 1, 0, 10, 26), False, True, 393, 326, 1, 1, 0),\n",
       " (Decimal('1600125490620001'), datetime.datetime(2016, 1, 1, 0, 1, 34), 'BRONX', 2549, 'WESTCHESTER AVE & FAILE ST', 'BRONX', 10459, 41, 17, 202, 8, 15, 'UCT/911', 'Initial Alarm', 'First Alarm', 'Demolition Debris or Rubbish Fire', 'NonStructural Fires', 12, datetime.datetime(2016, 1, 1, 0, 1, 46), datetime.datetime(2016, 1, 1, 0, 2, 11), datetime.datetime(2016, 1, 1, 0, 9, 14), datetime.datetime(2016, 1, 1, 0, 18, 22), False, True, 460, 448, 1, 0, 0),\n",
       " (Decimal('1600191770150002'), datetime.datetime(2016, 1, 1, 0, 1, 39), 'QUEENS', 9177, '98 ST & 63 DR', 'QUEENS', 11374, 112, 29, 406, 28, 6, 'PD Link/Medical', 'Initial Alarm', 'First Alarm', 'Medical - PD Link 10-91', 'Medical Emergencies', 11, datetime.datetime(2016, 1, 1, 0, 1, 50), datetime.datetime(2016, 1, 1, 0, 2, 19), None, datetime.datetime(2016, 1, 1, 0, 5, 55), False, False, 0, 0, 1, 0, 0),\n",
       " (Decimal('1600115560140002'), datetime.datetime(2016, 1, 1, 0, 2, 20), 'BROOKLYN', 1556, 'OCEAN AVE & ALBEMARLE RD', 'BROOKLYN', 11226, 70, 40, 314, 22, 9, 'PD Link/Medical', 'Initial Alarm', 'First Alarm', 'Medical - PD Link 10-91', 'Medical Emergencies', 6, datetime.datetime(2016, 1, 1, 0, 2, 26), datetime.datetime(2016, 1, 1, 0, 2, 41), None, datetime.datetime(2016, 1, 1, 0, 5, 11), False, False, 0, 0, 1, 0, 0),\n",
       " (Decimal('1600132410120004'), datetime.datetime(2016, 1, 1, 0, 2, 25), 'BRONX', 3241, 'SACKETT & RADCLIFF AVES', 'BRONX', 10462, 49, 13, 211, 11, 14, 'UCT/911', 'Initial Alarm', 'First Alarm', 'Alarm System - Unnecessary', 'NonMedical Emergencies', 11, datetime.datetime(2016, 1, 1, 0, 2, 36), datetime.datetime(2016, 1, 1, 0, 3, 3), datetime.datetime(2016, 1, 1, 0, 6, 45), datetime.datetime(2016, 1, 1, 0, 15, 18), False, True, 260, 249, 3, 2, 1)]"
      ]
     },
     "execution_count": 16,
     "metadata": {},
     "output_type": "execute_result"
    }
   ],
   "source": [
    "%%sql\n",
    "SELECT *\n",
    "FROM incidents\n",
    "LIMIT 5;"
   ]
  },
  {
   "cell_type": "markdown",
   "metadata": {},
   "source": [
    "## Wrangle the data"
   ]
  },
  {
   "cell_type": "markdown",
   "metadata": {},
   "source": [
    "`dispatch_response_seconds_qy` = `first_assignment_datetime` - `incident_datetime` <br>\n",
    "`incident_travel_tm_seconds_qy` = `first_on_scene_datetime` - `first_assignment_datetime` <br>\n",
    "`incident_response_seconds_qy` = `first_on_scene_datetime` - `incident_datetime` = `dispatch_response_seconds_qy` + `incident_travel_s_qy`"
   ]
  },
  {
   "cell_type": "markdown",
   "metadata": {},
   "source": [
    "Based on the provided data, we identified multiple response time metrics, quantified in seconds, as potential facts for our Fact table. These response time metrics have different formulations that can be identified through other variables in the dataset. For example, the dispatch response time is a function of the first assignment time and the incident time. Then, the travel time is a function of first responder on scene time less the first assignment time. <br>\n",
    "From the basic statistics of each columns, we notice that there are 0s in those three time variables, which are irrational. After checking the dataset, we find the reason is that there are null values in `first_assignment_datetime` and `first_on_scene_datetime`. Thus, these 0s should have been NULLs as well, which is a data quality issue."
   ]
  },
  {
   "cell_type": "markdown",
   "metadata": {},
   "source": [
    "***Identify the number of records with 0 in `dispatch_reponse_seconds_qy`, `incident_travel_tm_seconds_qy` or `incident_response_seconds_qy`***"
   ]
  },
  {
   "cell_type": "code",
   "execution_count": 17,
   "metadata": {},
   "outputs": [
    {
     "name": "stdout",
     "output_type": "stream",
     "text": [
      " * postgresql://student@/proj4_group17\n",
      "1 rows affected.\n"
     ]
    },
    {
     "data": {
      "text/html": [
       "<table>\n",
       "    <tr>\n",
       "        <th>count</th>\n",
       "    </tr>\n",
       "    <tr>\n",
       "        <td>89330</td>\n",
       "    </tr>\n",
       "</table>"
      ],
      "text/plain": [
       "[(89330,)]"
      ]
     },
     "execution_count": 17,
     "metadata": {},
     "output_type": "execute_result"
    }
   ],
   "source": [
    "%%sql\n",
    "SELECT COUNT(*)\n",
    "FROM incidents\n",
    "WHERE (dispatch_rspns_s_qy = 0\n",
    "    OR incident_rspns_s_qy = 0\n",
    "    OR incident_travel_s_qy = 0);"
   ]
  },
  {
   "cell_type": "markdown",
   "metadata": {},
   "source": [
    "***Identify the number of records with null values in `first_assignment_datetime` or `first_on_scene_datetime`***"
   ]
  },
  {
   "cell_type": "code",
   "execution_count": 18,
   "metadata": {},
   "outputs": [
    {
     "name": "stdout",
     "output_type": "stream",
     "text": [
      " * postgresql://student@/proj4_group17\n",
      "1 rows affected.\n"
     ]
    },
    {
     "data": {
      "text/html": [
       "<table>\n",
       "    <tr>\n",
       "        <th>count</th>\n",
       "    </tr>\n",
       "    <tr>\n",
       "        <td>89327</td>\n",
       "    </tr>\n",
       "</table>"
      ],
      "text/plain": [
       "[(89327,)]"
      ]
     },
     "execution_count": 18,
     "metadata": {},
     "output_type": "execute_result"
    }
   ],
   "source": [
    "%%sql\n",
    "SELECT COUNT(*)\n",
    "FROM incidents\n",
    "WHERE first_assignment_datetime IS NULL\n",
    "    OR first_on_scene_datetime IS NULL;"
   ]
  },
  {
   "cell_type": "markdown",
   "metadata": {},
   "source": [
    "***Note that there are 3 records with 0s in time variables but no null value in datetime variable***"
   ]
  },
  {
   "cell_type": "code",
   "execution_count": 19,
   "metadata": {},
   "outputs": [
    {
     "name": "stdout",
     "output_type": "stream",
     "text": [
      " * postgresql://student@/proj4_group17\n",
      "3 rows affected.\n"
     ]
    },
    {
     "data": {
      "text/html": [
       "<table>\n",
       "    <tr>\n",
       "        <th>id</th>\n",
       "        <th>incident_datetime</th>\n",
       "        <th>first_assignment_datetime</th>\n",
       "        <th>first_activation_datetime</th>\n",
       "        <th>first_on_scene_datetime</th>\n",
       "        <th>dispatch_rspns_s_qy</th>\n",
       "        <th>incident_rspns_s_qy</th>\n",
       "        <th>incident_travel_s_qy</th>\n",
       "    </tr>\n",
       "    <tr>\n",
       "        <td>1604708820140290</td>\n",
       "        <td>2016-02-16 02:45:48</td>\n",
       "        <td>2016-02-16 02:46:12</td>\n",
       "        <td>2016-02-16 02:46:22</td>\n",
       "        <td>2016-02-16 02:46:12</td>\n",
       "        <td>24</td>\n",
       "        <td>24</td>\n",
       "        <td>0</td>\n",
       "    </tr>\n",
       "    <tr>\n",
       "        <td>1610936140120350</td>\n",
       "        <td>2016-04-18 14:02:51</td>\n",
       "        <td>2016-04-18 14:03:05</td>\n",
       "        <td>2016-04-18 14:05:01</td>\n",
       "        <td>2016-04-18 14:03:05</td>\n",
       "        <td>14</td>\n",
       "        <td>14</td>\n",
       "        <td>0</td>\n",
       "    </tr>\n",
       "    <tr>\n",
       "        <td>161682184012</td>\n",
       "        <td>2016-06-16 03:13:53</td>\n",
       "        <td>2016-06-16 03:17:36</td>\n",
       "        <td>2016-06-16 03:14:25</td>\n",
       "        <td>2016-06-16 03:16:41</td>\n",
       "        <td>223</td>\n",
       "        <td>168</td>\n",
       "        <td>0</td>\n",
       "    </tr>\n",
       "</table>"
      ],
      "text/plain": [
       "[(Decimal('1604708820140290'), datetime.datetime(2016, 2, 16, 2, 45, 48), datetime.datetime(2016, 2, 16, 2, 46, 12), datetime.datetime(2016, 2, 16, 2, 46, 22), datetime.datetime(2016, 2, 16, 2, 46, 12), 24, 24, 0),\n",
       " (Decimal('1610936140120350'), datetime.datetime(2016, 4, 18, 14, 2, 51), datetime.datetime(2016, 4, 18, 14, 3, 5), datetime.datetime(2016, 4, 18, 14, 5, 1), datetime.datetime(2016, 4, 18, 14, 3, 5), 14, 14, 0),\n",
       " (Decimal('161682184012'), datetime.datetime(2016, 6, 16, 3, 13, 53), datetime.datetime(2016, 6, 16, 3, 17, 36), datetime.datetime(2016, 6, 16, 3, 14, 25), datetime.datetime(2016, 6, 16, 3, 16, 41), 223, 168, 0)]"
      ]
     },
     "execution_count": 19,
     "metadata": {},
     "output_type": "execute_result"
    }
   ],
   "source": [
    "%%sql\n",
    "SELECT id, incident_datetime, first_assignment_datetime, first_activation_datetime, first_on_scene_datetime,\n",
    "    dispatch_rspns_s_qy, incident_rspns_s_qy, incident_travel_s_qy\n",
    "FROM incidents\n",
    "WHERE (dispatch_rspns_s_qy = 0\n",
    "    OR incident_rspns_s_qy = 0\n",
    "    OR incident_travel_s_qy = 0)\n",
    "    AND first_assignment_datetime IS NOT NULL\n",
    "    AND first_on_scene_datetime IS NOT NULL\n",
    "LIMIT 10;"
   ]
  },
  {
   "cell_type": "markdown",
   "metadata": {},
   "source": [
    "Notice that for the first and second records above, the `first_assignment_datetime` and `first_assignment_datetime` are the same. And for the last one, the `first_assignment_datetime` is later than `first_assignment_datetime`, which is irrational as well. We consider those three records as wrong. Since there are only three wrong records, we decide to drop them."
   ]
  },
  {
   "cell_type": "markdown",
   "metadata": {},
   "source": [
    "***Drop those three wrong records***"
   ]
  },
  {
   "cell_type": "code",
   "execution_count": 20,
   "metadata": {},
   "outputs": [
    {
     "name": "stdout",
     "output_type": "stream",
     "text": [
      " * postgresql://student@/proj4_group17\n",
      "3 rows affected.\n"
     ]
    },
    {
     "data": {
      "text/plain": [
       "[]"
      ]
     },
     "execution_count": 20,
     "metadata": {},
     "output_type": "execute_result"
    }
   ],
   "source": [
    "%%sql\n",
    "DELETE FROM incidents \n",
    "WHERE id IN (1604708820140290, 1610936140120350, 161682184012);"
   ]
  },
  {
   "cell_type": "markdown",
   "metadata": {},
   "source": [
    "***Turn `0`s in the columns about time (dispatch, response & travel) to `NULL`s***"
   ]
  },
  {
   "cell_type": "code",
   "execution_count": 21,
   "metadata": {},
   "outputs": [
    {
     "name": "stdout",
     "output_type": "stream",
     "text": [
      " * postgresql://student@/proj4_group17\n",
      "2751 rows affected.\n",
      "89294 rows affected.\n",
      "89327 rows affected.\n"
     ]
    },
    {
     "data": {
      "text/plain": [
       "[]"
      ]
     },
     "execution_count": 21,
     "metadata": {},
     "output_type": "execute_result"
    }
   ],
   "source": [
    "%%sql\n",
    "UPDATE incidents\n",
    "SET dispatch_rspns_s_qy = NULL\n",
    "WHERE dispatch_rspns_s_qy = 0;\n",
    "\n",
    "UPDATE incidents\n",
    "SET incident_rspns_s_qy = NULL\n",
    "WHERE incident_rspns_s_qy = 0;\n",
    "\n",
    "UPDATE incidents\n",
    "SET incident_travel_s_qy = NULL\n",
    "WHERE incident_travel_s_qy = 0;"
   ]
  },
  {
   "cell_type": "markdown",
   "metadata": {},
   "source": [
    "***Take a look at the wrangled data***"
   ]
  },
  {
   "cell_type": "code",
   "execution_count": 22,
   "metadata": {},
   "outputs": [
    {
     "name": "stdout",
     "output_type": "stream",
     "text": [
      " * postgresql://student@/proj4_group17\n",
      "5 rows affected.\n"
     ]
    },
    {
     "data": {
      "text/html": [
       "<table>\n",
       "    <tr>\n",
       "        <th>id</th>\n",
       "        <th>incident_datetime</th>\n",
       "        <th>alarm_box_borough</th>\n",
       "        <th>alarm_box_number</th>\n",
       "        <th>alarm_box_location</th>\n",
       "        <th>incident_borough</th>\n",
       "        <th>zipcode</th>\n",
       "        <th>police_precinct</th>\n",
       "        <th>city_council_district</th>\n",
       "        <th>community_district</th>\n",
       "        <th>community_school_district</th>\n",
       "        <th>congressional_district</th>\n",
       "        <th>alarm_source_description_tx</th>\n",
       "        <th>alarm_level_index_description</th>\n",
       "        <th>highest_alarm_level</th>\n",
       "        <th>incident_classification</th>\n",
       "        <th>incident_classification_group</th>\n",
       "        <th>dispatch_rspns_s_qy</th>\n",
       "        <th>first_assignment_datetime</th>\n",
       "        <th>first_activation_datetime</th>\n",
       "        <th>first_on_scene_datetime</th>\n",
       "        <th>incident_close_datetime</th>\n",
       "        <th>valid_dispatch_rspns_time_indc</th>\n",
       "        <th>valid_incident_rspns_time_indc</th>\n",
       "        <th>incident_rspns_s_qy</th>\n",
       "        <th>incident_travel_s_qy</th>\n",
       "        <th>engines_assigned_quantity</th>\n",
       "        <th>ladders_assigned_quantity</th>\n",
       "        <th>other_units_assigned_quantity</th>\n",
       "    </tr>\n",
       "    <tr>\n",
       "        <td>1600123850140001</td>\n",
       "        <td>2016-01-01 00:00:43</td>\n",
       "        <td>BROOKLYN</td>\n",
       "        <td>2385</td>\n",
       "        <td>AVENUE K &amp; E 82 ST</td>\n",
       "        <td>BROOKLYN</td>\n",
       "        <td>11236</td>\n",
       "        <td>69</td>\n",
       "        <td>46</td>\n",
       "        <td>318</td>\n",
       "        <td>18</td>\n",
       "        <td>8</td>\n",
       "        <td>Private Fire Alarm</td>\n",
       "        <td>Initial Alarm</td>\n",
       "        <td>First Alarm</td>\n",
       "        <td>Carbon Monoxide - Code 1 - Investigation</td>\n",
       "        <td>NonMedical Emergencies</td>\n",
       "        <td>67</td>\n",
       "        <td>2016-01-01 00:01:50</td>\n",
       "        <td>2016-01-01 00:02:24</td>\n",
       "        <td>2016-01-01 00:07:16</td>\n",
       "        <td>2016-01-01 00:10:26</td>\n",
       "        <td>False</td>\n",
       "        <td>True</td>\n",
       "        <td>393</td>\n",
       "        <td>326</td>\n",
       "        <td>1</td>\n",
       "        <td>1</td>\n",
       "        <td>0</td>\n",
       "    </tr>\n",
       "    <tr>\n",
       "        <td>1600125490620001</td>\n",
       "        <td>2016-01-01 00:01:34</td>\n",
       "        <td>BRONX</td>\n",
       "        <td>2549</td>\n",
       "        <td>WESTCHESTER AVE &amp; FAILE ST</td>\n",
       "        <td>BRONX</td>\n",
       "        <td>10459</td>\n",
       "        <td>41</td>\n",
       "        <td>17</td>\n",
       "        <td>202</td>\n",
       "        <td>8</td>\n",
       "        <td>15</td>\n",
       "        <td>UCT/911</td>\n",
       "        <td>Initial Alarm</td>\n",
       "        <td>First Alarm</td>\n",
       "        <td>Demolition Debris or Rubbish Fire</td>\n",
       "        <td>NonStructural Fires</td>\n",
       "        <td>12</td>\n",
       "        <td>2016-01-01 00:01:46</td>\n",
       "        <td>2016-01-01 00:02:11</td>\n",
       "        <td>2016-01-01 00:09:14</td>\n",
       "        <td>2016-01-01 00:18:22</td>\n",
       "        <td>False</td>\n",
       "        <td>True</td>\n",
       "        <td>460</td>\n",
       "        <td>448</td>\n",
       "        <td>1</td>\n",
       "        <td>0</td>\n",
       "        <td>0</td>\n",
       "    </tr>\n",
       "    <tr>\n",
       "        <td>1600191770150002</td>\n",
       "        <td>2016-01-01 00:01:39</td>\n",
       "        <td>QUEENS</td>\n",
       "        <td>9177</td>\n",
       "        <td>98 ST &amp; 63 DR</td>\n",
       "        <td>QUEENS</td>\n",
       "        <td>11374</td>\n",
       "        <td>112</td>\n",
       "        <td>29</td>\n",
       "        <td>406</td>\n",
       "        <td>28</td>\n",
       "        <td>6</td>\n",
       "        <td>PD Link/Medical</td>\n",
       "        <td>Initial Alarm</td>\n",
       "        <td>First Alarm</td>\n",
       "        <td>Medical - PD Link 10-91</td>\n",
       "        <td>Medical Emergencies</td>\n",
       "        <td>11</td>\n",
       "        <td>2016-01-01 00:01:50</td>\n",
       "        <td>2016-01-01 00:02:19</td>\n",
       "        <td>None</td>\n",
       "        <td>2016-01-01 00:05:55</td>\n",
       "        <td>False</td>\n",
       "        <td>False</td>\n",
       "        <td>None</td>\n",
       "        <td>None</td>\n",
       "        <td>1</td>\n",
       "        <td>0</td>\n",
       "        <td>0</td>\n",
       "    </tr>\n",
       "    <tr>\n",
       "        <td>1600115560140002</td>\n",
       "        <td>2016-01-01 00:02:20</td>\n",
       "        <td>BROOKLYN</td>\n",
       "        <td>1556</td>\n",
       "        <td>OCEAN AVE &amp; ALBEMARLE RD</td>\n",
       "        <td>BROOKLYN</td>\n",
       "        <td>11226</td>\n",
       "        <td>70</td>\n",
       "        <td>40</td>\n",
       "        <td>314</td>\n",
       "        <td>22</td>\n",
       "        <td>9</td>\n",
       "        <td>PD Link/Medical</td>\n",
       "        <td>Initial Alarm</td>\n",
       "        <td>First Alarm</td>\n",
       "        <td>Medical - PD Link 10-91</td>\n",
       "        <td>Medical Emergencies</td>\n",
       "        <td>6</td>\n",
       "        <td>2016-01-01 00:02:26</td>\n",
       "        <td>2016-01-01 00:02:41</td>\n",
       "        <td>None</td>\n",
       "        <td>2016-01-01 00:05:11</td>\n",
       "        <td>False</td>\n",
       "        <td>False</td>\n",
       "        <td>None</td>\n",
       "        <td>None</td>\n",
       "        <td>1</td>\n",
       "        <td>0</td>\n",
       "        <td>0</td>\n",
       "    </tr>\n",
       "    <tr>\n",
       "        <td>1600132410120004</td>\n",
       "        <td>2016-01-01 00:02:25</td>\n",
       "        <td>BRONX</td>\n",
       "        <td>3241</td>\n",
       "        <td>SACKETT &amp; RADCLIFF AVES</td>\n",
       "        <td>BRONX</td>\n",
       "        <td>10462</td>\n",
       "        <td>49</td>\n",
       "        <td>13</td>\n",
       "        <td>211</td>\n",
       "        <td>11</td>\n",
       "        <td>14</td>\n",
       "        <td>UCT/911</td>\n",
       "        <td>Initial Alarm</td>\n",
       "        <td>First Alarm</td>\n",
       "        <td>Alarm System - Unnecessary</td>\n",
       "        <td>NonMedical Emergencies</td>\n",
       "        <td>11</td>\n",
       "        <td>2016-01-01 00:02:36</td>\n",
       "        <td>2016-01-01 00:03:03</td>\n",
       "        <td>2016-01-01 00:06:45</td>\n",
       "        <td>2016-01-01 00:15:18</td>\n",
       "        <td>False</td>\n",
       "        <td>True</td>\n",
       "        <td>260</td>\n",
       "        <td>249</td>\n",
       "        <td>3</td>\n",
       "        <td>2</td>\n",
       "        <td>1</td>\n",
       "    </tr>\n",
       "</table>"
      ],
      "text/plain": [
       "[(Decimal('1600123850140001'), datetime.datetime(2016, 1, 1, 0, 0, 43), 'BROOKLYN', 2385, 'AVENUE K & E 82 ST', 'BROOKLYN', 11236, 69, 46, 318, 18, 8, 'Private Fire Alarm', 'Initial Alarm', 'First Alarm', 'Carbon Monoxide - Code 1 - Investigation', 'NonMedical Emergencies', 67, datetime.datetime(2016, 1, 1, 0, 1, 50), datetime.datetime(2016, 1, 1, 0, 2, 24), datetime.datetime(2016, 1, 1, 0, 7, 16), datetime.datetime(2016, 1, 1, 0, 10, 26), False, True, 393, 326, 1, 1, 0),\n",
       " (Decimal('1600125490620001'), datetime.datetime(2016, 1, 1, 0, 1, 34), 'BRONX', 2549, 'WESTCHESTER AVE & FAILE ST', 'BRONX', 10459, 41, 17, 202, 8, 15, 'UCT/911', 'Initial Alarm', 'First Alarm', 'Demolition Debris or Rubbish Fire', 'NonStructural Fires', 12, datetime.datetime(2016, 1, 1, 0, 1, 46), datetime.datetime(2016, 1, 1, 0, 2, 11), datetime.datetime(2016, 1, 1, 0, 9, 14), datetime.datetime(2016, 1, 1, 0, 18, 22), False, True, 460, 448, 1, 0, 0),\n",
       " (Decimal('1600191770150002'), datetime.datetime(2016, 1, 1, 0, 1, 39), 'QUEENS', 9177, '98 ST & 63 DR', 'QUEENS', 11374, 112, 29, 406, 28, 6, 'PD Link/Medical', 'Initial Alarm', 'First Alarm', 'Medical - PD Link 10-91', 'Medical Emergencies', 11, datetime.datetime(2016, 1, 1, 0, 1, 50), datetime.datetime(2016, 1, 1, 0, 2, 19), None, datetime.datetime(2016, 1, 1, 0, 5, 55), False, False, None, None, 1, 0, 0),\n",
       " (Decimal('1600115560140002'), datetime.datetime(2016, 1, 1, 0, 2, 20), 'BROOKLYN', 1556, 'OCEAN AVE & ALBEMARLE RD', 'BROOKLYN', 11226, 70, 40, 314, 22, 9, 'PD Link/Medical', 'Initial Alarm', 'First Alarm', 'Medical - PD Link 10-91', 'Medical Emergencies', 6, datetime.datetime(2016, 1, 1, 0, 2, 26), datetime.datetime(2016, 1, 1, 0, 2, 41), None, datetime.datetime(2016, 1, 1, 0, 5, 11), False, False, None, None, 1, 0, 0),\n",
       " (Decimal('1600132410120004'), datetime.datetime(2016, 1, 1, 0, 2, 25), 'BRONX', 3241, 'SACKETT & RADCLIFF AVES', 'BRONX', 10462, 49, 13, 211, 11, 14, 'UCT/911', 'Initial Alarm', 'First Alarm', 'Alarm System - Unnecessary', 'NonMedical Emergencies', 11, datetime.datetime(2016, 1, 1, 0, 2, 36), datetime.datetime(2016, 1, 1, 0, 3, 3), datetime.datetime(2016, 1, 1, 0, 6, 45), datetime.datetime(2016, 1, 1, 0, 15, 18), False, True, 260, 249, 3, 2, 1)]"
      ]
     },
     "execution_count": 22,
     "metadata": {},
     "output_type": "execute_result"
    }
   ],
   "source": [
    "%%sql\n",
    "SELECT *\n",
    "FROM incidents\n",
    "ORDER BY incident_datetime\n",
    "LIMIT 5;"
   ]
  },
  {
   "cell_type": "markdown",
   "metadata": {},
   "source": [
    "## Create the fact and dimension tables"
   ]
  },
  {
   "cell_type": "markdown",
   "metadata": {},
   "source": [
    "### Create the `rspns_time_facts` table"
   ]
  },
  {
   "cell_type": "markdown",
   "metadata": {},
   "source": [
    "***Create the `rspns_time_facts` table***"
   ]
  },
  {
   "cell_type": "code",
   "execution_count": 23,
   "metadata": {},
   "outputs": [
    {
     "name": "stdout",
     "output_type": "stream",
     "text": [
      " * postgresql://student@/proj4_group17\n",
      "Done.\n",
      "585519 rows affected.\n"
     ]
    },
    {
     "data": {
      "text/plain": [
       "[]"
      ]
     },
     "execution_count": 23,
     "metadata": {},
     "output_type": "execute_result"
    }
   ],
   "source": [
    "%%sql\n",
    "DROP TABLE IF EXISTS rspns_time_facts;\n",
    "\n",
    "CREATE TABLE rspns_time_facts\n",
    "AS (SELECT * FROM incidents ORDER BY incident_datetime);"
   ]
  },
  {
   "cell_type": "markdown",
   "metadata": {},
   "source": [
    "***Drop the useless columns***"
   ]
  },
  {
   "cell_type": "code",
   "execution_count": 24,
   "metadata": {},
   "outputs": [
    {
     "name": "stdout",
     "output_type": "stream",
     "text": [
      " * postgresql://student@/proj4_group17\n",
      "Done.\n"
     ]
    },
    {
     "data": {
      "text/plain": [
       "[]"
      ]
     },
     "execution_count": 24,
     "metadata": {},
     "output_type": "execute_result"
    }
   ],
   "source": [
    "%%sql\n",
    "ALTER TABLE rspns_time_facts \n",
    "DROP COLUMN engines_assigned_quantity,\n",
    "DROP COLUMN ladders_assigned_quantity,\n",
    "DROP COLUMN other_units_assigned_quantity;"
   ]
  },
  {
   "cell_type": "markdown",
   "metadata": {},
   "source": [
    "***Take a look at the `rspns_time_facts` table***"
   ]
  },
  {
   "cell_type": "code",
   "execution_count": 25,
   "metadata": {},
   "outputs": [
    {
     "name": "stdout",
     "output_type": "stream",
     "text": [
      " * postgresql://student@/proj4_group17\n",
      "5 rows affected.\n"
     ]
    },
    {
     "data": {
      "text/html": [
       "<table>\n",
       "    <tr>\n",
       "        <th>id</th>\n",
       "        <th>incident_datetime</th>\n",
       "        <th>alarm_box_borough</th>\n",
       "        <th>alarm_box_number</th>\n",
       "        <th>alarm_box_location</th>\n",
       "        <th>incident_borough</th>\n",
       "        <th>zipcode</th>\n",
       "        <th>police_precinct</th>\n",
       "        <th>city_council_district</th>\n",
       "        <th>community_district</th>\n",
       "        <th>community_school_district</th>\n",
       "        <th>congressional_district</th>\n",
       "        <th>alarm_source_description_tx</th>\n",
       "        <th>alarm_level_index_description</th>\n",
       "        <th>highest_alarm_level</th>\n",
       "        <th>incident_classification</th>\n",
       "        <th>incident_classification_group</th>\n",
       "        <th>dispatch_rspns_s_qy</th>\n",
       "        <th>first_assignment_datetime</th>\n",
       "        <th>first_activation_datetime</th>\n",
       "        <th>first_on_scene_datetime</th>\n",
       "        <th>incident_close_datetime</th>\n",
       "        <th>valid_dispatch_rspns_time_indc</th>\n",
       "        <th>valid_incident_rspns_time_indc</th>\n",
       "        <th>incident_rspns_s_qy</th>\n",
       "        <th>incident_travel_s_qy</th>\n",
       "    </tr>\n",
       "    <tr>\n",
       "        <td>1600123850140001</td>\n",
       "        <td>2016-01-01 00:00:43</td>\n",
       "        <td>BROOKLYN</td>\n",
       "        <td>2385</td>\n",
       "        <td>AVENUE K &amp; E 82 ST</td>\n",
       "        <td>BROOKLYN</td>\n",
       "        <td>11236</td>\n",
       "        <td>69</td>\n",
       "        <td>46</td>\n",
       "        <td>318</td>\n",
       "        <td>18</td>\n",
       "        <td>8</td>\n",
       "        <td>Private Fire Alarm</td>\n",
       "        <td>Initial Alarm</td>\n",
       "        <td>First Alarm</td>\n",
       "        <td>Carbon Monoxide - Code 1 - Investigation</td>\n",
       "        <td>NonMedical Emergencies</td>\n",
       "        <td>67</td>\n",
       "        <td>2016-01-01 00:01:50</td>\n",
       "        <td>2016-01-01 00:02:24</td>\n",
       "        <td>2016-01-01 00:07:16</td>\n",
       "        <td>2016-01-01 00:10:26</td>\n",
       "        <td>False</td>\n",
       "        <td>True</td>\n",
       "        <td>393</td>\n",
       "        <td>326</td>\n",
       "    </tr>\n",
       "    <tr>\n",
       "        <td>1600125490620001</td>\n",
       "        <td>2016-01-01 00:01:34</td>\n",
       "        <td>BRONX</td>\n",
       "        <td>2549</td>\n",
       "        <td>WESTCHESTER AVE &amp; FAILE ST</td>\n",
       "        <td>BRONX</td>\n",
       "        <td>10459</td>\n",
       "        <td>41</td>\n",
       "        <td>17</td>\n",
       "        <td>202</td>\n",
       "        <td>8</td>\n",
       "        <td>15</td>\n",
       "        <td>UCT/911</td>\n",
       "        <td>Initial Alarm</td>\n",
       "        <td>First Alarm</td>\n",
       "        <td>Demolition Debris or Rubbish Fire</td>\n",
       "        <td>NonStructural Fires</td>\n",
       "        <td>12</td>\n",
       "        <td>2016-01-01 00:01:46</td>\n",
       "        <td>2016-01-01 00:02:11</td>\n",
       "        <td>2016-01-01 00:09:14</td>\n",
       "        <td>2016-01-01 00:18:22</td>\n",
       "        <td>False</td>\n",
       "        <td>True</td>\n",
       "        <td>460</td>\n",
       "        <td>448</td>\n",
       "    </tr>\n",
       "    <tr>\n",
       "        <td>1600191770150002</td>\n",
       "        <td>2016-01-01 00:01:39</td>\n",
       "        <td>QUEENS</td>\n",
       "        <td>9177</td>\n",
       "        <td>98 ST &amp; 63 DR</td>\n",
       "        <td>QUEENS</td>\n",
       "        <td>11374</td>\n",
       "        <td>112</td>\n",
       "        <td>29</td>\n",
       "        <td>406</td>\n",
       "        <td>28</td>\n",
       "        <td>6</td>\n",
       "        <td>PD Link/Medical</td>\n",
       "        <td>Initial Alarm</td>\n",
       "        <td>First Alarm</td>\n",
       "        <td>Medical - PD Link 10-91</td>\n",
       "        <td>Medical Emergencies</td>\n",
       "        <td>11</td>\n",
       "        <td>2016-01-01 00:01:50</td>\n",
       "        <td>2016-01-01 00:02:19</td>\n",
       "        <td>None</td>\n",
       "        <td>2016-01-01 00:05:55</td>\n",
       "        <td>False</td>\n",
       "        <td>False</td>\n",
       "        <td>None</td>\n",
       "        <td>None</td>\n",
       "    </tr>\n",
       "    <tr>\n",
       "        <td>1600115560140002</td>\n",
       "        <td>2016-01-01 00:02:20</td>\n",
       "        <td>BROOKLYN</td>\n",
       "        <td>1556</td>\n",
       "        <td>OCEAN AVE &amp; ALBEMARLE RD</td>\n",
       "        <td>BROOKLYN</td>\n",
       "        <td>11226</td>\n",
       "        <td>70</td>\n",
       "        <td>40</td>\n",
       "        <td>314</td>\n",
       "        <td>22</td>\n",
       "        <td>9</td>\n",
       "        <td>PD Link/Medical</td>\n",
       "        <td>Initial Alarm</td>\n",
       "        <td>First Alarm</td>\n",
       "        <td>Medical - PD Link 10-91</td>\n",
       "        <td>Medical Emergencies</td>\n",
       "        <td>6</td>\n",
       "        <td>2016-01-01 00:02:26</td>\n",
       "        <td>2016-01-01 00:02:41</td>\n",
       "        <td>None</td>\n",
       "        <td>2016-01-01 00:05:11</td>\n",
       "        <td>False</td>\n",
       "        <td>False</td>\n",
       "        <td>None</td>\n",
       "        <td>None</td>\n",
       "    </tr>\n",
       "    <tr>\n",
       "        <td>1600132410120004</td>\n",
       "        <td>2016-01-01 00:02:25</td>\n",
       "        <td>BRONX</td>\n",
       "        <td>3241</td>\n",
       "        <td>SACKETT &amp; RADCLIFF AVES</td>\n",
       "        <td>BRONX</td>\n",
       "        <td>10462</td>\n",
       "        <td>49</td>\n",
       "        <td>13</td>\n",
       "        <td>211</td>\n",
       "        <td>11</td>\n",
       "        <td>14</td>\n",
       "        <td>UCT/911</td>\n",
       "        <td>Initial Alarm</td>\n",
       "        <td>First Alarm</td>\n",
       "        <td>Alarm System - Unnecessary</td>\n",
       "        <td>NonMedical Emergencies</td>\n",
       "        <td>11</td>\n",
       "        <td>2016-01-01 00:02:36</td>\n",
       "        <td>2016-01-01 00:03:03</td>\n",
       "        <td>2016-01-01 00:06:45</td>\n",
       "        <td>2016-01-01 00:15:18</td>\n",
       "        <td>False</td>\n",
       "        <td>True</td>\n",
       "        <td>260</td>\n",
       "        <td>249</td>\n",
       "    </tr>\n",
       "</table>"
      ],
      "text/plain": [
       "[(Decimal('1600123850140001'), datetime.datetime(2016, 1, 1, 0, 0, 43), 'BROOKLYN', 2385, 'AVENUE K & E 82 ST', 'BROOKLYN', 11236, 69, 46, 318, 18, 8, 'Private Fire Alarm', 'Initial Alarm', 'First Alarm', 'Carbon Monoxide - Code 1 - Investigation', 'NonMedical Emergencies', 67, datetime.datetime(2016, 1, 1, 0, 1, 50), datetime.datetime(2016, 1, 1, 0, 2, 24), datetime.datetime(2016, 1, 1, 0, 7, 16), datetime.datetime(2016, 1, 1, 0, 10, 26), False, True, 393, 326),\n",
       " (Decimal('1600125490620001'), datetime.datetime(2016, 1, 1, 0, 1, 34), 'BRONX', 2549, 'WESTCHESTER AVE & FAILE ST', 'BRONX', 10459, 41, 17, 202, 8, 15, 'UCT/911', 'Initial Alarm', 'First Alarm', 'Demolition Debris or Rubbish Fire', 'NonStructural Fires', 12, datetime.datetime(2016, 1, 1, 0, 1, 46), datetime.datetime(2016, 1, 1, 0, 2, 11), datetime.datetime(2016, 1, 1, 0, 9, 14), datetime.datetime(2016, 1, 1, 0, 18, 22), False, True, 460, 448),\n",
       " (Decimal('1600191770150002'), datetime.datetime(2016, 1, 1, 0, 1, 39), 'QUEENS', 9177, '98 ST & 63 DR', 'QUEENS', 11374, 112, 29, 406, 28, 6, 'PD Link/Medical', 'Initial Alarm', 'First Alarm', 'Medical - PD Link 10-91', 'Medical Emergencies', 11, datetime.datetime(2016, 1, 1, 0, 1, 50), datetime.datetime(2016, 1, 1, 0, 2, 19), None, datetime.datetime(2016, 1, 1, 0, 5, 55), False, False, None, None),\n",
       " (Decimal('1600115560140002'), datetime.datetime(2016, 1, 1, 0, 2, 20), 'BROOKLYN', 1556, 'OCEAN AVE & ALBEMARLE RD', 'BROOKLYN', 11226, 70, 40, 314, 22, 9, 'PD Link/Medical', 'Initial Alarm', 'First Alarm', 'Medical - PD Link 10-91', 'Medical Emergencies', 6, datetime.datetime(2016, 1, 1, 0, 2, 26), datetime.datetime(2016, 1, 1, 0, 2, 41), None, datetime.datetime(2016, 1, 1, 0, 5, 11), False, False, None, None),\n",
       " (Decimal('1600132410120004'), datetime.datetime(2016, 1, 1, 0, 2, 25), 'BRONX', 3241, 'SACKETT & RADCLIFF AVES', 'BRONX', 10462, 49, 13, 211, 11, 14, 'UCT/911', 'Initial Alarm', 'First Alarm', 'Alarm System - Unnecessary', 'NonMedical Emergencies', 11, datetime.datetime(2016, 1, 1, 0, 2, 36), datetime.datetime(2016, 1, 1, 0, 3, 3), datetime.datetime(2016, 1, 1, 0, 6, 45), datetime.datetime(2016, 1, 1, 0, 15, 18), False, True, 260, 249)]"
      ]
     },
     "execution_count": 25,
     "metadata": {},
     "output_type": "execute_result"
    }
   ],
   "source": [
    "%%sql\n",
    "SELECT *\n",
    "FROM rspns_time_facts\n",
    "LIMIT 5;"
   ]
  },
  {
   "cell_type": "markdown",
   "metadata": {},
   "source": [
    "### Drop the temporary table"
   ]
  },
  {
   "cell_type": "code",
   "execution_count": 26,
   "metadata": {},
   "outputs": [
    {
     "name": "stdout",
     "output_type": "stream",
     "text": [
      " * postgresql://student@/proj4_group17\n",
      "Done.\n"
     ]
    },
    {
     "data": {
      "text/plain": [
       "[]"
      ]
     },
     "execution_count": 26,
     "metadata": {},
     "output_type": "execute_result"
    }
   ],
   "source": [
    "%%sql\n",
    "DROP TABLE IF EXISTS incidents;"
   ]
  },
  {
   "cell_type": "markdown",
   "metadata": {},
   "source": [
    "### Create the `alarm_box` dimension table"
   ]
  },
  {
   "cell_type": "markdown",
   "metadata": {},
   "source": [
    "***Create the `alarm_box` dimension table***"
   ]
  },
  {
   "cell_type": "code",
   "execution_count": 27,
   "metadata": {},
   "outputs": [
    {
     "name": "stdout",
     "output_type": "stream",
     "text": [
      " * postgresql://student@/proj4_group17\n",
      "Done.\n",
      "Done.\n"
     ]
    },
    {
     "data": {
      "text/plain": [
       "[]"
      ]
     },
     "execution_count": 27,
     "metadata": {},
     "output_type": "execute_result"
    }
   ],
   "source": [
    "%%sql\n",
    "DROP TABLE IF EXISTS alarm_box;\n",
    "\n",
    "CREATE TABLE alarm_box (\n",
    "    key SERIAL PRIMARY KEY,\n",
    "    borough VARCHAR(30) NOT NULL,\n",
    "    number INTEGER NOT NULL,\n",
    "    location VARCHAR(500) NOT NULL,\n",
    "    zipcode INTEGER,\n",
    "    police_precinct INTEGER,\n",
    "    city_council_district INTEGER,\n",
    "    community_district INTEGER,\n",
    "    community_school_district INTEGER,\n",
    "    congressional_district INTEGER\n",
    ");"
   ]
  },
  {
   "cell_type": "markdown",
   "metadata": {},
   "source": [
    "***Populate the dimension table with unique values***"
   ]
  },
  {
   "cell_type": "code",
   "execution_count": 28,
   "metadata": {},
   "outputs": [
    {
     "name": "stdout",
     "output_type": "stream",
     "text": [
      " * postgresql://student@/proj4_group17\n",
      "34206 rows affected.\n"
     ]
    },
    {
     "data": {
      "text/plain": [
       "[]"
      ]
     },
     "execution_count": 28,
     "metadata": {},
     "output_type": "execute_result"
    }
   ],
   "source": [
    "%%sql\n",
    "INSERT INTO alarm_box\n",
    "    (borough, number, location, zipcode, police_precinct,\n",
    "     city_council_district, community_district,\n",
    "     community_school_district, congressional_district)\n",
    "SELECT DISTINCT alarm_box_borough AS borough,\n",
    "    alarm_box_number AS number,\n",
    "    alarm_box_location AS location,\n",
    "    zipcode, police_precinct, city_council_district,\n",
    "    community_district, community_school_district,\n",
    "    congressional_district\n",
    "FROM rspns_time_facts\n",
    "ORDER BY zipcode, number;"
   ]
  },
  {
   "cell_type": "markdown",
   "metadata": {},
   "source": [
    "***Take a look at the `alarm_box` dimension table***"
   ]
  },
  {
   "cell_type": "code",
   "execution_count": 29,
   "metadata": {},
   "outputs": [
    {
     "name": "stdout",
     "output_type": "stream",
     "text": [
      " * postgresql://student@/proj4_group17\n",
      "5 rows affected.\n"
     ]
    },
    {
     "data": {
      "text/html": [
       "<table>\n",
       "    <tr>\n",
       "        <th>key</th>\n",
       "        <th>borough</th>\n",
       "        <th>number</th>\n",
       "        <th>location</th>\n",
       "        <th>zipcode</th>\n",
       "        <th>police_precinct</th>\n",
       "        <th>city_council_district</th>\n",
       "        <th>community_district</th>\n",
       "        <th>community_school_district</th>\n",
       "        <th>congressional_district</th>\n",
       "    </tr>\n",
       "    <tr>\n",
       "        <td>1</td>\n",
       "        <td>MANHATTAN</td>\n",
       "        <td>934</td>\n",
       "        <td>6 AVE &amp; W 59 ST</td>\n",
       "        <td>10000</td>\n",
       "        <td>22</td>\n",
       "        <td>6</td>\n",
       "        <td>164</td>\n",
       "        <td>3</td>\n",
       "        <td>10</td>\n",
       "    </tr>\n",
       "    <tr>\n",
       "        <td>2</td>\n",
       "        <td>MANHATTAN</td>\n",
       "        <td>968</td>\n",
       "        <td>5 AVE &amp; 64 ST</td>\n",
       "        <td>10000</td>\n",
       "        <td>22</td>\n",
       "        <td>6</td>\n",
       "        <td>164</td>\n",
       "        <td>3</td>\n",
       "        <td>10</td>\n",
       "    </tr>\n",
       "    <tr>\n",
       "        <td>3</td>\n",
       "        <td>MANHATTAN</td>\n",
       "        <td>973</td>\n",
       "        <td>CENTRAL PARK W. &amp; 65 ST</td>\n",
       "        <td>10000</td>\n",
       "        <td>22</td>\n",
       "        <td>6</td>\n",
       "        <td>164</td>\n",
       "        <td>3</td>\n",
       "        <td>10</td>\n",
       "    </tr>\n",
       "    <tr>\n",
       "        <td>4</td>\n",
       "        <td>MANHATTAN</td>\n",
       "        <td>974</td>\n",
       "        <td>MADISON AVE &amp; 65 ST</td>\n",
       "        <td>10000</td>\n",
       "        <td>22</td>\n",
       "        <td>6</td>\n",
       "        <td>164</td>\n",
       "        <td>3</td>\n",
       "        <td>10</td>\n",
       "    </tr>\n",
       "    <tr>\n",
       "        <td>5</td>\n",
       "        <td>MANHATTAN</td>\n",
       "        <td>985</td>\n",
       "        <td>CENTRAL PARK W. &amp; 67 ST</td>\n",
       "        <td>10000</td>\n",
       "        <td>22</td>\n",
       "        <td>6</td>\n",
       "        <td>164</td>\n",
       "        <td>3</td>\n",
       "        <td>10</td>\n",
       "    </tr>\n",
       "</table>"
      ],
      "text/plain": [
       "[(1, 'MANHATTAN', 934, '6 AVE & W 59 ST', 10000, 22, 6, 164, 3, 10),\n",
       " (2, 'MANHATTAN', 968, '5 AVE & 64 ST', 10000, 22, 6, 164, 3, 10),\n",
       " (3, 'MANHATTAN', 973, 'CENTRAL PARK W. & 65 ST', 10000, 22, 6, 164, 3, 10),\n",
       " (4, 'MANHATTAN', 974, 'MADISON AVE & 65 ST', 10000, 22, 6, 164, 3, 10),\n",
       " (5, 'MANHATTAN', 985, 'CENTRAL PARK W. & 67 ST', 10000, 22, 6, 164, 3, 10)]"
      ]
     },
     "execution_count": 29,
     "metadata": {},
     "output_type": "execute_result"
    }
   ],
   "source": [
    "%%sql\n",
    "SELECT * FROM alarm_box LIMIT 5;"
   ]
  },
  {
   "cell_type": "code",
   "execution_count": 30,
   "metadata": {},
   "outputs": [
    {
     "name": "stdout",
     "output_type": "stream",
     "text": [
      " * postgresql://student@/proj4_group17\n",
      "1 rows affected.\n"
     ]
    },
    {
     "data": {
      "text/html": [
       "<table>\n",
       "    <tr>\n",
       "        <th>count</th>\n",
       "    </tr>\n",
       "    <tr>\n",
       "        <td>34206</td>\n",
       "    </tr>\n",
       "</table>"
      ],
      "text/plain": [
       "[(34206,)]"
      ]
     },
     "execution_count": 30,
     "metadata": {},
     "output_type": "execute_result"
    }
   ],
   "source": [
    "%%sql\n",
    "SELECT COUNT(*) FROM alarm_box;"
   ]
  },
  {
   "cell_type": "markdown",
   "metadata": {},
   "source": [
    "***Add a foreign key column to the fact table that references `alarm_box` dimension table***"
   ]
  },
  {
   "cell_type": "code",
   "execution_count": 31,
   "metadata": {},
   "outputs": [
    {
     "name": "stdout",
     "output_type": "stream",
     "text": [
      " * postgresql://student@/proj4_group17\n",
      "Done.\n"
     ]
    },
    {
     "data": {
      "text/plain": [
       "[]"
      ]
     },
     "execution_count": 31,
     "metadata": {},
     "output_type": "execute_result"
    }
   ],
   "source": [
    "%%sql\n",
    "ALTER TABLE rspns_time_facts \n",
    "ADD COLUMN alarm_box_key INTEGER,\n",
    "ADD CONSTRAINT fk_alarm_box_key\n",
    "    FOREIGN KEY (alarm_box_key)\n",
    "    REFERENCES alarm_box (key);"
   ]
  },
  {
   "cell_type": "markdown",
   "metadata": {},
   "source": [
    "***Create an index on all columns in `alarm_box` to improve the performance of queries***"
   ]
  },
  {
   "cell_type": "code",
   "execution_count": 32,
   "metadata": {
    "collapsed": true
   },
   "outputs": [
    {
     "name": "stdout",
     "output_type": "stream",
     "text": [
      " * postgresql://student@/proj4_group17\n",
      "Done.\n",
      "Done.\n"
     ]
    },
    {
     "data": {
      "text/plain": [
       "[]"
      ]
     },
     "execution_count": 32,
     "metadata": {},
     "output_type": "execute_result"
    }
   ],
   "source": [
    "%%sql\n",
    "DROP INDEX IF EXISTS idx_alarm_box;\n",
    "\n",
    "CREATE INDEX idx_alarm_box ON alarm_box\n",
    "    (borough, number, location, zipcode, police_precinct,\n",
    "     city_council_district, community_district,\n",
    "     community_school_district, congressional_district);"
   ]
  },
  {
   "cell_type": "markdown",
   "metadata": {},
   "source": [
    "***Populate `alarm_box_key` with correct values***"
   ]
  },
  {
   "cell_type": "code",
   "execution_count": 33,
   "metadata": {},
   "outputs": [
    {
     "name": "stdout",
     "output_type": "stream",
     "text": [
      " * postgresql://student@/proj4_group17\n",
      "585519 rows affected.\n"
     ]
    },
    {
     "data": {
      "text/plain": [
       "[]"
      ]
     },
     "execution_count": 33,
     "metadata": {},
     "output_type": "execute_result"
    }
   ],
   "source": [
    "%%sql\n",
    "UPDATE rspns_time_facts\n",
    "SET alarm_box_key = alarm_box.key\n",
    "FROM alarm_box\n",
    "WHERE rspns_time_facts.alarm_box_borough = alarm_box.borough\n",
    "    AND rspns_time_facts.alarm_box_number = alarm_box.number\n",
    "    AND rspns_time_facts.alarm_box_location = alarm_box.location\n",
    "    AND ((rspns_time_facts.zipcode IS NULL AND alarm_box.zipcode IS NULL)\n",
    "         OR rspns_time_facts.zipcode = alarm_box.zipcode)\n",
    "    AND ((rspns_time_facts.police_precinct IS NULL AND alarm_box.police_precinct IS NULL)\n",
    "         OR rspns_time_facts.police_precinct = alarm_box.police_precinct)\n",
    "    AND ((rspns_time_facts.city_council_district IS NULL AND alarm_box.city_council_district IS NULL)\n",
    "         OR rspns_time_facts.city_council_district = alarm_box.city_council_district)\n",
    "    AND ((rspns_time_facts.community_district IS NULL AND alarm_box.community_district IS NULL)\n",
    "         OR rspns_time_facts.community_district = alarm_box.community_district)\n",
    "    AND ((rspns_time_facts.community_school_district IS NULL AND alarm_box.community_school_district IS NULL)\n",
    "         OR rspns_time_facts.community_school_district = alarm_box.community_school_district)\n",
    "    AND ((rspns_time_facts.congressional_district IS NULL AND alarm_box.congressional_district IS NULL)\n",
    "         OR rspns_time_facts.congressional_district = alarm_box.congressional_district);"
   ]
  },
  {
   "cell_type": "markdown",
   "metadata": {},
   "source": [
    "***Check the foreign key column***"
   ]
  },
  {
   "cell_type": "code",
   "execution_count": 34,
   "metadata": {},
   "outputs": [
    {
     "name": "stdout",
     "output_type": "stream",
     "text": [
      " * postgresql://student@/proj4_group17\n",
      "5 rows affected.\n"
     ]
    },
    {
     "data": {
      "text/html": [
       "<table>\n",
       "    <tr>\n",
       "        <th>id</th>\n",
       "        <th>alarm_box_key</th>\n",
       "    </tr>\n",
       "    <tr>\n",
       "        <td>1600125490620001</td>\n",
       "        <td>8548</td>\n",
       "    </tr>\n",
       "    <tr>\n",
       "        <td>1600155921550268</td>\n",
       "        <td>25347</td>\n",
       "    </tr>\n",
       "    <tr>\n",
       "        <td>1600135290120283</td>\n",
       "        <td>31053</td>\n",
       "    </tr>\n",
       "    <tr>\n",
       "        <td>1600191780450452</td>\n",
       "        <td>22007</td>\n",
       "    </tr>\n",
       "    <tr>\n",
       "        <td>1600142530150474</td>\n",
       "        <td>22762</td>\n",
       "    </tr>\n",
       "</table>"
      ],
      "text/plain": [
       "[(Decimal('1600125490620001'), 8548),\n",
       " (Decimal('1600155921550268'), 25347),\n",
       " (Decimal('1600135290120283'), 31053),\n",
       " (Decimal('1600191780450452'), 22007),\n",
       " (Decimal('1600142530150474'), 22762)]"
      ]
     },
     "execution_count": 34,
     "metadata": {},
     "output_type": "execute_result"
    }
   ],
   "source": [
    "%%sql\n",
    "SELECT id, alarm_box_key\n",
    "FROM rspns_time_facts\n",
    "LIMIT 5;"
   ]
  },
  {
   "cell_type": "code",
   "execution_count": 35,
   "metadata": {},
   "outputs": [
    {
     "name": "stdout",
     "output_type": "stream",
     "text": [
      " * postgresql://student@/proj4_group17\n",
      "1 rows affected.\n"
     ]
    },
    {
     "data": {
      "text/html": [
       "<table>\n",
       "    <tr>\n",
       "        <th>alarm_box_key_not_null_count</th>\n",
       "    </tr>\n",
       "    <tr>\n",
       "        <td>585519</td>\n",
       "    </tr>\n",
       "</table>"
      ],
      "text/plain": [
       "[(585519,)]"
      ]
     },
     "execution_count": 35,
     "metadata": {},
     "output_type": "execute_result"
    }
   ],
   "source": [
    "%%sql\n",
    "SELECT COUNT(*) AS alarm_box_key_not_null_count\n",
    "FROM rspns_time_facts\n",
    "WHERE alarm_box_key IS NOT NULL;"
   ]
  },
  {
   "cell_type": "code",
   "execution_count": 36,
   "metadata": {},
   "outputs": [
    {
     "name": "stdout",
     "output_type": "stream",
     "text": [
      " * postgresql://student@/proj4_group17\n",
      "1 rows affected.\n"
     ]
    },
    {
     "data": {
      "text/html": [
       "<table>\n",
       "    <tr>\n",
       "        <th>alarm_box_key_null_count</th>\n",
       "    </tr>\n",
       "    <tr>\n",
       "        <td>0</td>\n",
       "    </tr>\n",
       "</table>"
      ],
      "text/plain": [
       "[(0,)]"
      ]
     },
     "execution_count": 36,
     "metadata": {},
     "output_type": "execute_result"
    }
   ],
   "source": [
    "%%sql\n",
    "SELECT COUNT(*) AS alarm_box_key_null_count\n",
    "FROM rspns_time_facts\n",
    "WHERE alarm_box_key IS NULL;"
   ]
  },
  {
   "cell_type": "markdown",
   "metadata": {},
   "source": [
    "### Create the `alarm` dimension table"
   ]
  },
  {
   "cell_type": "markdown",
   "metadata": {},
   "source": [
    "***Create the `alarm` dimension table***"
   ]
  },
  {
   "cell_type": "code",
   "execution_count": 37,
   "metadata": {},
   "outputs": [
    {
     "name": "stdout",
     "output_type": "stream",
     "text": [
      " * postgresql://student@/proj4_group17\n",
      "Done.\n",
      "Done.\n"
     ]
    },
    {
     "data": {
      "text/plain": [
       "[]"
      ]
     },
     "execution_count": 37,
     "metadata": {},
     "output_type": "execute_result"
    }
   ],
   "source": [
    "%%sql\n",
    "DROP TABLE IF EXISTS alarm;\n",
    "\n",
    "CREATE TABLE alarm (\n",
    "    key SERIAL PRIMARY KEY,\n",
    "    source VARCHAR(30) NOT NULL,\n",
    "    level_index VARCHAR(100) NOT NULL,\n",
    "    highest_level VARCHAR(30) NOT NULL\n",
    ");"
   ]
  },
  {
   "cell_type": "markdown",
   "metadata": {},
   "source": [
    "***Populate the dimension table with unique values***"
   ]
  },
  {
   "cell_type": "code",
   "execution_count": 38,
   "metadata": {},
   "outputs": [
    {
     "name": "stdout",
     "output_type": "stream",
     "text": [
      " * postgresql://student@/proj4_group17\n",
      "60 rows affected.\n"
     ]
    },
    {
     "data": {
      "text/plain": [
       "[]"
      ]
     },
     "execution_count": 38,
     "metadata": {},
     "output_type": "execute_result"
    }
   ],
   "source": [
    "%%sql\n",
    "INSERT INTO alarm\n",
    "    (source, level_index, highest_level)\n",
    "SELECT DISTINCT alarm_source_description_tx AS source,\n",
    "    alarm_level_index_description AS level_index,\n",
    "    highest_alarm_level AS highest_level\n",
    "FROM rspns_time_facts\n",
    "ORDER BY source, level_index, highest_level;"
   ]
  },
  {
   "cell_type": "markdown",
   "metadata": {},
   "source": [
    "***Take a look at the `alarm` dimension table***"
   ]
  },
  {
   "cell_type": "code",
   "execution_count": 39,
   "metadata": {},
   "outputs": [
    {
     "name": "stdout",
     "output_type": "stream",
     "text": [
      " * postgresql://student@/proj4_group17\n",
      "5 rows affected.\n"
     ]
    },
    {
     "data": {
      "text/html": [
       "<table>\n",
       "    <tr>\n",
       "        <th>key</th>\n",
       "        <th>source</th>\n",
       "        <th>level_index</th>\n",
       "        <th>highest_level</th>\n",
       "    </tr>\n",
       "    <tr>\n",
       "        <td>1</td>\n",
       "        <td>BARS</td>\n",
       "        <td>7-5 (All Hands Alarm)</td>\n",
       "        <td>All Hands Working</td>\n",
       "    </tr>\n",
       "    <tr>\n",
       "        <td>2</td>\n",
       "        <td>BARS</td>\n",
       "        <td>DEFAULT RECORD</td>\n",
       "        <td>First Alarm</td>\n",
       "    </tr>\n",
       "    <tr>\n",
       "        <td>3</td>\n",
       "        <td>BARS</td>\n",
       "        <td>Initial Alarm</td>\n",
       "        <td>First Alarm</td>\n",
       "    </tr>\n",
       "    <tr>\n",
       "        <td>4</td>\n",
       "        <td>BARS</td>\n",
       "        <td>Second Alarm</td>\n",
       "        <td>Second Alarm</td>\n",
       "    </tr>\n",
       "    <tr>\n",
       "        <td>5</td>\n",
       "        <td>DEFAULT RECORD</td>\n",
       "        <td>DEFAULT RECORD</td>\n",
       "        <td>First Alarm</td>\n",
       "    </tr>\n",
       "</table>"
      ],
      "text/plain": [
       "[(1, 'BARS', '7-5 (All Hands Alarm)', 'All Hands Working'),\n",
       " (2, 'BARS', 'DEFAULT RECORD', 'First Alarm'),\n",
       " (3, 'BARS', 'Initial Alarm', 'First Alarm'),\n",
       " (4, 'BARS', 'Second Alarm', 'Second Alarm'),\n",
       " (5, 'DEFAULT RECORD', 'DEFAULT RECORD', 'First Alarm')]"
      ]
     },
     "execution_count": 39,
     "metadata": {},
     "output_type": "execute_result"
    }
   ],
   "source": [
    "%%sql\n",
    "SELECT * FROM alarm LIMIT 5;"
   ]
  },
  {
   "cell_type": "code",
   "execution_count": 40,
   "metadata": {},
   "outputs": [
    {
     "name": "stdout",
     "output_type": "stream",
     "text": [
      " * postgresql://student@/proj4_group17\n",
      "1 rows affected.\n"
     ]
    },
    {
     "data": {
      "text/html": [
       "<table>\n",
       "    <tr>\n",
       "        <th>count</th>\n",
       "    </tr>\n",
       "    <tr>\n",
       "        <td>60</td>\n",
       "    </tr>\n",
       "</table>"
      ],
      "text/plain": [
       "[(60,)]"
      ]
     },
     "execution_count": 40,
     "metadata": {},
     "output_type": "execute_result"
    }
   ],
   "source": [
    "%%sql\n",
    "SELECT COUNT(*) FROM alarm;"
   ]
  },
  {
   "cell_type": "markdown",
   "metadata": {},
   "source": [
    "***Add a foreign key column to the fact table that references `alarm` dimension table***"
   ]
  },
  {
   "cell_type": "code",
   "execution_count": 41,
   "metadata": {},
   "outputs": [
    {
     "name": "stdout",
     "output_type": "stream",
     "text": [
      " * postgresql://student@/proj4_group17\n",
      "Done.\n"
     ]
    },
    {
     "data": {
      "text/plain": [
       "[]"
      ]
     },
     "execution_count": 41,
     "metadata": {},
     "output_type": "execute_result"
    }
   ],
   "source": [
    "%%sql\n",
    "ALTER TABLE rspns_time_facts \n",
    "ADD COLUMN alarm_key INTEGER,\n",
    "ADD CONSTRAINT fk_alarm_key\n",
    "    FOREIGN KEY (alarm_key)\n",
    "    REFERENCES alarm (key);"
   ]
  },
  {
   "cell_type": "markdown",
   "metadata": {},
   "source": [
    "***Create an index on all columns in `alarm` to improve the performance of queries***"
   ]
  },
  {
   "cell_type": "code",
   "execution_count": 42,
   "metadata": {
    "collapsed": true
   },
   "outputs": [
    {
     "name": "stdout",
     "output_type": "stream",
     "text": [
      " * postgresql://student@/proj4_group17\n",
      "Done.\n",
      "Done.\n"
     ]
    },
    {
     "data": {
      "text/plain": [
       "[]"
      ]
     },
     "execution_count": 42,
     "metadata": {},
     "output_type": "execute_result"
    }
   ],
   "source": [
    "%%sql\n",
    "DROP INDEX IF EXISTS idx_alarm;\n",
    "\n",
    "CREATE INDEX idx_alarm ON alarm\n",
    "    (source, level_index, highest_level);"
   ]
  },
  {
   "cell_type": "markdown",
   "metadata": {},
   "source": [
    "***Populate `alarm_key` with correct values***"
   ]
  },
  {
   "cell_type": "code",
   "execution_count": 43,
   "metadata": {},
   "outputs": [
    {
     "name": "stdout",
     "output_type": "stream",
     "text": [
      " * postgresql://student@/proj4_group17\n",
      "585519 rows affected.\n"
     ]
    },
    {
     "data": {
      "text/plain": [
       "[]"
      ]
     },
     "execution_count": 43,
     "metadata": {},
     "output_type": "execute_result"
    }
   ],
   "source": [
    "%%sql\n",
    "UPDATE rspns_time_facts\n",
    "SET alarm_key = alarm.key\n",
    "FROM alarm\n",
    "WHERE rspns_time_facts.alarm_source_description_tx = alarm.source\n",
    "    AND rspns_time_facts.alarm_level_index_description = alarm.level_index\n",
    "    AND rspns_time_facts.highest_alarm_level = alarm.highest_level;"
   ]
  },
  {
   "cell_type": "markdown",
   "metadata": {},
   "source": [
    "***Check the foreign key column***"
   ]
  },
  {
   "cell_type": "code",
   "execution_count": 44,
   "metadata": {},
   "outputs": [
    {
     "name": "stdout",
     "output_type": "stream",
     "text": [
      " * postgresql://student@/proj4_group17\n",
      "5 rows affected.\n"
     ]
    },
    {
     "data": {
      "text/html": [
       "<table>\n",
       "    <tr>\n",
       "        <th>id</th>\n",
       "        <th>alarm_key</th>\n",
       "    </tr>\n",
       "    <tr>\n",
       "        <td>1600191780450452</td>\n",
       "        <td>51</td>\n",
       "    </tr>\n",
       "    <tr>\n",
       "        <td>1600142530150474</td>\n",
       "        <td>10</td>\n",
       "    </tr>\n",
       "    <tr>\n",
       "        <td>1600115040240821</td>\n",
       "        <td>30</td>\n",
       "    </tr>\n",
       "    <tr>\n",
       "        <td>1600132280120752</td>\n",
       "        <td>51</td>\n",
       "    </tr>\n",
       "    <tr>\n",
       "        <td>1600215560110094</td>\n",
       "        <td>17</td>\n",
       "    </tr>\n",
       "</table>"
      ],
      "text/plain": [
       "[(Decimal('1600191780450452'), 51),\n",
       " (Decimal('1600142530150474'), 10),\n",
       " (Decimal('1600115040240821'), 30),\n",
       " (Decimal('1600132280120752'), 51),\n",
       " (Decimal('1600215560110094'), 17)]"
      ]
     },
     "execution_count": 44,
     "metadata": {},
     "output_type": "execute_result"
    }
   ],
   "source": [
    "%%sql\n",
    "SELECT id, alarm_key\n",
    "FROM rspns_time_facts\n",
    "LIMIT 5;"
   ]
  },
  {
   "cell_type": "code",
   "execution_count": 45,
   "metadata": {},
   "outputs": [
    {
     "name": "stdout",
     "output_type": "stream",
     "text": [
      " * postgresql://student@/proj4_group17\n",
      "1 rows affected.\n"
     ]
    },
    {
     "data": {
      "text/html": [
       "<table>\n",
       "    <tr>\n",
       "        <th>alarm_key_not_null_count</th>\n",
       "    </tr>\n",
       "    <tr>\n",
       "        <td>585519</td>\n",
       "    </tr>\n",
       "</table>"
      ],
      "text/plain": [
       "[(585519,)]"
      ]
     },
     "execution_count": 45,
     "metadata": {},
     "output_type": "execute_result"
    }
   ],
   "source": [
    "%%sql\n",
    "SELECT COUNT(*) AS alarm_key_not_null_count\n",
    "FROM rspns_time_facts\n",
    "WHERE alarm_key IS NOT NULL;"
   ]
  },
  {
   "cell_type": "code",
   "execution_count": 46,
   "metadata": {},
   "outputs": [
    {
     "name": "stdout",
     "output_type": "stream",
     "text": [
      " * postgresql://student@/proj4_group17\n",
      "1 rows affected.\n"
     ]
    },
    {
     "data": {
      "text/html": [
       "<table>\n",
       "    <tr>\n",
       "        <th>alarm_key_null_count</th>\n",
       "    </tr>\n",
       "    <tr>\n",
       "        <td>0</td>\n",
       "    </tr>\n",
       "</table>"
      ],
      "text/plain": [
       "[(0,)]"
      ]
     },
     "execution_count": 46,
     "metadata": {},
     "output_type": "execute_result"
    }
   ],
   "source": [
    "%%sql\n",
    "SELECT COUNT(*) AS alarm_key_null_count\n",
    "FROM rspns_time_facts\n",
    "WHERE alarm_key IS NULL;"
   ]
  },
  {
   "cell_type": "markdown",
   "metadata": {},
   "source": [
    "### Create the `incident_class` dimension table"
   ]
  },
  {
   "cell_type": "markdown",
   "metadata": {},
   "source": [
    "***Create the `incident_class` dimension table***"
   ]
  },
  {
   "cell_type": "code",
   "execution_count": 47,
   "metadata": {},
   "outputs": [
    {
     "name": "stdout",
     "output_type": "stream",
     "text": [
      " * postgresql://student@/proj4_group17\n",
      "Done.\n",
      "Done.\n"
     ]
    },
    {
     "data": {
      "text/plain": [
       "[]"
      ]
     },
     "execution_count": 47,
     "metadata": {},
     "output_type": "execute_result"
    }
   ],
   "source": [
    "%%sql\n",
    "DROP TABLE IF EXISTS incident_class;\n",
    "\n",
    "CREATE TABLE incident_class (\n",
    "    key SERIAL PRIMARY KEY,\n",
    "    class_des VARCHAR(100) NOT NULL,\n",
    "    group_des VARCHAR(30) NOT NULL\n",
    ");"
   ]
  },
  {
   "cell_type": "markdown",
   "metadata": {},
   "source": [
    "***Populate the dimension table with unique values***"
   ]
  },
  {
   "cell_type": "code",
   "execution_count": 48,
   "metadata": {},
   "outputs": [
    {
     "name": "stdout",
     "output_type": "stream",
     "text": [
      " * postgresql://student@/proj4_group17\n",
      "65 rows affected.\n"
     ]
    },
    {
     "data": {
      "text/plain": [
       "[]"
      ]
     },
     "execution_count": 48,
     "metadata": {},
     "output_type": "execute_result"
    }
   ],
   "source": [
    "%%sql\n",
    "INSERT INTO incident_class\n",
    "    (class_des, group_des)\n",
    "SELECT DISTINCT incident_classification AS class_des,\n",
    "    incident_classification_group AS group_des\n",
    "FROM rspns_time_facts\n",
    "ORDER BY group_des, class_des;"
   ]
  },
  {
   "cell_type": "markdown",
   "metadata": {},
   "source": [
    "***Take a look at the `incident_class` dimension table***"
   ]
  },
  {
   "cell_type": "code",
   "execution_count": 49,
   "metadata": {},
   "outputs": [
    {
     "name": "stdout",
     "output_type": "stream",
     "text": [
      " * postgresql://student@/proj4_group17\n",
      "5 rows affected.\n"
     ]
    },
    {
     "data": {
      "text/html": [
       "<table>\n",
       "    <tr>\n",
       "        <th>key</th>\n",
       "        <th>class_des</th>\n",
       "        <th>group_des</th>\n",
       "    </tr>\n",
       "    <tr>\n",
       "        <td>1</td>\n",
       "        <td>Medical - Assist Civilian</td>\n",
       "        <td>Medical Emergencies</td>\n",
       "    </tr>\n",
       "    <tr>\n",
       "        <td>2</td>\n",
       "        <td>Medical - EMS Link 10-91</td>\n",
       "        <td>Medical Emergencies</td>\n",
       "    </tr>\n",
       "    <tr>\n",
       "        <td>3</td>\n",
       "        <td>Medical - PD Link 10-91</td>\n",
       "        <td>Medical Emergencies</td>\n",
       "    </tr>\n",
       "    <tr>\n",
       "        <td>4</td>\n",
       "        <td>Medical MFA - EMS Link</td>\n",
       "        <td>Medical MFAs</td>\n",
       "    </tr>\n",
       "    <tr>\n",
       "        <td>5</td>\n",
       "        <td>Medical MFA - PD Link</td>\n",
       "        <td>Medical MFAs</td>\n",
       "    </tr>\n",
       "</table>"
      ],
      "text/plain": [
       "[(1, 'Medical - Assist Civilian', 'Medical Emergencies'),\n",
       " (2, 'Medical - EMS Link 10-91', 'Medical Emergencies'),\n",
       " (3, 'Medical - PD Link 10-91', 'Medical Emergencies'),\n",
       " (4, 'Medical MFA - EMS Link', 'Medical MFAs'),\n",
       " (5, 'Medical MFA - PD Link', 'Medical MFAs')]"
      ]
     },
     "execution_count": 49,
     "metadata": {},
     "output_type": "execute_result"
    }
   ],
   "source": [
    "%%sql\n",
    "SELECT * FROM incident_class LIMIT 5;"
   ]
  },
  {
   "cell_type": "code",
   "execution_count": 50,
   "metadata": {},
   "outputs": [
    {
     "name": "stdout",
     "output_type": "stream",
     "text": [
      " * postgresql://student@/proj4_group17\n",
      "1 rows affected.\n"
     ]
    },
    {
     "data": {
      "text/html": [
       "<table>\n",
       "    <tr>\n",
       "        <th>count</th>\n",
       "    </tr>\n",
       "    <tr>\n",
       "        <td>65</td>\n",
       "    </tr>\n",
       "</table>"
      ],
      "text/plain": [
       "[(65,)]"
      ]
     },
     "execution_count": 50,
     "metadata": {},
     "output_type": "execute_result"
    }
   ],
   "source": [
    "%%sql\n",
    "SELECT COUNT(*) FROM incident_class;"
   ]
  },
  {
   "cell_type": "markdown",
   "metadata": {},
   "source": [
    "***Add a foreign key column to the fact table that references `incident_class` dimension table***"
   ]
  },
  {
   "cell_type": "code",
   "execution_count": 51,
   "metadata": {},
   "outputs": [
    {
     "name": "stdout",
     "output_type": "stream",
     "text": [
      " * postgresql://student@/proj4_group17\n",
      "Done.\n"
     ]
    },
    {
     "data": {
      "text/plain": [
       "[]"
      ]
     },
     "execution_count": 51,
     "metadata": {},
     "output_type": "execute_result"
    }
   ],
   "source": [
    "%%sql\n",
    "ALTER TABLE rspns_time_facts \n",
    "ADD COLUMN incident_class_key INTEGER,\n",
    "ADD CONSTRAINT fk_incident_class_key\n",
    "    FOREIGN KEY (incident_class_key)\n",
    "    REFERENCES incident_class (key);"
   ]
  },
  {
   "cell_type": "markdown",
   "metadata": {},
   "source": [
    "***Create an index on all columns in `incident_class` to improve the performance of queries***"
   ]
  },
  {
   "cell_type": "code",
   "execution_count": 52,
   "metadata": {
    "collapsed": true
   },
   "outputs": [
    {
     "name": "stdout",
     "output_type": "stream",
     "text": [
      " * postgresql://student@/proj4_group17\n",
      "Done.\n",
      "Done.\n"
     ]
    },
    {
     "data": {
      "text/plain": [
       "[]"
      ]
     },
     "execution_count": 52,
     "metadata": {},
     "output_type": "execute_result"
    }
   ],
   "source": [
    "%%sql\n",
    "DROP INDEX IF EXISTS idx_incident_class;\n",
    "\n",
    "CREATE INDEX idx_incident_class ON incident_class\n",
    "    (class_des, group_des);"
   ]
  },
  {
   "cell_type": "markdown",
   "metadata": {},
   "source": [
    "***Populate `incident_class_key` with correct values***"
   ]
  },
  {
   "cell_type": "code",
   "execution_count": 53,
   "metadata": {},
   "outputs": [
    {
     "name": "stdout",
     "output_type": "stream",
     "text": [
      " * postgresql://student@/proj4_group17\n",
      "585519 rows affected.\n"
     ]
    },
    {
     "data": {
      "text/plain": [
       "[]"
      ]
     },
     "execution_count": 53,
     "metadata": {},
     "output_type": "execute_result"
    }
   ],
   "source": [
    "%%sql\n",
    "UPDATE rspns_time_facts\n",
    "SET incident_class_key = incident_class.key\n",
    "FROM incident_class\n",
    "WHERE rspns_time_facts.incident_classification = incident_class.class_des\n",
    "    AND rspns_time_facts.incident_classification_group = incident_class.group_des;"
   ]
  },
  {
   "cell_type": "markdown",
   "metadata": {},
   "source": [
    "***Check the foreign key column***"
   ]
  },
  {
   "cell_type": "code",
   "execution_count": 54,
   "metadata": {},
   "outputs": [
    {
     "name": "stdout",
     "output_type": "stream",
     "text": [
      " * postgresql://student@/proj4_group17\n",
      "5 rows affected.\n"
     ]
    },
    {
     "data": {
      "text/html": [
       "<table>\n",
       "    <tr>\n",
       "        <th>id</th>\n",
       "        <th>incident_class_key</th>\n",
       "    </tr>\n",
       "    <tr>\n",
       "        <td>1600215560110094</td>\n",
       "        <td>35</td>\n",
       "    </tr>\n",
       "    <tr>\n",
       "        <td>1600222980120142</td>\n",
       "        <td>1</td>\n",
       "    </tr>\n",
       "    <tr>\n",
       "        <td>1600208680140221</td>\n",
       "        <td>3</td>\n",
       "    </tr>\n",
       "    <tr>\n",
       "        <td>1600213710440291</td>\n",
       "        <td>9</td>\n",
       "    </tr>\n",
       "    <tr>\n",
       "        <td>1600255200150447</td>\n",
       "        <td>3</td>\n",
       "    </tr>\n",
       "</table>"
      ],
      "text/plain": [
       "[(Decimal('1600215560110094'), 35),\n",
       " (Decimal('1600222980120142'), 1),\n",
       " (Decimal('1600208680140221'), 3),\n",
       " (Decimal('1600213710440291'), 9),\n",
       " (Decimal('1600255200150447'), 3)]"
      ]
     },
     "execution_count": 54,
     "metadata": {},
     "output_type": "execute_result"
    }
   ],
   "source": [
    "%%sql\n",
    "SELECT id, incident_class_key\n",
    "FROM rspns_time_facts\n",
    "LIMIT 5;"
   ]
  },
  {
   "cell_type": "code",
   "execution_count": 55,
   "metadata": {},
   "outputs": [
    {
     "name": "stdout",
     "output_type": "stream",
     "text": [
      " * postgresql://student@/proj4_group17\n",
      "1 rows affected.\n"
     ]
    },
    {
     "data": {
      "text/html": [
       "<table>\n",
       "    <tr>\n",
       "        <th>incident_class_key_not_null_count</th>\n",
       "    </tr>\n",
       "    <tr>\n",
       "        <td>585519</td>\n",
       "    </tr>\n",
       "</table>"
      ],
      "text/plain": [
       "[(585519,)]"
      ]
     },
     "execution_count": 55,
     "metadata": {},
     "output_type": "execute_result"
    }
   ],
   "source": [
    "%%sql\n",
    "SELECT COUNT(*) AS incident_class_key_not_null_count\n",
    "FROM rspns_time_facts\n",
    "WHERE incident_class_key IS NOT NULL;"
   ]
  },
  {
   "cell_type": "code",
   "execution_count": 56,
   "metadata": {},
   "outputs": [
    {
     "name": "stdout",
     "output_type": "stream",
     "text": [
      " * postgresql://student@/proj4_group17\n",
      "1 rows affected.\n"
     ]
    },
    {
     "data": {
      "text/html": [
       "<table>\n",
       "    <tr>\n",
       "        <th>incident_class_key_null_count</th>\n",
       "    </tr>\n",
       "    <tr>\n",
       "        <td>0</td>\n",
       "    </tr>\n",
       "</table>"
      ],
      "text/plain": [
       "[(0,)]"
      ]
     },
     "execution_count": 56,
     "metadata": {},
     "output_type": "execute_result"
    }
   ],
   "source": [
    "%%sql\n",
    "SELECT COUNT(*) AS incident_class_key_null_count\n",
    "FROM rspns_time_facts\n",
    "WHERE incident_class_key IS NULL;"
   ]
  },
  {
   "cell_type": "markdown",
   "metadata": {},
   "source": [
    "### Create the `valid_respns` dimension table"
   ]
  },
  {
   "cell_type": "markdown",
   "metadata": {},
   "source": [
    "***Create the `valid_respns` dimension table***"
   ]
  },
  {
   "cell_type": "code",
   "execution_count": 57,
   "metadata": {},
   "outputs": [
    {
     "name": "stdout",
     "output_type": "stream",
     "text": [
      " * postgresql://student@/proj4_group17\n",
      "Done.\n",
      "Done.\n"
     ]
    },
    {
     "data": {
      "text/plain": [
       "[]"
      ]
     },
     "execution_count": 57,
     "metadata": {},
     "output_type": "execute_result"
    }
   ],
   "source": [
    "%%sql\n",
    "DROP TABLE IF EXISTS valid_rspns;\n",
    "\n",
    "CREATE TABLE valid_rspns (\n",
    "    key SERIAL PRIMARY KEY,\n",
    "    valid_dispatch_rspns BOOLEAN,\n",
    "    valid_incident_rspns BOOLEAN\n",
    ");"
   ]
  },
  {
   "cell_type": "markdown",
   "metadata": {},
   "source": [
    "***Populate the dimension table with unique values***"
   ]
  },
  {
   "cell_type": "code",
   "execution_count": 58,
   "metadata": {},
   "outputs": [
    {
     "name": "stdout",
     "output_type": "stream",
     "text": [
      " * postgresql://student@/proj4_group17\n",
      "2 rows affected.\n"
     ]
    },
    {
     "data": {
      "text/plain": [
       "[]"
      ]
     },
     "execution_count": 58,
     "metadata": {},
     "output_type": "execute_result"
    }
   ],
   "source": [
    "%%sql\n",
    "INSERT INTO valid_rspns\n",
    "    (valid_dispatch_rspns, valid_incident_rspns)\n",
    "SELECT DISTINCT valid_dispatch_rspns_time_indc AS valid_dispatch_rspns,\n",
    "    valid_incident_rspns_time_indc AS valid_incident_rspns\n",
    "FROM rspns_time_facts\n",
    "ORDER BY valid_dispatch_rspns, valid_dispatch_rspns;"
   ]
  },
  {
   "cell_type": "markdown",
   "metadata": {},
   "source": [
    "***Take a look at the `valid_respns` dimension table***"
   ]
  },
  {
   "cell_type": "code",
   "execution_count": 59,
   "metadata": {},
   "outputs": [
    {
     "name": "stdout",
     "output_type": "stream",
     "text": [
      " * postgresql://student@/proj4_group17\n",
      "2 rows affected.\n"
     ]
    },
    {
     "data": {
      "text/html": [
       "<table>\n",
       "    <tr>\n",
       "        <th>key</th>\n",
       "        <th>valid_dispatch_rspns</th>\n",
       "        <th>valid_incident_rspns</th>\n",
       "    </tr>\n",
       "    <tr>\n",
       "        <td>1</td>\n",
       "        <td>False</td>\n",
       "        <td>False</td>\n",
       "    </tr>\n",
       "    <tr>\n",
       "        <td>2</td>\n",
       "        <td>False</td>\n",
       "        <td>True</td>\n",
       "    </tr>\n",
       "</table>"
      ],
      "text/plain": [
       "[(1, False, False), (2, False, True)]"
      ]
     },
     "execution_count": 59,
     "metadata": {},
     "output_type": "execute_result"
    }
   ],
   "source": [
    "%%sql\n",
    "SELECT * FROM valid_rspns LIMIT 10;"
   ]
  },
  {
   "cell_type": "code",
   "execution_count": 60,
   "metadata": {},
   "outputs": [
    {
     "name": "stdout",
     "output_type": "stream",
     "text": [
      " * postgresql://student@/proj4_group17\n",
      "1 rows affected.\n"
     ]
    },
    {
     "data": {
      "text/html": [
       "<table>\n",
       "    <tr>\n",
       "        <th>count</th>\n",
       "    </tr>\n",
       "    <tr>\n",
       "        <td>2</td>\n",
       "    </tr>\n",
       "</table>"
      ],
      "text/plain": [
       "[(2,)]"
      ]
     },
     "execution_count": 60,
     "metadata": {},
     "output_type": "execute_result"
    }
   ],
   "source": [
    "%%sql\n",
    "SELECT COUNT(*) FROM valid_rspns;"
   ]
  },
  {
   "cell_type": "markdown",
   "metadata": {},
   "source": [
    "***Add a foreign key column to the fact table that references `valid_respns` dimension table***"
   ]
  },
  {
   "cell_type": "code",
   "execution_count": 61,
   "metadata": {},
   "outputs": [
    {
     "name": "stdout",
     "output_type": "stream",
     "text": [
      " * postgresql://student@/proj4_group17\n",
      "Done.\n"
     ]
    },
    {
     "data": {
      "text/plain": [
       "[]"
      ]
     },
     "execution_count": 61,
     "metadata": {},
     "output_type": "execute_result"
    }
   ],
   "source": [
    "%%sql\n",
    "ALTER TABLE rspns_time_facts \n",
    "ADD COLUMN valid_rspns_key INTEGER,\n",
    "ADD CONSTRAINT fk_valid_rspns_key\n",
    "    FOREIGN KEY (valid_rspns_key)\n",
    "    REFERENCES valid_rspns (key);"
   ]
  },
  {
   "cell_type": "markdown",
   "metadata": {},
   "source": [
    "***Create an index on all columns in `valid_respns` to improve the performance of queries***"
   ]
  },
  {
   "cell_type": "code",
   "execution_count": 62,
   "metadata": {
    "collapsed": true
   },
   "outputs": [
    {
     "name": "stdout",
     "output_type": "stream",
     "text": [
      " * postgresql://student@/proj4_group17\n",
      "Done.\n",
      "Done.\n"
     ]
    },
    {
     "data": {
      "text/plain": [
       "[]"
      ]
     },
     "execution_count": 62,
     "metadata": {},
     "output_type": "execute_result"
    }
   ],
   "source": [
    "%%sql\n",
    "DROP INDEX IF EXISTS idx_valid_rspns;\n",
    "\n",
    "CREATE INDEX idx_valid_rspns ON valid_rspns\n",
    "    (valid_dispatch_rspns, valid_incident_rspns);"
   ]
  },
  {
   "cell_type": "markdown",
   "metadata": {},
   "source": [
    "***Populate `valid_rspns_key` with correct values***"
   ]
  },
  {
   "cell_type": "code",
   "execution_count": 63,
   "metadata": {},
   "outputs": [
    {
     "name": "stdout",
     "output_type": "stream",
     "text": [
      " * postgresql://student@/proj4_group17\n",
      "585519 rows affected.\n"
     ]
    },
    {
     "data": {
      "text/plain": [
       "[]"
      ]
     },
     "execution_count": 63,
     "metadata": {},
     "output_type": "execute_result"
    }
   ],
   "source": [
    "%%sql\n",
    "UPDATE rspns_time_facts\n",
    "SET valid_rspns_key = valid_rspns.key\n",
    "FROM valid_rspns\n",
    "WHERE rspns_time_facts.valid_dispatch_rspns_time_indc = valid_rspns.valid_dispatch_rspns\n",
    "    AND rspns_time_facts.valid_incident_rspns_time_indc = valid_rspns.valid_incident_rspns;"
   ]
  },
  {
   "cell_type": "markdown",
   "metadata": {},
   "source": [
    "***Check the foreign key column***"
   ]
  },
  {
   "cell_type": "code",
   "execution_count": 64,
   "metadata": {},
   "outputs": [
    {
     "name": "stdout",
     "output_type": "stream",
     "text": [
      " * postgresql://student@/proj4_group17\n",
      "5 rows affected.\n"
     ]
    },
    {
     "data": {
      "text/html": [
       "<table>\n",
       "    <tr>\n",
       "        <th>id</th>\n",
       "        <th>valid_rspns_key</th>\n",
       "    </tr>\n",
       "    <tr>\n",
       "        <td>1600255200150447</td>\n",
       "        <td>1</td>\n",
       "    </tr>\n",
       "    <tr>\n",
       "        <td>1600203270540916</td>\n",
       "        <td>2</td>\n",
       "    </tr>\n",
       "    <tr>\n",
       "        <td>1600221030120534</td>\n",
       "        <td>2</td>\n",
       "    </tr>\n",
       "    <tr>\n",
       "        <td>1600321390150087</td>\n",
       "        <td>2</td>\n",
       "    </tr>\n",
       "    <tr>\n",
       "        <td>1600338400140194</td>\n",
       "        <td>1</td>\n",
       "    </tr>\n",
       "</table>"
      ],
      "text/plain": [
       "[(Decimal('1600255200150447'), 1),\n",
       " (Decimal('1600203270540916'), 2),\n",
       " (Decimal('1600221030120534'), 2),\n",
       " (Decimal('1600321390150087'), 2),\n",
       " (Decimal('1600338400140194'), 1)]"
      ]
     },
     "execution_count": 64,
     "metadata": {},
     "output_type": "execute_result"
    }
   ],
   "source": [
    "%%sql\n",
    "SELECT id, valid_rspns_key\n",
    "FROM rspns_time_facts\n",
    "LIMIT 5;"
   ]
  },
  {
   "cell_type": "code",
   "execution_count": 65,
   "metadata": {},
   "outputs": [
    {
     "name": "stdout",
     "output_type": "stream",
     "text": [
      " * postgresql://student@/proj4_group17\n",
      "1 rows affected.\n"
     ]
    },
    {
     "data": {
      "text/html": [
       "<table>\n",
       "    <tr>\n",
       "        <th>valid_rspns_key_not_null_count</th>\n",
       "    </tr>\n",
       "    <tr>\n",
       "        <td>585519</td>\n",
       "    </tr>\n",
       "</table>"
      ],
      "text/plain": [
       "[(585519,)]"
      ]
     },
     "execution_count": 65,
     "metadata": {},
     "output_type": "execute_result"
    }
   ],
   "source": [
    "%%sql\n",
    "SELECT COUNT(*) AS valid_rspns_key_not_null_count\n",
    "FROM rspns_time_facts\n",
    "WHERE valid_rspns_key IS NOT NULL;"
   ]
  },
  {
   "cell_type": "code",
   "execution_count": 66,
   "metadata": {},
   "outputs": [
    {
     "name": "stdout",
     "output_type": "stream",
     "text": [
      " * postgresql://student@/proj4_group17\n",
      "1 rows affected.\n"
     ]
    },
    {
     "data": {
      "text/html": [
       "<table>\n",
       "    <tr>\n",
       "        <th>valid_rspns_key_null_count</th>\n",
       "    </tr>\n",
       "    <tr>\n",
       "        <td>0</td>\n",
       "    </tr>\n",
       "</table>"
      ],
      "text/plain": [
       "[(0,)]"
      ]
     },
     "execution_count": 66,
     "metadata": {},
     "output_type": "execute_result"
    }
   ],
   "source": [
    "%%sql\n",
    "SELECT COUNT(*) AS valid_rspns_key_null_count\n",
    "FROM rspns_time_facts\n",
    "WHERE valid_rspns_key IS NULL;"
   ]
  },
  {
   "cell_type": "markdown",
   "metadata": {},
   "source": [
    "### Create the `hour` dimension table"
   ]
  },
  {
   "cell_type": "markdown",
   "metadata": {},
   "source": [
    "***Create the `hour` dimension table***"
   ]
  },
  {
   "cell_type": "code",
   "execution_count": 67,
   "metadata": {},
   "outputs": [
    {
     "name": "stdout",
     "output_type": "stream",
     "text": [
      " * postgresql://student@/proj4_group17\n",
      "Done.\n",
      "Done.\n"
     ]
    },
    {
     "data": {
      "text/plain": [
       "[]"
      ]
     },
     "execution_count": 67,
     "metadata": {},
     "output_type": "execute_result"
    }
   ],
   "source": [
    "%%sql\n",
    "DROP TABLE IF EXISTS hour;\n",
    "\n",
    "CREATE TABLE hour (\n",
    "    key SERIAL PRIMARY KEY,\n",
    "    hour CHAR(19),\n",
    "    day CHAR(10),\n",
    "    year INTEGER,\n",
    "    quarter_of_year INTEGER,\n",
    "    month_of_year_str VARCHAR(12),\n",
    "    month_of_year INTEGER,\n",
    "    day_of_month INTEGER,\n",
    "    day_of_week_str CHAR(9),\n",
    "    day_of_week INTEGER,\n",
    "    is_weekend BOOLEAN,\n",
    "    hour_of_day INTEGER\n",
    ");"
   ]
  },
  {
   "cell_type": "markdown",
   "metadata": {},
   "source": [
    "***Check the values in `incident_datetime` and `incident_close_datetime`***"
   ]
  },
  {
   "cell_type": "code",
   "execution_count": 68,
   "metadata": {},
   "outputs": [
    {
     "name": "stdout",
     "output_type": "stream",
     "text": [
      " * postgresql://student@/proj4_group17\n",
      "1 rows affected.\n"
     ]
    },
    {
     "data": {
      "text/html": [
       "<table>\n",
       "    <tr>\n",
       "        <th>count</th>\n",
       "    </tr>\n",
       "    <tr>\n",
       "        <td>8784</td>\n",
       "    </tr>\n",
       "</table>"
      ],
      "text/plain": [
       "[(8784,)]"
      ]
     },
     "execution_count": 68,
     "metadata": {},
     "output_type": "execute_result"
    }
   ],
   "source": [
    "%%sql\n",
    "SELECT COUNT(*)\n",
    "FROM\n",
    "(SELECT DISTINCT TO_CHAR(incident_datetime, 'YYYY-MM-DD HH24:00:00') AS hour,\n",
    "    TO_CHAR(incident_datetime, 'YYYY-MM-DD') AS day, \n",
    "    CAST(TO_CHAR(incident_datetime, 'YYYY') AS INTEGER) AS year,\n",
    "    CAST(TO_CHAR(incident_datetime, 'Q') AS INTEGER) AS quarter_of_year,\n",
    "    TO_CHAR(incident_datetime, 'Month') AS month_of_year_str,\n",
    "    CAST(TO_CHAR(incident_datetime, 'MM') AS INTEGER) AS month_of_year,\n",
    "    CAST(TO_CHAR(incident_datetime, 'DD') AS INTEGER) AS day_of_month,\n",
    "    TO_CHAR(incident_datetime, 'Day') AS day_of_week_str,\n",
    "    CAST(TO_CHAR(incident_datetime, 'D') AS INTEGER) AS day_of_week,\n",
    "    CASE WHEN CAST(TO_CHAR(incident_datetime, 'D') AS INTEGER) IN (1, 7)\n",
    "        THEN True\n",
    "        ELSE False\n",
    "    END AS is_weekend,\n",
    "    CAST(TO_CHAR(incident_datetime, 'HH24') AS INTEGER) AS hour_of_day\n",
    "FROM rspns_time_facts) AS T;"
   ]
  },
  {
   "cell_type": "code",
   "execution_count": 69,
   "metadata": {},
   "outputs": [
    {
     "name": "stdout",
     "output_type": "stream",
     "text": [
      " * postgresql://student@/proj4_group17\n",
      "1 rows affected.\n"
     ]
    },
    {
     "data": {
      "text/html": [
       "<table>\n",
       "    <tr>\n",
       "        <th>count</th>\n",
       "    </tr>\n",
       "    <tr>\n",
       "        <td>8786</td>\n",
       "    </tr>\n",
       "</table>"
      ],
      "text/plain": [
       "[(8786,)]"
      ]
     },
     "execution_count": 69,
     "metadata": {},
     "output_type": "execute_result"
    }
   ],
   "source": [
    "%%sql\n",
    "SELECT COUNT(*)\n",
    "FROM\n",
    "(SELECT DISTINCT TO_CHAR(incident_close_datetime, 'YYYY-MM-DD HH24:00:00') AS hour,\n",
    "    TO_CHAR(incident_close_datetime, 'YYYY-MM-DD') AS day, \n",
    "    CAST(TO_CHAR(incident_close_datetime, 'YYYY') AS INTEGER) AS year,\n",
    "    CAST(TO_CHAR(incident_close_datetime, 'Q') AS INTEGER) AS quarter_of_year,\n",
    "    TO_CHAR(incident_close_datetime, 'Month') AS month_of_year_str,\n",
    "    CAST(TO_CHAR(incident_close_datetime, 'MM') AS INTEGER) AS month_of_year,\n",
    "    CAST(TO_CHAR(incident_close_datetime, 'DD') AS INTEGER) AS day_of_month,\n",
    "    TO_CHAR(incident_close_datetime, 'Day') AS day_of_week_str,\n",
    "    CAST(TO_CHAR(incident_close_datetime, 'D') AS INTEGER) AS day_of_week,\n",
    "    CASE WHEN CAST(TO_CHAR(incident_close_datetime, 'D') AS INTEGER) IN (1, 7)\n",
    "        THEN True\n",
    "        ELSE False\n",
    "    END AS is_weekend,\n",
    "    CAST(TO_CHAR(incident_close_datetime, 'HH24') AS INTEGER) AS hour_of_day\n",
    "FROM rspns_time_facts) AS T;"
   ]
  },
  {
   "cell_type": "markdown",
   "metadata": {},
   "source": [
    "***Populate the dimension table with unique values***"
   ]
  },
  {
   "cell_type": "code",
   "execution_count": 70,
   "metadata": {},
   "outputs": [
    {
     "name": "stdout",
     "output_type": "stream",
     "text": [
      " * postgresql://student@/proj4_group17\n",
      "8786 rows affected.\n"
     ]
    },
    {
     "data": {
      "text/plain": [
       "[]"
      ]
     },
     "execution_count": 70,
     "metadata": {},
     "output_type": "execute_result"
    }
   ],
   "source": [
    "%%sql\n",
    "INSERT INTO hour (hour, day, year, quarter_of_year, month_of_year_str, month_of_year, \n",
    "                  day_of_month, day_of_week_str, day_of_week, is_weekend, hour_of_day)\n",
    "SELECT DISTINCT TO_CHAR(incident_datetime, 'YYYY-MM-DD HH24:00:00') AS hour,\n",
    "    TO_CHAR(incident_datetime, 'YYYY-MM-DD') AS day, \n",
    "    CAST(TO_CHAR(incident_datetime, 'YYYY') AS INTEGER) AS year,\n",
    "    CAST(TO_CHAR(incident_datetime, 'Q') AS INTEGER) AS quarter_of_year,\n",
    "    TO_CHAR(incident_datetime, 'Month') AS month_of_year_str,\n",
    "    CAST(TO_CHAR(incident_datetime, 'MM') AS INTEGER) AS month_of_year,\n",
    "    CAST(TO_CHAR(incident_datetime, 'DD') AS INTEGER) AS day_of_month,\n",
    "    TO_CHAR(incident_datetime, 'Day') AS day_of_week_str,\n",
    "    CAST(TO_CHAR(incident_datetime, 'D') AS INTEGER) AS day_of_week,\n",
    "    CASE WHEN CAST(TO_CHAR(incident_datetime, 'D') AS INTEGER) IN (1, 7)\n",
    "        THEN True\n",
    "        ELSE False\n",
    "    END AS is_weekend,\n",
    "    CAST(TO_CHAR(incident_datetime, 'HH24') AS INTEGER) AS hour_of_day\n",
    "FROM rspns_time_facts\n",
    "UNION\n",
    "SELECT DISTINCT TO_CHAR(incident_close_datetime, 'YYYY-MM-DD HH24:00:00') AS hour,\n",
    "    TO_CHAR(incident_close_datetime, 'YYYY-MM-DD') AS day, \n",
    "    CAST(TO_CHAR(incident_close_datetime, 'YYYY') AS INTEGER) AS year,\n",
    "    CAST(TO_CHAR(incident_close_datetime, 'Q') AS INTEGER) AS quarter_of_year,\n",
    "    TO_CHAR(incident_close_datetime, 'Month') AS month_of_year_str,\n",
    "    CAST(TO_CHAR(incident_close_datetime, 'MM') AS INTEGER) AS month_of_year,\n",
    "    CAST(TO_CHAR(incident_close_datetime, 'DD') AS INTEGER) AS day_of_month,\n",
    "    TO_CHAR(incident_close_datetime, 'Day') AS day_of_week_str,\n",
    "    CAST(TO_CHAR(incident_close_datetime, 'D') AS INTEGER) AS day_of_week,\n",
    "    CASE WHEN CAST(TO_CHAR(incident_close_datetime, 'D') AS INTEGER) IN (1, 7)\n",
    "        THEN True\n",
    "        ELSE False\n",
    "    END AS is_weekend,\n",
    "    CAST(TO_CHAR(incident_close_datetime, 'HH24') AS INTEGER) AS hour_of_day\n",
    "FROM rspns_time_facts\n",
    "ORDER BY year, month_of_year, day_of_month, hour_of_day;"
   ]
  },
  {
   "cell_type": "markdown",
   "metadata": {},
   "source": [
    "***Take a look at the `hour` dimension table***"
   ]
  },
  {
   "cell_type": "code",
   "execution_count": 71,
   "metadata": {},
   "outputs": [
    {
     "name": "stdout",
     "output_type": "stream",
     "text": [
      " * postgresql://student@/proj4_group17\n",
      "5 rows affected.\n"
     ]
    },
    {
     "data": {
      "text/html": [
       "<table>\n",
       "    <tr>\n",
       "        <th>key</th>\n",
       "        <th>hour</th>\n",
       "        <th>day</th>\n",
       "        <th>year</th>\n",
       "        <th>quarter_of_year</th>\n",
       "        <th>month_of_year_str</th>\n",
       "        <th>month_of_year</th>\n",
       "        <th>day_of_month</th>\n",
       "        <th>day_of_week_str</th>\n",
       "        <th>day_of_week</th>\n",
       "        <th>is_weekend</th>\n",
       "        <th>hour_of_day</th>\n",
       "    </tr>\n",
       "    <tr>\n",
       "        <td>1</td>\n",
       "        <td>2016-01-01 00:00:00</td>\n",
       "        <td>2016-01-01</td>\n",
       "        <td>2016</td>\n",
       "        <td>1</td>\n",
       "        <td>January  </td>\n",
       "        <td>1</td>\n",
       "        <td>1</td>\n",
       "        <td>Friday   </td>\n",
       "        <td>6</td>\n",
       "        <td>False</td>\n",
       "        <td>0</td>\n",
       "    </tr>\n",
       "    <tr>\n",
       "        <td>2</td>\n",
       "        <td>2016-01-01 01:00:00</td>\n",
       "        <td>2016-01-01</td>\n",
       "        <td>2016</td>\n",
       "        <td>1</td>\n",
       "        <td>January  </td>\n",
       "        <td>1</td>\n",
       "        <td>1</td>\n",
       "        <td>Friday   </td>\n",
       "        <td>6</td>\n",
       "        <td>False</td>\n",
       "        <td>1</td>\n",
       "    </tr>\n",
       "    <tr>\n",
       "        <td>3</td>\n",
       "        <td>2016-01-01 02:00:00</td>\n",
       "        <td>2016-01-01</td>\n",
       "        <td>2016</td>\n",
       "        <td>1</td>\n",
       "        <td>January  </td>\n",
       "        <td>1</td>\n",
       "        <td>1</td>\n",
       "        <td>Friday   </td>\n",
       "        <td>6</td>\n",
       "        <td>False</td>\n",
       "        <td>2</td>\n",
       "    </tr>\n",
       "    <tr>\n",
       "        <td>4</td>\n",
       "        <td>2016-01-01 03:00:00</td>\n",
       "        <td>2016-01-01</td>\n",
       "        <td>2016</td>\n",
       "        <td>1</td>\n",
       "        <td>January  </td>\n",
       "        <td>1</td>\n",
       "        <td>1</td>\n",
       "        <td>Friday   </td>\n",
       "        <td>6</td>\n",
       "        <td>False</td>\n",
       "        <td>3</td>\n",
       "    </tr>\n",
       "    <tr>\n",
       "        <td>5</td>\n",
       "        <td>2016-01-01 04:00:00</td>\n",
       "        <td>2016-01-01</td>\n",
       "        <td>2016</td>\n",
       "        <td>1</td>\n",
       "        <td>January  </td>\n",
       "        <td>1</td>\n",
       "        <td>1</td>\n",
       "        <td>Friday   </td>\n",
       "        <td>6</td>\n",
       "        <td>False</td>\n",
       "        <td>4</td>\n",
       "    </tr>\n",
       "</table>"
      ],
      "text/plain": [
       "[(1, '2016-01-01 00:00:00', '2016-01-01', 2016, 1, 'January  ', 1, 1, 'Friday   ', 6, False, 0),\n",
       " (2, '2016-01-01 01:00:00', '2016-01-01', 2016, 1, 'January  ', 1, 1, 'Friday   ', 6, False, 1),\n",
       " (3, '2016-01-01 02:00:00', '2016-01-01', 2016, 1, 'January  ', 1, 1, 'Friday   ', 6, False, 2),\n",
       " (4, '2016-01-01 03:00:00', '2016-01-01', 2016, 1, 'January  ', 1, 1, 'Friday   ', 6, False, 3),\n",
       " (5, '2016-01-01 04:00:00', '2016-01-01', 2016, 1, 'January  ', 1, 1, 'Friday   ', 6, False, 4)]"
      ]
     },
     "execution_count": 71,
     "metadata": {},
     "output_type": "execute_result"
    }
   ],
   "source": [
    "%%sql\n",
    "SELECT * FROM hour LIMIT 5;"
   ]
  },
  {
   "cell_type": "markdown",
   "metadata": {},
   "source": [
    "***Add foreign key columns to the fact table that references `hour` dimension table***"
   ]
  },
  {
   "cell_type": "code",
   "execution_count": 72,
   "metadata": {},
   "outputs": [
    {
     "name": "stdout",
     "output_type": "stream",
     "text": [
      " * postgresql://student@/proj4_group17\n",
      "Done.\n",
      "Done.\n"
     ]
    },
    {
     "data": {
      "text/plain": [
       "[]"
      ]
     },
     "execution_count": 72,
     "metadata": {},
     "output_type": "execute_result"
    }
   ],
   "source": [
    "%%sql\n",
    "ALTER TABLE rspns_time_facts\n",
    "ADD COLUMN incident_hour_key INTEGER,\n",
    "ADD CONSTRAINT fk_incident_hour_key\n",
    "    FOREIGN KEY (incident_hour_key)\n",
    "    REFERENCES hour (key);\n",
    "    \n",
    "ALTER TABLE rspns_time_facts\n",
    "ADD COLUMN incident_close_hour_key INTEGER,\n",
    "ADD CONSTRAINT fk_incident_close_hour_key\n",
    "    FOREIGN KEY (incident_close_hour_key)\n",
    "    REFERENCES hour (key);"
   ]
  },
  {
   "cell_type": "markdown",
   "metadata": {},
   "source": [
    "***Populate foreign key columns with correct values***"
   ]
  },
  {
   "cell_type": "code",
   "execution_count": 73,
   "metadata": {},
   "outputs": [
    {
     "name": "stdout",
     "output_type": "stream",
     "text": [
      " * postgresql://student@/proj4_group17\n",
      "585519 rows affected.\n"
     ]
    },
    {
     "data": {
      "text/plain": [
       "[]"
      ]
     },
     "execution_count": 73,
     "metadata": {},
     "output_type": "execute_result"
    }
   ],
   "source": [
    "%%sql\n",
    "UPDATE rspns_time_facts\n",
    "SET incident_hour_key = hour.key\n",
    "FROM hour\n",
    "WHERE TO_CHAR(rspns_time_facts.incident_datetime, 'YYYY-MM-DD HH24:00:00') = hour.hour;"
   ]
  },
  {
   "cell_type": "code",
   "execution_count": 74,
   "metadata": {},
   "outputs": [
    {
     "name": "stdout",
     "output_type": "stream",
     "text": [
      " * postgresql://student@/proj4_group17\n",
      "585519 rows affected.\n"
     ]
    },
    {
     "data": {
      "text/plain": [
       "[]"
      ]
     },
     "execution_count": 74,
     "metadata": {},
     "output_type": "execute_result"
    }
   ],
   "source": [
    "%%sql\n",
    "UPDATE rspns_time_facts\n",
    "SET incident_close_hour_key = hour.key\n",
    "FROM hour\n",
    "WHERE TO_CHAR(rspns_time_facts.incident_close_datetime, 'YYYY-MM-DD HH24:00:00') = hour.hour;"
   ]
  },
  {
   "cell_type": "markdown",
   "metadata": {},
   "source": [
    "***Check the foreign key column***"
   ]
  },
  {
   "cell_type": "code",
   "execution_count": 75,
   "metadata": {},
   "outputs": [
    {
     "name": "stdout",
     "output_type": "stream",
     "text": [
      " * postgresql://student@/proj4_group17\n",
      "5 rows affected.\n"
     ]
    },
    {
     "data": {
      "text/html": [
       "<table>\n",
       "    <tr>\n",
       "        <th>id</th>\n",
       "        <th>incident_hour_key</th>\n",
       "        <th>incident_close_hour_key</th>\n",
       "    </tr>\n",
       "    <tr>\n",
       "        <td>1600321390150087</td>\n",
       "        <td>54</td>\n",
       "        <td>54</td>\n",
       "    </tr>\n",
       "    <tr>\n",
       "        <td>1600338400140194</td>\n",
       "        <td>58</td>\n",
       "        <td>58</td>\n",
       "    </tr>\n",
       "    <tr>\n",
       "        <td>1600362930150157</td>\n",
       "        <td>60</td>\n",
       "        <td>61</td>\n",
       "    </tr>\n",
       "    <tr>\n",
       "        <td>1600309770110284</td>\n",
       "        <td>60</td>\n",
       "        <td>60</td>\n",
       "    </tr>\n",
       "    <tr>\n",
       "        <td>1600398000150174</td>\n",
       "        <td>60</td>\n",
       "        <td>60</td>\n",
       "    </tr>\n",
       "</table>"
      ],
      "text/plain": [
       "[(Decimal('1600321390150087'), 54, 54),\n",
       " (Decimal('1600338400140194'), 58, 58),\n",
       " (Decimal('1600362930150157'), 60, 61),\n",
       " (Decimal('1600309770110284'), 60, 60),\n",
       " (Decimal('1600398000150174'), 60, 60)]"
      ]
     },
     "execution_count": 75,
     "metadata": {},
     "output_type": "execute_result"
    }
   ],
   "source": [
    "%%sql\n",
    "SELECT id, incident_hour_key, incident_close_hour_key\n",
    "FROM rspns_time_facts\n",
    "LIMIT 5;"
   ]
  },
  {
   "cell_type": "code",
   "execution_count": 76,
   "metadata": {},
   "outputs": [
    {
     "name": "stdout",
     "output_type": "stream",
     "text": [
      " * postgresql://student@/proj4_group17\n",
      "1 rows affected.\n"
     ]
    },
    {
     "data": {
      "text/html": [
       "<table>\n",
       "    <tr>\n",
       "        <th>incident_hour_key_not_null_count</th>\n",
       "        <th>incident_close_hour_key_not_null_count</th>\n",
       "    </tr>\n",
       "    <tr>\n",
       "        <td>585519</td>\n",
       "        <td>585519</td>\n",
       "    </tr>\n",
       "</table>"
      ],
      "text/plain": [
       "[(585519, 585519)]"
      ]
     },
     "execution_count": 76,
     "metadata": {},
     "output_type": "execute_result"
    }
   ],
   "source": [
    "%%sql\n",
    "SELECT\n",
    "(SELECT COUNT(*) FROM rspns_time_facts WHERE incident_hour_key IS NOT NULL) AS incident_hour_key_not_null_count,\n",
    "(SELECT COUNT(*) FROM rspns_time_facts WHERE incident_close_hour_key IS NOT NULL) AS incident_close_hour_key_not_null_count;"
   ]
  },
  {
   "cell_type": "code",
   "execution_count": 77,
   "metadata": {},
   "outputs": [
    {
     "name": "stdout",
     "output_type": "stream",
     "text": [
      " * postgresql://student@/proj4_group17\n",
      "1 rows affected.\n"
     ]
    },
    {
     "data": {
      "text/html": [
       "<table>\n",
       "    <tr>\n",
       "        <th>incident_hour_key_null_count</th>\n",
       "        <th>incident_close_hour_key_null_count</th>\n",
       "    </tr>\n",
       "    <tr>\n",
       "        <td>0</td>\n",
       "        <td>0</td>\n",
       "    </tr>\n",
       "</table>"
      ],
      "text/plain": [
       "[(0, 0)]"
      ]
     },
     "execution_count": 77,
     "metadata": {},
     "output_type": "execute_result"
    }
   ],
   "source": [
    "%%sql\n",
    "SELECT\n",
    "(SELECT COUNT(*) FROM rspns_time_facts WHERE incident_hour_key IS NULL) AS incident_hour_key_null_count,\n",
    "(SELECT COUNT(*) FROM rspns_time_facts WHERE incident_close_hour_key IS NULL) AS incident_close_hour_key_null_count;"
   ]
  },
  {
   "cell_type": "markdown",
   "metadata": {},
   "source": [
    "### Drop the useless columns"
   ]
  },
  {
   "cell_type": "code",
   "execution_count": 78,
   "metadata": {},
   "outputs": [
    {
     "name": "stdout",
     "output_type": "stream",
     "text": [
      " * postgresql://student@/proj4_group17\n",
      "Done.\n"
     ]
    },
    {
     "data": {
      "text/plain": [
       "[]"
      ]
     },
     "execution_count": 78,
     "metadata": {},
     "output_type": "execute_result"
    }
   ],
   "source": [
    "%%sql\n",
    "ALTER TABLE rspns_time_facts \n",
    "DROP COLUMN incident_datetime,\n",
    "DROP COLUMN alarm_box_borough,\n",
    "DROP COLUMN alarm_box_number,\n",
    "DROP COLUMN alarm_box_location,\n",
    "DROP COLUMN incident_borough,\n",
    "DROP COLUMN zipcode,\n",
    "DROP COLUMN police_precinct,\n",
    "DROP COLUMN city_council_district,\n",
    "DROP COLUMN community_district,\n",
    "DROP COLUMN community_school_district,\n",
    "DROP COLUMN congressional_district,\n",
    "DROP COLUMN alarm_source_description_tx,\n",
    "DROP COLUMN alarm_level_index_description,\n",
    "DROP COLUMN highest_alarm_level,\n",
    "DROP COLUMN incident_classification,\n",
    "DROP COLUMN incident_classification_group,\n",
    "DROP COLUMN first_assignment_datetime,\n",
    "DROP COLUMN first_activation_datetime,\n",
    "DROP COLUMN first_on_scene_datetime,\n",
    "DROP COLUMN incident_close_datetime,\n",
    "DROP COLUMN valid_dispatch_rspns_time_indc,\n",
    "DROP COLUMN valid_incident_rspns_time_indc;"
   ]
  },
  {
   "cell_type": "code",
   "execution_count": 79,
   "metadata": {},
   "outputs": [
    {
     "name": "stdout",
     "output_type": "stream",
     "text": [
      " * postgresql://student@/proj4_group17\n",
      "10 rows affected.\n"
     ]
    },
    {
     "data": {
      "text/html": [
       "<table>\n",
       "    <tr>\n",
       "        <th>id</th>\n",
       "        <th>dispatch_rspns_s_qy</th>\n",
       "        <th>incident_rspns_s_qy</th>\n",
       "        <th>incident_travel_s_qy</th>\n",
       "        <th>alarm_box_key</th>\n",
       "        <th>alarm_key</th>\n",
       "        <th>incident_class_key</th>\n",
       "        <th>valid_rspns_key</th>\n",
       "        <th>incident_hour_key</th>\n",
       "        <th>incident_close_hour_key</th>\n",
       "    </tr>\n",
       "    <tr>\n",
       "        <td>1600321390150087</td>\n",
       "        <td>9</td>\n",
       "        <td>226</td>\n",
       "        <td>217</td>\n",
       "        <td>24001</td>\n",
       "        <td>51</td>\n",
       "        <td>26</td>\n",
       "        <td>2</td>\n",
       "        <td>54</td>\n",
       "        <td>54</td>\n",
       "    </tr>\n",
       "    <tr>\n",
       "        <td>1600338400140194</td>\n",
       "        <td>None</td>\n",
       "        <td>None</td>\n",
       "        <td>None</td>\n",
       "        <td>31357</td>\n",
       "        <td>59</td>\n",
       "        <td>1</td>\n",
       "        <td>1</td>\n",
       "        <td>58</td>\n",
       "        <td>58</td>\n",
       "    </tr>\n",
       "    <tr>\n",
       "        <td>1600362930150157</td>\n",
       "        <td>73</td>\n",
       "        <td>544</td>\n",
       "        <td>471</td>\n",
       "        <td>32496</td>\n",
       "        <td>51</td>\n",
       "        <td>6</td>\n",
       "        <td>2</td>\n",
       "        <td>60</td>\n",
       "        <td>61</td>\n",
       "    </tr>\n",
       "    <tr>\n",
       "        <td>1600309770110284</td>\n",
       "        <td>57</td>\n",
       "        <td>455</td>\n",
       "        <td>398</td>\n",
       "        <td>28189</td>\n",
       "        <td>14</td>\n",
       "        <td>1</td>\n",
       "        <td>2</td>\n",
       "        <td>60</td>\n",
       "        <td>60</td>\n",
       "    </tr>\n",
       "    <tr>\n",
       "        <td>1600398000150174</td>\n",
       "        <td>9</td>\n",
       "        <td>None</td>\n",
       "        <td>None</td>\n",
       "        <td>25983</td>\n",
       "        <td>10</td>\n",
       "        <td>2</td>\n",
       "        <td>1</td>\n",
       "        <td>60</td>\n",
       "        <td>60</td>\n",
       "    </tr>\n",
       "    <tr>\n",
       "        <td>1600398190150180</td>\n",
       "        <td>6</td>\n",
       "        <td>None</td>\n",
       "        <td>None</td>\n",
       "        <td>25769</td>\n",
       "        <td>10</td>\n",
       "        <td>2</td>\n",
       "        <td>1</td>\n",
       "        <td>61</td>\n",
       "        <td>61</td>\n",
       "    </tr>\n",
       "    <tr>\n",
       "        <td>1600325280120369</td>\n",
       "        <td>42</td>\n",
       "        <td>330</td>\n",
       "        <td>288</td>\n",
       "        <td>30019</td>\n",
       "        <td>13</td>\n",
       "        <td>33</td>\n",
       "        <td>2</td>\n",
       "        <td>63</td>\n",
       "        <td>63</td>\n",
       "    </tr>\n",
       "    <tr>\n",
       "        <td>1600309270110578</td>\n",
       "        <td>4</td>\n",
       "        <td>None</td>\n",
       "        <td>None</td>\n",
       "        <td>1919</td>\n",
       "        <td>10</td>\n",
       "        <td>2</td>\n",
       "        <td>1</td>\n",
       "        <td>67</td>\n",
       "        <td>67</td>\n",
       "    </tr>\n",
       "    <tr>\n",
       "        <td>1600328780120584</td>\n",
       "        <td>4</td>\n",
       "        <td>None</td>\n",
       "        <td>None</td>\n",
       "        <td>9052</td>\n",
       "        <td>10</td>\n",
       "        <td>2</td>\n",
       "        <td>1</td>\n",
       "        <td>67</td>\n",
       "        <td>67</td>\n",
       "    </tr>\n",
       "    <tr>\n",
       "        <td>1600336540120618</td>\n",
       "        <td>4</td>\n",
       "        <td>None</td>\n",
       "        <td>None</td>\n",
       "        <td>10325</td>\n",
       "        <td>24</td>\n",
       "        <td>3</td>\n",
       "        <td>1</td>\n",
       "        <td>68</td>\n",
       "        <td>68</td>\n",
       "    </tr>\n",
       "</table>"
      ],
      "text/plain": [
       "[(Decimal('1600321390150087'), 9, 226, 217, 24001, 51, 26, 2, 54, 54),\n",
       " (Decimal('1600338400140194'), None, None, None, 31357, 59, 1, 1, 58, 58),\n",
       " (Decimal('1600362930150157'), 73, 544, 471, 32496, 51, 6, 2, 60, 61),\n",
       " (Decimal('1600309770110284'), 57, 455, 398, 28189, 14, 1, 2, 60, 60),\n",
       " (Decimal('1600398000150174'), 9, None, None, 25983, 10, 2, 1, 60, 60),\n",
       " (Decimal('1600398190150180'), 6, None, None, 25769, 10, 2, 1, 61, 61),\n",
       " (Decimal('1600325280120369'), 42, 330, 288, 30019, 13, 33, 2, 63, 63),\n",
       " (Decimal('1600309270110578'), 4, None, None, 1919, 10, 2, 1, 67, 67),\n",
       " (Decimal('1600328780120584'), 4, None, None, 9052, 10, 2, 1, 67, 67),\n",
       " (Decimal('1600336540120618'), 4, None, None, 10325, 24, 3, 1, 68, 68)]"
      ]
     },
     "execution_count": 79,
     "metadata": {},
     "output_type": "execute_result"
    }
   ],
   "source": [
    "%%sql\n",
    "SELECT * FROM rspns_time_facts LIMIT 10;"
   ]
  },
  {
   "cell_type": "markdown",
   "metadata": {},
   "source": [
    "# Part 3 - Analysis (35 points)\n",
    "\n",
    "Explore and analyze your data in its wrangled form. Follow through on the themes you identified in Part 1 with queries or scripts that answer the questions you had in mind. Be clear about the answers you discover, discussing them and whether the results match your expectations. Include charts or other visuals that support your analysis. You may use Tableau, matplotlib, ggplot, or other tools we have not covered in class for visualization (and only for visualization), but be sure to export images from those tools and to include any images properly in your notebook writeup and slides."
   ]
  },
  {
   "cell_type": "markdown",
   "metadata": {},
   "source": [
    "## Show Tables in our database"
   ]
  },
  {
   "cell_type": "code",
   "execution_count": 80,
   "metadata": {},
   "outputs": [
    {
     "name": "stdout",
     "output_type": "stream",
     "text": [
      " * postgresql://student@/proj4_group17\n",
      "6 rows affected.\n"
     ]
    },
    {
     "data": {
      "text/html": [
       "<table>\n",
       "    <tr>\n",
       "        <th>Schema</th>\n",
       "        <th>Name</th>\n",
       "        <th>Type</th>\n",
       "        <th>Owner</th>\n",
       "    </tr>\n",
       "    <tr>\n",
       "        <td>public</td>\n",
       "        <td>alarm</td>\n",
       "        <td>table</td>\n",
       "        <td>student</td>\n",
       "    </tr>\n",
       "    <tr>\n",
       "        <td>public</td>\n",
       "        <td>alarm_box</td>\n",
       "        <td>table</td>\n",
       "        <td>student</td>\n",
       "    </tr>\n",
       "    <tr>\n",
       "        <td>public</td>\n",
       "        <td>hour</td>\n",
       "        <td>table</td>\n",
       "        <td>student</td>\n",
       "    </tr>\n",
       "    <tr>\n",
       "        <td>public</td>\n",
       "        <td>incident_class</td>\n",
       "        <td>table</td>\n",
       "        <td>student</td>\n",
       "    </tr>\n",
       "    <tr>\n",
       "        <td>public</td>\n",
       "        <td>rspns_time_facts</td>\n",
       "        <td>table</td>\n",
       "        <td>student</td>\n",
       "    </tr>\n",
       "    <tr>\n",
       "        <td>public</td>\n",
       "        <td>valid_rspns</td>\n",
       "        <td>table</td>\n",
       "        <td>student</td>\n",
       "    </tr>\n",
       "</table>"
      ],
      "text/plain": [
       "[('public', 'alarm', 'table', 'student'),\n",
       " ('public', 'alarm_box', 'table', 'student'),\n",
       " ('public', 'hour', 'table', 'student'),\n",
       " ('public', 'incident_class', 'table', 'student'),\n",
       " ('public', 'rspns_time_facts', 'table', 'student'),\n",
       " ('public', 'valid_rspns', 'table', 'student')]"
      ]
     },
     "execution_count": 80,
     "metadata": {},
     "output_type": "execute_result"
    }
   ],
   "source": [
    "%%sql\n",
    "\\dt"
   ]
  },
  {
   "cell_type": "markdown",
   "metadata": {},
   "source": [
    "## Connect the database with Python for Visualization"
   ]
  },
  {
   "cell_type": "code",
   "execution_count": 81,
   "metadata": {},
   "outputs": [],
   "source": [
    "import psycopg2\n",
    "import geocoder\n",
    "import matplotlib.pyplot as plt\n",
    "import pandas\n",
    "import numpy as np\n",
    "\n",
    "conn = psycopg2.connect(\"dbname='proj4_group17' user='student'\")\n",
    "c = conn.cursor()"
   ]
  },
  {
   "cell_type": "markdown",
   "metadata": {},
   "source": [
    "## What does the incident distribution by borough look like?"
   ]
  },
  {
   "cell_type": "markdown",
   "metadata": {},
   "source": [
    "***Check the data we want using SQL***"
   ]
  },
  {
   "cell_type": "code",
   "execution_count": 82,
   "metadata": {},
   "outputs": [
    {
     "name": "stdout",
     "output_type": "stream",
     "text": [
      " * postgresql://student@/proj4_group17\n",
      "5 rows affected.\n"
     ]
    },
    {
     "data": {
      "text/html": [
       "<table>\n",
       "    <tr>\n",
       "        <th>borough</th>\n",
       "        <th>count</th>\n",
       "    </tr>\n",
       "    <tr>\n",
       "        <td>RICHMOND / STATEN ISLAND</td>\n",
       "        <td>28738</td>\n",
       "    </tr>\n",
       "    <tr>\n",
       "        <td>QUEENS</td>\n",
       "        <td>115427</td>\n",
       "    </tr>\n",
       "    <tr>\n",
       "        <td>MANHATTAN</td>\n",
       "        <td>158219</td>\n",
       "    </tr>\n",
       "    <tr>\n",
       "        <td>BRONX</td>\n",
       "        <td>117702</td>\n",
       "    </tr>\n",
       "    <tr>\n",
       "        <td>BROOKLYN</td>\n",
       "        <td>165433</td>\n",
       "    </tr>\n",
       "</table>"
      ],
      "text/plain": [
       "[('RICHMOND / STATEN ISLAND', 28738),\n",
       " ('QUEENS', 115427),\n",
       " ('MANHATTAN', 158219),\n",
       " ('BRONX', 117702),\n",
       " ('BROOKLYN', 165433)]"
      ]
     },
     "execution_count": 82,
     "metadata": {},
     "output_type": "execute_result"
    }
   ],
   "source": [
    "%%sql\n",
    "SELECT alarm_box.borough, count(*)\n",
    "FROM alarm_box, incident_class, rspns_time_facts\n",
    "WHERE alarm_box.key = rspns_time_facts.alarm_box_key\n",
    "    AND incident_class.key = rspns_time_facts.incident_class_key\n",
    "GROUP BY alarm_box.borough;"
   ]
  },
  {
   "cell_type": "markdown",
   "metadata": {},
   "source": [
    "***Discussion***"
   ]
  },
  {
   "cell_type": "markdown",
   "metadata": {},
   "source": [
    "Brooklyn has the most incidents and Manhattan has the second-highest number of incidents."
   ]
  },
  {
   "cell_type": "markdown",
   "metadata": {},
   "source": [
    "Since a visual display can be more appealing than a regular table, we created a bar chart to display the distribution."
   ]
  },
  {
   "cell_type": "markdown",
   "metadata": {},
   "source": [
    "***Visualize the data using Python***"
   ]
  },
  {
   "cell_type": "code",
   "execution_count": 83,
   "metadata": {},
   "outputs": [
    {
     "data": {
      "image/png": "[encoded data removed]",
      "text/plain": [
       "<Figure size 432x288 with 1 Axes>"
      ]
     },
     "metadata": {
      "needs_background": "light"
     },
     "output_type": "display_data"
    }
   ],
   "source": [
    "sql = '''\n",
    "    SELECT alarm_box.borough, count(*)\n",
    "    FROM alarm_box, incident_class, rspns_time_facts\n",
    "    WHERE alarm_box.key = rspns_time_facts.alarm_box_key\n",
    "        AND incident_class.key = rspns_time_facts.incident_class_key\n",
    "    GROUP BY alarm_box.borough;\n",
    "'''\n",
    "\n",
    "c.execute(sql)\n",
    "rows = c.fetchall()\n",
    "\n",
    "plt.barh([i[0] for i in rows], [i[1] for i in rows])\n",
    "plt.xlabel(\"total incidents\")\n",
    "plt.ylabel(\"borough\")\n",
    "plt.title(\"Total No. of Incidents for Each Borough\")\n",
    "plt.show()"
   ]
  },
  {
   "cell_type": "markdown",
   "metadata": {},
   "source": [
    "## How is each type of incidents distributed for each borough?"
   ]
  },
  {
   "cell_type": "markdown",
   "metadata": {},
   "source": [
    "***Check the data we want using SQL***"
   ]
  },
  {
   "cell_type": "code",
   "execution_count": 84,
   "metadata": {},
   "outputs": [
    {
     "name": "stdout",
     "output_type": "stream",
     "text": [
      " * postgresql://student@/proj4_group17\n",
      "30 rows affected.\n"
     ]
    },
    {
     "data": {
      "text/html": [
       "<table>\n",
       "    <tr>\n",
       "        <th>borough</th>\n",
       "        <th>group_des</th>\n",
       "        <th>count</th>\n",
       "    </tr>\n",
       "    <tr>\n",
       "        <td>BRONX</td>\n",
       "        <td>Medical Emergencies</td>\n",
       "        <td>52432</td>\n",
       "    </tr>\n",
       "    <tr>\n",
       "        <td>BRONX</td>\n",
       "        <td>Medical MFAs</td>\n",
       "        <td>593</td>\n",
       "    </tr>\n",
       "    <tr>\n",
       "        <td>BRONX</td>\n",
       "        <td>NonMedical Emergencies</td>\n",
       "        <td>51681</td>\n",
       "    </tr>\n",
       "    <tr>\n",
       "        <td>BRONX</td>\n",
       "        <td>NonMedical MFAs</td>\n",
       "        <td>4738</td>\n",
       "    </tr>\n",
       "    <tr>\n",
       "        <td>BRONX</td>\n",
       "        <td>NonStructural Fires</td>\n",
       "        <td>2233</td>\n",
       "    </tr>\n",
       "    <tr>\n",
       "        <td>BRONX</td>\n",
       "        <td>Structural Fires</td>\n",
       "        <td>6025</td>\n",
       "    </tr>\n",
       "    <tr>\n",
       "        <td>BROOKLYN</td>\n",
       "        <td>Medical Emergencies</td>\n",
       "        <td>77262</td>\n",
       "    </tr>\n",
       "    <tr>\n",
       "        <td>BROOKLYN</td>\n",
       "        <td>Medical MFAs</td>\n",
       "        <td>957</td>\n",
       "    </tr>\n",
       "    <tr>\n",
       "        <td>BROOKLYN</td>\n",
       "        <td>NonMedical Emergencies</td>\n",
       "        <td>68389</td>\n",
       "    </tr>\n",
       "    <tr>\n",
       "        <td>BROOKLYN</td>\n",
       "        <td>NonMedical MFAs</td>\n",
       "        <td>5787</td>\n",
       "    </tr>\n",
       "    <tr>\n",
       "        <td>BROOKLYN</td>\n",
       "        <td>NonStructural Fires</td>\n",
       "        <td>4682</td>\n",
       "    </tr>\n",
       "    <tr>\n",
       "        <td>BROOKLYN</td>\n",
       "        <td>Structural Fires</td>\n",
       "        <td>8356</td>\n",
       "    </tr>\n",
       "    <tr>\n",
       "        <td>MANHATTAN</td>\n",
       "        <td>Medical Emergencies</td>\n",
       "        <td>74507</td>\n",
       "    </tr>\n",
       "    <tr>\n",
       "        <td>MANHATTAN</td>\n",
       "        <td>Medical MFAs</td>\n",
       "        <td>759</td>\n",
       "    </tr>\n",
       "    <tr>\n",
       "        <td>MANHATTAN</td>\n",
       "        <td>NonMedical Emergencies</td>\n",
       "        <td>68956</td>\n",
       "    </tr>\n",
       "    <tr>\n",
       "        <td>MANHATTAN</td>\n",
       "        <td>NonMedical MFAs</td>\n",
       "        <td>4218</td>\n",
       "    </tr>\n",
       "    <tr>\n",
       "        <td>MANHATTAN</td>\n",
       "        <td>NonStructural Fires</td>\n",
       "        <td>3674</td>\n",
       "    </tr>\n",
       "    <tr>\n",
       "        <td>MANHATTAN</td>\n",
       "        <td>Structural Fires</td>\n",
       "        <td>6105</td>\n",
       "    </tr>\n",
       "    <tr>\n",
       "        <td>QUEENS</td>\n",
       "        <td>Medical Emergencies</td>\n",
       "        <td>55582</td>\n",
       "    </tr>\n",
       "    <tr>\n",
       "        <td>QUEENS</td>\n",
       "        <td>Medical MFAs</td>\n",
       "        <td>622</td>\n",
       "    </tr>\n",
       "    <tr>\n",
       "        <td>QUEENS</td>\n",
       "        <td>NonMedical Emergencies</td>\n",
       "        <td>45743</td>\n",
       "    </tr>\n",
       "    <tr>\n",
       "        <td>QUEENS</td>\n",
       "        <td>NonMedical MFAs</td>\n",
       "        <td>4677</td>\n",
       "    </tr>\n",
       "    <tr>\n",
       "        <td>QUEENS</td>\n",
       "        <td>NonStructural Fires</td>\n",
       "        <td>3250</td>\n",
       "    </tr>\n",
       "    <tr>\n",
       "        <td>QUEENS</td>\n",
       "        <td>Structural Fires</td>\n",
       "        <td>5553</td>\n",
       "    </tr>\n",
       "    <tr>\n",
       "        <td>RICHMOND / STATEN ISLAND</td>\n",
       "        <td>Medical Emergencies</td>\n",
       "        <td>12914</td>\n",
       "    </tr>\n",
       "    <tr>\n",
       "        <td>RICHMOND / STATEN ISLAND</td>\n",
       "        <td>Medical MFAs</td>\n",
       "        <td>98</td>\n",
       "    </tr>\n",
       "    <tr>\n",
       "        <td>RICHMOND / STATEN ISLAND</td>\n",
       "        <td>NonMedical Emergencies</td>\n",
       "        <td>11850</td>\n",
       "    </tr>\n",
       "    <tr>\n",
       "        <td>RICHMOND / STATEN ISLAND</td>\n",
       "        <td>NonMedical MFAs</td>\n",
       "        <td>1537</td>\n",
       "    </tr>\n",
       "    <tr>\n",
       "        <td>RICHMOND / STATEN ISLAND</td>\n",
       "        <td>NonStructural Fires</td>\n",
       "        <td>938</td>\n",
       "    </tr>\n",
       "    <tr>\n",
       "        <td>RICHMOND / STATEN ISLAND</td>\n",
       "        <td>Structural Fires</td>\n",
       "        <td>1401</td>\n",
       "    </tr>\n",
       "</table>"
      ],
      "text/plain": [
       "[('BRONX', 'Medical Emergencies', 52432),\n",
       " ('BRONX', 'Medical MFAs', 593),\n",
       " ('BRONX', 'NonMedical Emergencies', 51681),\n",
       " ('BRONX', 'NonMedical MFAs', 4738),\n",
       " ('BRONX', 'NonStructural Fires', 2233),\n",
       " ('BRONX', 'Structural Fires', 6025),\n",
       " ('BROOKLYN', 'Medical Emergencies', 77262),\n",
       " ('BROOKLYN', 'Medical MFAs', 957),\n",
       " ('BROOKLYN', 'NonMedical Emergencies', 68389),\n",
       " ('BROOKLYN', 'NonMedical MFAs', 5787),\n",
       " ('BROOKLYN', 'NonStructural Fires', 4682),\n",
       " ('BROOKLYN', 'Structural Fires', 8356),\n",
       " ('MANHATTAN', 'Medical Emergencies', 74507),\n",
       " ('MANHATTAN', 'Medical MFAs', 759),\n",
       " ('MANHATTAN', 'NonMedical Emergencies', 68956),\n",
       " ('MANHATTAN', 'NonMedical MFAs', 4218),\n",
       " ('MANHATTAN', 'NonStructural Fires', 3674),\n",
       " ('MANHATTAN', 'Structural Fires', 6105),\n",
       " ('QUEENS', 'Medical Emergencies', 55582),\n",
       " ('QUEENS', 'Medical MFAs', 622),\n",
       " ('QUEENS', 'NonMedical Emergencies', 45743),\n",
       " ('QUEENS', 'NonMedical MFAs', 4677),\n",
       " ('QUEENS', 'NonStructural Fires', 3250),\n",
       " ('QUEENS', 'Structural Fires', 5553),\n",
       " ('RICHMOND / STATEN ISLAND', 'Medical Emergencies', 12914),\n",
       " ('RICHMOND / STATEN ISLAND', 'Medical MFAs', 98),\n",
       " ('RICHMOND / STATEN ISLAND', 'NonMedical Emergencies', 11850),\n",
       " ('RICHMOND / STATEN ISLAND', 'NonMedical MFAs', 1537),\n",
       " ('RICHMOND / STATEN ISLAND', 'NonStructural Fires', 938),\n",
       " ('RICHMOND / STATEN ISLAND', 'Structural Fires', 1401)]"
      ]
     },
     "execution_count": 84,
     "metadata": {},
     "output_type": "execute_result"
    }
   ],
   "source": [
    "%%sql\n",
    "SELECT alarm_box.borough, incident_class.group_des, count(*)\n",
    "FROM alarm_box, incident_class, rspns_time_facts\n",
    "WHERE alarm_box.key = rspns_time_facts.alarm_box_key\n",
    "    AND incident_class.key = rspns_time_facts.incident_class_key\n",
    "GROUP BY alarm_box.borough, incident_class.group_des\n",
    "ORDER BY alarm_box.borough, incident_class.group_des;"
   ]
  },
  {
   "cell_type": "markdown",
   "metadata": {},
   "source": [
    "***Discussion***"
   ]
  },
  {
   "cell_type": "markdown",
   "metadata": {},
   "source": [
    "We can see from the plot that NonMedical Emergencies and Medical Emergencies are occur frequently for all boroughs. Contrary to our original ideas, the fire department actually responds to not only the fire incidents, but also some medical or nonmedical emergencies."
   ]
  },
  {
   "cell_type": "markdown",
   "metadata": {},
   "source": [
    "***Visualize the data using Python***"
   ]
  },
  {
   "cell_type": "code",
   "execution_count": 85,
   "metadata": {},
   "outputs": [
    {
     "data": {
      "image/png": "[encoded data removed]",
      "text/plain": [
       "<Figure size 432x288 with 1 Axes>"
      ]
     },
     "metadata": {
      "needs_background": "light"
     },
     "output_type": "display_data"
    }
   ],
   "source": [
    "sql = '''\n",
    "    SELECT alarm_box.borough, incident_class.group_des, count(*)\n",
    "    FROM alarm_box, incident_class, rspns_time_facts\n",
    "    WHERE alarm_box.key = rspns_time_facts.alarm_box_key\n",
    "        AND incident_class.key = rspns_time_facts.incident_class_key\n",
    "    GROUP BY alarm_box.borough, incident_class.group_des\n",
    "    ORDER BY alarm_box.borough, incident_class.group_des;\n",
    "'''\n",
    "\n",
    "c.execute(sql)\n",
    "rows = c.fetchall()\n",
    "\n",
    "subrows1 = [i for i in rows if i[1] == 'Medical Emergencies']\n",
    "subrows2 = [i for i in rows if i[1] == 'Medical MFAs']\n",
    "subrows3 = [i for i in rows if i[1] == 'NonMedical Emergencies']\n",
    "subrows4 = [i for i in rows if i[1] == 'NonMedical MFAs']\n",
    "subrows5 = [i for i in rows if i[1] == 'NonStructural Fires']\n",
    "subrows6 = [i for i in rows if i[1] == 'Structural Fires']\n",
    "\n",
    "ind = np.array([3*i for i in range(5)])\n",
    "width = 0.4\n",
    "\n",
    "fig, ax = plt.subplots()\n",
    "ax.bar(ind,[i[2] for i in subrows1], width, label='Medical Emergencies')\n",
    "ax.bar(ind + width,[i[2] for i in subrows2], width, label='Medical MFAs')\n",
    "ax.bar(ind + 2*width,[i[2] for i in subrows3], width, label='NonMedical Emergencies')\n",
    "ax.bar(ind + 3*width,[i[2] for i in subrows4], width, label='NonMedical MFAs')\n",
    "ax.bar(ind + 4*width,[i[2] for i in subrows5], width, label='NonStructural Fires')\n",
    "ax.bar(ind + 5*width,[i[2] for i in subrows6], width, label='Structural Fires')\n",
    "ax.set_ylabel('number of incidents')\n",
    "ax.set_title('Incidents by Type for Each Borough')\n",
    "ax.set_xticks(ind + width)\n",
    "ax.set_xticklabels(('Bronx', 'Brooklyn', 'Manhattan', 'Queens', 'R/S Island'))\n",
    "ax.legend()\n",
    "\n",
    "plt.show()"
   ]
  },
  {
   "cell_type": "markdown",
   "metadata": {},
   "source": [
    "## What does the fire incident distribution by borough look like? \n",
    "\n",
    "Since the dataset contains a high number of incidents that do not involve fires, we filtered out the non-fire incidents to focus more specifically on the information we wanted to analyze."
   ]
  },
  {
   "cell_type": "markdown",
   "metadata": {},
   "source": [
    "***Check the data we want using SQL***"
   ]
  },
  {
   "cell_type": "code",
   "execution_count": 86,
   "metadata": {},
   "outputs": [
    {
     "name": "stdout",
     "output_type": "stream",
     "text": [
      " * postgresql://student@/proj4_group17\n",
      "5 rows affected.\n"
     ]
    },
    {
     "data": {
      "text/html": [
       "<table>\n",
       "    <tr>\n",
       "        <th>borough</th>\n",
       "        <th>count</th>\n",
       "    </tr>\n",
       "    <tr>\n",
       "        <td>RICHMOND / STATEN ISLAND</td>\n",
       "        <td>2339</td>\n",
       "    </tr>\n",
       "    <tr>\n",
       "        <td>QUEENS</td>\n",
       "        <td>8803</td>\n",
       "    </tr>\n",
       "    <tr>\n",
       "        <td>MANHATTAN</td>\n",
       "        <td>9779</td>\n",
       "    </tr>\n",
       "    <tr>\n",
       "        <td>BRONX</td>\n",
       "        <td>8258</td>\n",
       "    </tr>\n",
       "    <tr>\n",
       "        <td>BROOKLYN</td>\n",
       "        <td>13038</td>\n",
       "    </tr>\n",
       "</table>"
      ],
      "text/plain": [
       "[('RICHMOND / STATEN ISLAND', 2339),\n",
       " ('QUEENS', 8803),\n",
       " ('MANHATTAN', 9779),\n",
       " ('BRONX', 8258),\n",
       " ('BROOKLYN', 13038)]"
      ]
     },
     "execution_count": 86,
     "metadata": {},
     "output_type": "execute_result"
    }
   ],
   "source": [
    "%%sql\n",
    "SELECT alarm_box.borough, count(*)\n",
    "FROM alarm_box, incident_class, rspns_time_facts\n",
    "WHERE alarm_box.key = rspns_time_facts.alarm_box_key\n",
    "    AND incident_class.key = rspns_time_facts.incident_class_key\n",
    "    AND incident_class.group_des LIKE '%Fire%'\n",
    "GROUP BY alarm_box.borough;"
   ]
  },
  {
   "cell_type": "markdown",
   "metadata": {},
   "source": [
    "***Discussion***"
   ]
  },
  {
   "cell_type": "markdown",
   "metadata": {},
   "source": [
    "Based on the table, we can identify that Brooklyn has the most fire incidents. In a similar fashion as previously detailed, we continue to show the distribution figures represented in a bar chart."
   ]
  },
  {
   "cell_type": "markdown",
   "metadata": {},
   "source": [
    "***Visualize the data using Python***"
   ]
  },
  {
   "cell_type": "code",
   "execution_count": 87,
   "metadata": {},
   "outputs": [
    {
     "data": {
      "image/png": "[encoded data removed]",
      "text/plain": [
       "<Figure size 432x288 with 1 Axes>"
      ]
     },
     "metadata": {
      "needs_background": "light"
     },
     "output_type": "display_data"
    }
   ],
   "source": [
    "sql = '''\n",
    "    SELECT alarm_box.borough, count(*)\n",
    "    FROM alarm_box, incident_class, rspns_time_facts\n",
    "    WHERE alarm_box.key = rspns_time_facts.alarm_box_key\n",
    "        AND incident_class.key = rspns_time_facts.incident_class_key\n",
    "        AND incident_class.group_des LIKE '%Fire%'\n",
    "    GROUP BY alarm_box.borough;\n",
    "'''\n",
    "\n",
    "c.execute(sql)\n",
    "rows = c.fetchall()\n",
    "\n",
    "plt.barh([i[0] for i in rows], [i[1] for i in rows])\n",
    "plt.xlabel(\"total fire incidents\")\n",
    "plt.ylabel(\"borough\")\n",
    "plt.title(\"Total No. of Fires Incidents for Each Borough\")\n",
    "plt.show()"
   ]
  },
  {
   "cell_type": "markdown",
   "metadata": {},
   "source": [
    "## How is the fire incident severeness distributed for each borough?"
   ]
  },
  {
   "cell_type": "markdown",
   "metadata": {},
   "source": [
    "***Check the data we want using SQL***"
   ]
  },
  {
   "cell_type": "code",
   "execution_count": 88,
   "metadata": {},
   "outputs": [
    {
     "name": "stdout",
     "output_type": "stream",
     "text": [
      " * postgresql://student@/proj4_group17\n",
      "35 rows affected.\n"
     ]
    },
    {
     "data": {
      "text/html": [
       "<table>\n",
       "    <tr>\n",
       "        <th>borough</th>\n",
       "        <th>highest_level</th>\n",
       "        <th>count</th>\n",
       "    </tr>\n",
       "    <tr>\n",
       "        <td>BRONX</td>\n",
       "        <td>All Hands Working</td>\n",
       "        <td>356</td>\n",
       "    </tr>\n",
       "    <tr>\n",
       "        <td>BRONX</td>\n",
       "        <td>First Alarm</td>\n",
       "        <td>7691</td>\n",
       "    </tr>\n",
       "    <tr>\n",
       "        <td>BRONX</td>\n",
       "        <td>Fourth Alarm</td>\n",
       "        <td>3</td>\n",
       "    </tr>\n",
       "    <tr>\n",
       "        <td>BRONX</td>\n",
       "        <td>Second Alarm</td>\n",
       "        <td>21</td>\n",
       "    </tr>\n",
       "    <tr>\n",
       "        <td>BRONX</td>\n",
       "        <td>Seventh Alarm </td>\n",
       "        <td>183</td>\n",
       "    </tr>\n",
       "    <tr>\n",
       "        <td>BRONX</td>\n",
       "        <td>Third Alarm</td>\n",
       "        <td>4</td>\n",
       "    </tr>\n",
       "    <tr>\n",
       "        <td>BROOKLYN</td>\n",
       "        <td>All Hands Working</td>\n",
       "        <td>671</td>\n",
       "    </tr>\n",
       "    <tr>\n",
       "        <td>BROOKLYN</td>\n",
       "        <td>Fifth Alarm or Higher</td>\n",
       "        <td>4</td>\n",
       "    </tr>\n",
       "    <tr>\n",
       "        <td>BROOKLYN</td>\n",
       "        <td>First Alarm</td>\n",
       "        <td>12001</td>\n",
       "    </tr>\n",
       "    <tr>\n",
       "        <td>BROOKLYN</td>\n",
       "        <td>Fourth Alarm</td>\n",
       "        <td>3</td>\n",
       "    </tr>\n",
       "    <tr>\n",
       "        <td>BROOKLYN</td>\n",
       "        <td>Second Alarm</td>\n",
       "        <td>38</td>\n",
       "    </tr>\n",
       "    <tr>\n",
       "        <td>BROOKLYN</td>\n",
       "        <td>Seventh Alarm </td>\n",
       "        <td>315</td>\n",
       "    </tr>\n",
       "    <tr>\n",
       "        <td>BROOKLYN</td>\n",
       "        <td>Third Alarm</td>\n",
       "        <td>6</td>\n",
       "    </tr>\n",
       "    <tr>\n",
       "        <td>MANHATTAN</td>\n",
       "        <td>All Hands Working</td>\n",
       "        <td>344</td>\n",
       "    </tr>\n",
       "    <tr>\n",
       "        <td>MANHATTAN</td>\n",
       "        <td>Fifth Alarm</td>\n",
       "        <td>2</td>\n",
       "    </tr>\n",
       "    <tr>\n",
       "        <td>MANHATTAN</td>\n",
       "        <td>Fifth Alarm or Higher</td>\n",
       "        <td>2</td>\n",
       "    </tr>\n",
       "    <tr>\n",
       "        <td>MANHATTAN</td>\n",
       "        <td>First Alarm</td>\n",
       "        <td>9234</td>\n",
       "    </tr>\n",
       "    <tr>\n",
       "        <td>MANHATTAN</td>\n",
       "        <td>Fourth Alarm</td>\n",
       "        <td>3</td>\n",
       "    </tr>\n",
       "    <tr>\n",
       "        <td>MANHATTAN</td>\n",
       "        <td>Second Alarm</td>\n",
       "        <td>23</td>\n",
       "    </tr>\n",
       "    <tr>\n",
       "        <td>MANHATTAN</td>\n",
       "        <td>Seventh Alarm </td>\n",
       "        <td>163</td>\n",
       "    </tr>\n",
       "    <tr>\n",
       "        <td>MANHATTAN</td>\n",
       "        <td>Third Alarm</td>\n",
       "        <td>8</td>\n",
       "    </tr>\n",
       "    <tr>\n",
       "        <td>QUEENS</td>\n",
       "        <td>All Hands Working</td>\n",
       "        <td>529</td>\n",
       "    </tr>\n",
       "    <tr>\n",
       "        <td>QUEENS</td>\n",
       "        <td>Fifth Alarm</td>\n",
       "        <td>3</td>\n",
       "    </tr>\n",
       "    <tr>\n",
       "        <td>QUEENS</td>\n",
       "        <td>Fifth Alarm or Higher</td>\n",
       "        <td>5</td>\n",
       "    </tr>\n",
       "    <tr>\n",
       "        <td>QUEENS</td>\n",
       "        <td>First Alarm</td>\n",
       "        <td>7968</td>\n",
       "    </tr>\n",
       "    <tr>\n",
       "        <td>QUEENS</td>\n",
       "        <td>Second Alarm</td>\n",
       "        <td>31</td>\n",
       "    </tr>\n",
       "    <tr>\n",
       "        <td>QUEENS</td>\n",
       "        <td>Seventh Alarm </td>\n",
       "        <td>261</td>\n",
       "    </tr>\n",
       "    <tr>\n",
       "        <td>QUEENS</td>\n",
       "        <td>Third Alarm</td>\n",
       "        <td>6</td>\n",
       "    </tr>\n",
       "    <tr>\n",
       "        <td>RICHMOND / STATEN ISLAND</td>\n",
       "        <td>All Hands Working</td>\n",
       "        <td>140</td>\n",
       "    </tr>\n",
       "    <tr>\n",
       "        <td>RICHMOND / STATEN ISLAND</td>\n",
       "        <td>Fifth Alarm</td>\n",
       "        <td>1</td>\n",
       "    </tr>\n",
       "    <tr>\n",
       "        <td>RICHMOND / STATEN ISLAND</td>\n",
       "        <td>Fifth Alarm or Higher</td>\n",
       "        <td>1</td>\n",
       "    </tr>\n",
       "    <tr>\n",
       "        <td>RICHMOND / STATEN ISLAND</td>\n",
       "        <td>First Alarm</td>\n",
       "        <td>2116</td>\n",
       "    </tr>\n",
       "    <tr>\n",
       "        <td>RICHMOND / STATEN ISLAND</td>\n",
       "        <td>Second Alarm</td>\n",
       "        <td>14</td>\n",
       "    </tr>\n",
       "    <tr>\n",
       "        <td>RICHMOND / STATEN ISLAND</td>\n",
       "        <td>Seventh Alarm </td>\n",
       "        <td>66</td>\n",
       "    </tr>\n",
       "    <tr>\n",
       "        <td>RICHMOND / STATEN ISLAND</td>\n",
       "        <td>Third Alarm</td>\n",
       "        <td>1</td>\n",
       "    </tr>\n",
       "</table>"
      ],
      "text/plain": [
       "[('BRONX', 'All Hands Working', 356),\n",
       " ('BRONX', 'First Alarm', 7691),\n",
       " ('BRONX', 'Fourth Alarm', 3),\n",
       " ('BRONX', 'Second Alarm', 21),\n",
       " ('BRONX', 'Seventh Alarm ', 183),\n",
       " ('BRONX', 'Third Alarm', 4),\n",
       " ('BROOKLYN', 'All Hands Working', 671),\n",
       " ('BROOKLYN', 'Fifth Alarm or Higher', 4),\n",
       " ('BROOKLYN', 'First Alarm', 12001),\n",
       " ('BROOKLYN', 'Fourth Alarm', 3),\n",
       " ('BROOKLYN', 'Second Alarm', 38),\n",
       " ('BROOKLYN', 'Seventh Alarm ', 315),\n",
       " ('BROOKLYN', 'Third Alarm', 6),\n",
       " ('MANHATTAN', 'All Hands Working', 344),\n",
       " ('MANHATTAN', 'Fifth Alarm', 2),\n",
       " ('MANHATTAN', 'Fifth Alarm or Higher', 2),\n",
       " ('MANHATTAN', 'First Alarm', 9234),\n",
       " ('MANHATTAN', 'Fourth Alarm', 3),\n",
       " ('MANHATTAN', 'Second Alarm', 23),\n",
       " ('MANHATTAN', 'Seventh Alarm ', 163),\n",
       " ('MANHATTAN', 'Third Alarm', 8),\n",
       " ('QUEENS', 'All Hands Working', 529),\n",
       " ('QUEENS', 'Fifth Alarm', 3),\n",
       " ('QUEENS', 'Fifth Alarm or Higher', 5),\n",
       " ('QUEENS', 'First Alarm', 7968),\n",
       " ('QUEENS', 'Second Alarm', 31),\n",
       " ('QUEENS', 'Seventh Alarm ', 261),\n",
       " ('QUEENS', 'Third Alarm', 6),\n",
       " ('RICHMOND / STATEN ISLAND', 'All Hands Working', 140),\n",
       " ('RICHMOND / STATEN ISLAND', 'Fifth Alarm', 1),\n",
       " ('RICHMOND / STATEN ISLAND', 'Fifth Alarm or Higher', 1),\n",
       " ('RICHMOND / STATEN ISLAND', 'First Alarm', 2116),\n",
       " ('RICHMOND / STATEN ISLAND', 'Second Alarm', 14),\n",
       " ('RICHMOND / STATEN ISLAND', 'Seventh Alarm ', 66),\n",
       " ('RICHMOND / STATEN ISLAND', 'Third Alarm', 1)]"
      ]
     },
     "execution_count": 88,
     "metadata": {},
     "output_type": "execute_result"
    }
   ],
   "source": [
    "%%sql\n",
    "SELECT alarm_box.borough, alarm.highest_level, count(*)\n",
    "FROM alarm_box, alarm, rspns_time_facts, incident_class\n",
    "WHERE alarm_box.key = rspns_time_facts.alarm_box_key\n",
    "    AND alarm.key = rspns_time_facts.alarm_key\n",
    "    AND incident_class.key = rspns_time_facts.incident_class_key\n",
    "    AND incident_class.group_des LIKE '%Fires%'\n",
    "GROUP BY alarm_box.borough, alarm.highest_level\n",
    "ORDER BY alarm_box.borough, alarm.highest_level;"
   ]
  },
  {
   "cell_type": "markdown",
   "metadata": {},
   "source": [
    "***Discussion***"
   ]
  },
  {
   "cell_type": "markdown",
   "metadata": {},
   "source": [
    "First Alarm fire incidents are much more than the others, which skews the data and makes other bars too small if we plot them together in a bar chart.Therefore, we separated the visualizations for first alarm.\n",
    "\n",
    "Also, we can see from the selected table above, that fourth, fifth, fifth or higher alarm fires didn't happen in all the boroughs, and the numbers are pretty small compared to others. So, we exclude them when visualizing in the bar charts.\n",
    "\n",
    "We can also see Brooklyn has the most seventh alarm fire incidents, which are the most severe fires represented in the data. The reason might be the large number of incidents happened in Brooklyn. Situations in Queens are severe as well, which has the third most fire incidents but the second most severe fires."
   ]
  },
  {
   "cell_type": "markdown",
   "metadata": {},
   "source": [
    "***Visualize the data using Python***"
   ]
  },
  {
   "cell_type": "code",
   "execution_count": 89,
   "metadata": {},
   "outputs": [
    {
     "data": {
      "image/png": "[encoded data removed]",
      "text/plain": [
       "<Figure size 432x288 with 1 Axes>"
      ]
     },
     "metadata": {
      "needs_background": "light"
     },
     "output_type": "display_data"
    }
   ],
   "source": [
    "sql = '''\n",
    "    SELECT alarm_box.borough, alarm.highest_level, count(*)\n",
    "    FROM alarm_box, alarm, rspns_time_facts\n",
    "    WHERE alarm_box.key = rspns_time_facts.alarm_box_key\n",
    "        AND alarm.key = rspns_time_facts.alarm_key\n",
    "    GROUP BY alarm_box.borough, alarm.highest_level\n",
    "    ORDER BY alarm_box.borough, alarm.highest_level;\n",
    "'''\n",
    "\n",
    "c.execute(sql)\n",
    "rows = c.fetchall()\n",
    "\n",
    "subrows = [i for i in rows if i[1] == 'First Alarm']\n",
    "plt.barh([i[0] for i in subrows], [i[2] for i in subrows])\n",
    "plt.xlabel(\"number of incidents\")\n",
    "plt.ylabel(\"borough\")\n",
    "plt.title(\"First Alarm Incident Distribution\")\n",
    "plt.show()"
   ]
  },
  {
   "cell_type": "code",
   "execution_count": 90,
   "metadata": {},
   "outputs": [
    {
     "data": {
      "image/png": "[encoded data removed]",
      "text/plain": [
       "<Figure size 432x288 with 1 Axes>"
      ]
     },
     "metadata": {
      "needs_background": "light"
     },
     "output_type": "display_data"
    }
   ],
   "source": [
    "subrows3 = [i for i in rows if i[1] == 'Second Alarm']\n",
    "subrows4 = [i for i in rows if i[1] == 'Third Alarm']\n",
    "subrows8 = [i for i in rows if i[1] == 'Seventh Alarm ']\n",
    "\n",
    "ind = np.array([2*i for i in range(5)])\n",
    "width = 0.4\n",
    "\n",
    "fig, ax = plt.subplots()\n",
    "ax.bar(ind + width,[i[2] for i in subrows3], width, label='Second Alarm')\n",
    "ax.bar(ind + 2*width,[i[2] for i in subrows4], width, label='Third Alarm')\n",
    "ax.bar(ind + 3*width,[i[2] for i in subrows8], width, label='Seventh Alarm', color = 'red')\n",
    "ax.set_ylabel('number of incidents')\n",
    "ax.set_title('Highest Level Alarm Distribution for Each Borough')\n",
    "ax.set_xticks(ind + width)\n",
    "ax.set_xticklabels(('Bronx', 'Brooklyn', 'Manhattan', 'Queens', 'R/S Island'))\n",
    "ax.legend()\n",
    "\n",
    "plt.show()"
   ]
  },
  {
   "cell_type": "markdown",
   "metadata": {},
   "source": [
    "***Discussion***"
   ]
  },
  {
   "cell_type": "markdown",
   "metadata": {},
   "source": [
    "After filtering out small First Alarm fires, the mid-level Fifth Alarm fires, and the ambiguous All Hands Working category, we can see that the Seven Alarm fires occur much more frequently than the milder Second and Third alarm fires. This should cause concern for the New York City Fire Department because the Seven Alarm fires present a much more dangerous scenario that can lead to significant hardships for those affected by these severe fires. "
   ]
  },
  {
   "cell_type": "markdown",
   "metadata": {},
   "source": [
    "## Incident by Quarter of Year for each Borough"
   ]
  },
  {
   "cell_type": "markdown",
   "metadata": {},
   "source": [
    "***Check the data we want using SQL***"
   ]
  },
  {
   "cell_type": "code",
   "execution_count": 91,
   "metadata": {},
   "outputs": [
    {
     "name": "stdout",
     "output_type": "stream",
     "text": [
      " * postgresql://student@/proj4_group17\n",
      "20 rows affected.\n"
     ]
    },
    {
     "data": {
      "text/html": [
       "<table>\n",
       "    <tr>\n",
       "        <th>borough</th>\n",
       "        <th>quarter_of_year</th>\n",
       "        <th>count</th>\n",
       "    </tr>\n",
       "    <tr>\n",
       "        <td>BRONX</td>\n",
       "        <td>1</td>\n",
       "        <td>28922</td>\n",
       "    </tr>\n",
       "    <tr>\n",
       "        <td>BROOKLYN</td>\n",
       "        <td>1</td>\n",
       "        <td>40688</td>\n",
       "    </tr>\n",
       "    <tr>\n",
       "        <td>MANHATTAN</td>\n",
       "        <td>1</td>\n",
       "        <td>38206</td>\n",
       "    </tr>\n",
       "    <tr>\n",
       "        <td>QUEENS</td>\n",
       "        <td>1</td>\n",
       "        <td>28712</td>\n",
       "    </tr>\n",
       "    <tr>\n",
       "        <td>RICHMOND / STATEN ISLAND</td>\n",
       "        <td>1</td>\n",
       "        <td>7040</td>\n",
       "    </tr>\n",
       "    <tr>\n",
       "        <td>BRONX</td>\n",
       "        <td>2</td>\n",
       "        <td>28277</td>\n",
       "    </tr>\n",
       "    <tr>\n",
       "        <td>BROOKLYN</td>\n",
       "        <td>2</td>\n",
       "        <td>39771</td>\n",
       "    </tr>\n",
       "    <tr>\n",
       "        <td>MANHATTAN</td>\n",
       "        <td>2</td>\n",
       "        <td>38233</td>\n",
       "    </tr>\n",
       "    <tr>\n",
       "        <td>QUEENS</td>\n",
       "        <td>2</td>\n",
       "        <td>27548</td>\n",
       "    </tr>\n",
       "    <tr>\n",
       "        <td>RICHMOND / STATEN ISLAND</td>\n",
       "        <td>2</td>\n",
       "        <td>7211</td>\n",
       "    </tr>\n",
       "    <tr>\n",
       "        <td>BRONX</td>\n",
       "        <td>3</td>\n",
       "        <td>30636</td>\n",
       "    </tr>\n",
       "    <tr>\n",
       "        <td>BROOKLYN</td>\n",
       "        <td>3</td>\n",
       "        <td>43155</td>\n",
       "    </tr>\n",
       "    <tr>\n",
       "        <td>MANHATTAN</td>\n",
       "        <td>3</td>\n",
       "        <td>41666</td>\n",
       "    </tr>\n",
       "    <tr>\n",
       "        <td>QUEENS</td>\n",
       "        <td>3</td>\n",
       "        <td>29867</td>\n",
       "    </tr>\n",
       "    <tr>\n",
       "        <td>RICHMOND / STATEN ISLAND</td>\n",
       "        <td>3</td>\n",
       "        <td>7472</td>\n",
       "    </tr>\n",
       "    <tr>\n",
       "        <td>BRONX</td>\n",
       "        <td>4</td>\n",
       "        <td>29867</td>\n",
       "    </tr>\n",
       "    <tr>\n",
       "        <td>BROOKLYN</td>\n",
       "        <td>4</td>\n",
       "        <td>41819</td>\n",
       "    </tr>\n",
       "    <tr>\n",
       "        <td>MANHATTAN</td>\n",
       "        <td>4</td>\n",
       "        <td>40114</td>\n",
       "    </tr>\n",
       "    <tr>\n",
       "        <td>QUEENS</td>\n",
       "        <td>4</td>\n",
       "        <td>29300</td>\n",
       "    </tr>\n",
       "    <tr>\n",
       "        <td>RICHMOND / STATEN ISLAND</td>\n",
       "        <td>4</td>\n",
       "        <td>7015</td>\n",
       "    </tr>\n",
       "</table>"
      ],
      "text/plain": [
       "[('BRONX', 1, 28922),\n",
       " ('BROOKLYN', 1, 40688),\n",
       " ('MANHATTAN', 1, 38206),\n",
       " ('QUEENS', 1, 28712),\n",
       " ('RICHMOND / STATEN ISLAND', 1, 7040),\n",
       " ('BRONX', 2, 28277),\n",
       " ('BROOKLYN', 2, 39771),\n",
       " ('MANHATTAN', 2, 38233),\n",
       " ('QUEENS', 2, 27548),\n",
       " ('RICHMOND / STATEN ISLAND', 2, 7211),\n",
       " ('BRONX', 3, 30636),\n",
       " ('BROOKLYN', 3, 43155),\n",
       " ('MANHATTAN', 3, 41666),\n",
       " ('QUEENS', 3, 29867),\n",
       " ('RICHMOND / STATEN ISLAND', 3, 7472),\n",
       " ('BRONX', 4, 29867),\n",
       " ('BROOKLYN', 4, 41819),\n",
       " ('MANHATTAN', 4, 40114),\n",
       " ('QUEENS', 4, 29300),\n",
       " ('RICHMOND / STATEN ISLAND', 4, 7015)]"
      ]
     },
     "execution_count": 91,
     "metadata": {},
     "output_type": "execute_result"
    }
   ],
   "source": [
    "%%sql\n",
    "SELECT alarm_box.borough, hour.quarter_of_year, count(*)\n",
    "FROM alarm_box, hour, rspns_time_facts\n",
    "WHERE alarm_box.key = rspns_time_facts.alarm_box_key\n",
    "    AND hour.key = rspns_time_facts.incident_hour_key\n",
    "GROUP BY alarm_box.borough, hour.quarter_of_year\n",
    "ORDER BY hour.quarter_of_year, alarm_box.borough;"
   ]
  },
  {
   "cell_type": "markdown",
   "metadata": {},
   "source": [
    "***Discussion***"
   ]
  },
  {
   "cell_type": "markdown",
   "metadata": {},
   "source": [
    "Overall, we can see that the Richmond/Staten Island borough shows less incidents than the other buroughs. For each borough, the number of incidents is not significantly affected by the quarter of the year."
   ]
  },
  {
   "cell_type": "markdown",
   "metadata": {},
   "source": [
    "***Visualize the data using Python***"
   ]
  },
  {
   "cell_type": "code",
   "execution_count": 92,
   "metadata": {},
   "outputs": [
    {
     "data": {
      "image/png": "[encoded data removed]",
      "text/plain": [
       "<Figure size 432x288 with 1 Axes>"
      ]
     },
     "metadata": {
      "needs_background": "light"
     },
     "output_type": "display_data"
    }
   ],
   "source": [
    "sql = '''\n",
    "    SELECT alarm_box.borough, hour.quarter_of_year, count(*)\n",
    "    FROM alarm_box, hour, rspns_time_facts\n",
    "    WHERE alarm_box.key = rspns_time_facts.alarm_box_key\n",
    "        AND hour.key = rspns_time_facts.incident_hour_key\n",
    "    GROUP BY alarm_box.borough, hour.quarter_of_year\n",
    "    ORDER BY hour.quarter_of_year, alarm_box.borough;\n",
    "'''\n",
    "\n",
    "c.execute(sql)\n",
    "rows = c.fetchall()\n",
    "\n",
    "subrows1 = [i for i in rows if i[1] == 1]\n",
    "subrows2 = [i for i in rows if i[1] == 2]\n",
    "subrows3 = [i for i in rows if i[1] == 3]\n",
    "subrows4 = [i for i in rows if i[1] == 4]\n",
    "\n",
    "ind = np.array([2*i for i in range(5)])\n",
    "width = 0.4\n",
    "\n",
    "fig, ax = plt.subplots()\n",
    "ax.bar(ind,[i[2] for i in subrows1], width, label='1st Quarter')\n",
    "ax.bar(ind + width,[i[2] for i in subrows2], width, label='2nd Quarter')\n",
    "ax.bar(ind + 2*width,[i[2] for i in subrows3], width, label='3rd Quarter')\n",
    "ax.bar(ind + 3*width,[i[2] for i in subrows4], width, label='4th Quarter')\n",
    "ax.set_ylabel('number of incidents')\n",
    "ax.set_title('Incidents by Quarter of Year for Each Borough')\n",
    "ax.set_xticks(ind + width)\n",
    "ax.set_xticklabels(('Bronx', 'Brooklyn', 'Manhattan', 'Queens', 'R/S Island'))\n",
    "ax.legend()\n",
    "\n",
    "plt.show()"
   ]
  },
  {
   "cell_type": "markdown",
   "metadata": {},
   "source": [
    "***Discussion***"
   ]
  },
  {
   "cell_type": "markdown",
   "metadata": {},
   "source": [
    "Again, the visual display provides a more intuitive and easily digestible representation of the data."
   ]
  },
  {
   "cell_type": "markdown",
   "metadata": {},
   "source": [
    "## Incident distribution by month"
   ]
  },
  {
   "cell_type": "markdown",
   "metadata": {},
   "source": [
    "***Check the data we want using SQL***"
   ]
  },
  {
   "cell_type": "code",
   "execution_count": 93,
   "metadata": {},
   "outputs": [
    {
     "name": "stdout",
     "output_type": "stream",
     "text": [
      " * postgresql://student@/proj4_group17\n",
      "12 rows affected.\n"
     ]
    },
    {
     "data": {
      "text/html": [
       "<table>\n",
       "    <tr>\n",
       "        <th>month_of_year</th>\n",
       "        <th>count</th>\n",
       "    </tr>\n",
       "    <tr>\n",
       "        <td>1</td>\n",
       "        <td>49186</td>\n",
       "    </tr>\n",
       "    <tr>\n",
       "        <td>2</td>\n",
       "        <td>48068</td>\n",
       "    </tr>\n",
       "    <tr>\n",
       "        <td>3</td>\n",
       "        <td>46314</td>\n",
       "    </tr>\n",
       "    <tr>\n",
       "        <td>4</td>\n",
       "        <td>45146</td>\n",
       "    </tr>\n",
       "    <tr>\n",
       "        <td>5</td>\n",
       "        <td>47816</td>\n",
       "    </tr>\n",
       "    <tr>\n",
       "        <td>6</td>\n",
       "        <td>48078</td>\n",
       "    </tr>\n",
       "    <tr>\n",
       "        <td>7</td>\n",
       "        <td>53059</td>\n",
       "    </tr>\n",
       "    <tr>\n",
       "        <td>8</td>\n",
       "        <td>51825</td>\n",
       "    </tr>\n",
       "    <tr>\n",
       "        <td>9</td>\n",
       "        <td>47912</td>\n",
       "    </tr>\n",
       "    <tr>\n",
       "        <td>10</td>\n",
       "        <td>50732</td>\n",
       "    </tr>\n",
       "    <tr>\n",
       "        <td>11</td>\n",
       "        <td>47158</td>\n",
       "    </tr>\n",
       "    <tr>\n",
       "        <td>12</td>\n",
       "        <td>50225</td>\n",
       "    </tr>\n",
       "</table>"
      ],
      "text/plain": [
       "[(1, 49186),\n",
       " (2, 48068),\n",
       " (3, 46314),\n",
       " (4, 45146),\n",
       " (5, 47816),\n",
       " (6, 48078),\n",
       " (7, 53059),\n",
       " (8, 51825),\n",
       " (9, 47912),\n",
       " (10, 50732),\n",
       " (11, 47158),\n",
       " (12, 50225)]"
      ]
     },
     "execution_count": 93,
     "metadata": {},
     "output_type": "execute_result"
    }
   ],
   "source": [
    "%%sql\n",
    "SELECT hour.month_of_year, count(*)\n",
    "FROM alarm_box, hour, rspns_time_facts\n",
    "WHERE alarm_box.key = rspns_time_facts.alarm_box_key\n",
    "    AND hour.key = rspns_time_facts.incident_hour_key\n",
    "GROUP BY hour.month_of_year\n",
    "ORDER BY hour.month_of_year;"
   ]
  },
  {
   "cell_type": "markdown",
   "metadata": {},
   "source": [
    "***Discussion***"
   ]
  },
  {
   "cell_type": "markdown",
   "metadata": {},
   "source": [
    "When analyzing all the incident types, the frequency of events doesn't differ much throughout the year and the incidents by month appeart to be a uniform distribution."
   ]
  },
  {
   "cell_type": "markdown",
   "metadata": {},
   "source": [
    "***Visualize the data using Python***"
   ]
  },
  {
   "cell_type": "code",
   "execution_count": 94,
   "metadata": {},
   "outputs": [
    {
     "data": {
      "image/png": "[encoded data removed]",
      "text/plain": [
       "<Figure size 432x288 with 1 Axes>"
      ]
     },
     "metadata": {
      "needs_background": "light"
     },
     "output_type": "display_data"
    }
   ],
   "source": [
    "sql = '''\n",
    "    SELECT hour.month_of_year, count(*)\n",
    "    FROM alarm_box, hour, rspns_time_facts\n",
    "    WHERE alarm_box.key = rspns_time_facts.alarm_box_key\n",
    "        AND hour.key = rspns_time_facts.incident_hour_key\n",
    "    GROUP BY hour.month_of_year\n",
    "    ORDER BY hour.month_of_year;\n",
    "'''\n",
    "\n",
    "c.execute(sql)\n",
    "rows = c.fetchall()\n",
    "\n",
    "plt.bar([i[0] for i in rows], [i[1] for i in rows])\n",
    "plt.xlabel(\"month\")\n",
    "plt.ylabel(\"incidents\")\n",
    "plt.title(\"Incidents by Month\")\n",
    "plt.show()"
   ]
  },
  {
   "cell_type": "markdown",
   "metadata": {},
   "source": [
    "***Discussion***"
   ]
  },
  {
   "cell_type": "markdown",
   "metadata": {},
   "source": [
    "The visualization provides a clear display of the approximately uniform distribution incidents by month."
   ]
  },
  {
   "cell_type": "markdown",
   "metadata": {},
   "source": [
    "### Fire incident distribution by month"
   ]
  },
  {
   "cell_type": "markdown",
   "metadata": {},
   "source": [
    "***Check the data we want using SQL***"
   ]
  },
  {
   "cell_type": "code",
   "execution_count": 95,
   "metadata": {},
   "outputs": [
    {
     "name": "stdout",
     "output_type": "stream",
     "text": [
      " * postgresql://student@/proj4_group17\n",
      "12 rows affected.\n"
     ]
    },
    {
     "data": {
      "text/html": [
       "<table>\n",
       "    <tr>\n",
       "        <th>month_of_year</th>\n",
       "        <th>count</th>\n",
       "    </tr>\n",
       "    <tr>\n",
       "        <td>1</td>\n",
       "        <td>4092</td>\n",
       "    </tr>\n",
       "    <tr>\n",
       "        <td>2</td>\n",
       "        <td>3501</td>\n",
       "    </tr>\n",
       "    <tr>\n",
       "        <td>3</td>\n",
       "        <td>3575</td>\n",
       "    </tr>\n",
       "    <tr>\n",
       "        <td>4</td>\n",
       "        <td>3688</td>\n",
       "    </tr>\n",
       "    <tr>\n",
       "        <td>5</td>\n",
       "        <td>3322</td>\n",
       "    </tr>\n",
       "    <tr>\n",
       "        <td>6</td>\n",
       "        <td>3329</td>\n",
       "    </tr>\n",
       "    <tr>\n",
       "        <td>7</td>\n",
       "        <td>3377</td>\n",
       "    </tr>\n",
       "    <tr>\n",
       "        <td>8</td>\n",
       "        <td>3211</td>\n",
       "    </tr>\n",
       "    <tr>\n",
       "        <td>9</td>\n",
       "        <td>3186</td>\n",
       "    </tr>\n",
       "    <tr>\n",
       "        <td>10</td>\n",
       "        <td>3320</td>\n",
       "    </tr>\n",
       "    <tr>\n",
       "        <td>11</td>\n",
       "        <td>3671</td>\n",
       "    </tr>\n",
       "    <tr>\n",
       "        <td>12</td>\n",
       "        <td>3945</td>\n",
       "    </tr>\n",
       "</table>"
      ],
      "text/plain": [
       "[(1, 4092),\n",
       " (2, 3501),\n",
       " (3, 3575),\n",
       " (4, 3688),\n",
       " (5, 3322),\n",
       " (6, 3329),\n",
       " (7, 3377),\n",
       " (8, 3211),\n",
       " (9, 3186),\n",
       " (10, 3320),\n",
       " (11, 3671),\n",
       " (12, 3945)]"
      ]
     },
     "execution_count": 95,
     "metadata": {},
     "output_type": "execute_result"
    }
   ],
   "source": [
    "%%sql\n",
    "SELECT hour.month_of_year, count(*)\n",
    "FROM alarm_box, hour, incident_class, rspns_time_facts\n",
    "WHERE alarm_box.key = rspns_time_facts.alarm_box_key\n",
    "    AND hour.key = rspns_time_facts.incident_hour_key\n",
    "    AND incident_class.key = rspns_time_facts.incident_class_key\n",
    "    AND incident_class.group_des LIKE '%Fire%'\n",
    "GROUP BY hour.month_of_year\n",
    "ORDER BY hour.month_of_year;"
   ]
  },
  {
   "cell_type": "markdown",
   "metadata": {},
   "source": [
    "***Visualize the data using Python***"
   ]
  },
  {
   "cell_type": "code",
   "execution_count": 96,
   "metadata": {},
   "outputs": [
    {
     "data": {
      "image/png": "[encoded data removed]",
      "text/plain": [
       "<Figure size 432x288 with 1 Axes>"
      ]
     },
     "metadata": {
      "needs_background": "light"
     },
     "output_type": "display_data"
    }
   ],
   "source": [
    "sql = '''\n",
    "    SELECT hour.month_of_year, count(*)\n",
    "    FROM alarm_box, hour, incident_class, rspns_time_facts\n",
    "    WHERE alarm_box.key = rspns_time_facts.alarm_box_key\n",
    "        AND hour.key = rspns_time_facts.incident_hour_key\n",
    "        AND incident_class.key = rspns_time_facts.incident_class_key\n",
    "        AND incident_class.group_des LIKE '%Fire%'\n",
    "    GROUP BY hour.month_of_year\n",
    "    ORDER BY hour.month_of_year;\n",
    "'''\n",
    "\n",
    "c.execute(sql)\n",
    "rows = c.fetchall()\n",
    "\n",
    "plt.bar([i[0] for i in rows], [i[1] for i in rows])\n",
    "plt.xlabel(\"month\")\n",
    "plt.ylabel(\"fire incidents\")\n",
    "plt.title(\"Fire Incidents by Month\")\n",
    "plt.show()"
   ]
  },
  {
   "cell_type": "markdown",
   "metadata": {},
   "source": [
    "***Discussion***"
   ]
  },
  {
   "cell_type": "markdown",
   "metadata": {},
   "source": [
    "Contrary to our original hypothesis, fires actually appear to occur less frequently in the summer months when compared to the winter months. We suspect that the increased frequency in the winter months is attributable to the colder temparatures forcing people to use their heaters at a higher rate. Additionally, other variables, such as weather data, may provide more information on how temperature, humidity, and wind speed might affect the likelihood of a fire. Finally, we want to analyze how response times behave by borough and how response times might be affected by weather because the fires appear to occur more frequently in the colder months. "
   ]
  },
  {
   "cell_type": "markdown",
   "metadata": {},
   "source": [
    "## How does the Fire Department in each borough perform?"
   ]
  },
  {
   "cell_type": "markdown",
   "metadata": {},
   "source": [
    "### Average, min, max incident response time for each borough"
   ]
  },
  {
   "cell_type": "markdown",
   "metadata": {},
   "source": [
    "***Check the data we want using SQL***"
   ]
  },
  {
   "cell_type": "code",
   "execution_count": 97,
   "metadata": {},
   "outputs": [
    {
     "name": "stdout",
     "output_type": "stream",
     "text": [
      " * postgresql://student@/proj4_group17\n",
      "5 rows affected.\n"
     ]
    },
    {
     "data": {
      "text/html": [
       "<table>\n",
       "    <tr>\n",
       "        <th>borough</th>\n",
       "        <th>min</th>\n",
       "        <th>max</th>\n",
       "        <th>round</th>\n",
       "        <th>round_1</th>\n",
       "    </tr>\n",
       "    <tr>\n",
       "        <td>RICHMOND / STATEN ISLAND</td>\n",
       "        <td>8</td>\n",
       "        <td>39485</td>\n",
       "        <td>300.94</td>\n",
       "        <td>302.23</td>\n",
       "    </tr>\n",
       "    <tr>\n",
       "        <td>QUEENS</td>\n",
       "        <td>6</td>\n",
       "        <td>12365</td>\n",
       "        <td>320.15</td>\n",
       "        <td>220.76</td>\n",
       "    </tr>\n",
       "    <tr>\n",
       "        <td>MANHATTAN</td>\n",
       "        <td>5</td>\n",
       "        <td>30322</td>\n",
       "        <td>329.16</td>\n",
       "        <td>207.95</td>\n",
       "    </tr>\n",
       "    <tr>\n",
       "        <td>BRONX</td>\n",
       "        <td>6</td>\n",
       "        <td>8123</td>\n",
       "        <td>324.86</td>\n",
       "        <td>181.54</td>\n",
       "    </tr>\n",
       "    <tr>\n",
       "        <td>BROOKLYN</td>\n",
       "        <td>6</td>\n",
       "        <td>16165</td>\n",
       "        <td>274.50</td>\n",
       "        <td>185.85</td>\n",
       "    </tr>\n",
       "</table>"
      ],
      "text/plain": [
       "[('RICHMOND / STATEN ISLAND', 8, 39485, Decimal('300.94'), Decimal('302.23')),\n",
       " ('QUEENS', 6, 12365, Decimal('320.15'), Decimal('220.76')),\n",
       " ('MANHATTAN', 5, 30322, Decimal('329.16'), Decimal('207.95')),\n",
       " ('BRONX', 6, 8123, Decimal('324.86'), Decimal('181.54')),\n",
       " ('BROOKLYN', 6, 16165, Decimal('274.50'), Decimal('185.85'))]"
      ]
     },
     "execution_count": 97,
     "metadata": {},
     "output_type": "execute_result"
    }
   ],
   "source": [
    "%%sql\n",
    "SELECT alarm_box.borough,\n",
    "        min(rspns_time_facts.incident_rspns_s_qy), \n",
    "        max(rspns_time_facts.incident_rspns_s_qy),\n",
    "        ROUND(avg(rspns_time_facts.incident_rspns_s_qy)::numeric, 2),\n",
    "        ROUND(stddev(rspns_time_facts.incident_rspns_s_qy)::numeric, 2)\n",
    "FROM alarm_box, rspns_time_facts\n",
    "WHERE alarm_box.key = rspns_time_facts.alarm_box_key\n",
    "GROUP BY alarm_box.borough;"
   ]
  },
  {
   "cell_type": "markdown",
   "metadata": {},
   "source": [
    "***Visualize the data using Python***"
   ]
  },
  {
   "cell_type": "code",
   "execution_count": 98,
   "metadata": {},
   "outputs": [
    {
     "data": {
      "image/png": "[encoded data removed]",
      "text/plain": [
       "<Figure size 432x288 with 1 Axes>"
      ]
     },
     "metadata": {
      "needs_background": "light"
     },
     "output_type": "display_data"
    }
   ],
   "source": [
    "sql = '''\n",
    "    SELECT alarm_box.borough,\n",
    "            min(rspns_time_facts.incident_rspns_s_qy), \n",
    "            max(rspns_time_facts.incident_rspns_s_qy),\n",
    "            ROUND(avg(rspns_time_facts.incident_rspns_s_qy)::numeric, 2),\n",
    "            ROUND(stddev(rspns_time_facts.incident_rspns_s_qy)::numeric, 2)\n",
    "    FROM alarm_box, rspns_time_facts\n",
    "    WHERE alarm_box.key = rspns_time_facts.alarm_box_key\n",
    "    GROUP BY alarm_box.borough;\n",
    "'''\n",
    "\n",
    "c.execute(sql)\n",
    "rows = c.fetchall()\n",
    "\n",
    "plt.barh([i[0] for i in rows], [i[3] for i in rows])\n",
    "plt.xlabel(\"average response time\")\n",
    "plt.ylabel(\"borough\")\n",
    "plt.title(\"Average Response Time by Borough\")\n",
    "plt.show()"
   ]
  },
  {
   "cell_type": "markdown",
   "metadata": {},
   "source": [
    "### Average, min, max incident response time by month for Richmond/Staten Island"
   ]
  },
  {
   "cell_type": "markdown",
   "metadata": {},
   "source": [
    "***Check the data we want using SQL***"
   ]
  },
  {
   "cell_type": "code",
   "execution_count": 99,
   "metadata": {},
   "outputs": [
    {
     "name": "stdout",
     "output_type": "stream",
     "text": [
      " * postgresql://student@/proj4_group17\n",
      "12 rows affected.\n"
     ]
    },
    {
     "data": {
      "text/html": [
       "<table>\n",
       "    <tr>\n",
       "        <th>month_of_year</th>\n",
       "        <th>min</th>\n",
       "        <th>max</th>\n",
       "        <th>avg</th>\n",
       "    </tr>\n",
       "    <tr>\n",
       "        <td>1</td>\n",
       "        <td>8</td>\n",
       "        <td>3087</td>\n",
       "        <td>312.74</td>\n",
       "    </tr>\n",
       "    <tr>\n",
       "        <td>2</td>\n",
       "        <td>25</td>\n",
       "        <td>3082</td>\n",
       "        <td>314.79</td>\n",
       "    </tr>\n",
       "    <tr>\n",
       "        <td>3</td>\n",
       "        <td>10</td>\n",
       "        <td>3027</td>\n",
       "        <td>293.89</td>\n",
       "    </tr>\n",
       "    <tr>\n",
       "        <td>4</td>\n",
       "        <td>28</td>\n",
       "        <td>2071</td>\n",
       "        <td>297.15</td>\n",
       "    </tr>\n",
       "    <tr>\n",
       "        <td>5</td>\n",
       "        <td>11</td>\n",
       "        <td>3571</td>\n",
       "        <td>296.57</td>\n",
       "    </tr>\n",
       "    <tr>\n",
       "        <td>6</td>\n",
       "        <td>33</td>\n",
       "        <td>2261</td>\n",
       "        <td>295.60</td>\n",
       "    </tr>\n",
       "    <tr>\n",
       "        <td>7</td>\n",
       "        <td>23</td>\n",
       "        <td>2695</td>\n",
       "        <td>313.32</td>\n",
       "    </tr>\n",
       "    <tr>\n",
       "        <td>8</td>\n",
       "        <td>19</td>\n",
       "        <td>3690</td>\n",
       "        <td>291.33</td>\n",
       "    </tr>\n",
       "    <tr>\n",
       "        <td>9</td>\n",
       "        <td>18</td>\n",
       "        <td>3029</td>\n",
       "        <td>301.61</td>\n",
       "    </tr>\n",
       "    <tr>\n",
       "        <td>10</td>\n",
       "        <td>19</td>\n",
       "        <td>3114</td>\n",
       "        <td>290.33</td>\n",
       "    </tr>\n",
       "    <tr>\n",
       "        <td>11</td>\n",
       "        <td>12</td>\n",
       "        <td>1398</td>\n",
       "        <td>286.68</td>\n",
       "    </tr>\n",
       "    <tr>\n",
       "        <td>12</td>\n",
       "        <td>24</td>\n",
       "        <td>39485</td>\n",
       "        <td>314.77</td>\n",
       "    </tr>\n",
       "</table>"
      ],
      "text/plain": [
       "[(1, 8, 3087, Decimal('312.74')),\n",
       " (2, 25, 3082, Decimal('314.79')),\n",
       " (3, 10, 3027, Decimal('293.89')),\n",
       " (4, 28, 2071, Decimal('297.15')),\n",
       " (5, 11, 3571, Decimal('296.57')),\n",
       " (6, 33, 2261, Decimal('295.60')),\n",
       " (7, 23, 2695, Decimal('313.32')),\n",
       " (8, 19, 3690, Decimal('291.33')),\n",
       " (9, 18, 3029, Decimal('301.61')),\n",
       " (10, 19, 3114, Decimal('290.33')),\n",
       " (11, 12, 1398, Decimal('286.68')),\n",
       " (12, 24, 39485, Decimal('314.77'))]"
      ]
     },
     "execution_count": 99,
     "metadata": {},
     "output_type": "execute_result"
    }
   ],
   "source": [
    "%%sql\n",
    "SELECT hour.month_of_year,\n",
    "        min(rspns_time_facts.incident_rspns_s_qy), \n",
    "        max(rspns_time_facts.incident_rspns_s_qy),\n",
    "        ROUND(avg(rspns_time_facts.incident_rspns_s_qy)::numeric, 2) AS avg\n",
    "FROM alarm_box, hour, rspns_time_facts\n",
    "WHERE alarm_box.key = rspns_time_facts.alarm_box_key\n",
    "    AND hour.key = rspns_time_facts.incident_hour_key\n",
    "    AND alarm_box.borough = 'RICHMOND / STATEN ISLAND'\n",
    "GROUP BY hour.month_of_year\n",
    "ORDER BY hour.month_of_year;"
   ]
  },
  {
   "cell_type": "markdown",
   "metadata": {},
   "source": [
    "### Average, min, max incident response time by month for Queens"
   ]
  },
  {
   "cell_type": "markdown",
   "metadata": {},
   "source": [
    "***Check the data we want using SQL***"
   ]
  },
  {
   "cell_type": "code",
   "execution_count": 100,
   "metadata": {},
   "outputs": [
    {
     "name": "stdout",
     "output_type": "stream",
     "text": [
      " * postgresql://student@/proj4_group17\n",
      "12 rows affected.\n"
     ]
    },
    {
     "data": {
      "text/html": [
       "<table>\n",
       "    <tr>\n",
       "        <th>month_of_year</th>\n",
       "        <th>min</th>\n",
       "        <th>max</th>\n",
       "        <th>avg</th>\n",
       "    </tr>\n",
       "    <tr>\n",
       "        <td>1</td>\n",
       "        <td>7</td>\n",
       "        <td>4807</td>\n",
       "        <td>341.97</td>\n",
       "    </tr>\n",
       "    <tr>\n",
       "        <td>2</td>\n",
       "        <td>13</td>\n",
       "        <td>7446</td>\n",
       "        <td>332.98</td>\n",
       "    </tr>\n",
       "    <tr>\n",
       "        <td>3</td>\n",
       "        <td>11</td>\n",
       "        <td>3991</td>\n",
       "        <td>308.14</td>\n",
       "    </tr>\n",
       "    <tr>\n",
       "        <td>4</td>\n",
       "        <td>18</td>\n",
       "        <td>11271</td>\n",
       "        <td>315.01</td>\n",
       "    </tr>\n",
       "    <tr>\n",
       "        <td>5</td>\n",
       "        <td>14</td>\n",
       "        <td>9291</td>\n",
       "        <td>312.58</td>\n",
       "    </tr>\n",
       "    <tr>\n",
       "        <td>6</td>\n",
       "        <td>12</td>\n",
       "        <td>5225</td>\n",
       "        <td>314.50</td>\n",
       "    </tr>\n",
       "    <tr>\n",
       "        <td>7</td>\n",
       "        <td>10</td>\n",
       "        <td>12365</td>\n",
       "        <td>332.32</td>\n",
       "    </tr>\n",
       "    <tr>\n",
       "        <td>8</td>\n",
       "        <td>10</td>\n",
       "        <td>3503</td>\n",
       "        <td>317.54</td>\n",
       "    </tr>\n",
       "    <tr>\n",
       "        <td>9</td>\n",
       "        <td>6</td>\n",
       "        <td>4508</td>\n",
       "        <td>317.62</td>\n",
       "    </tr>\n",
       "    <tr>\n",
       "        <td>10</td>\n",
       "        <td>12</td>\n",
       "        <td>5371</td>\n",
       "        <td>315.96</td>\n",
       "    </tr>\n",
       "    <tr>\n",
       "        <td>11</td>\n",
       "        <td>15</td>\n",
       "        <td>3767</td>\n",
       "        <td>311.77</td>\n",
       "    </tr>\n",
       "    <tr>\n",
       "        <td>12</td>\n",
       "        <td>14</td>\n",
       "        <td>4372</td>\n",
       "        <td>317.41</td>\n",
       "    </tr>\n",
       "</table>"
      ],
      "text/plain": [
       "[(1, 7, 4807, Decimal('341.97')),\n",
       " (2, 13, 7446, Decimal('332.98')),\n",
       " (3, 11, 3991, Decimal('308.14')),\n",
       " (4, 18, 11271, Decimal('315.01')),\n",
       " (5, 14, 9291, Decimal('312.58')),\n",
       " (6, 12, 5225, Decimal('314.50')),\n",
       " (7, 10, 12365, Decimal('332.32')),\n",
       " (8, 10, 3503, Decimal('317.54')),\n",
       " (9, 6, 4508, Decimal('317.62')),\n",
       " (10, 12, 5371, Decimal('315.96')),\n",
       " (11, 15, 3767, Decimal('311.77')),\n",
       " (12, 14, 4372, Decimal('317.41'))]"
      ]
     },
     "execution_count": 100,
     "metadata": {},
     "output_type": "execute_result"
    }
   ],
   "source": [
    "%%sql\n",
    "SELECT hour.month_of_year,\n",
    "        min(rspns_time_facts.incident_rspns_s_qy), \n",
    "        max(rspns_time_facts.incident_rspns_s_qy),\n",
    "        ROUND(avg(rspns_time_facts.incident_rspns_s_qy)::numeric, 2) AS avg\n",
    "FROM alarm_box, hour, rspns_time_facts\n",
    "WHERE alarm_box.key = rspns_time_facts.alarm_box_key\n",
    "    AND hour.key = rspns_time_facts.incident_hour_key\n",
    "    AND alarm_box.borough = 'QUEENS'\n",
    "GROUP BY hour.month_of_year\n",
    "ORDER BY hour.month_of_year;"
   ]
  },
  {
   "cell_type": "markdown",
   "metadata": {},
   "source": [
    "### Average, min, max incident response time by month for Manhattan"
   ]
  },
  {
   "cell_type": "markdown",
   "metadata": {},
   "source": [
    "***Check the data we want using SQL***"
   ]
  },
  {
   "cell_type": "code",
   "execution_count": 101,
   "metadata": {},
   "outputs": [
    {
     "name": "stdout",
     "output_type": "stream",
     "text": [
      " * postgresql://student@/proj4_group17\n",
      "12 rows affected.\n"
     ]
    },
    {
     "data": {
      "text/html": [
       "<table>\n",
       "    <tr>\n",
       "        <th>month_of_year</th>\n",
       "        <th>min</th>\n",
       "        <th>max</th>\n",
       "        <th>avg</th>\n",
       "    </tr>\n",
       "    <tr>\n",
       "        <td>1</td>\n",
       "        <td>9</td>\n",
       "        <td>3644</td>\n",
       "        <td>328.80</td>\n",
       "    </tr>\n",
       "    <tr>\n",
       "        <td>2</td>\n",
       "        <td>16</td>\n",
       "        <td>8476</td>\n",
       "        <td>344.91</td>\n",
       "    </tr>\n",
       "    <tr>\n",
       "        <td>3</td>\n",
       "        <td>10</td>\n",
       "        <td>4194</td>\n",
       "        <td>319.97</td>\n",
       "    </tr>\n",
       "    <tr>\n",
       "        <td>4</td>\n",
       "        <td>17</td>\n",
       "        <td>5457</td>\n",
       "        <td>325.07</td>\n",
       "    </tr>\n",
       "    <tr>\n",
       "        <td>5</td>\n",
       "        <td>9</td>\n",
       "        <td>7485</td>\n",
       "        <td>326.95</td>\n",
       "    </tr>\n",
       "    <tr>\n",
       "        <td>6</td>\n",
       "        <td>11</td>\n",
       "        <td>3174</td>\n",
       "        <td>327.00</td>\n",
       "    </tr>\n",
       "    <tr>\n",
       "        <td>7</td>\n",
       "        <td>5</td>\n",
       "        <td>7946</td>\n",
       "        <td>324.46</td>\n",
       "    </tr>\n",
       "    <tr>\n",
       "        <td>8</td>\n",
       "        <td>7</td>\n",
       "        <td>3927</td>\n",
       "        <td>328.90</td>\n",
       "    </tr>\n",
       "    <tr>\n",
       "        <td>9</td>\n",
       "        <td>9</td>\n",
       "        <td>3643</td>\n",
       "        <td>325.55</td>\n",
       "    </tr>\n",
       "    <tr>\n",
       "        <td>10</td>\n",
       "        <td>9</td>\n",
       "        <td>2793</td>\n",
       "        <td>326.64</td>\n",
       "    </tr>\n",
       "    <tr>\n",
       "        <td>11</td>\n",
       "        <td>6</td>\n",
       "        <td>30322</td>\n",
       "        <td>333.96</td>\n",
       "    </tr>\n",
       "    <tr>\n",
       "        <td>12</td>\n",
       "        <td>9</td>\n",
       "        <td>3474</td>\n",
       "        <td>336.99</td>\n",
       "    </tr>\n",
       "</table>"
      ],
      "text/plain": [
       "[(1, 9, 3644, Decimal('328.80')),\n",
       " (2, 16, 8476, Decimal('344.91')),\n",
       " (3, 10, 4194, Decimal('319.97')),\n",
       " (4, 17, 5457, Decimal('325.07')),\n",
       " (5, 9, 7485, Decimal('326.95')),\n",
       " (6, 11, 3174, Decimal('327.00')),\n",
       " (7, 5, 7946, Decimal('324.46')),\n",
       " (8, 7, 3927, Decimal('328.90')),\n",
       " (9, 9, 3643, Decimal('325.55')),\n",
       " (10, 9, 2793, Decimal('326.64')),\n",
       " (11, 6, 30322, Decimal('333.96')),\n",
       " (12, 9, 3474, Decimal('336.99'))]"
      ]
     },
     "execution_count": 101,
     "metadata": {},
     "output_type": "execute_result"
    }
   ],
   "source": [
    "%%sql\n",
    "SELECT hour.month_of_year,\n",
    "        min(rspns_time_facts.incident_rspns_s_qy), \n",
    "        max(rspns_time_facts.incident_rspns_s_qy),\n",
    "        ROUND(avg(rspns_time_facts.incident_rspns_s_qy)::numeric, 2) AS avg\n",
    "FROM alarm_box, hour, rspns_time_facts\n",
    "WHERE alarm_box.key = rspns_time_facts.alarm_box_key\n",
    "    AND hour.key = rspns_time_facts.incident_hour_key\n",
    "    AND alarm_box.borough = 'MANHATTAN'\n",
    "GROUP BY hour.month_of_year\n",
    "ORDER BY hour.month_of_year;"
   ]
  },
  {
   "cell_type": "markdown",
   "metadata": {},
   "source": [
    "### Average, min, max incident response time by month for Brooklyn"
   ]
  },
  {
   "cell_type": "markdown",
   "metadata": {},
   "source": [
    "***Check the data we want using SQL***"
   ]
  },
  {
   "cell_type": "code",
   "execution_count": 102,
   "metadata": {},
   "outputs": [
    {
     "name": "stdout",
     "output_type": "stream",
     "text": [
      " * postgresql://student@/proj4_group17\n",
      "12 rows affected.\n"
     ]
    },
    {
     "data": {
      "text/html": [
       "<table>\n",
       "    <tr>\n",
       "        <th>month_of_year</th>\n",
       "        <th>min</th>\n",
       "        <th>max</th>\n",
       "        <th>avg</th>\n",
       "    </tr>\n",
       "    <tr>\n",
       "        <td>1</td>\n",
       "        <td>8</td>\n",
       "        <td>10310</td>\n",
       "        <td>284.35</td>\n",
       "    </tr>\n",
       "    <tr>\n",
       "        <td>2</td>\n",
       "        <td>7</td>\n",
       "        <td>4615</td>\n",
       "        <td>280.02</td>\n",
       "    </tr>\n",
       "    <tr>\n",
       "        <td>3</td>\n",
       "        <td>8</td>\n",
       "        <td>16165</td>\n",
       "        <td>274.13</td>\n",
       "    </tr>\n",
       "    <tr>\n",
       "        <td>4</td>\n",
       "        <td>8</td>\n",
       "        <td>4173</td>\n",
       "        <td>273.71</td>\n",
       "    </tr>\n",
       "    <tr>\n",
       "        <td>5</td>\n",
       "        <td>12</td>\n",
       "        <td>9877</td>\n",
       "        <td>270.34</td>\n",
       "    </tr>\n",
       "    <tr>\n",
       "        <td>6</td>\n",
       "        <td>6</td>\n",
       "        <td>15100</td>\n",
       "        <td>272.36</td>\n",
       "    </tr>\n",
       "    <tr>\n",
       "        <td>7</td>\n",
       "        <td>6</td>\n",
       "        <td>14114</td>\n",
       "        <td>274.54</td>\n",
       "    </tr>\n",
       "    <tr>\n",
       "        <td>8</td>\n",
       "        <td>13</td>\n",
       "        <td>7136</td>\n",
       "        <td>274.64</td>\n",
       "    </tr>\n",
       "    <tr>\n",
       "        <td>9</td>\n",
       "        <td>7</td>\n",
       "        <td>11276</td>\n",
       "        <td>275.77</td>\n",
       "    </tr>\n",
       "    <tr>\n",
       "        <td>10</td>\n",
       "        <td>9</td>\n",
       "        <td>5837</td>\n",
       "        <td>270.04</td>\n",
       "    </tr>\n",
       "    <tr>\n",
       "        <td>11</td>\n",
       "        <td>7</td>\n",
       "        <td>2826</td>\n",
       "        <td>268.30</td>\n",
       "    </tr>\n",
       "    <tr>\n",
       "        <td>12</td>\n",
       "        <td>6</td>\n",
       "        <td>4115</td>\n",
       "        <td>275.30</td>\n",
       "    </tr>\n",
       "</table>"
      ],
      "text/plain": [
       "[(1, 8, 10310, Decimal('284.35')),\n",
       " (2, 7, 4615, Decimal('280.02')),\n",
       " (3, 8, 16165, Decimal('274.13')),\n",
       " (4, 8, 4173, Decimal('273.71')),\n",
       " (5, 12, 9877, Decimal('270.34')),\n",
       " (6, 6, 15100, Decimal('272.36')),\n",
       " (7, 6, 14114, Decimal('274.54')),\n",
       " (8, 13, 7136, Decimal('274.64')),\n",
       " (9, 7, 11276, Decimal('275.77')),\n",
       " (10, 9, 5837, Decimal('270.04')),\n",
       " (11, 7, 2826, Decimal('268.30')),\n",
       " (12, 6, 4115, Decimal('275.30'))]"
      ]
     },
     "execution_count": 102,
     "metadata": {},
     "output_type": "execute_result"
    }
   ],
   "source": [
    "%%sql\n",
    "SELECT hour.month_of_year,\n",
    "        min(rspns_time_facts.incident_rspns_s_qy), \n",
    "        max(rspns_time_facts.incident_rspns_s_qy),\n",
    "        ROUND(avg(rspns_time_facts.incident_rspns_s_qy)::numeric, 2) AS avg\n",
    "FROM alarm_box, hour, rspns_time_facts\n",
    "WHERE alarm_box.key = rspns_time_facts.alarm_box_key\n",
    "    AND hour.key = rspns_time_facts.incident_hour_key\n",
    "    AND alarm_box.borough = 'BROOKLYN'\n",
    "GROUP BY hour.month_of_year\n",
    "ORDER BY hour.month_of_year;"
   ]
  },
  {
   "cell_type": "markdown",
   "metadata": {},
   "source": [
    "### Average, min, max incident response time by month for Bronx"
   ]
  },
  {
   "cell_type": "markdown",
   "metadata": {},
   "source": [
    "***Check the data we want using SQL***"
   ]
  },
  {
   "cell_type": "code",
   "execution_count": 103,
   "metadata": {},
   "outputs": [
    {
     "name": "stdout",
     "output_type": "stream",
     "text": [
      " * postgresql://student@/proj4_group17\n",
      "12 rows affected.\n"
     ]
    },
    {
     "data": {
      "text/html": [
       "<table>\n",
       "    <tr>\n",
       "        <th>month_of_year</th>\n",
       "        <th>min</th>\n",
       "        <th>max</th>\n",
       "        <th>avg</th>\n",
       "    </tr>\n",
       "    <tr>\n",
       "        <td>1</td>\n",
       "        <td>16</td>\n",
       "        <td>3740</td>\n",
       "        <td>337.61</td>\n",
       "    </tr>\n",
       "    <tr>\n",
       "        <td>2</td>\n",
       "        <td>17</td>\n",
       "        <td>2907</td>\n",
       "        <td>331.32</td>\n",
       "    </tr>\n",
       "    <tr>\n",
       "        <td>3</td>\n",
       "        <td>14</td>\n",
       "        <td>7017</td>\n",
       "        <td>317.37</td>\n",
       "    </tr>\n",
       "    <tr>\n",
       "        <td>4</td>\n",
       "        <td>6</td>\n",
       "        <td>5273</td>\n",
       "        <td>318.62</td>\n",
       "    </tr>\n",
       "    <tr>\n",
       "        <td>5</td>\n",
       "        <td>6</td>\n",
       "        <td>4417</td>\n",
       "        <td>313.56</td>\n",
       "    </tr>\n",
       "    <tr>\n",
       "        <td>6</td>\n",
       "        <td>14</td>\n",
       "        <td>2972</td>\n",
       "        <td>316.18</td>\n",
       "    </tr>\n",
       "    <tr>\n",
       "        <td>7</td>\n",
       "        <td>9</td>\n",
       "        <td>8123</td>\n",
       "        <td>327.46</td>\n",
       "    </tr>\n",
       "    <tr>\n",
       "        <td>8</td>\n",
       "        <td>10</td>\n",
       "        <td>4726</td>\n",
       "        <td>329.57</td>\n",
       "    </tr>\n",
       "    <tr>\n",
       "        <td>9</td>\n",
       "        <td>8</td>\n",
       "        <td>7785</td>\n",
       "        <td>325.05</td>\n",
       "    </tr>\n",
       "    <tr>\n",
       "        <td>10</td>\n",
       "        <td>10</td>\n",
       "        <td>5619</td>\n",
       "        <td>323.32</td>\n",
       "    </tr>\n",
       "    <tr>\n",
       "        <td>11</td>\n",
       "        <td>9</td>\n",
       "        <td>3658</td>\n",
       "        <td>323.71</td>\n",
       "    </tr>\n",
       "    <tr>\n",
       "        <td>12</td>\n",
       "        <td>12</td>\n",
       "        <td>2874</td>\n",
       "        <td>332.53</td>\n",
       "    </tr>\n",
       "</table>"
      ],
      "text/plain": [
       "[(1, 16, 3740, Decimal('337.61')),\n",
       " (2, 17, 2907, Decimal('331.32')),\n",
       " (3, 14, 7017, Decimal('317.37')),\n",
       " (4, 6, 5273, Decimal('318.62')),\n",
       " (5, 6, 4417, Decimal('313.56')),\n",
       " (6, 14, 2972, Decimal('316.18')),\n",
       " (7, 9, 8123, Decimal('327.46')),\n",
       " (8, 10, 4726, Decimal('329.57')),\n",
       " (9, 8, 7785, Decimal('325.05')),\n",
       " (10, 10, 5619, Decimal('323.32')),\n",
       " (11, 9, 3658, Decimal('323.71')),\n",
       " (12, 12, 2874, Decimal('332.53'))]"
      ]
     },
     "execution_count": 103,
     "metadata": {},
     "output_type": "execute_result"
    }
   ],
   "source": [
    "%%sql\n",
    "SELECT hour.month_of_year,\n",
    "        min(rspns_time_facts.incident_rspns_s_qy), \n",
    "        max(rspns_time_facts.incident_rspns_s_qy),\n",
    "        ROUND(avg(rspns_time_facts.incident_rspns_s_qy)::numeric, 2) AS avg\n",
    "FROM alarm_box, hour, rspns_time_facts\n",
    "WHERE alarm_box.key = rspns_time_facts.alarm_box_key\n",
    "    AND hour.key = rspns_time_facts.incident_hour_key\n",
    "    AND alarm_box.borough = 'BRONX'\n",
    "GROUP BY hour.month_of_year\n",
    "ORDER BY hour.month_of_year;"
   ]
  },
  {
   "cell_type": "markdown",
   "metadata": {},
   "source": [
    "### Visualize all of the above tables together."
   ]
  },
  {
   "cell_type": "code",
   "execution_count": 104,
   "metadata": {},
   "outputs": [],
   "source": [
    "sql = '''\n",
    "    SELECT hour.month_of_year,\n",
    "            min(rspns_time_facts.incident_rspns_s_qy), \n",
    "            max(rspns_time_facts.incident_rspns_s_qy),\n",
    "            ROUND(avg(rspns_time_facts.incident_rspns_s_qy)::numeric, 2) AS avg_rspns,\n",
    "            ROUND(avg(rspns_time_facts.incident_travel_s_qy)::numeric, 2) AS avg_travel\n",
    "    FROM alarm_box, hour, rspns_time_facts\n",
    "    WHERE alarm_box.key = rspns_time_facts.alarm_box_key\n",
    "        AND hour.key = rspns_time_facts.incident_hour_key\n",
    "        AND alarm_box.borough = 'RICHMOND / STATEN ISLAND'\n",
    "    GROUP BY hour.month_of_year\n",
    "    ORDER BY hour.month_of_year;\n",
    "'''\n",
    "c.execute(sql)\n",
    "rows1 = c.fetchall()"
   ]
  },
  {
   "cell_type": "code",
   "execution_count": 105,
   "metadata": {},
   "outputs": [],
   "source": [
    "sql = '''\n",
    "    SELECT hour.month_of_year,\n",
    "            min(rspns_time_facts.incident_rspns_s_qy), \n",
    "            max(rspns_time_facts.incident_rspns_s_qy),\n",
    "            ROUND(avg(rspns_time_facts.incident_rspns_s_qy)::numeric, 2) AS avg_rspns,\n",
    "            ROUND(avg(rspns_time_facts.incident_travel_s_qy)::numeric, 2) AS avg_travel\n",
    "    FROM alarm_box, hour, rspns_time_facts\n",
    "    WHERE alarm_box.key = rspns_time_facts.alarm_box_key\n",
    "        AND hour.key = rspns_time_facts.incident_hour_key\n",
    "        AND alarm_box.borough = 'QUEENS'\n",
    "    GROUP BY hour.month_of_year\n",
    "    ORDER BY hour.month_of_year;\n",
    "'''\n",
    "c.execute(sql)\n",
    "rows2 = c.fetchall()"
   ]
  },
  {
   "cell_type": "code",
   "execution_count": 106,
   "metadata": {},
   "outputs": [],
   "source": [
    "sql = '''\n",
    "    SELECT hour.month_of_year,\n",
    "            min(rspns_time_facts.incident_rspns_s_qy), \n",
    "            max(rspns_time_facts.incident_rspns_s_qy),\n",
    "            ROUND(avg(rspns_time_facts.incident_rspns_s_qy)::numeric, 2) AS avg_rspns,\n",
    "            ROUND(avg(rspns_time_facts.incident_travel_s_qy)::numeric, 2) AS avg_travel\n",
    "    FROM alarm_box, hour, rspns_time_facts\n",
    "    WHERE alarm_box.key = rspns_time_facts.alarm_box_key\n",
    "        AND hour.key = rspns_time_facts.incident_hour_key\n",
    "        AND alarm_box.borough = 'MANHATTAN'\n",
    "    GROUP BY hour.month_of_year\n",
    "    ORDER BY hour.month_of_year;\n",
    "'''\n",
    "c.execute(sql)\n",
    "rows3 = c.fetchall()"
   ]
  },
  {
   "cell_type": "code",
   "execution_count": 107,
   "metadata": {},
   "outputs": [],
   "source": [
    "sql = '''\n",
    "    SELECT hour.month_of_year,\n",
    "            min(rspns_time_facts.incident_rspns_s_qy), \n",
    "            max(rspns_time_facts.incident_rspns_s_qy),\n",
    "            ROUND(avg(rspns_time_facts.incident_rspns_s_qy)::numeric, 2) AS avg_rspns,\n",
    "            ROUND(avg(rspns_time_facts.incident_travel_s_qy)::numeric, 2) AS avg_travel\n",
    "    FROM alarm_box, hour, rspns_time_facts\n",
    "    WHERE alarm_box.key = rspns_time_facts.alarm_box_key\n",
    "        AND hour.key = rspns_time_facts.incident_hour_key\n",
    "        AND alarm_box.borough = 'BROOKLYN'\n",
    "    GROUP BY hour.month_of_year\n",
    "    ORDER BY hour.month_of_year;\n",
    "'''\n",
    "c.execute(sql)\n",
    "rows4 = c.fetchall()"
   ]
  },
  {
   "cell_type": "code",
   "execution_count": 108,
   "metadata": {},
   "outputs": [],
   "source": [
    "sql = '''\n",
    "    SELECT hour.month_of_year,\n",
    "            min(rspns_time_facts.incident_rspns_s_qy), \n",
    "            max(rspns_time_facts.incident_rspns_s_qy),\n",
    "            ROUND(avg(rspns_time_facts.incident_rspns_s_qy)::numeric, 2) AS avg_rspns,\n",
    "            ROUND(avg(rspns_time_facts.incident_travel_s_qy)::numeric, 2) AS avg_travel\n",
    "    FROM alarm_box, hour, rspns_time_facts\n",
    "    WHERE alarm_box.key = rspns_time_facts.alarm_box_key\n",
    "        AND hour.key = rspns_time_facts.incident_hour_key\n",
    "        AND alarm_box.borough = 'BRONX'\n",
    "    GROUP BY hour.month_of_year\n",
    "    ORDER BY hour.month_of_year;\n",
    "'''\n",
    "c.execute(sql)\n",
    "rows5 = c.fetchall()"
   ]
  },
  {
   "cell_type": "markdown",
   "metadata": {},
   "source": [
    "***Average rsponse time by borough by month***"
   ]
  },
  {
   "cell_type": "code",
   "execution_count": 109,
   "metadata": {},
   "outputs": [
    {
     "data": {
      "image/png": "[encoded data removed]",
      "text/plain": [
       "<Figure size 432x288 with 1 Axes>"
      ]
     },
     "metadata": {
      "needs_background": "light"
     },
     "output_type": "display_data"
    }
   ],
   "source": [
    "plt.plot([i[0] for i in rows1], [i[3] for i in rows1], label = \"RICHMOND / STATEN ISLAND\")\n",
    "plt.plot([i[0] for i in rows2], [i[3] for i in rows2], label = \"QUEENS\")\n",
    "plt.plot([i[0] for i in rows3], [i[3] for i in rows3], label = \"MANHATTAN\")\n",
    "plt.plot([i[0] for i in rows4], [i[3] for i in rows4], label = \"BROOKLYN\")\n",
    "plt.plot([i[0] for i in rows5], [i[3] for i in rows5], label = \"BRONX\")\n",
    "plt.xlabel(\"Month\")\n",
    "plt.ylabel(\"average response time\")\n",
    "plt.title(\"Average Response Time by Borough by Month\")\n",
    "plt.legend(loc='best')\n",
    "plt.show()"
   ]
  },
  {
   "cell_type": "markdown",
   "metadata": {},
   "source": [
    "***Average travel time by borough by month***"
   ]
  },
  {
   "cell_type": "code",
   "execution_count": 110,
   "metadata": {},
   "outputs": [
    {
     "data": {
      "image/png": "[encoded data removed]",
      "text/plain": [
       "<Figure size 432x288 with 1 Axes>"
      ]
     },
     "metadata": {
      "needs_background": "light"
     },
     "output_type": "display_data"
    }
   ],
   "source": [
    "plt.plot([i[0] for i in rows1], [i[4] for i in rows1], label = \"RICHMOND / STATEN ISLAND\")\n",
    "plt.plot([i[0] for i in rows2], [i[4] for i in rows2], label = \"QUEENS\")\n",
    "plt.plot([i[0] for i in rows3], [i[4] for i in rows3], label = \"MANHATTAN\")\n",
    "plt.plot([i[0] for i in rows4], [i[4] for i in rows4], label = \"BROOKLYN\")\n",
    "plt.plot([i[0] for i in rows5], [i[4] for i in rows5], label = \"BRONX\")\n",
    "plt.xlabel(\"Month\")\n",
    "plt.ylabel(\"average travel time\")\n",
    "plt.title(\"Average Travel Time by Borough by Month\")\n",
    "plt.legend(loc='best')\n",
    "plt.show()"
   ]
  },
  {
   "cell_type": "markdown",
   "metadata": {},
   "source": [
    "***Discussion***"
   ]
  },
  {
   "cell_type": "markdown",
   "metadata": {},
   "source": [
    "Through our analysis, we identified that Brooklyn has the most incidents among 5 boroughs. However, it also has the overall fastest response time and travel time. Thus, we can conclude that Fire Department in Brooklyn is doing a very good job in responding to incidents and arriving to scenes in a timely manner.\n",
    "\n",
    "Manhattan is the major borough of New York City. It has the second most incidents happened there but generally the most response time. While the major part of the response time is the travel time, and Manhattan has generally the most travel time, we conclude that the reason might be the traffic problem in Manhattan -- there are always traffic jams!!!"
   ]
  },
  {
   "cell_type": "markdown",
   "metadata": {},
   "source": [
    "## Disconnect the database"
   ]
  },
  {
   "cell_type": "code",
   "execution_count": 111,
   "metadata": {},
   "outputs": [],
   "source": [
    "c.close()\n",
    "conn.close()"
   ]
  },
  {
   "cell_type": "markdown",
   "metadata": {},
   "source": [
    "## Visualization with Tableau"
   ]
  },
  {
   "cell_type": "markdown",
   "metadata": {},
   "source": [
    "***Heat map of severe fires by zip code in Brooklyn and Queens***"
   ]
  },
  {
   "cell_type": "code",
   "execution_count": 112,
   "metadata": {},
   "outputs": [
    {
     "data": {
      "text/html": [
       "<img src=\"https://s3.amazonaws.com/2018-istm6212-group17/severe_fires_by_zip.png\"/>"
      ],
      "text/plain": [
       "<IPython.core.display.Image object>"
      ]
     },
     "execution_count": 112,
     "metadata": {},
     "output_type": "execute_result"
    }
   ],
   "source": [
    "from IPython.display import Image\n",
    "Image(url = \"https://s3.amazonaws.com/2018-istm6212-group17/severe_fires_by_zip.png\")"
   ]
  },
  {
   "cell_type": "markdown",
   "metadata": {},
   "source": [
    "It seems that more severe fires happened at the junction of Queens and Brooklyn. There are five ZIPCODE areas with many severe fires."
   ]
  },
  {
   "cell_type": "markdown",
   "metadata": {},
   "source": [
    "# Bonus - Augment (10 points)\n",
    "\n",
    "Sometimes the most value can be gained from one dataset when it is studied alongside data drawn from other sources. Identify and describe at least one additional data source that can complement your analysis. Pull this additional data into your chosen environment and explore at least one more theme you are able to further analyze that depends upon a combination of data from both sources."
   ]
  },
  {
   "cell_type": "markdown",
   "metadata": {},
   "source": [
    "## About the complementary data"
   ]
  },
  {
   "cell_type": "markdown",
   "metadata": {},
   "source": [
    "For the bonus section, we decided to add weather data, [Historical Hourly Weather Data 2012-2017](https://www.kaggle.com/selfishgene/historical-hourly-weather-data#weather_description.csv), into the database. We want to include this data in our analysis because the winter months showed a higher frequency of fires and we expect that temperature, humidity, and wind speed may be important variables for better understanding the frequency of fires. Additionally, weather may play an important role for response times, with quick response times allowing the Fire Department to mitigate the risk of severe fires. "
   ]
  },
  {
   "cell_type": "markdown",
   "metadata": {},
   "source": [
    "## Obtain the `weather` data"
   ]
  },
  {
   "cell_type": "code",
   "execution_count": 113,
   "metadata": {},
   "outputs": [
    {
     "name": "stdout",
     "output_type": "stream",
     "text": [
      "--2018-12-10 05:30:45--  https://s3.amazonaws.com/2018-istm6212-group17/historical-hourly-weather-data.zip\n",
      "Resolving s3.amazonaws.com (s3.amazonaws.com)... 52.217.0.77\n",
      "Connecting to s3.amazonaws.com (s3.amazonaws.com)|52.217.0.77|:443... connected.\n",
      "HTTP request sent, awaiting response... 200 OK\n",
      "Length: 12556106 (12M) [application/zip]\n",
      "Saving to: ‘weather.zip’\n",
      "\n",
      "weather.zip         100%[===================>]  11.97M  32.5MB/s    in 0.4s    \n",
      "\n",
      "2018-12-10 05:30:46 (32.5 MB/s) - ‘weather.zip’ saved [12556106/12556106]\n",
      "\n"
     ]
    }
   ],
   "source": [
    "!wget -O weather.zip https://s3.amazonaws.com/2018-istm6212-group17/historical-hourly-weather-data.zip"
   ]
  },
  {
   "cell_type": "code",
   "execution_count": 114,
   "metadata": {},
   "outputs": [
    {
     "name": "stdout",
     "output_type": "stream",
     "text": [
      "Archive:  weather.zip\n",
      "  inflating: ./weather/temperature.csv  \n",
      "  inflating: ./weather/weather_description.csv  \n",
      "  inflating: ./weather/wind_speed.csv  \n",
      "  inflating: ./weather/city_attributes.csv  \n",
      "  inflating: ./weather/humidity.csv  \n",
      "  inflating: ./weather/pressure.csv  \n",
      "  inflating: ./weather/wind_direction.csv  \n"
     ]
    }
   ],
   "source": [
    "!unzip -o weather.zip -d ./weather"
   ]
  },
  {
   "cell_type": "markdown",
   "metadata": {},
   "source": [
    "## Filter and combine the data we want"
   ]
  },
  {
   "cell_type": "code",
   "execution_count": 115,
   "metadata": {},
   "outputs": [],
   "source": [
    "!grep -E '^2016' weather/weather_description.csv | csvcut -c1,29 > description.txt"
   ]
  },
  {
   "cell_type": "code",
   "execution_count": 116,
   "metadata": {},
   "outputs": [],
   "source": [
    "!grep -E '^2016' weather/temperature.csv | csvcut -c29 > temperature.txt"
   ]
  },
  {
   "cell_type": "code",
   "execution_count": 117,
   "metadata": {},
   "outputs": [],
   "source": [
    "!grep -E '^2016' weather/humidity.csv | csvcut -c29 > humidity.txt"
   ]
  },
  {
   "cell_type": "code",
   "execution_count": 118,
   "metadata": {},
   "outputs": [],
   "source": [
    "!grep -E '^2016' weather/pressure.csv | csvcut -c29 > pressure.txt"
   ]
  },
  {
   "cell_type": "code",
   "execution_count": 119,
   "metadata": {},
   "outputs": [],
   "source": [
    "!grep -E '^2016' weather/wind_speed.csv | csvcut -c29 > wind_speed.txt"
   ]
  },
  {
   "cell_type": "code",
   "execution_count": 120,
   "metadata": {},
   "outputs": [
    {
     "name": "stdout",
     "output_type": "stream",
     "text": [
      "  8784 description.txt\n",
      "  8784 humidity.txt\n",
      "  8784 pressure.txt\n",
      "  8784 temperature.txt\n",
      "  8784 wind_speed.txt\n",
      " 43920 total\n"
     ]
    }
   ],
   "source": [
    "!wc -l *.txt"
   ]
  },
  {
   "cell_type": "code",
   "execution_count": 121,
   "metadata": {},
   "outputs": [],
   "source": [
    "!paste -d ',' description.txt temperature.txt humidity.txt pressure.txt wind_speed.txt > 2016_nyc_weather.csv"
   ]
  },
  {
   "cell_type": "code",
   "execution_count": 122,
   "metadata": {},
   "outputs": [],
   "source": [
    "!sed -i 1i'hour,description,temperature,humidity,pressure,wind_speed' 2016_nyc_weather.csv"
   ]
  },
  {
   "cell_type": "markdown",
   "metadata": {},
   "source": [
    "## Examine the data"
   ]
  },
  {
   "cell_type": "code",
   "execution_count": 123,
   "metadata": {},
   "outputs": [
    {
     "name": "stdout",
     "output_type": "stream",
     "text": [
      "8785 2016_nyc_weather.csv\n"
     ]
    }
   ],
   "source": [
    "!wc -l 2016_nyc_weather.csv"
   ]
  },
  {
   "cell_type": "code",
   "execution_count": 124,
   "metadata": {},
   "outputs": [
    {
     "name": "stdout",
     "output_type": "stream",
     "text": [
      "Row count: 8784\n"
     ]
    }
   ],
   "source": [
    "!csvstat --count 2016_nyc_weather.csv"
   ]
  },
  {
   "cell_type": "code",
   "execution_count": 125,
   "metadata": {},
   "outputs": [
    {
     "name": "stdout",
     "output_type": "stream",
     "text": [
      "  1: hour\n",
      "  2: description\n",
      "  3: temperature\n",
      "  4: humidity\n",
      "  5: pressure\n",
      "  6: wind_speed\n"
     ]
    }
   ],
   "source": [
    "!csvcut -n 2016_nyc_weather.csv"
   ]
  },
  {
   "cell_type": "code",
   "execution_count": 126,
   "metadata": {},
   "outputs": [
    {
     "name": "stdout",
     "output_type": "stream",
     "text": [
      "  1. \"hour\"\n",
      "\n",
      "\tType of data:          DateTime\n",
      "\tContains null values:  False\n",
      "\tUnique values:         8784\n",
      "\tSmallest value:        2016-01-01 00:00:00\n",
      "\tLargest value:         2016-12-31 23:00:00\n",
      "\tMost common values:    2016-01-01 00:00:00 (1x)\n",
      "\t                       2016-01-01 01:00:00 (1x)\n",
      "\t                       2016-01-01 02:00:00 (1x)\n",
      "\t                       2016-01-01 03:00:00 (1x)\n",
      "\t                       2016-01-01 04:00:00 (1x)\n",
      "\n",
      "  2. \"description\"\n",
      "\n",
      "\tType of data:          Text\n",
      "\tContains null values:  False\n",
      "\tUnique values:         26\n",
      "\tLongest value:         31 characters\n",
      "\tMost common values:    sky is clear (2127x)\n",
      "\t                       broken clouds (1300x)\n",
      "\t                       mist (1187x)\n",
      "\t                       scattered clouds (936x)\n",
      "\t                       light rain (857x)\n",
      "\n",
      "  3. \"temperature\"\n",
      "\n",
      "\tType of data:          Number\n",
      "\tContains null values:  False\n",
      "\tUnique values:         4260\n",
      "\tSmallest value:        255.07\n",
      "\tLargest value:         308.37\n",
      "\tSum:                   2,512,709.866\n",
      "\tMean:                  286.055\n",
      "\tMedian:                285.863\n",
      "\tStDev:                 9.982\n",
      "\tMost common values:    299.388 (44x)\n",
      "\t                       277.15 (10x)\n",
      "\t                       292.43 (10x)\n",
      "\t                       297.97 (10x)\n",
      "\t                       279.14 (9x)\n",
      "\n",
      "  4. \"humidity\"\n",
      "\n",
      "\tType of data:          Number\n",
      "\tContains null values:  False\n",
      "\tUnique values:         90\n",
      "\tSmallest value:        10\n",
      "\tLargest value:         100\n",
      "\tSum:                   573,875\n",
      "\tMean:                  65.332\n",
      "\tMedian:                65\n",
      "\tStDev:                 21.009\n",
      "\tMost common values:    100 (468x)\n",
      "\t                       93 (387x)\n",
      "\t                       87 (284x)\n",
      "\t                       88 (261x)\n",
      "\t                       69 (224x)\n",
      "\n",
      "  5. \"pressure\"\n",
      "\n",
      "\tType of data:          Number\n",
      "\tContains null values:  False\n",
      "\tUnique values:         53\n",
      "\tSmallest value:        990\n",
      "\tLargest value:         1,044\n",
      "\tSum:                   8,940,962\n",
      "\tMean:                  1,017.869\n",
      "\tMedian:                1,018\n",
      "\tStDev:                 8.233\n",
      "\tMost common values:    1,018 (483x)\n",
      "\t                       1,020 (474x)\n",
      "\t                       1,016 (470x)\n",
      "\t                       1,021 (444x)\n",
      "\t                       1,019 (438x)\n",
      "\n",
      "  6. \"wind_speed\"\n",
      "\n",
      "\tType of data:          Number\n",
      "\tContains null values:  False\n",
      "\tUnique values:         16\n",
      "\tSmallest value:        0\n",
      "\tLargest value:         15\n",
      "\tSum:                   29,816\n",
      "\tMean:                  3.394\n",
      "\tMedian:                3\n",
      "\tStDev:                 2.126\n",
      "\tMost common values:    2 (2015x)\n",
      "\t                       3 (1786x)\n",
      "\t                       1 (1424x)\n",
      "\t                       4 (1269x)\n",
      "\t                       5 (843x)\n",
      "\n",
      "Row count: 8784\n"
     ]
    }
   ],
   "source": [
    "!csvstat 2016_nyc_weather.csv"
   ]
  },
  {
   "cell_type": "markdown",
   "metadata": {},
   "source": [
    "## Schema"
   ]
  },
  {
   "cell_type": "markdown",
   "metadata": {},
   "source": [
    "***With the weather data, our final star schema is as follows***"
   ]
  },
  {
   "cell_type": "code",
   "execution_count": 127,
   "metadata": {},
   "outputs": [
    {
     "data": {
      "text/html": [
       "<img src=\"https://s3.amazonaws.com/2018-istm6212-group17/star_schema_augmented.png\"/>"
      ],
      "text/plain": [
       "<IPython.core.display.Image object>"
      ]
     },
     "execution_count": 127,
     "metadata": {},
     "output_type": "execute_result"
    }
   ],
   "source": [
    "from IPython.display import Image\n",
    "Image(url = \"https://s3.amazonaws.com/2018-istm6212-group17/star_schema_augmented.png\")"
   ]
  },
  {
   "cell_type": "markdown",
   "metadata": {},
   "source": [
    "## Create the `weather` dimension table"
   ]
  },
  {
   "cell_type": "markdown",
   "metadata": {},
   "source": [
    "***Create the `weather` dimension table***"
   ]
  },
  {
   "cell_type": "code",
   "execution_count": 128,
   "metadata": {},
   "outputs": [
    {
     "name": "stdout",
     "output_type": "stream",
     "text": [
      " * postgresql://student@/proj4_group17\n",
      "Done.\n",
      "Done.\n"
     ]
    },
    {
     "data": {
      "text/plain": [
       "[]"
      ]
     },
     "execution_count": 128,
     "metadata": {},
     "output_type": "execute_result"
    }
   ],
   "source": [
    "%%sql\n",
    "DROP TABLE IF EXISTS weather;\n",
    "\n",
    "CREATE TABLE weather (\n",
    "    key SERIAL PRIMARY KEY,\n",
    "    hour VARCHAR(20) NOT NULL,\n",
    "    description VARCHAR(50) NOT NULL,\n",
    "    temperature FLOAT NOT NULL,\n",
    "    humidity FLOAT NOT NULL,\n",
    "    pressure FLOAT NOT NULL,\n",
    "    wind_speed FLOAT NOT NULL\n",
    ");"
   ]
  },
  {
   "cell_type": "markdown",
   "metadata": {},
   "source": [
    "***Load the data using `COPY` command***"
   ]
  },
  {
   "cell_type": "code",
   "execution_count": 129,
   "metadata": {},
   "outputs": [],
   "source": [
    "!cp 2016_nyc_weather.csv /tmp/2016_nyc_weather.csv"
   ]
  },
  {
   "cell_type": "code",
   "execution_count": 130,
   "metadata": {},
   "outputs": [
    {
     "name": "stdout",
     "output_type": "stream",
     "text": [
      " * postgresql://student@/proj4_group17\n",
      "8784 rows affected.\n"
     ]
    },
    {
     "data": {
      "text/plain": [
       "[]"
      ]
     },
     "execution_count": 130,
     "metadata": {},
     "output_type": "execute_result"
    }
   ],
   "source": [
    "%%sql\n",
    "COPY weather (hour, description, temperature, humidity, pressure, wind_speed)\n",
    "FROM '/tmp/2016_nyc_weather.csv'\n",
    "CSV\n",
    "HEADER;"
   ]
  },
  {
   "cell_type": "markdown",
   "metadata": {},
   "source": [
    "***Change the unit of temperature from Kelvin to Celsius***"
   ]
  },
  {
   "cell_type": "code",
   "execution_count": 131,
   "metadata": {},
   "outputs": [
    {
     "name": "stdout",
     "output_type": "stream",
     "text": [
      " * postgresql://student@/proj4_group17\n",
      "8784 rows affected.\n"
     ]
    },
    {
     "data": {
      "text/plain": [
       "[]"
      ]
     },
     "execution_count": 131,
     "metadata": {},
     "output_type": "execute_result"
    }
   ],
   "source": [
    "%%sql\n",
    "UPDATE weather\n",
    "SET temperature = ROUND((temperature - 272.15)::numeric, 2);"
   ]
  },
  {
   "cell_type": "markdown",
   "metadata": {},
   "source": [
    "***Take a look at the `weather` dimension table***"
   ]
  },
  {
   "cell_type": "code",
   "execution_count": 132,
   "metadata": {},
   "outputs": [
    {
     "name": "stdout",
     "output_type": "stream",
     "text": [
      " * postgresql://student@/proj4_group17\n",
      "5 rows affected.\n"
     ]
    },
    {
     "data": {
      "text/html": [
       "<table>\n",
       "    <tr>\n",
       "        <th>key</th>\n",
       "        <th>hour</th>\n",
       "        <th>description</th>\n",
       "        <th>temperature</th>\n",
       "        <th>humidity</th>\n",
       "        <th>pressure</th>\n",
       "        <th>wind_speed</th>\n",
       "    </tr>\n",
       "    <tr>\n",
       "        <td>1</td>\n",
       "        <td>2016-01-01 00:00:00</td>\n",
       "        <td>broken clouds</td>\n",
       "        <td>7.39</td>\n",
       "        <td>65.0</td>\n",
       "        <td>1019.0</td>\n",
       "        <td>3.0</td>\n",
       "    </tr>\n",
       "    <tr>\n",
       "        <td>2</td>\n",
       "        <td>2016-01-01 01:00:00</td>\n",
       "        <td>broken clouds</td>\n",
       "        <td>7.27</td>\n",
       "        <td>73.0</td>\n",
       "        <td>1019.0</td>\n",
       "        <td>3.0</td>\n",
       "    </tr>\n",
       "    <tr>\n",
       "        <td>3</td>\n",
       "        <td>2016-01-01 02:00:00</td>\n",
       "        <td>overcast clouds</td>\n",
       "        <td>6.88</td>\n",
       "        <td>100.0</td>\n",
       "        <td>1020.0</td>\n",
       "        <td>4.0</td>\n",
       "    </tr>\n",
       "    <tr>\n",
       "        <td>4</td>\n",
       "        <td>2016-01-01 03:00:00</td>\n",
       "        <td>overcast clouds</td>\n",
       "        <td>6.72</td>\n",
       "        <td>89.0</td>\n",
       "        <td>1019.0</td>\n",
       "        <td>4.0</td>\n",
       "    </tr>\n",
       "    <tr>\n",
       "        <td>5</td>\n",
       "        <td>2016-01-01 04:00:00</td>\n",
       "        <td>broken clouds</td>\n",
       "        <td>6.2</td>\n",
       "        <td>56.0</td>\n",
       "        <td>1019.0</td>\n",
       "        <td>4.0</td>\n",
       "    </tr>\n",
       "</table>"
      ],
      "text/plain": [
       "[(1, '2016-01-01 00:00:00', 'broken clouds', 7.39, 65.0, 1019.0, 3.0),\n",
       " (2, '2016-01-01 01:00:00', 'broken clouds', 7.27, 73.0, 1019.0, 3.0),\n",
       " (3, '2016-01-01 02:00:00', 'overcast clouds', 6.88, 100.0, 1020.0, 4.0),\n",
       " (4, '2016-01-01 03:00:00', 'overcast clouds', 6.72, 89.0, 1019.0, 4.0),\n",
       " (5, '2016-01-01 04:00:00', 'broken clouds', 6.2, 56.0, 1019.0, 4.0)]"
      ]
     },
     "execution_count": 132,
     "metadata": {},
     "output_type": "execute_result"
    }
   ],
   "source": [
    "%%sql\n",
    "SELECT * FROM weather ORDER BY key LIMIT 5;"
   ]
  },
  {
   "cell_type": "code",
   "execution_count": 133,
   "metadata": {},
   "outputs": [
    {
     "name": "stdout",
     "output_type": "stream",
     "text": [
      " * postgresql://student@/proj4_group17\n",
      "1 rows affected.\n"
     ]
    },
    {
     "data": {
      "text/html": [
       "<table>\n",
       "    <tr>\n",
       "        <th>count</th>\n",
       "    </tr>\n",
       "    <tr>\n",
       "        <td>8784</td>\n",
       "    </tr>\n",
       "</table>"
      ],
      "text/plain": [
       "[(8784,)]"
      ]
     },
     "execution_count": 133,
     "metadata": {},
     "output_type": "execute_result"
    }
   ],
   "source": [
    "%%sql\n",
    "SELECT COUNT(*) FROM weather;"
   ]
  },
  {
   "cell_type": "markdown",
   "metadata": {},
   "source": [
    "***Add a foreign key column to the fact table that references `weather` dimension table***"
   ]
  },
  {
   "cell_type": "code",
   "execution_count": 134,
   "metadata": {},
   "outputs": [
    {
     "name": "stdout",
     "output_type": "stream",
     "text": [
      " * postgresql://student@/proj4_group17\n",
      "Done.\n"
     ]
    },
    {
     "data": {
      "text/plain": [
       "[]"
      ]
     },
     "execution_count": 134,
     "metadata": {},
     "output_type": "execute_result"
    }
   ],
   "source": [
    "%%sql\n",
    "ALTER TABLE rspns_time_facts \n",
    "ADD COLUMN weather_key INTEGER,\n",
    "ADD CONSTRAINT fk_weather_key\n",
    "    FOREIGN KEY (weather_key)\n",
    "    REFERENCES weather (key);"
   ]
  },
  {
   "cell_type": "markdown",
   "metadata": {},
   "source": [
    "***Populate `weather_key` with correct values***"
   ]
  },
  {
   "cell_type": "code",
   "execution_count": 135,
   "metadata": {},
   "outputs": [
    {
     "name": "stdout",
     "output_type": "stream",
     "text": [
      " * postgresql://student@/proj4_group17\n",
      "585519 rows affected.\n"
     ]
    },
    {
     "data": {
      "text/plain": [
       "[]"
      ]
     },
     "execution_count": 135,
     "metadata": {},
     "output_type": "execute_result"
    }
   ],
   "source": [
    "%%sql\n",
    "UPDATE rspns_time_facts\n",
    "SET weather_key = weather.key\n",
    "FROM weather, hour \n",
    "WHERE rspns_time_facts.incident_hour_key = hour.key \n",
    "    AND hour.hour = weather.hour;"
   ]
  },
  {
   "cell_type": "markdown",
   "metadata": {},
   "source": [
    "***Check the foreign key column***"
   ]
  },
  {
   "cell_type": "code",
   "execution_count": 136,
   "metadata": {},
   "outputs": [
    {
     "name": "stdout",
     "output_type": "stream",
     "text": [
      " * postgresql://student@/proj4_group17\n",
      "5 rows affected.\n"
     ]
    },
    {
     "data": {
      "text/html": [
       "<table>\n",
       "    <tr>\n",
       "        <th>id</th>\n",
       "        <th>weather_key</th>\n",
       "    </tr>\n",
       "    <tr>\n",
       "        <td>1600336540120618</td>\n",
       "        <td>68</td>\n",
       "    </tr>\n",
       "    <tr>\n",
       "        <td>1600451140150038</td>\n",
       "        <td>75</td>\n",
       "    </tr>\n",
       "    <tr>\n",
       "        <td>1600439810120123</td>\n",
       "        <td>80</td>\n",
       "    </tr>\n",
       "    <tr>\n",
       "        <td>1600404590140231</td>\n",
       "        <td>82</td>\n",
       "    </tr>\n",
       "    <tr>\n",
       "        <td>1600471140150219</td>\n",
       "        <td>84</td>\n",
       "    </tr>\n",
       "</table>"
      ],
      "text/plain": [
       "[(Decimal('1600336540120618'), 68),\n",
       " (Decimal('1600451140150038'), 75),\n",
       " (Decimal('1600439810120123'), 80),\n",
       " (Decimal('1600404590140231'), 82),\n",
       " (Decimal('1600471140150219'), 84)]"
      ]
     },
     "execution_count": 136,
     "metadata": {},
     "output_type": "execute_result"
    }
   ],
   "source": [
    "%%sql\n",
    "SELECT id, weather_key\n",
    "FROM rspns_time_facts\n",
    "LIMIT 5;"
   ]
  },
  {
   "cell_type": "code",
   "execution_count": 137,
   "metadata": {},
   "outputs": [
    {
     "name": "stdout",
     "output_type": "stream",
     "text": [
      " * postgresql://student@/proj4_group17\n",
      "1 rows affected.\n"
     ]
    },
    {
     "data": {
      "text/html": [
       "<table>\n",
       "    <tr>\n",
       "        <th>weather_key_not_null_count</th>\n",
       "    </tr>\n",
       "    <tr>\n",
       "        <td>585519</td>\n",
       "    </tr>\n",
       "</table>"
      ],
      "text/plain": [
       "[(585519,)]"
      ]
     },
     "execution_count": 137,
     "metadata": {},
     "output_type": "execute_result"
    }
   ],
   "source": [
    "%%sql\n",
    "SELECT COUNT(*) AS weather_key_not_null_count\n",
    "FROM rspns_time_facts\n",
    "WHERE weather_key IS NOT NULL;"
   ]
  },
  {
   "cell_type": "code",
   "execution_count": 138,
   "metadata": {},
   "outputs": [
    {
     "name": "stdout",
     "output_type": "stream",
     "text": [
      " * postgresql://student@/proj4_group17\n",
      "1 rows affected.\n"
     ]
    },
    {
     "data": {
      "text/html": [
       "<table>\n",
       "    <tr>\n",
       "        <th>weather_key_null_count</th>\n",
       "    </tr>\n",
       "    <tr>\n",
       "        <td>0</td>\n",
       "    </tr>\n",
       "</table>"
      ],
      "text/plain": [
       "[(0,)]"
      ]
     },
     "execution_count": 138,
     "metadata": {},
     "output_type": "execute_result"
    }
   ],
   "source": [
    "%%sql\n",
    "SELECT COUNT(*) AS weather_key_null_count\n",
    "FROM rspns_time_facts\n",
    "WHERE weather_key IS NULL;"
   ]
  },
  {
   "cell_type": "markdown",
   "metadata": {},
   "source": [
    "***Take a look at the final `rspns_time_facts` table***"
   ]
  },
  {
   "cell_type": "code",
   "execution_count": 139,
   "metadata": {},
   "outputs": [
    {
     "name": "stdout",
     "output_type": "stream",
     "text": [
      " * postgresql://student@/proj4_group17\n",
      "10 rows affected.\n"
     ]
    },
    {
     "data": {
      "text/html": [
       "<table>\n",
       "    <tr>\n",
       "        <th>id</th>\n",
       "        <th>dispatch_rspns_s_qy</th>\n",
       "        <th>incident_rspns_s_qy</th>\n",
       "        <th>incident_travel_s_qy</th>\n",
       "        <th>alarm_box_key</th>\n",
       "        <th>alarm_key</th>\n",
       "        <th>incident_class_key</th>\n",
       "        <th>valid_rspns_key</th>\n",
       "        <th>incident_hour_key</th>\n",
       "        <th>incident_close_hour_key</th>\n",
       "        <th>weather_key</th>\n",
       "    </tr>\n",
       "    <tr>\n",
       "        <td>1600439810120123</td>\n",
       "        <td>26</td>\n",
       "        <td>442</td>\n",
       "        <td>416</td>\n",
       "        <td>10497</td>\n",
       "        <td>51</td>\n",
       "        <td>18</td>\n",
       "        <td>2</td>\n",
       "        <td>80</td>\n",
       "        <td>80</td>\n",
       "        <td>80</td>\n",
       "    </tr>\n",
       "    <tr>\n",
       "        <td>1600404590140231</td>\n",
       "        <td>None</td>\n",
       "        <td>None</td>\n",
       "        <td>None</td>\n",
       "        <td>27600</td>\n",
       "        <td>30</td>\n",
       "        <td>58</td>\n",
       "        <td>1</td>\n",
       "        <td>82</td>\n",
       "        <td>83</td>\n",
       "        <td>82</td>\n",
       "    </tr>\n",
       "    <tr>\n",
       "        <td>1600471140150219</td>\n",
       "        <td>5</td>\n",
       "        <td>None</td>\n",
       "        <td>None</td>\n",
       "        <td>11203</td>\n",
       "        <td>10</td>\n",
       "        <td>2</td>\n",
       "        <td>1</td>\n",
       "        <td>84</td>\n",
       "        <td>84</td>\n",
       "        <td>84</td>\n",
       "    </tr>\n",
       "    <tr>\n",
       "        <td>1600409290110554</td>\n",
       "        <td>4</td>\n",
       "        <td>None</td>\n",
       "        <td>None</td>\n",
       "        <td>1923</td>\n",
       "        <td>10</td>\n",
       "        <td>2</td>\n",
       "        <td>1</td>\n",
       "        <td>86</td>\n",
       "        <td>86</td>\n",
       "        <td>86</td>\n",
       "    </tr>\n",
       "    <tr>\n",
       "        <td>1600455080150301</td>\n",
       "        <td>6</td>\n",
       "        <td>221</td>\n",
       "        <td>215</td>\n",
       "        <td>25290</td>\n",
       "        <td>24</td>\n",
       "        <td>3</td>\n",
       "        <td>2</td>\n",
       "        <td>86</td>\n",
       "        <td>86</td>\n",
       "        <td>86</td>\n",
       "    </tr>\n",
       "    <tr>\n",
       "        <td>1600458980150387</td>\n",
       "        <td>33</td>\n",
       "        <td>739</td>\n",
       "        <td>706</td>\n",
       "        <td>32410</td>\n",
       "        <td>13</td>\n",
       "        <td>33</td>\n",
       "        <td>1</td>\n",
       "        <td>88</td>\n",
       "        <td>89</td>\n",
       "        <td>88</td>\n",
       "    </tr>\n",
       "    <tr>\n",
       "        <td>1600478690150477</td>\n",
       "        <td>7</td>\n",
       "        <td>None</td>\n",
       "        <td>None</td>\n",
       "        <td>21686</td>\n",
       "        <td>10</td>\n",
       "        <td>2</td>\n",
       "        <td>1</td>\n",
       "        <td>90</td>\n",
       "        <td>90</td>\n",
       "        <td>90</td>\n",
       "    </tr>\n",
       "    <tr>\n",
       "        <td>1600413470240631</td>\n",
       "        <td>5</td>\n",
       "        <td>None</td>\n",
       "        <td>None</td>\n",
       "        <td>17656</td>\n",
       "        <td>24</td>\n",
       "        <td>3</td>\n",
       "        <td>1</td>\n",
       "        <td>91</td>\n",
       "        <td>92</td>\n",
       "        <td>91</td>\n",
       "    </tr>\n",
       "    <tr>\n",
       "        <td>1600467510150633</td>\n",
       "        <td>5</td>\n",
       "        <td>None</td>\n",
       "        <td>None</td>\n",
       "        <td>11081</td>\n",
       "        <td>10</td>\n",
       "        <td>2</td>\n",
       "        <td>1</td>\n",
       "        <td>94</td>\n",
       "        <td>94</td>\n",
       "        <td>94</td>\n",
       "    </tr>\n",
       "    <tr>\n",
       "        <td>1600484550211083</td>\n",
       "        <td>83</td>\n",
       "        <td>429</td>\n",
       "        <td>346</td>\n",
       "        <td>33601</td>\n",
       "        <td>30</td>\n",
       "        <td>9</td>\n",
       "        <td>2</td>\n",
       "        <td>95</td>\n",
       "        <td>95</td>\n",
       "        <td>95</td>\n",
       "    </tr>\n",
       "</table>"
      ],
      "text/plain": [
       "[(Decimal('1600439810120123'), 26, 442, 416, 10497, 51, 18, 2, 80, 80, 80),\n",
       " (Decimal('1600404590140231'), None, None, None, 27600, 30, 58, 1, 82, 83, 82),\n",
       " (Decimal('1600471140150219'), 5, None, None, 11203, 10, 2, 1, 84, 84, 84),\n",
       " (Decimal('1600409290110554'), 4, None, None, 1923, 10, 2, 1, 86, 86, 86),\n",
       " (Decimal('1600455080150301'), 6, 221, 215, 25290, 24, 3, 2, 86, 86, 86),\n",
       " (Decimal('1600458980150387'), 33, 739, 706, 32410, 13, 33, 1, 88, 89, 88),\n",
       " (Decimal('1600478690150477'), 7, None, None, 21686, 10, 2, 1, 90, 90, 90),\n",
       " (Decimal('1600413470240631'), 5, None, None, 17656, 24, 3, 1, 91, 92, 91),\n",
       " (Decimal('1600467510150633'), 5, None, None, 11081, 10, 2, 1, 94, 94, 94),\n",
       " (Decimal('1600484550211083'), 83, 429, 346, 33601, 30, 9, 2, 95, 95, 95)]"
      ]
     },
     "execution_count": 139,
     "metadata": {},
     "output_type": "execute_result"
    }
   ],
   "source": [
    "%%sql\n",
    "SELECT * FROM rspns_time_facts LIMIT 10;"
   ]
  },
  {
   "cell_type": "markdown",
   "metadata": {},
   "source": [
    "## Analysis with the weather data"
   ]
  },
  {
   "cell_type": "markdown",
   "metadata": {},
   "source": [
    "### Show Tables in our database"
   ]
  },
  {
   "cell_type": "code",
   "execution_count": 140,
   "metadata": {},
   "outputs": [
    {
     "name": "stdout",
     "output_type": "stream",
     "text": [
      " * postgresql://student@/proj4_group17\n",
      "7 rows affected.\n"
     ]
    },
    {
     "data": {
      "text/html": [
       "<table>\n",
       "    <tr>\n",
       "        <th>Schema</th>\n",
       "        <th>Name</th>\n",
       "        <th>Type</th>\n",
       "        <th>Owner</th>\n",
       "    </tr>\n",
       "    <tr>\n",
       "        <td>public</td>\n",
       "        <td>alarm</td>\n",
       "        <td>table</td>\n",
       "        <td>student</td>\n",
       "    </tr>\n",
       "    <tr>\n",
       "        <td>public</td>\n",
       "        <td>alarm_box</td>\n",
       "        <td>table</td>\n",
       "        <td>student</td>\n",
       "    </tr>\n",
       "    <tr>\n",
       "        <td>public</td>\n",
       "        <td>hour</td>\n",
       "        <td>table</td>\n",
       "        <td>student</td>\n",
       "    </tr>\n",
       "    <tr>\n",
       "        <td>public</td>\n",
       "        <td>incident_class</td>\n",
       "        <td>table</td>\n",
       "        <td>student</td>\n",
       "    </tr>\n",
       "    <tr>\n",
       "        <td>public</td>\n",
       "        <td>rspns_time_facts</td>\n",
       "        <td>table</td>\n",
       "        <td>student</td>\n",
       "    </tr>\n",
       "    <tr>\n",
       "        <td>public</td>\n",
       "        <td>valid_rspns</td>\n",
       "        <td>table</td>\n",
       "        <td>student</td>\n",
       "    </tr>\n",
       "    <tr>\n",
       "        <td>public</td>\n",
       "        <td>weather</td>\n",
       "        <td>table</td>\n",
       "        <td>student</td>\n",
       "    </tr>\n",
       "</table>"
      ],
      "text/plain": [
       "[('public', 'alarm', 'table', 'student'),\n",
       " ('public', 'alarm_box', 'table', 'student'),\n",
       " ('public', 'hour', 'table', 'student'),\n",
       " ('public', 'incident_class', 'table', 'student'),\n",
       " ('public', 'rspns_time_facts', 'table', 'student'),\n",
       " ('public', 'valid_rspns', 'table', 'student'),\n",
       " ('public', 'weather', 'table', 'student')]"
      ]
     },
     "execution_count": 140,
     "metadata": {},
     "output_type": "execute_result"
    }
   ],
   "source": [
    "%%sql\n",
    "\\dt"
   ]
  },
  {
   "cell_type": "markdown",
   "metadata": {},
   "source": [
    "### Connect the database with Python for Visualization"
   ]
  },
  {
   "cell_type": "code",
   "execution_count": 141,
   "metadata": {},
   "outputs": [],
   "source": [
    "import psycopg2\n",
    "import geocoder\n",
    "import matplotlib.pyplot as plt\n",
    "import pandas\n",
    "import numpy as np\n",
    "\n",
    "conn = psycopg2.connect(\"dbname='proj4_group17' user='student'\")\n",
    "c = conn.cursor()"
   ]
  },
  {
   "cell_type": "markdown",
   "metadata": {},
   "source": [
    "### Distribution of temperature values of fire incidents"
   ]
  },
  {
   "cell_type": "markdown",
   "metadata": {},
   "source": [
    "***Check the data we want using SQL***"
   ]
  },
  {
   "cell_type": "code",
   "execution_count": 142,
   "metadata": {},
   "outputs": [
    {
     "name": "stdout",
     "output_type": "stream",
     "text": [
      " * postgresql://student@/proj4_group17\n",
      "10 rows affected.\n"
     ]
    },
    {
     "data": {
      "text/html": [
       "<table>\n",
       "    <tr>\n",
       "        <th>id</th>\n",
       "        <th>temperature</th>\n",
       "    </tr>\n",
       "    <tr>\n",
       "        <td>1600577750150225</td>\n",
       "        <td>-11.16</td>\n",
       "    </tr>\n",
       "    <tr>\n",
       "        <td>1600787130150316</td>\n",
       "        <td>-2.65</td>\n",
       "    </tr>\n",
       "    <tr>\n",
       "        <td>1600878620150509</td>\n",
       "        <td>6.7</td>\n",
       "    </tr>\n",
       "    <tr>\n",
       "        <td>1600827370141054</td>\n",
       "        <td>6.42</td>\n",
       "    </tr>\n",
       "    <tr>\n",
       "        <td>1601222320640636</td>\n",
       "        <td>4.51</td>\n",
       "    </tr>\n",
       "    <tr>\n",
       "        <td>1601373050150187</td>\n",
       "        <td>-4.27</td>\n",
       "    </tr>\n",
       "    <tr>\n",
       "        <td>1601411690110448</td>\n",
       "        <td>-4.35</td>\n",
       "    </tr>\n",
       "    <tr>\n",
       "        <td>1601544300150422</td>\n",
       "        <td>5.09</td>\n",
       "    </tr>\n",
       "    <tr>\n",
       "        <td>1601525170220468</td>\n",
       "        <td>7.5</td>\n",
       "    </tr>\n",
       "    <tr>\n",
       "        <td>1602221650150299</td>\n",
       "        <td>-6.3</td>\n",
       "    </tr>\n",
       "</table>"
      ],
      "text/plain": [
       "[(Decimal('1600577750150225'), -11.16),\n",
       " (Decimal('1600787130150316'), -2.65),\n",
       " (Decimal('1600878620150509'), 6.7),\n",
       " (Decimal('1600827370141054'), 6.42),\n",
       " (Decimal('1601222320640636'), 4.51),\n",
       " (Decimal('1601373050150187'), -4.27),\n",
       " (Decimal('1601411690110448'), -4.35),\n",
       " (Decimal('1601544300150422'), 5.09),\n",
       " (Decimal('1601525170220468'), 7.5),\n",
       " (Decimal('1602221650150299'), -6.3)]"
      ]
     },
     "execution_count": 142,
     "metadata": {},
     "output_type": "execute_result"
    }
   ],
   "source": [
    "%%sql\n",
    "SELECT rspns_time_facts.id, weather.temperature\n",
    "FROM weather, rspns_time_facts, incident_class\n",
    "WHERE rspns_time_facts.weather_key = weather.key\n",
    "    AND rspns_time_facts.incident_class_key = incident_class.key\n",
    "    AND incident_class.group_des LIKE '%Fire%'\n",
    "LIMIT 10;"
   ]
  },
  {
   "cell_type": "markdown",
   "metadata": {},
   "source": [
    "***Visualize the data using Python***"
   ]
  },
  {
   "cell_type": "code",
   "execution_count": 143,
   "metadata": {},
   "outputs": [
    {
     "data": {
      "image/png": "[encoded data removed]",
      "text/plain": [
       "<Figure size 432x288 with 1 Axes>"
      ]
     },
     "metadata": {
      "needs_background": "light"
     },
     "output_type": "display_data"
    }
   ],
   "source": [
    "sql = '''\n",
    "SELECT weather.temperature\n",
    "FROM weather, rspns_time_facts, incident_class\n",
    "WHERE rspns_time_facts.weather_key = weather.key\n",
    "    AND rspns_time_facts.incident_class_key = incident_class.key\n",
    "    AND incident_class.group_des LIKE '%Fire%';\n",
    "'''\n",
    "c.execute(sql)\n",
    "rows = c.fetchall()\n",
    "\n",
    "plt.hist([i[0] for i in rows], bins = 50)\n",
    "plt.xlabel(\"temperature\")\n",
    "plt.ylabel(\"frequency\")\n",
    "plt.title(\"Temperature Histogram\")\n",
    "plt.show()"
   ]
  },
  {
   "cell_type": "markdown",
   "metadata": {},
   "source": [
    "***Discussion***"
   ]
  },
  {
   "cell_type": "markdown",
   "metadata": {},
   "source": [
    "Based on the temperature plot, we can see peaks at certain temperatures, such as between 0 and 5 degrees celsius, that coincide with a higher frequency of fires in the winter months."
   ]
  },
  {
   "cell_type": "markdown",
   "metadata": {},
   "source": [
    "### Distribution of humidity values of fire incidents"
   ]
  },
  {
   "cell_type": "markdown",
   "metadata": {},
   "source": [
    "***Check the data we want using SQL***"
   ]
  },
  {
   "cell_type": "code",
   "execution_count": 144,
   "metadata": {},
   "outputs": [
    {
     "name": "stdout",
     "output_type": "stream",
     "text": [
      " * postgresql://student@/proj4_group17\n",
      "10 rows affected.\n"
     ]
    },
    {
     "data": {
      "text/html": [
       "<table>\n",
       "    <tr>\n",
       "        <th>id</th>\n",
       "        <th>humidity</th>\n",
       "    </tr>\n",
       "    <tr>\n",
       "        <td>1602221650150299</td>\n",
       "        <td>53.0</td>\n",
       "    </tr>\n",
       "    <tr>\n",
       "        <td>1602531520450796</td>\n",
       "        <td>43.0</td>\n",
       "    </tr>\n",
       "    <tr>\n",
       "        <td>1602542590120835</td>\n",
       "        <td>53.0</td>\n",
       "    </tr>\n",
       "    <tr>\n",
       "        <td>1602547880351205</td>\n",
       "        <td>64.0</td>\n",
       "    </tr>\n",
       "    <tr>\n",
       "        <td>1602607360140962</td>\n",
       "        <td>78.0</td>\n",
       "    </tr>\n",
       "    <tr>\n",
       "        <td>1602707360440031</td>\n",
       "        <td>96.0</td>\n",
       "    </tr>\n",
       "    <tr>\n",
       "        <td>1602770510140410</td>\n",
       "        <td>65.0</td>\n",
       "    </tr>\n",
       "    <tr>\n",
       "        <td>1602728760140153</td>\n",
       "        <td>55.0</td>\n",
       "    </tr>\n",
       "    <tr>\n",
       "        <td>1602794300150394</td>\n",
       "        <td>36.0</td>\n",
       "    </tr>\n",
       "    <tr>\n",
       "        <td>1602874240150073</td>\n",
       "        <td>66.0</td>\n",
       "    </tr>\n",
       "</table>"
      ],
      "text/plain": [
       "[(Decimal('1602221650150299'), 53.0),\n",
       " (Decimal('1602531520450796'), 43.0),\n",
       " (Decimal('1602542590120835'), 53.0),\n",
       " (Decimal('1602547880351205'), 64.0),\n",
       " (Decimal('1602607360140962'), 78.0),\n",
       " (Decimal('1602707360440031'), 96.0),\n",
       " (Decimal('1602770510140410'), 65.0),\n",
       " (Decimal('1602728760140153'), 55.0),\n",
       " (Decimal('1602794300150394'), 36.0),\n",
       " (Decimal('1602874240150073'), 66.0)]"
      ]
     },
     "execution_count": 144,
     "metadata": {},
     "output_type": "execute_result"
    }
   ],
   "source": [
    "%%sql\n",
    "SELECT rspns_time_facts.id, weather.humidity\n",
    "FROM weather, rspns_time_facts, incident_class\n",
    "WHERE rspns_time_facts.weather_key = weather.key\n",
    "    AND rspns_time_facts.incident_class_key = incident_class.key\n",
    "    AND incident_class.group_des LIKE '%Fire%'\n",
    "LIMIT 10;"
   ]
  },
  {
   "cell_type": "markdown",
   "metadata": {},
   "source": [
    "***Visualize the data using Python***"
   ]
  },
  {
   "cell_type": "code",
   "execution_count": 145,
   "metadata": {},
   "outputs": [
    {
     "data": {
      "image/png": "[encoded data removed]",
      "text/plain": [
       "<Figure size 432x288 with 1 Axes>"
      ]
     },
     "metadata": {
      "needs_background": "light"
     },
     "output_type": "display_data"
    }
   ],
   "source": [
    "sql = '''\n",
    "SELECT weather.humidity\n",
    "FROM weather, rspns_time_facts, incident_class\n",
    "WHERE rspns_time_facts.weather_key = weather.key\n",
    "    AND rspns_time_facts.incident_class_key = incident_class.key\n",
    "    AND incident_class.group_des LIKE '%Fire%';\n",
    "'''\n",
    "c.execute(sql)\n",
    "rows = c.fetchall()\n",
    "\n",
    "plt.hist([i[0] for i in rows])\n",
    "plt.xlabel(\"humidity\")\n",
    "plt.ylabel(\"frequency\")\n",
    "plt.title(\"Humidity Histogram\")\n",
    "plt.show()"
   ]
  },
  {
   "cell_type": "markdown",
   "metadata": {},
   "source": [
    "***Discussion***"
   ]
  },
  {
   "cell_type": "markdown",
   "metadata": {},
   "source": [
    "Based on the humidity plot, we actually see a negatively-skewed distribution. We find this odd because we expect dryer air to lead to more fires. However, the high levels of humidity, defined as between 80% and 100% humidity, may represent severe weather scenarios, such as strong rain and even snow storms. These severe storms may be part of the cause for additional fires."
   ]
  },
  {
   "cell_type": "markdown",
   "metadata": {},
   "source": [
    "### Average travel time by different weather situation"
   ]
  },
  {
   "cell_type": "markdown",
   "metadata": {},
   "source": [
    "***Check the data we want using SQL***"
   ]
  },
  {
   "cell_type": "code",
   "execution_count": 146,
   "metadata": {},
   "outputs": [
    {
     "name": "stdout",
     "output_type": "stream",
     "text": [
      " * postgresql://student@/proj4_group17\n",
      "26 rows affected.\n"
     ]
    },
    {
     "data": {
      "text/html": [
       "<table>\n",
       "    <tr>\n",
       "        <th>description</th>\n",
       "        <th>round</th>\n",
       "    </tr>\n",
       "    <tr>\n",
       "        <td>heavy snow</td>\n",
       "        <td>425.93</td>\n",
       "    </tr>\n",
       "    <tr>\n",
       "        <td>thunderstorm with light drizzle</td>\n",
       "        <td>334.88</td>\n",
       "    </tr>\n",
       "    <tr>\n",
       "        <td>sand</td>\n",
       "        <td>325.70</td>\n",
       "    </tr>\n",
       "    <tr>\n",
       "        <td>snow</td>\n",
       "        <td>308.79</td>\n",
       "    </tr>\n",
       "    <tr>\n",
       "        <td>thunderstorm with heavy rain</td>\n",
       "        <td>301.61</td>\n",
       "    </tr>\n",
       "    <tr>\n",
       "        <td>light snow</td>\n",
       "        <td>293.96</td>\n",
       "    </tr>\n",
       "    <tr>\n",
       "        <td>fog</td>\n",
       "        <td>287.81</td>\n",
       "    </tr>\n",
       "    <tr>\n",
       "        <td>freezing rain</td>\n",
       "        <td>287.53</td>\n",
       "    </tr>\n",
       "    <tr>\n",
       "        <td>light intensity drizzle</td>\n",
       "        <td>286.11</td>\n",
       "    </tr>\n",
       "    <tr>\n",
       "        <td>mist</td>\n",
       "        <td>283.57</td>\n",
       "    </tr>\n",
       "    <tr>\n",
       "        <td>smoke</td>\n",
       "        <td>283.16</td>\n",
       "    </tr>\n",
       "    <tr>\n",
       "        <td>heavy intensity rain</td>\n",
       "        <td>282.76</td>\n",
       "    </tr>\n",
       "    <tr>\n",
       "        <td>moderate rain</td>\n",
       "        <td>282.71</td>\n",
       "    </tr>\n",
       "    <tr>\n",
       "        <td>thunderstorm with rain</td>\n",
       "        <td>282.69</td>\n",
       "    </tr>\n",
       "    <tr>\n",
       "        <td>drizzle</td>\n",
       "        <td>281.85</td>\n",
       "    </tr>\n",
       "    <tr>\n",
       "        <td>proximity thunderstorm</td>\n",
       "        <td>281.50</td>\n",
       "    </tr>\n",
       "    <tr>\n",
       "        <td>haze</td>\n",
       "        <td>280.57</td>\n",
       "    </tr>\n",
       "    <tr>\n",
       "        <td>sky is clear</td>\n",
       "        <td>279.98</td>\n",
       "    </tr>\n",
       "    <tr>\n",
       "        <td>overcast clouds</td>\n",
       "        <td>279.15</td>\n",
       "    </tr>\n",
       "    <tr>\n",
       "        <td>light rain</td>\n",
       "        <td>278.00</td>\n",
       "    </tr>\n",
       "    <tr>\n",
       "        <td>few clouds</td>\n",
       "        <td>277.74</td>\n",
       "    </tr>\n",
       "    <tr>\n",
       "        <td>scattered clouds</td>\n",
       "        <td>275.79</td>\n",
       "    </tr>\n",
       "    <tr>\n",
       "        <td>broken clouds</td>\n",
       "        <td>274.87</td>\n",
       "    </tr>\n",
       "    <tr>\n",
       "        <td>thunderstorm</td>\n",
       "        <td>270.26</td>\n",
       "    </tr>\n",
       "    <tr>\n",
       "        <td>thunderstorm with light rain</td>\n",
       "        <td>267.09</td>\n",
       "    </tr>\n",
       "    <tr>\n",
       "        <td>heavy intensity drizzle</td>\n",
       "        <td>250.25</td>\n",
       "    </tr>\n",
       "</table>"
      ],
      "text/plain": [
       "[('heavy snow', Decimal('425.93')),\n",
       " ('thunderstorm with light drizzle', Decimal('334.88')),\n",
       " ('sand', Decimal('325.70')),\n",
       " ('snow', Decimal('308.79')),\n",
       " ('thunderstorm with heavy rain', Decimal('301.61')),\n",
       " ('light snow', Decimal('293.96')),\n",
       " ('fog', Decimal('287.81')),\n",
       " ('freezing rain', Decimal('287.53')),\n",
       " ('light intensity drizzle', Decimal('286.11')),\n",
       " ('mist', Decimal('283.57')),\n",
       " ('smoke', Decimal('283.16')),\n",
       " ('heavy intensity rain', Decimal('282.76')),\n",
       " ('moderate rain', Decimal('282.71')),\n",
       " ('thunderstorm with rain', Decimal('282.69')),\n",
       " ('drizzle', Decimal('281.85')),\n",
       " ('proximity thunderstorm', Decimal('281.50')),\n",
       " ('haze', Decimal('280.57')),\n",
       " ('sky is clear', Decimal('279.98')),\n",
       " ('overcast clouds', Decimal('279.15')),\n",
       " ('light rain', Decimal('278.00')),\n",
       " ('few clouds', Decimal('277.74')),\n",
       " ('scattered clouds', Decimal('275.79')),\n",
       " ('broken clouds', Decimal('274.87')),\n",
       " ('thunderstorm', Decimal('270.26')),\n",
       " ('thunderstorm with light rain', Decimal('267.09')),\n",
       " ('heavy intensity drizzle', Decimal('250.25'))]"
      ]
     },
     "execution_count": 146,
     "metadata": {},
     "output_type": "execute_result"
    }
   ],
   "source": [
    "%%sql\n",
    "SELECT weather.description, \n",
    "        ROUND(AVG(incident_travel_s_qy)::numeric, 2)\n",
    "FROM rspns_time_facts\n",
    "JOIN weather\n",
    "    ON rspns_time_facts.weather_key = weather.key\n",
    "GROUP BY weather.description\n",
    "ORDER BY AVG(incident_travel_s_qy) DESC;"
   ]
  },
  {
   "cell_type": "markdown",
   "metadata": {},
   "source": [
    "***Visualize the data using Python***"
   ]
  },
  {
   "cell_type": "code",
   "execution_count": 147,
   "metadata": {},
   "outputs": [
    {
     "data": {
      "image/png": "[encoded data removed]",
      "text/plain": [
       "<Figure size 432x288 with 1 Axes>"
      ]
     },
     "metadata": {
      "needs_background": "light"
     },
     "output_type": "display_data"
    }
   ],
   "source": [
    "sql = '''\n",
    "SELECT weather.description,\n",
    "        ROUND(AVG(incident_travel_s_qy)::numeric, 2)\n",
    "FROM rspns_time_facts\n",
    "JOIN weather\n",
    "    ON rspns_time_facts.weather_key = weather.key\n",
    "GROUP BY weather.description\n",
    "ORDER BY AVG(incident_travel_s_qy);\n",
    "'''\n",
    "c.execute(sql)\n",
    "rows = c.fetchall()\n",
    "\n",
    "plt.barh([i[0] for i in rows], [i[1] for i in rows])\n",
    "plt.xlabel(\"travel time\")\n",
    "plt.ylabel(\"weather\")\n",
    "plt.title(\"Travel time vs Weather Situation\")\n",
    "plt.show()"
   ]
  },
  {
   "cell_type": "markdown",
   "metadata": {},
   "source": [
    "***Discussion***"
   ]
  },
  {
   "cell_type": "markdown",
   "metadata": {},
   "source": [
    "Finally, we plotted the response times by the weather category description to find a few interesting results. For example, the Heavy Snow appears to significantly increase response times accross all the boroughs. So, we recommend that the New York City Fire Department understand the increased frequency of fires in the winter months paired with the difficulties of providing quick response times in Heavy Snow has the potential to lead to severe fires with the potential to cause serious consequences that include the loss of property, life, and emotional well-being."
   ]
  },
  {
   "cell_type": "markdown",
   "metadata": {},
   "source": [
    "## Disconnect the database"
   ]
  },
  {
   "cell_type": "code",
   "execution_count": 148,
   "metadata": {},
   "outputs": [],
   "source": [
    "c.close()\n",
    "conn.close()"
   ]
  },
  {
   "cell_type": "markdown",
   "metadata": {},
   "source": [
    "**Disclaimer**"
   ]
  },
  {
   "cell_type": "markdown",
   "metadata": {},
   "source": [
    "All members worked on the project individually from the top to the end and met together for the finding discussions. Everyone contributed substantially to the work."
   ]
  }
 ],
 "metadata": {
  "kernelspec": {
   "display_name": "Python 3",
   "language": "python",
   "name": "python3"
  },
  "language_info": {
   "codemirror_mode": {
    "name": "ipython",
    "version": 3
   },
   "file_extension": ".py",
   "mimetype": "text/x-python",
   "name": "python",
   "nbconvert_exporter": "python",
   "pygments_lexer": "ipython3",
   "version": "3.5.3"
  }
 },
 "nbformat": 4,
 "nbformat_minor": 2
}
